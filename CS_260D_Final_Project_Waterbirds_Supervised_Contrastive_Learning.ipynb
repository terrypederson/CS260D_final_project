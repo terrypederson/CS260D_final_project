{
  "nbformat": 4,
  "nbformat_minor": 0,
  "metadata": {
    "colab": {
      "provenance": [],
      "gpuType": "T4"
    },
    "kernelspec": {
      "name": "python3",
      "display_name": "Python 3"
    },
    "language_info": {
      "name": "python"
    },
    "accelerator": "GPU"
  },
  "cells": [
    {
      "cell_type": "code",
      "source": [
        "from google.colab import drive\n",
        "drive.mount('/content/drive', force_remount = True)"
      ],
      "metadata": {
        "colab": {
          "base_uri": "https://localhost:8080/"
        },
        "id": "vX3SJPVGyu-i",
        "outputId": "154d2e59-7520-417b-e527-4f66a2fdde5a"
      },
      "execution_count": null,
      "outputs": [
        {
          "output_type": "stream",
          "name": "stdout",
          "text": [
            "Mounted at /content/drive\n"
          ]
        }
      ]
    },
    {
      "cell_type": "code",
      "execution_count": null,
      "metadata": {
        "colab": {
          "base_uri": "https://localhost:8080/"
        },
        "id": "Si1A9ZNLICCF",
        "outputId": "dffaa6e0-80dc-4729-fd4b-0bbf5fb6a4d3"
      },
      "outputs": [
        {
          "output_type": "stream",
          "name": "stdout",
          "text": [
            "Collecting spuco\n",
            "  Downloading spuco-1.0.3-py3-none-any.whl (101 kB)\n",
            "\u001b[2K     \u001b[90m━━━━━━━━━━━━━━━━━━━━━━━━━━━━━━━━━━━━━━━━\u001b[0m \u001b[32m101.0/101.0 kB\u001b[0m \u001b[31m2.0 MB/s\u001b[0m eta \u001b[36m0:00:00\u001b[0m\n",
            "\u001b[?25hRequirement already satisfied: matplotlib>=3.7.1 in /usr/local/lib/python3.10/dist-packages (from spuco) (3.7.1)\n",
            "Requirement already satisfied: numpy>=1.23.5 in /usr/local/lib/python3.10/dist-packages (from spuco) (1.23.5)\n",
            "Requirement already satisfied: setuptools>=61.0 in /usr/local/lib/python3.10/dist-packages (from spuco) (67.7.2)\n",
            "Requirement already satisfied: torch>=2.0.0 in /usr/local/lib/python3.10/dist-packages (from spuco) (2.1.0+cu121)\n",
            "Requirement already satisfied: torchvision>=0.15.1 in /usr/local/lib/python3.10/dist-packages (from spuco) (0.16.0+cu121)\n",
            "Requirement already satisfied: tqdm>=4.65.0 in /usr/local/lib/python3.10/dist-packages (from spuco) (4.66.1)\n",
            "Requirement already satisfied: scikit-learn>=0.20.0 in /usr/local/lib/python3.10/dist-packages (from spuco) (1.2.2)\n",
            "Collecting wilds>=2.0.0 (from spuco)\n",
            "  Downloading wilds-2.0.0-py3-none-any.whl (126 kB)\n",
            "\u001b[2K     \u001b[90m━━━━━━━━━━━━━━━━━━━━━━━━━━━━━━━━━━━━━━━━\u001b[0m \u001b[32m126.2/126.2 kB\u001b[0m \u001b[31m4.0 MB/s\u001b[0m eta \u001b[36m0:00:00\u001b[0m\n",
            "\u001b[?25hRequirement already satisfied: transformers>=3.5.0 in /usr/local/lib/python3.10/dist-packages (from spuco) (4.35.2)\n",
            "Requirement already satisfied: contourpy>=1.0.1 in /usr/local/lib/python3.10/dist-packages (from matplotlib>=3.7.1->spuco) (1.2.0)\n",
            "Requirement already satisfied: cycler>=0.10 in /usr/local/lib/python3.10/dist-packages (from matplotlib>=3.7.1->spuco) (0.12.1)\n",
            "Requirement already satisfied: fonttools>=4.22.0 in /usr/local/lib/python3.10/dist-packages (from matplotlib>=3.7.1->spuco) (4.46.0)\n",
            "Requirement already satisfied: kiwisolver>=1.0.1 in /usr/local/lib/python3.10/dist-packages (from matplotlib>=3.7.1->spuco) (1.4.5)\n",
            "Requirement already satisfied: packaging>=20.0 in /usr/local/lib/python3.10/dist-packages (from matplotlib>=3.7.1->spuco) (23.2)\n",
            "Requirement already satisfied: pillow>=6.2.0 in /usr/local/lib/python3.10/dist-packages (from matplotlib>=3.7.1->spuco) (9.4.0)\n",
            "Requirement already satisfied: pyparsing>=2.3.1 in /usr/local/lib/python3.10/dist-packages (from matplotlib>=3.7.1->spuco) (3.1.1)\n",
            "Requirement already satisfied: python-dateutil>=2.7 in /usr/local/lib/python3.10/dist-packages (from matplotlib>=3.7.1->spuco) (2.8.2)\n",
            "Requirement already satisfied: scipy>=1.3.2 in /usr/local/lib/python3.10/dist-packages (from scikit-learn>=0.20.0->spuco) (1.11.4)\n",
            "Requirement already satisfied: joblib>=1.1.1 in /usr/local/lib/python3.10/dist-packages (from scikit-learn>=0.20.0->spuco) (1.3.2)\n",
            "Requirement already satisfied: threadpoolctl>=2.0.0 in /usr/local/lib/python3.10/dist-packages (from scikit-learn>=0.20.0->spuco) (3.2.0)\n",
            "Requirement already satisfied: filelock in /usr/local/lib/python3.10/dist-packages (from torch>=2.0.0->spuco) (3.13.1)\n",
            "Requirement already satisfied: typing-extensions in /usr/local/lib/python3.10/dist-packages (from torch>=2.0.0->spuco) (4.5.0)\n",
            "Requirement already satisfied: sympy in /usr/local/lib/python3.10/dist-packages (from torch>=2.0.0->spuco) (1.12)\n",
            "Requirement already satisfied: networkx in /usr/local/lib/python3.10/dist-packages (from torch>=2.0.0->spuco) (3.2.1)\n",
            "Requirement already satisfied: jinja2 in /usr/local/lib/python3.10/dist-packages (from torch>=2.0.0->spuco) (3.1.2)\n",
            "Requirement already satisfied: fsspec in /usr/local/lib/python3.10/dist-packages (from torch>=2.0.0->spuco) (2023.6.0)\n",
            "Requirement already satisfied: triton==2.1.0 in /usr/local/lib/python3.10/dist-packages (from torch>=2.0.0->spuco) (2.1.0)\n",
            "Requirement already satisfied: requests in /usr/local/lib/python3.10/dist-packages (from torchvision>=0.15.1->spuco) (2.31.0)\n",
            "Requirement already satisfied: huggingface-hub<1.0,>=0.16.4 in /usr/local/lib/python3.10/dist-packages (from transformers>=3.5.0->spuco) (0.19.4)\n",
            "Requirement already satisfied: pyyaml>=5.1 in /usr/local/lib/python3.10/dist-packages (from transformers>=3.5.0->spuco) (6.0.1)\n",
            "Requirement already satisfied: regex!=2019.12.17 in /usr/local/lib/python3.10/dist-packages (from transformers>=3.5.0->spuco) (2023.6.3)\n",
            "Requirement already satisfied: tokenizers<0.19,>=0.14 in /usr/local/lib/python3.10/dist-packages (from transformers>=3.5.0->spuco) (0.15.0)\n",
            "Requirement already satisfied: safetensors>=0.3.1 in /usr/local/lib/python3.10/dist-packages (from transformers>=3.5.0->spuco) (0.4.1)\n",
            "Collecting ogb>=1.2.6 (from wilds>=2.0.0->spuco)\n",
            "  Downloading ogb-1.3.6-py3-none-any.whl (78 kB)\n",
            "\u001b[2K     \u001b[90m━━━━━━━━━━━━━━━━━━━━━━━━━━━━━━━━━━━━━━━━\u001b[0m \u001b[32m78.8/78.8 kB\u001b[0m \u001b[31m8.5 MB/s\u001b[0m eta \u001b[36m0:00:00\u001b[0m\n",
            "\u001b[?25hCollecting outdated>=0.2.0 (from wilds>=2.0.0->spuco)\n",
            "  Downloading outdated-0.2.2-py2.py3-none-any.whl (7.5 kB)\n",
            "Requirement already satisfied: pandas>=1.1.0 in /usr/local/lib/python3.10/dist-packages (from wilds>=2.0.0->spuco) (1.5.3)\n",
            "Requirement already satisfied: pytz>=2020.4 in /usr/local/lib/python3.10/dist-packages (from wilds>=2.0.0->spuco) (2023.3.post1)\n",
            "Requirement already satisfied: six>=1.12.0 in /usr/local/lib/python3.10/dist-packages (from ogb>=1.2.6->wilds>=2.0.0->spuco) (1.16.0)\n",
            "Requirement already satisfied: urllib3>=1.24.0 in /usr/local/lib/python3.10/dist-packages (from ogb>=1.2.6->wilds>=2.0.0->spuco) (2.0.7)\n",
            "Collecting littleutils (from outdated>=0.2.0->wilds>=2.0.0->spuco)\n",
            "  Downloading littleutils-0.2.2.tar.gz (6.6 kB)\n",
            "  Preparing metadata (setup.py) ... \u001b[?25l\u001b[?25hdone\n",
            "Requirement already satisfied: MarkupSafe>=2.0 in /usr/local/lib/python3.10/dist-packages (from jinja2->torch>=2.0.0->spuco) (2.1.3)\n",
            "Requirement already satisfied: charset-normalizer<4,>=2 in /usr/local/lib/python3.10/dist-packages (from requests->torchvision>=0.15.1->spuco) (3.3.2)\n",
            "Requirement already satisfied: idna<4,>=2.5 in /usr/local/lib/python3.10/dist-packages (from requests->torchvision>=0.15.1->spuco) (3.6)\n",
            "Requirement already satisfied: certifi>=2017.4.17 in /usr/local/lib/python3.10/dist-packages (from requests->torchvision>=0.15.1->spuco) (2023.11.17)\n",
            "Requirement already satisfied: mpmath>=0.19 in /usr/local/lib/python3.10/dist-packages (from sympy->torch>=2.0.0->spuco) (1.3.0)\n",
            "Building wheels for collected packages: littleutils\n",
            "  Building wheel for littleutils (setup.py) ... \u001b[?25l\u001b[?25hdone\n",
            "  Created wheel for littleutils: filename=littleutils-0.2.2-py3-none-any.whl size=7026 sha256=b2d57907e153b3ca06e2353ced1e0d48986f763210b00d6bed9bcfbafbfba6b3\n",
            "  Stored in directory: /root/.cache/pip/wheels/3d/fe/b0/27a9892da57472e538c7452a721a9cf463cc03cf7379889266\n",
            "Successfully built littleutils\n",
            "Installing collected packages: littleutils, outdated, ogb, wilds, spuco\n",
            "Successfully installed littleutils-0.2.2 ogb-1.3.6 outdated-0.2.2 spuco-1.0.3 wilds-2.0.0\n",
            "Requirement already satisfied: wilds in /usr/local/lib/python3.10/dist-packages (2.0.0)\n",
            "Requirement already satisfied: numpy>=1.19.1 in /usr/local/lib/python3.10/dist-packages (from wilds) (1.23.5)\n",
            "Requirement already satisfied: ogb>=1.2.6 in /usr/local/lib/python3.10/dist-packages (from wilds) (1.3.6)\n",
            "Requirement already satisfied: outdated>=0.2.0 in /usr/local/lib/python3.10/dist-packages (from wilds) (0.2.2)\n",
            "Requirement already satisfied: pandas>=1.1.0 in /usr/local/lib/python3.10/dist-packages (from wilds) (1.5.3)\n",
            "Requirement already satisfied: pillow>=7.2.0 in /usr/local/lib/python3.10/dist-packages (from wilds) (9.4.0)\n",
            "Requirement already satisfied: pytz>=2020.4 in /usr/local/lib/python3.10/dist-packages (from wilds) (2023.3.post1)\n",
            "Requirement already satisfied: torch>=1.7.0 in /usr/local/lib/python3.10/dist-packages (from wilds) (2.1.0+cu121)\n",
            "Requirement already satisfied: torchvision>=0.8.2 in /usr/local/lib/python3.10/dist-packages (from wilds) (0.16.0+cu121)\n",
            "Requirement already satisfied: tqdm>=4.53.0 in /usr/local/lib/python3.10/dist-packages (from wilds) (4.66.1)\n",
            "Requirement already satisfied: scikit-learn>=0.20.0 in /usr/local/lib/python3.10/dist-packages (from wilds) (1.2.2)\n",
            "Requirement already satisfied: scipy>=1.5.4 in /usr/local/lib/python3.10/dist-packages (from wilds) (1.11.4)\n",
            "Requirement already satisfied: six>=1.12.0 in /usr/local/lib/python3.10/dist-packages (from ogb>=1.2.6->wilds) (1.16.0)\n",
            "Requirement already satisfied: urllib3>=1.24.0 in /usr/local/lib/python3.10/dist-packages (from ogb>=1.2.6->wilds) (2.0.7)\n",
            "Requirement already satisfied: setuptools>=44 in /usr/local/lib/python3.10/dist-packages (from outdated>=0.2.0->wilds) (67.7.2)\n",
            "Requirement already satisfied: littleutils in /usr/local/lib/python3.10/dist-packages (from outdated>=0.2.0->wilds) (0.2.2)\n",
            "Requirement already satisfied: requests in /usr/local/lib/python3.10/dist-packages (from outdated>=0.2.0->wilds) (2.31.0)\n",
            "Requirement already satisfied: python-dateutil>=2.8.1 in /usr/local/lib/python3.10/dist-packages (from pandas>=1.1.0->wilds) (2.8.2)\n",
            "Requirement already satisfied: joblib>=1.1.1 in /usr/local/lib/python3.10/dist-packages (from scikit-learn>=0.20.0->wilds) (1.3.2)\n",
            "Requirement already satisfied: threadpoolctl>=2.0.0 in /usr/local/lib/python3.10/dist-packages (from scikit-learn>=0.20.0->wilds) (3.2.0)\n",
            "Requirement already satisfied: filelock in /usr/local/lib/python3.10/dist-packages (from torch>=1.7.0->wilds) (3.13.1)\n",
            "Requirement already satisfied: typing-extensions in /usr/local/lib/python3.10/dist-packages (from torch>=1.7.0->wilds) (4.5.0)\n",
            "Requirement already satisfied: sympy in /usr/local/lib/python3.10/dist-packages (from torch>=1.7.0->wilds) (1.12)\n",
            "Requirement already satisfied: networkx in /usr/local/lib/python3.10/dist-packages (from torch>=1.7.0->wilds) (3.2.1)\n",
            "Requirement already satisfied: jinja2 in /usr/local/lib/python3.10/dist-packages (from torch>=1.7.0->wilds) (3.1.2)\n",
            "Requirement already satisfied: fsspec in /usr/local/lib/python3.10/dist-packages (from torch>=1.7.0->wilds) (2023.6.0)\n",
            "Requirement already satisfied: triton==2.1.0 in /usr/local/lib/python3.10/dist-packages (from torch>=1.7.0->wilds) (2.1.0)\n",
            "Requirement already satisfied: MarkupSafe>=2.0 in /usr/local/lib/python3.10/dist-packages (from jinja2->torch>=1.7.0->wilds) (2.1.3)\n",
            "Requirement already satisfied: charset-normalizer<4,>=2 in /usr/local/lib/python3.10/dist-packages (from requests->outdated>=0.2.0->wilds) (3.3.2)\n",
            "Requirement already satisfied: idna<4,>=2.5 in /usr/local/lib/python3.10/dist-packages (from requests->outdated>=0.2.0->wilds) (3.6)\n",
            "Requirement already satisfied: certifi>=2017.4.17 in /usr/local/lib/python3.10/dist-packages (from requests->outdated>=0.2.0->wilds) (2023.11.17)\n",
            "Requirement already satisfied: mpmath>=0.19 in /usr/local/lib/python3.10/dist-packages (from sympy->torch>=1.7.0->wilds) (1.3.0)\n"
          ]
        }
      ],
      "source": [
        "%pip install spuco\n",
        "%pip install wilds"
      ]
    },
    {
      "cell_type": "code",
      "source": [
        "%pip install -q pytorch-metric-learning"
      ],
      "metadata": {
        "id": "SD4tBgEQiOBG",
        "colab": {
          "base_uri": "https://localhost:8080/"
        },
        "outputId": "b1fb1ef4-958e-4986-e36a-0b5bc98262cc"
      },
      "execution_count": null,
      "outputs": [
        {
          "output_type": "stream",
          "name": "stdout",
          "text": [
            "\u001b[?25l     \u001b[90m━━━━━━━━━━━━━━━━━━━━━━━━━━━━━━━━━━━━━━━━\u001b[0m \u001b[32m0.0/115.3 kB\u001b[0m \u001b[31m?\u001b[0m eta \u001b[36m-:--:--\u001b[0m\r\u001b[2K     \u001b[91m━━━━━━━━━━━━━━━━━━━━━━━━━━━━━━━\u001b[0m\u001b[91m╸\u001b[0m\u001b[90m━━━━━━━━\u001b[0m \u001b[32m92.2/115.3 kB\u001b[0m \u001b[31m2.6 MB/s\u001b[0m eta \u001b[36m0:00:01\u001b[0m\r\u001b[2K     \u001b[90m━━━━━━━━━━━━━━━━━━━━━━━━━━━━━━━━━━━━━━━━\u001b[0m \u001b[32m115.3/115.3 kB\u001b[0m \u001b[31m2.2 MB/s\u001b[0m eta \u001b[36m0:00:00\u001b[0m\n",
            "\u001b[?25h"
          ]
        }
      ]
    },
    {
      "cell_type": "code",
      "source": [
        "import numpy as np\n",
        "import torch\n",
        "import torch.nn as nn\n",
        "import torch.nn.functional as F\n",
        "import torchvision.transforms as T\n",
        "from torch.utils.data import DataLoader, Dataset\n",
        "from spuco.datasets import GroupLabeledDatasetWrapper, WILDSDatasetWrapper, SpuCoBirds\n",
        "from wilds import get_dataset\n",
        "import torchvision.transforms as transforms\n",
        "import cv2\n",
        "import torchvision.models as models\n",
        "from pytorch_metric_learning import losses\n",
        "import torch.optim as optim\n",
        "from torch.optim import lr_scheduler\n",
        "\n",
        "device = torch.device(\"cuda\")"
      ],
      "metadata": {
        "id": "FO39jlv-IQ7B"
      },
      "execution_count": null,
      "outputs": []
    },
    {
      "cell_type": "code",
      "source": [
        "class Config:\n",
        "  label_noise = 0.001\n",
        "  size = 32\n",
        "  flip_probability = 0.5\n",
        "  batch_size = 128\n",
        "  backbone_pretrained = False\n",
        "  projection_dim = 128\n",
        "  T_max = 10\n",
        "  lr = 5e-4\n",
        "  min_lr = 1e-5\n",
        "  weight_decay = 1e-6\n",
        "  temperature = 0.5"
      ],
      "metadata": {
        "id": "EiErEch7gn0V"
      },
      "execution_count": null,
      "outputs": []
    },
    {
      "cell_type": "markdown",
      "source": [
        "## Dataset"
      ],
      "metadata": {
        "id": "6g19rJPYOJ6N"
      }
    },
    {
      "cell_type": "code",
      "source": [
        "# # SpuCoBirds can't automatically download the dataset since the\n",
        "# # file got renamed from spuco_birds.tar.gz to spuco_birds_v1.tar.gz.\n",
        "# # The dataset needs to be manually loaded from your local drive.\n",
        "# # Link: https://ucla.box.com/shared/static/zrsx09ik7lqad1e389w06f1c4nbajo9z\n",
        "\n",
        "# trainset = SpuCoBirds(\n",
        "#     root=\"/content/drive/MyDrive/\",\n",
        "#     download=False,\n",
        "#     split=\"train\",\n",
        "#     label_noise=Config.label_noise\n",
        "# )\n",
        "# trainset.initialize()\n",
        "\n",
        "# valset = SpuCoBirds(\n",
        "#     root=\"/content/drive/MyDrive/\",\n",
        "#     download=False,\n",
        "#     split=\"val\"\n",
        "# )\n",
        "# valset.initialize()"
      ],
      "metadata": {
        "id": "hB4joWrQQuST"
      },
      "execution_count": null,
      "outputs": []
    },
    {
      "cell_type": "code",
      "source": [
        "## Augmentation\n",
        "from torchvision.transforms import v2\n",
        "\n",
        "# Convert to float\n",
        "transform_img = transforms.Compose([\n",
        "            v2.Resize(256),\n",
        "            v2.CenterCrop(224),\n",
        "            v2.ToTensor(),\n",
        "            v2.Normalize((0.485, 0.456, 0.406), (0.229, 0.224, 0.225))\n",
        "        ])\n",
        "\n",
        "transform = transforms.Compose([\n",
        "    v2.RandomResizedCrop(Config.size, scale=(0.08, 1.0), ratio=(0.75, 1.25)),\n",
        "    v2.RandomHorizontalFlip(p=0.5),\n",
        "    v2.RandomApply([transforms.ColorJitter(0.4, 0.4, 0.4, 0.1)], p=0.8),\n",
        "    v2.RandomGrayscale(p=0.2),\n",
        "    v2.Normalize((0.485, 0.456, 0.406), (0.229, 0.224, 0.225))\n",
        "])"
      ],
      "metadata": {
        "colab": {
          "base_uri": "https://localhost:8080/"
        },
        "id": "a8MxdHy-fVyu",
        "outputId": "d079aae9-bfaa-47c7-bd3b-b955fa0a1d7a"
      },
      "execution_count": null,
      "outputs": [
        {
          "output_type": "stream",
          "name": "stderr",
          "text": [
            "/usr/local/lib/python3.10/dist-packages/torchvision/transforms/v2/_deprecated.py:43: UserWarning: The transform `ToTensor()` is deprecated and will be removed in a future release. Instead, please use `v2.Compose([v2.ToImage(), v2.ToDtype(torch.float32, scale=True)])`.\n",
            "  warnings.warn(\n"
          ]
        }
      ]
    },
    {
      "cell_type": "code",
      "source": [
        "dataset = get_dataset(dataset=\"waterbirds\", download=True, root_dir='/data/waterbirds')\n",
        "\n",
        "# Get the subsets\n",
        "train_data = dataset.get_subset(\"train\", transform=transform_img)\n",
        "val_data = dataset.get_subset(\"val\", frac=1, transform=transform_img)\n",
        "\n",
        "# Wrap to make SpuCo compatible\n",
        "trainset = WILDSDatasetWrapper(dataset=train_data, metadata_spurious_label=\"background\", verbose=True)\n",
        "valset = WILDSDatasetWrapper(dataset=val_data, metadata_spurious_label=\"background\", verbose=True)\n",
        "print('\\n')\n",
        "print(len(trainset))\n",
        "print(len(valset))"
      ],
      "metadata": {
        "colab": {
          "base_uri": "https://localhost:8080/"
        },
        "id": "SKQ-pKNGbBYn",
        "outputId": "8ae56973-cc54-4e76-e213-f4cd98b1b956"
      },
      "execution_count": null,
      "outputs": [
        {
          "output_type": "stream",
          "name": "stdout",
          "text": [
            "Downloading dataset to /data/waterbirds/waterbirds_v1.0...\n",
            "You can also download the dataset manually at https://wilds.stanford.edu/downloads.\n",
            "Downloading https://worksheets.codalab.org/rest/bundles/0x505056d5cdea4e4eaa0e242cbfe2daa4/contents/blob/ to /data/waterbirds/waterbirds_v1.0/archive.tar.gz\n"
          ]
        },
        {
          "output_type": "stream",
          "name": "stderr",
          "text": [
            "489291776Byte [01:37, 5043544.42Byte/s]\n"
          ]
        },
        {
          "output_type": "stream",
          "name": "stdout",
          "text": [
            "Extracting /data/waterbirds/waterbirds_v1.0/archive.tar.gz to /data/waterbirds/waterbirds_v1.0\n",
            "\n",
            "It took 1.75 minutes to download and uncompress the dataset.\n",
            "\n"
          ]
        },
        {
          "output_type": "stream",
          "name": "stderr",
          "text": [
            "Partitioning data indices into groups: 100%|██████████| 4795/4795 [00:00<00:00, 691574.83it/s]\n",
            "Partitioning data indices into groups: 100%|██████████| 1199/1199 [00:00<00:00, 600904.59it/s]"
          ]
        },
        {
          "output_type": "stream",
          "name": "stdout",
          "text": [
            "\n",
            "\n",
            "4795\n",
            "1199\n"
          ]
        },
        {
          "output_type": "stream",
          "name": "stderr",
          "text": [
            "\n"
          ]
        }
      ]
    },
    {
      "cell_type": "code",
      "source": [
        "class SpucoDataset(Dataset):\n",
        "    def __init__(self, dataset, transform=None):\n",
        "        self.dataset = dataset\n",
        "        self.transform = transform\n",
        "\n",
        "    def __len__(self):\n",
        "        return len(self.dataset)\n",
        "\n",
        "    def __getitem__(self, index):\n",
        "        img = self.dataset[index][0]\n",
        "        label = self.dataset[index][1]\n",
        "\n",
        "        if self.transform is None:\n",
        "          return img, label\n",
        "\n",
        "        augmented_img = transform(img)\n",
        "        return (img, augmented_img), label"
      ],
      "metadata": {
        "id": "GCkBS9IDOMIE"
      },
      "execution_count": null,
      "outputs": []
    },
    {
      "cell_type": "code",
      "source": [
        "train_dataset = SpucoDataset(trainset, transform)\n",
        "val_dataset = SpucoDataset(valset)\n",
        "\n",
        "dataloaders = {'train': DataLoader(dataset=train_dataset, batch_size=Config.batch_size, num_workers=2, pin_memory=True, shuffle=True),\n",
        "         'eval': DataLoader(dataset=val_dataset, batch_size=16, num_workers=2, pin_memory=True, shuffle=False)}"
      ],
      "metadata": {
        "id": "XYevgaDhSRkb"
      },
      "execution_count": null,
      "outputs": []
    },
    {
      "cell_type": "code",
      "source": [
        "# print(train_dataset.dataset[0][0])\n",
        "# train_dataset.dataset[0][0].shape\n",
        "len(dataloaders['train'])"
      ],
      "metadata": {
        "id": "SmH2u397kDRx",
        "colab": {
          "base_uri": "https://localhost:8080/"
        },
        "outputId": "de6b1a6f-d2d1-4501-93a0-2461243ef083"
      },
      "execution_count": null,
      "outputs": [
        {
          "output_type": "execute_result",
          "data": {
            "text/plain": [
              "38"
            ]
          },
          "metadata": {},
          "execution_count": 57
        }
      ]
    },
    {
      "cell_type": "markdown",
      "source": [
        "## Contrastive Loss"
      ],
      "metadata": {
        "id": "CC12sKhEn3HA"
      }
    },
    {
      "cell_type": "code",
      "source": [
        "## https://kevinmusgrave.github.io/pytorch-metric-learning/losses/#ntxentloss\n",
        "## https://kevinmusgrave.github.io/pytorch-metric-learning/losses/#selfsupervisedloss\n",
        "criterion = losses.NTXentLoss(temperature=Config.temperature)"
      ],
      "metadata": {
        "id": "QgM-GhGrn9hB"
      },
      "execution_count": null,
      "outputs": []
    },
    {
      "cell_type": "markdown",
      "source": [
        "## Model"
      ],
      "metadata": {
        "id": "_CVN-T1PnzcZ"
      }
    },
    {
      "cell_type": "code",
      "source": [
        "## https://github.com/berfukaraca/SSL-Cifar10-ContrastiveLearning/blob/main/colab_notebooks/SSL_SimCLR_Cifar10_CL.ipynb\n",
        "\n",
        "class SimCLR_model(nn.Module):\n",
        "    def __init__(self, base_encoder, projection_dim, n_features):\n",
        "        super(SimCLR_model, self).__init__()\n",
        "        self.n_features = n_features\n",
        "        self.base_encoder = base_encoder\n",
        "\n",
        "        self.projectionHead = nn.Sequential(\n",
        "            nn.Linear(self.n_features, self.n_features, bias=False),\n",
        "            nn.BatchNorm1d(self.n_features),\n",
        "            nn.ReLU(), #non-linearity\n",
        "            nn.Linear(self.n_features, projection_dim, bias=False),\n",
        "            nn.BatchNorm1d(projection_dim),\n",
        "        )\n",
        "\n",
        "    def forward(self, x_i):\n",
        "        out = self.projectionHead(self.base_encoder(x_i))\n",
        "\n",
        "        return out"
      ],
      "metadata": {
        "id": "hVxfbTDSZxDZ"
      },
      "execution_count": null,
      "outputs": []
    },
    {
      "cell_type": "code",
      "source": [
        "## model and optimizer\n",
        "model = models.resnet50()\n",
        "# print(model)\n",
        "clr_model = SimCLR_model(model, Config.projection_dim, 1000) ## output dimension of resnet18 is 1000\n",
        "optimizer = optim.Adam(clr_model.parameters(), lr=Config.lr, weight_decay=Config.weight_decay)\n",
        "## cosine annealing lr: https://arxiv.org/pdf/1608.03983.pdf\n",
        "scheduler = lr_scheduler.CosineAnnealingLR(optimizer, T_max=Config.T_max, eta_min=Config.min_lr)\n",
        "\n",
        "device = 'cpu'\n",
        "clr_model.to(device)"
      ],
      "metadata": {
        "id": "Oe-1cXa2ZxuL",
        "colab": {
          "base_uri": "https://localhost:8080/"
        },
        "outputId": "cfbe8d96-f6e7-4b33-faf7-702ac6f755b0"
      },
      "execution_count": null,
      "outputs": [
        {
          "output_type": "execute_result",
          "data": {
            "text/plain": [
              "SimCLR_model(\n",
              "  (base_encoder): ResNet(\n",
              "    (conv1): Conv2d(3, 64, kernel_size=(7, 7), stride=(2, 2), padding=(3, 3), bias=False)\n",
              "    (bn1): BatchNorm2d(64, eps=1e-05, momentum=0.1, affine=True, track_running_stats=True)\n",
              "    (relu): ReLU(inplace=True)\n",
              "    (maxpool): MaxPool2d(kernel_size=3, stride=2, padding=1, dilation=1, ceil_mode=False)\n",
              "    (layer1): Sequential(\n",
              "      (0): Bottleneck(\n",
              "        (conv1): Conv2d(64, 64, kernel_size=(1, 1), stride=(1, 1), bias=False)\n",
              "        (bn1): BatchNorm2d(64, eps=1e-05, momentum=0.1, affine=True, track_running_stats=True)\n",
              "        (conv2): Conv2d(64, 64, kernel_size=(3, 3), stride=(1, 1), padding=(1, 1), bias=False)\n",
              "        (bn2): BatchNorm2d(64, eps=1e-05, momentum=0.1, affine=True, track_running_stats=True)\n",
              "        (conv3): Conv2d(64, 256, kernel_size=(1, 1), stride=(1, 1), bias=False)\n",
              "        (bn3): BatchNorm2d(256, eps=1e-05, momentum=0.1, affine=True, track_running_stats=True)\n",
              "        (relu): ReLU(inplace=True)\n",
              "        (downsample): Sequential(\n",
              "          (0): Conv2d(64, 256, kernel_size=(1, 1), stride=(1, 1), bias=False)\n",
              "          (1): BatchNorm2d(256, eps=1e-05, momentum=0.1, affine=True, track_running_stats=True)\n",
              "        )\n",
              "      )\n",
              "      (1): Bottleneck(\n",
              "        (conv1): Conv2d(256, 64, kernel_size=(1, 1), stride=(1, 1), bias=False)\n",
              "        (bn1): BatchNorm2d(64, eps=1e-05, momentum=0.1, affine=True, track_running_stats=True)\n",
              "        (conv2): Conv2d(64, 64, kernel_size=(3, 3), stride=(1, 1), padding=(1, 1), bias=False)\n",
              "        (bn2): BatchNorm2d(64, eps=1e-05, momentum=0.1, affine=True, track_running_stats=True)\n",
              "        (conv3): Conv2d(64, 256, kernel_size=(1, 1), stride=(1, 1), bias=False)\n",
              "        (bn3): BatchNorm2d(256, eps=1e-05, momentum=0.1, affine=True, track_running_stats=True)\n",
              "        (relu): ReLU(inplace=True)\n",
              "      )\n",
              "      (2): Bottleneck(\n",
              "        (conv1): Conv2d(256, 64, kernel_size=(1, 1), stride=(1, 1), bias=False)\n",
              "        (bn1): BatchNorm2d(64, eps=1e-05, momentum=0.1, affine=True, track_running_stats=True)\n",
              "        (conv2): Conv2d(64, 64, kernel_size=(3, 3), stride=(1, 1), padding=(1, 1), bias=False)\n",
              "        (bn2): BatchNorm2d(64, eps=1e-05, momentum=0.1, affine=True, track_running_stats=True)\n",
              "        (conv3): Conv2d(64, 256, kernel_size=(1, 1), stride=(1, 1), bias=False)\n",
              "        (bn3): BatchNorm2d(256, eps=1e-05, momentum=0.1, affine=True, track_running_stats=True)\n",
              "        (relu): ReLU(inplace=True)\n",
              "      )\n",
              "    )\n",
              "    (layer2): Sequential(\n",
              "      (0): Bottleneck(\n",
              "        (conv1): Conv2d(256, 128, kernel_size=(1, 1), stride=(1, 1), bias=False)\n",
              "        (bn1): BatchNorm2d(128, eps=1e-05, momentum=0.1, affine=True, track_running_stats=True)\n",
              "        (conv2): Conv2d(128, 128, kernel_size=(3, 3), stride=(2, 2), padding=(1, 1), bias=False)\n",
              "        (bn2): BatchNorm2d(128, eps=1e-05, momentum=0.1, affine=True, track_running_stats=True)\n",
              "        (conv3): Conv2d(128, 512, kernel_size=(1, 1), stride=(1, 1), bias=False)\n",
              "        (bn3): BatchNorm2d(512, eps=1e-05, momentum=0.1, affine=True, track_running_stats=True)\n",
              "        (relu): ReLU(inplace=True)\n",
              "        (downsample): Sequential(\n",
              "          (0): Conv2d(256, 512, kernel_size=(1, 1), stride=(2, 2), bias=False)\n",
              "          (1): BatchNorm2d(512, eps=1e-05, momentum=0.1, affine=True, track_running_stats=True)\n",
              "        )\n",
              "      )\n",
              "      (1): Bottleneck(\n",
              "        (conv1): Conv2d(512, 128, kernel_size=(1, 1), stride=(1, 1), bias=False)\n",
              "        (bn1): BatchNorm2d(128, eps=1e-05, momentum=0.1, affine=True, track_running_stats=True)\n",
              "        (conv2): Conv2d(128, 128, kernel_size=(3, 3), stride=(1, 1), padding=(1, 1), bias=False)\n",
              "        (bn2): BatchNorm2d(128, eps=1e-05, momentum=0.1, affine=True, track_running_stats=True)\n",
              "        (conv3): Conv2d(128, 512, kernel_size=(1, 1), stride=(1, 1), bias=False)\n",
              "        (bn3): BatchNorm2d(512, eps=1e-05, momentum=0.1, affine=True, track_running_stats=True)\n",
              "        (relu): ReLU(inplace=True)\n",
              "      )\n",
              "      (2): Bottleneck(\n",
              "        (conv1): Conv2d(512, 128, kernel_size=(1, 1), stride=(1, 1), bias=False)\n",
              "        (bn1): BatchNorm2d(128, eps=1e-05, momentum=0.1, affine=True, track_running_stats=True)\n",
              "        (conv2): Conv2d(128, 128, kernel_size=(3, 3), stride=(1, 1), padding=(1, 1), bias=False)\n",
              "        (bn2): BatchNorm2d(128, eps=1e-05, momentum=0.1, affine=True, track_running_stats=True)\n",
              "        (conv3): Conv2d(128, 512, kernel_size=(1, 1), stride=(1, 1), bias=False)\n",
              "        (bn3): BatchNorm2d(512, eps=1e-05, momentum=0.1, affine=True, track_running_stats=True)\n",
              "        (relu): ReLU(inplace=True)\n",
              "      )\n",
              "      (3): Bottleneck(\n",
              "        (conv1): Conv2d(512, 128, kernel_size=(1, 1), stride=(1, 1), bias=False)\n",
              "        (bn1): BatchNorm2d(128, eps=1e-05, momentum=0.1, affine=True, track_running_stats=True)\n",
              "        (conv2): Conv2d(128, 128, kernel_size=(3, 3), stride=(1, 1), padding=(1, 1), bias=False)\n",
              "        (bn2): BatchNorm2d(128, eps=1e-05, momentum=0.1, affine=True, track_running_stats=True)\n",
              "        (conv3): Conv2d(128, 512, kernel_size=(1, 1), stride=(1, 1), bias=False)\n",
              "        (bn3): BatchNorm2d(512, eps=1e-05, momentum=0.1, affine=True, track_running_stats=True)\n",
              "        (relu): ReLU(inplace=True)\n",
              "      )\n",
              "    )\n",
              "    (layer3): Sequential(\n",
              "      (0): Bottleneck(\n",
              "        (conv1): Conv2d(512, 256, kernel_size=(1, 1), stride=(1, 1), bias=False)\n",
              "        (bn1): BatchNorm2d(256, eps=1e-05, momentum=0.1, affine=True, track_running_stats=True)\n",
              "        (conv2): Conv2d(256, 256, kernel_size=(3, 3), stride=(2, 2), padding=(1, 1), bias=False)\n",
              "        (bn2): BatchNorm2d(256, eps=1e-05, momentum=0.1, affine=True, track_running_stats=True)\n",
              "        (conv3): Conv2d(256, 1024, kernel_size=(1, 1), stride=(1, 1), bias=False)\n",
              "        (bn3): BatchNorm2d(1024, eps=1e-05, momentum=0.1, affine=True, track_running_stats=True)\n",
              "        (relu): ReLU(inplace=True)\n",
              "        (downsample): Sequential(\n",
              "          (0): Conv2d(512, 1024, kernel_size=(1, 1), stride=(2, 2), bias=False)\n",
              "          (1): BatchNorm2d(1024, eps=1e-05, momentum=0.1, affine=True, track_running_stats=True)\n",
              "        )\n",
              "      )\n",
              "      (1): Bottleneck(\n",
              "        (conv1): Conv2d(1024, 256, kernel_size=(1, 1), stride=(1, 1), bias=False)\n",
              "        (bn1): BatchNorm2d(256, eps=1e-05, momentum=0.1, affine=True, track_running_stats=True)\n",
              "        (conv2): Conv2d(256, 256, kernel_size=(3, 3), stride=(1, 1), padding=(1, 1), bias=False)\n",
              "        (bn2): BatchNorm2d(256, eps=1e-05, momentum=0.1, affine=True, track_running_stats=True)\n",
              "        (conv3): Conv2d(256, 1024, kernel_size=(1, 1), stride=(1, 1), bias=False)\n",
              "        (bn3): BatchNorm2d(1024, eps=1e-05, momentum=0.1, affine=True, track_running_stats=True)\n",
              "        (relu): ReLU(inplace=True)\n",
              "      )\n",
              "      (2): Bottleneck(\n",
              "        (conv1): Conv2d(1024, 256, kernel_size=(1, 1), stride=(1, 1), bias=False)\n",
              "        (bn1): BatchNorm2d(256, eps=1e-05, momentum=0.1, affine=True, track_running_stats=True)\n",
              "        (conv2): Conv2d(256, 256, kernel_size=(3, 3), stride=(1, 1), padding=(1, 1), bias=False)\n",
              "        (bn2): BatchNorm2d(256, eps=1e-05, momentum=0.1, affine=True, track_running_stats=True)\n",
              "        (conv3): Conv2d(256, 1024, kernel_size=(1, 1), stride=(1, 1), bias=False)\n",
              "        (bn3): BatchNorm2d(1024, eps=1e-05, momentum=0.1, affine=True, track_running_stats=True)\n",
              "        (relu): ReLU(inplace=True)\n",
              "      )\n",
              "      (3): Bottleneck(\n",
              "        (conv1): Conv2d(1024, 256, kernel_size=(1, 1), stride=(1, 1), bias=False)\n",
              "        (bn1): BatchNorm2d(256, eps=1e-05, momentum=0.1, affine=True, track_running_stats=True)\n",
              "        (conv2): Conv2d(256, 256, kernel_size=(3, 3), stride=(1, 1), padding=(1, 1), bias=False)\n",
              "        (bn2): BatchNorm2d(256, eps=1e-05, momentum=0.1, affine=True, track_running_stats=True)\n",
              "        (conv3): Conv2d(256, 1024, kernel_size=(1, 1), stride=(1, 1), bias=False)\n",
              "        (bn3): BatchNorm2d(1024, eps=1e-05, momentum=0.1, affine=True, track_running_stats=True)\n",
              "        (relu): ReLU(inplace=True)\n",
              "      )\n",
              "      (4): Bottleneck(\n",
              "        (conv1): Conv2d(1024, 256, kernel_size=(1, 1), stride=(1, 1), bias=False)\n",
              "        (bn1): BatchNorm2d(256, eps=1e-05, momentum=0.1, affine=True, track_running_stats=True)\n",
              "        (conv2): Conv2d(256, 256, kernel_size=(3, 3), stride=(1, 1), padding=(1, 1), bias=False)\n",
              "        (bn2): BatchNorm2d(256, eps=1e-05, momentum=0.1, affine=True, track_running_stats=True)\n",
              "        (conv3): Conv2d(256, 1024, kernel_size=(1, 1), stride=(1, 1), bias=False)\n",
              "        (bn3): BatchNorm2d(1024, eps=1e-05, momentum=0.1, affine=True, track_running_stats=True)\n",
              "        (relu): ReLU(inplace=True)\n",
              "      )\n",
              "      (5): Bottleneck(\n",
              "        (conv1): Conv2d(1024, 256, kernel_size=(1, 1), stride=(1, 1), bias=False)\n",
              "        (bn1): BatchNorm2d(256, eps=1e-05, momentum=0.1, affine=True, track_running_stats=True)\n",
              "        (conv2): Conv2d(256, 256, kernel_size=(3, 3), stride=(1, 1), padding=(1, 1), bias=False)\n",
              "        (bn2): BatchNorm2d(256, eps=1e-05, momentum=0.1, affine=True, track_running_stats=True)\n",
              "        (conv3): Conv2d(256, 1024, kernel_size=(1, 1), stride=(1, 1), bias=False)\n",
              "        (bn3): BatchNorm2d(1024, eps=1e-05, momentum=0.1, affine=True, track_running_stats=True)\n",
              "        (relu): ReLU(inplace=True)\n",
              "      )\n",
              "    )\n",
              "    (layer4): Sequential(\n",
              "      (0): Bottleneck(\n",
              "        (conv1): Conv2d(1024, 512, kernel_size=(1, 1), stride=(1, 1), bias=False)\n",
              "        (bn1): BatchNorm2d(512, eps=1e-05, momentum=0.1, affine=True, track_running_stats=True)\n",
              "        (conv2): Conv2d(512, 512, kernel_size=(3, 3), stride=(2, 2), padding=(1, 1), bias=False)\n",
              "        (bn2): BatchNorm2d(512, eps=1e-05, momentum=0.1, affine=True, track_running_stats=True)\n",
              "        (conv3): Conv2d(512, 2048, kernel_size=(1, 1), stride=(1, 1), bias=False)\n",
              "        (bn3): BatchNorm2d(2048, eps=1e-05, momentum=0.1, affine=True, track_running_stats=True)\n",
              "        (relu): ReLU(inplace=True)\n",
              "        (downsample): Sequential(\n",
              "          (0): Conv2d(1024, 2048, kernel_size=(1, 1), stride=(2, 2), bias=False)\n",
              "          (1): BatchNorm2d(2048, eps=1e-05, momentum=0.1, affine=True, track_running_stats=True)\n",
              "        )\n",
              "      )\n",
              "      (1): Bottleneck(\n",
              "        (conv1): Conv2d(2048, 512, kernel_size=(1, 1), stride=(1, 1), bias=False)\n",
              "        (bn1): BatchNorm2d(512, eps=1e-05, momentum=0.1, affine=True, track_running_stats=True)\n",
              "        (conv2): Conv2d(512, 512, kernel_size=(3, 3), stride=(1, 1), padding=(1, 1), bias=False)\n",
              "        (bn2): BatchNorm2d(512, eps=1e-05, momentum=0.1, affine=True, track_running_stats=True)\n",
              "        (conv3): Conv2d(512, 2048, kernel_size=(1, 1), stride=(1, 1), bias=False)\n",
              "        (bn3): BatchNorm2d(2048, eps=1e-05, momentum=0.1, affine=True, track_running_stats=True)\n",
              "        (relu): ReLU(inplace=True)\n",
              "      )\n",
              "      (2): Bottleneck(\n",
              "        (conv1): Conv2d(2048, 512, kernel_size=(1, 1), stride=(1, 1), bias=False)\n",
              "        (bn1): BatchNorm2d(512, eps=1e-05, momentum=0.1, affine=True, track_running_stats=True)\n",
              "        (conv2): Conv2d(512, 512, kernel_size=(3, 3), stride=(1, 1), padding=(1, 1), bias=False)\n",
              "        (bn2): BatchNorm2d(512, eps=1e-05, momentum=0.1, affine=True, track_running_stats=True)\n",
              "        (conv3): Conv2d(512, 2048, kernel_size=(1, 1), stride=(1, 1), bias=False)\n",
              "        (bn3): BatchNorm2d(2048, eps=1e-05, momentum=0.1, affine=True, track_running_stats=True)\n",
              "        (relu): ReLU(inplace=True)\n",
              "      )\n",
              "    )\n",
              "    (avgpool): AdaptiveAvgPool2d(output_size=(1, 1))\n",
              "    (fc): Linear(in_features=2048, out_features=1000, bias=True)\n",
              "  )\n",
              "  (projectionHead): Sequential(\n",
              "    (0): Linear(in_features=1000, out_features=1000, bias=False)\n",
              "    (1): BatchNorm1d(1000, eps=1e-05, momentum=0.1, affine=True, track_running_stats=True)\n",
              "    (2): ReLU()\n",
              "    (3): Linear(in_features=1000, out_features=128, bias=False)\n",
              "    (4): BatchNorm1d(128, eps=1e-05, momentum=0.1, affine=True, track_running_stats=True)\n",
              "  )\n",
              ")"
            ]
          },
          "metadata": {},
          "execution_count": 14
        }
      ]
    },
    {
      "cell_type": "code",
      "source": [
        "torch.cuda.empty_cache()"
      ],
      "metadata": {
        "id": "PA2pHvZrZMN2"
      },
      "execution_count": null,
      "outputs": []
    },
    {
      "cell_type": "code",
      "source": [
        "def train(epoch):\n",
        "    print('\\nEpoch: %d' % epoch)\n",
        "    clr_model.train()\n",
        "    s=0\n",
        "    tot_loss = 0\n",
        "    total = 0\n",
        "    batch_idx=0\n",
        "    i=0\n",
        "    batch_num =1\n",
        "    for batch_idx, (images, labels) in enumerate(dataloaders['train']):\n",
        "        batch_tot_loss = 0\n",
        "        if (batch_num % 50 == 1):\n",
        "          print(\"in batch\", batch_num)\n",
        "        batch_num=batch_num+1\n",
        "        images, augmented_images = images[0], images[1]\n",
        "        images, augmented_images = images.to(device), augmented_images.to(device)\n",
        "\n",
        "        optimizer.zero_grad()\n",
        "\n",
        "        images_emb = clr_model(images)\n",
        "        #augmented_images_emb = clr_model(augmented_images)\n",
        "\n",
        "        #embs = torch.cat((images_emb, augmented_images_emb))\n",
        "        #labels = torch.cat((labels, labels))\n",
        "\n",
        "        loss = criterion(images_emb, labels)\n",
        "\n",
        "        loss.backward()\n",
        "\n",
        "        optimizer.step()\n",
        "        scheduler.step\n",
        "\n",
        "        tot_loss += loss.item()\n",
        "        batch_tot_loss += loss.item()\n",
        "        if (batch_num % 50 == 1):\n",
        "          print('batch loss=', batch_tot_loss)\n",
        "\n",
        "    print(\"epoch loss=\",tot_loss)\n",
        "\n",
        "    if epoch%20 == 0:\n",
        "        modelstate_save_name = 'waterbird_modelstate_bs_restart_r.pt'\n",
        "        path_modelstate = F\"/content/drive/MyDrive/CS260D_final_project/model_parameters/{modelstate_save_name}\"\n",
        "        torch.save(clr_model.state_dict(), path_modelstate)\n",
        "\n",
        "        parameters_end = {\n",
        "            'net': clr_model.state_dict(),\n",
        "            'epoch': epoch,\n",
        "            'loss': tot_loss\n",
        "      }\n",
        "        paramsend_save_name = 'waterbird_paramsend_bs_restart_r.pt'\n",
        "        path_paramsend = F\"/content/drive/MyDrive/CS260D_final_project/model_parameters/{paramsend_save_name}\"\n",
        "        torch.save(parameters_end, path_paramsend)\n",
        "\n",
        "start_epoch = 0\n",
        "max_epoch = 60\n",
        "\n",
        "for epoch in range(start_epoch, start_epoch+max_epoch):\n",
        "  train(epoch)"
      ],
      "metadata": {
        "id": "ZPPiQ-wvlj5s",
        "colab": {
          "base_uri": "https://localhost:8080/"
        },
        "outputId": "389fb6a0-ae9f-4b95-9c54-1585ead98d5f"
      },
      "execution_count": null,
      "outputs": [
        {
          "output_type": "stream",
          "name": "stdout",
          "text": [
            "\n",
            "Epoch: 0\n"
          ]
        },
        {
          "output_type": "stream",
          "name": "stderr",
          "text": [
            "/usr/local/lib/python3.10/dist-packages/torchvision/transforms/functional.py:1603: UserWarning: The default value of the antialias parameter of all the resizing transforms (Resize(), RandomResizedCrop(), etc.) will change from None to True in v0.17, in order to be consistent across the PIL and Tensor backends. To suppress this warning, directly pass antialias=True (recommended, future default), antialias=None (current default, which means False for Tensors and True for PIL), or antialias=False (only works on Tensors - PIL will still use antialiasing). This also applies if you are using the inference transforms from the models weights: update the call to weights.transforms(antialias=True).\n",
            "  warnings.warn(\n",
            "/usr/local/lib/python3.10/dist-packages/torchvision/transforms/functional.py:1603: UserWarning: The default value of the antialias parameter of all the resizing transforms (Resize(), RandomResizedCrop(), etc.) will change from None to True in v0.17, in order to be consistent across the PIL and Tensor backends. To suppress this warning, directly pass antialias=True (recommended, future default), antialias=None (current default, which means False for Tensors and True for PIL), or antialias=False (only works on Tensors - PIL will still use antialiasing). This also applies if you are using the inference transforms from the models weights: update the call to weights.transforms(antialias=True).\n",
            "  warnings.warn(\n"
          ]
        },
        {
          "output_type": "stream",
          "name": "stdout",
          "text": [
            "in batch 1\n",
            "epoch loss= 111.93056416511536\n",
            "\n",
            "Epoch: 1\n"
          ]
        },
        {
          "output_type": "stream",
          "name": "stderr",
          "text": [
            "/usr/local/lib/python3.10/dist-packages/torchvision/transforms/functional.py:1603: UserWarning: The default value of the antialias parameter of all the resizing transforms (Resize(), RandomResizedCrop(), etc.) will change from None to True in v0.17, in order to be consistent across the PIL and Tensor backends. To suppress this warning, directly pass antialias=True (recommended, future default), antialias=None (current default, which means False for Tensors and True for PIL), or antialias=False (only works on Tensors - PIL will still use antialiasing). This also applies if you are using the inference transforms from the models weights: update the call to weights.transforms(antialias=True).\n",
            "  warnings.warn(\n",
            "/usr/local/lib/python3.10/dist-packages/torchvision/transforms/functional.py:1603: UserWarning: The default value of the antialias parameter of all the resizing transforms (Resize(), RandomResizedCrop(), etc.) will change from None to True in v0.17, in order to be consistent across the PIL and Tensor backends. To suppress this warning, directly pass antialias=True (recommended, future default), antialias=None (current default, which means False for Tensors and True for PIL), or antialias=False (only works on Tensors - PIL will still use antialiasing). This also applies if you are using the inference transforms from the models weights: update the call to weights.transforms(antialias=True).\n",
            "  warnings.warn(\n"
          ]
        },
        {
          "output_type": "stream",
          "name": "stdout",
          "text": [
            "in batch 1\n",
            "epoch loss= 102.12161111831665\n",
            "\n",
            "Epoch: 2\n"
          ]
        },
        {
          "output_type": "stream",
          "name": "stderr",
          "text": [
            "/usr/local/lib/python3.10/dist-packages/torchvision/transforms/functional.py:1603: UserWarning: The default value of the antialias parameter of all the resizing transforms (Resize(), RandomResizedCrop(), etc.) will change from None to True in v0.17, in order to be consistent across the PIL and Tensor backends. To suppress this warning, directly pass antialias=True (recommended, future default), antialias=None (current default, which means False for Tensors and True for PIL), or antialias=False (only works on Tensors - PIL will still use antialiasing). This also applies if you are using the inference transforms from the models weights: update the call to weights.transforms(antialias=True).\n",
            "  warnings.warn(\n",
            "/usr/local/lib/python3.10/dist-packages/torchvision/transforms/functional.py:1603: UserWarning: The default value of the antialias parameter of all the resizing transforms (Resize(), RandomResizedCrop(), etc.) will change from None to True in v0.17, in order to be consistent across the PIL and Tensor backends. To suppress this warning, directly pass antialias=True (recommended, future default), antialias=None (current default, which means False for Tensors and True for PIL), or antialias=False (only works on Tensors - PIL will still use antialiasing). This also applies if you are using the inference transforms from the models weights: update the call to weights.transforms(antialias=True).\n",
            "  warnings.warn(\n"
          ]
        },
        {
          "output_type": "stream",
          "name": "stdout",
          "text": [
            "in batch 1\n",
            "epoch loss= 98.03034090995789\n",
            "\n",
            "Epoch: 3\n"
          ]
        },
        {
          "output_type": "stream",
          "name": "stderr",
          "text": [
            "/usr/local/lib/python3.10/dist-packages/torchvision/transforms/functional.py:1603: UserWarning: The default value of the antialias parameter of all the resizing transforms (Resize(), RandomResizedCrop(), etc.) will change from None to True in v0.17, in order to be consistent across the PIL and Tensor backends. To suppress this warning, directly pass antialias=True (recommended, future default), antialias=None (current default, which means False for Tensors and True for PIL), or antialias=False (only works on Tensors - PIL will still use antialiasing). This also applies if you are using the inference transforms from the models weights: update the call to weights.transforms(antialias=True).\n",
            "  warnings.warn(\n",
            "/usr/local/lib/python3.10/dist-packages/torchvision/transforms/functional.py:1603: UserWarning: The default value of the antialias parameter of all the resizing transforms (Resize(), RandomResizedCrop(), etc.) will change from None to True in v0.17, in order to be consistent across the PIL and Tensor backends. To suppress this warning, directly pass antialias=True (recommended, future default), antialias=None (current default, which means False for Tensors and True for PIL), or antialias=False (only works on Tensors - PIL will still use antialiasing). This also applies if you are using the inference transforms from the models weights: update the call to weights.transforms(antialias=True).\n",
            "  warnings.warn(\n"
          ]
        },
        {
          "output_type": "stream",
          "name": "stdout",
          "text": [
            "in batch 1\n",
            "epoch loss= 95.48887407779694\n",
            "\n",
            "Epoch: 4\n"
          ]
        },
        {
          "output_type": "stream",
          "name": "stderr",
          "text": [
            "/usr/local/lib/python3.10/dist-packages/torchvision/transforms/functional.py:1603: UserWarning: The default value of the antialias parameter of all the resizing transforms (Resize(), RandomResizedCrop(), etc.) will change from None to True in v0.17, in order to be consistent across the PIL and Tensor backends. To suppress this warning, directly pass antialias=True (recommended, future default), antialias=None (current default, which means False for Tensors and True for PIL), or antialias=False (only works on Tensors - PIL will still use antialiasing). This also applies if you are using the inference transforms from the models weights: update the call to weights.transforms(antialias=True).\n",
            "  warnings.warn(\n",
            "/usr/local/lib/python3.10/dist-packages/torchvision/transforms/functional.py:1603: UserWarning: The default value of the antialias parameter of all the resizing transforms (Resize(), RandomResizedCrop(), etc.) will change from None to True in v0.17, in order to be consistent across the PIL and Tensor backends. To suppress this warning, directly pass antialias=True (recommended, future default), antialias=None (current default, which means False for Tensors and True for PIL), or antialias=False (only works on Tensors - PIL will still use antialiasing). This also applies if you are using the inference transforms from the models weights: update the call to weights.transforms(antialias=True).\n",
            "  warnings.warn(\n"
          ]
        },
        {
          "output_type": "stream",
          "name": "stdout",
          "text": [
            "in batch 1\n",
            "epoch loss= 92.50577068328857\n",
            "\n",
            "Epoch: 5\n"
          ]
        },
        {
          "output_type": "stream",
          "name": "stderr",
          "text": [
            "/usr/local/lib/python3.10/dist-packages/torchvision/transforms/functional.py:1603: UserWarning: The default value of the antialias parameter of all the resizing transforms (Resize(), RandomResizedCrop(), etc.) will change from None to True in v0.17, in order to be consistent across the PIL and Tensor backends. To suppress this warning, directly pass antialias=True (recommended, future default), antialias=None (current default, which means False for Tensors and True for PIL), or antialias=False (only works on Tensors - PIL will still use antialiasing). This also applies if you are using the inference transforms from the models weights: update the call to weights.transforms(antialias=True).\n",
            "  warnings.warn(\n",
            "/usr/local/lib/python3.10/dist-packages/torchvision/transforms/functional.py:1603: UserWarning: The default value of the antialias parameter of all the resizing transforms (Resize(), RandomResizedCrop(), etc.) will change from None to True in v0.17, in order to be consistent across the PIL and Tensor backends. To suppress this warning, directly pass antialias=True (recommended, future default), antialias=None (current default, which means False for Tensors and True for PIL), or antialias=False (only works on Tensors - PIL will still use antialiasing). This also applies if you are using the inference transforms from the models weights: update the call to weights.transforms(antialias=True).\n",
            "  warnings.warn(\n"
          ]
        },
        {
          "output_type": "stream",
          "name": "stdout",
          "text": [
            "in batch 1\n",
            "epoch loss= 91.15910363197327\n",
            "\n",
            "Epoch: 6\n"
          ]
        },
        {
          "output_type": "stream",
          "name": "stderr",
          "text": [
            "/usr/local/lib/python3.10/dist-packages/torchvision/transforms/functional.py:1603: UserWarning: The default value of the antialias parameter of all the resizing transforms (Resize(), RandomResizedCrop(), etc.) will change from None to True in v0.17, in order to be consistent across the PIL and Tensor backends. To suppress this warning, directly pass antialias=True (recommended, future default), antialias=None (current default, which means False for Tensors and True for PIL), or antialias=False (only works on Tensors - PIL will still use antialiasing). This also applies if you are using the inference transforms from the models weights: update the call to weights.transforms(antialias=True).\n",
            "  warnings.warn(\n",
            "/usr/local/lib/python3.10/dist-packages/torchvision/transforms/functional.py:1603: UserWarning: The default value of the antialias parameter of all the resizing transforms (Resize(), RandomResizedCrop(), etc.) will change from None to True in v0.17, in order to be consistent across the PIL and Tensor backends. To suppress this warning, directly pass antialias=True (recommended, future default), antialias=None (current default, which means False for Tensors and True for PIL), or antialias=False (only works on Tensors - PIL will still use antialiasing). This also applies if you are using the inference transforms from the models weights: update the call to weights.transforms(antialias=True).\n",
            "  warnings.warn(\n"
          ]
        },
        {
          "output_type": "stream",
          "name": "stdout",
          "text": [
            "in batch 1\n",
            "epoch loss= 90.32158839702606\n",
            "\n",
            "Epoch: 7\n"
          ]
        },
        {
          "output_type": "stream",
          "name": "stderr",
          "text": [
            "/usr/local/lib/python3.10/dist-packages/torchvision/transforms/functional.py:1603: UserWarning: The default value of the antialias parameter of all the resizing transforms (Resize(), RandomResizedCrop(), etc.) will change from None to True in v0.17, in order to be consistent across the PIL and Tensor backends. To suppress this warning, directly pass antialias=True (recommended, future default), antialias=None (current default, which means False for Tensors and True for PIL), or antialias=False (only works on Tensors - PIL will still use antialiasing). This also applies if you are using the inference transforms from the models weights: update the call to weights.transforms(antialias=True).\n",
            "  warnings.warn(\n",
            "/usr/local/lib/python3.10/dist-packages/torchvision/transforms/functional.py:1603: UserWarning: The default value of the antialias parameter of all the resizing transforms (Resize(), RandomResizedCrop(), etc.) will change from None to True in v0.17, in order to be consistent across the PIL and Tensor backends. To suppress this warning, directly pass antialias=True (recommended, future default), antialias=None (current default, which means False for Tensors and True for PIL), or antialias=False (only works on Tensors - PIL will still use antialiasing). This also applies if you are using the inference transforms from the models weights: update the call to weights.transforms(antialias=True).\n",
            "  warnings.warn(\n"
          ]
        },
        {
          "output_type": "stream",
          "name": "stdout",
          "text": [
            "in batch 1\n",
            "epoch loss= 90.09213852882385\n",
            "\n",
            "Epoch: 8\n"
          ]
        },
        {
          "output_type": "stream",
          "name": "stderr",
          "text": [
            "/usr/local/lib/python3.10/dist-packages/torchvision/transforms/functional.py:1603: UserWarning: The default value of the antialias parameter of all the resizing transforms (Resize(), RandomResizedCrop(), etc.) will change from None to True in v0.17, in order to be consistent across the PIL and Tensor backends. To suppress this warning, directly pass antialias=True (recommended, future default), antialias=None (current default, which means False for Tensors and True for PIL), or antialias=False (only works on Tensors - PIL will still use antialiasing). This also applies if you are using the inference transforms from the models weights: update the call to weights.transforms(antialias=True).\n",
            "  warnings.warn(\n",
            "/usr/local/lib/python3.10/dist-packages/torchvision/transforms/functional.py:1603: UserWarning: The default value of the antialias parameter of all the resizing transforms (Resize(), RandomResizedCrop(), etc.) will change from None to True in v0.17, in order to be consistent across the PIL and Tensor backends. To suppress this warning, directly pass antialias=True (recommended, future default), antialias=None (current default, which means False for Tensors and True for PIL), or antialias=False (only works on Tensors - PIL will still use antialiasing). This also applies if you are using the inference transforms from the models weights: update the call to weights.transforms(antialias=True).\n",
            "  warnings.warn(\n"
          ]
        },
        {
          "output_type": "stream",
          "name": "stdout",
          "text": [
            "in batch 1\n",
            "epoch loss= 90.85646069049835\n",
            "\n",
            "Epoch: 9\n"
          ]
        },
        {
          "output_type": "stream",
          "name": "stderr",
          "text": [
            "/usr/local/lib/python3.10/dist-packages/torchvision/transforms/functional.py:1603: UserWarning: The default value of the antialias parameter of all the resizing transforms (Resize(), RandomResizedCrop(), etc.) will change from None to True in v0.17, in order to be consistent across the PIL and Tensor backends. To suppress this warning, directly pass antialias=True (recommended, future default), antialias=None (current default, which means False for Tensors and True for PIL), or antialias=False (only works on Tensors - PIL will still use antialiasing). This also applies if you are using the inference transforms from the models weights: update the call to weights.transforms(antialias=True).\n",
            "  warnings.warn(\n",
            "/usr/local/lib/python3.10/dist-packages/torchvision/transforms/functional.py:1603: UserWarning: The default value of the antialias parameter of all the resizing transforms (Resize(), RandomResizedCrop(), etc.) will change from None to True in v0.17, in order to be consistent across the PIL and Tensor backends. To suppress this warning, directly pass antialias=True (recommended, future default), antialias=None (current default, which means False for Tensors and True for PIL), or antialias=False (only works on Tensors - PIL will still use antialiasing). This also applies if you are using the inference transforms from the models weights: update the call to weights.transforms(antialias=True).\n",
            "  warnings.warn(\n"
          ]
        },
        {
          "output_type": "stream",
          "name": "stdout",
          "text": [
            "in batch 1\n",
            "epoch loss= 85.80272650718689\n",
            "\n",
            "Epoch: 10\n"
          ]
        },
        {
          "output_type": "stream",
          "name": "stderr",
          "text": [
            "/usr/local/lib/python3.10/dist-packages/torchvision/transforms/functional.py:1603: UserWarning: The default value of the antialias parameter of all the resizing transforms (Resize(), RandomResizedCrop(), etc.) will change from None to True in v0.17, in order to be consistent across the PIL and Tensor backends. To suppress this warning, directly pass antialias=True (recommended, future default), antialias=None (current default, which means False for Tensors and True for PIL), or antialias=False (only works on Tensors - PIL will still use antialiasing). This also applies if you are using the inference transforms from the models weights: update the call to weights.transforms(antialias=True).\n",
            "  warnings.warn(\n",
            "/usr/local/lib/python3.10/dist-packages/torchvision/transforms/functional.py:1603: UserWarning: The default value of the antialias parameter of all the resizing transforms (Resize(), RandomResizedCrop(), etc.) will change from None to True in v0.17, in order to be consistent across the PIL and Tensor backends. To suppress this warning, directly pass antialias=True (recommended, future default), antialias=None (current default, which means False for Tensors and True for PIL), or antialias=False (only works on Tensors - PIL will still use antialiasing). This also applies if you are using the inference transforms from the models weights: update the call to weights.transforms(antialias=True).\n",
            "  warnings.warn(\n"
          ]
        },
        {
          "output_type": "stream",
          "name": "stdout",
          "text": [
            "in batch 1\n",
            "epoch loss= 82.0520658493042\n",
            "\n",
            "Epoch: 11\n"
          ]
        },
        {
          "output_type": "stream",
          "name": "stderr",
          "text": [
            "/usr/local/lib/python3.10/dist-packages/torchvision/transforms/functional.py:1603: UserWarning: The default value of the antialias parameter of all the resizing transforms (Resize(), RandomResizedCrop(), etc.) will change from None to True in v0.17, in order to be consistent across the PIL and Tensor backends. To suppress this warning, directly pass antialias=True (recommended, future default), antialias=None (current default, which means False for Tensors and True for PIL), or antialias=False (only works on Tensors - PIL will still use antialiasing). This also applies if you are using the inference transforms from the models weights: update the call to weights.transforms(antialias=True).\n",
            "  warnings.warn(\n",
            "/usr/local/lib/python3.10/dist-packages/torchvision/transforms/functional.py:1603: UserWarning: The default value of the antialias parameter of all the resizing transforms (Resize(), RandomResizedCrop(), etc.) will change from None to True in v0.17, in order to be consistent across the PIL and Tensor backends. To suppress this warning, directly pass antialias=True (recommended, future default), antialias=None (current default, which means False for Tensors and True for PIL), or antialias=False (only works on Tensors - PIL will still use antialiasing). This also applies if you are using the inference transforms from the models weights: update the call to weights.transforms(antialias=True).\n",
            "  warnings.warn(\n"
          ]
        },
        {
          "output_type": "stream",
          "name": "stdout",
          "text": [
            "in batch 1\n",
            "epoch loss= 83.85154962539673\n",
            "\n",
            "Epoch: 12\n"
          ]
        },
        {
          "output_type": "stream",
          "name": "stderr",
          "text": [
            "/usr/local/lib/python3.10/dist-packages/torchvision/transforms/functional.py:1603: UserWarning: The default value of the antialias parameter of all the resizing transforms (Resize(), RandomResizedCrop(), etc.) will change from None to True in v0.17, in order to be consistent across the PIL and Tensor backends. To suppress this warning, directly pass antialias=True (recommended, future default), antialias=None (current default, which means False for Tensors and True for PIL), or antialias=False (only works on Tensors - PIL will still use antialiasing). This also applies if you are using the inference transforms from the models weights: update the call to weights.transforms(antialias=True).\n",
            "  warnings.warn(\n",
            "/usr/local/lib/python3.10/dist-packages/torchvision/transforms/functional.py:1603: UserWarning: The default value of the antialias parameter of all the resizing transforms (Resize(), RandomResizedCrop(), etc.) will change from None to True in v0.17, in order to be consistent across the PIL and Tensor backends. To suppress this warning, directly pass antialias=True (recommended, future default), antialias=None (current default, which means False for Tensors and True for PIL), or antialias=False (only works on Tensors - PIL will still use antialiasing). This also applies if you are using the inference transforms from the models weights: update the call to weights.transforms(antialias=True).\n",
            "  warnings.warn(\n"
          ]
        },
        {
          "output_type": "stream",
          "name": "stdout",
          "text": [
            "in batch 1\n",
            "epoch loss= 84.11458563804626\n",
            "\n",
            "Epoch: 13\n"
          ]
        },
        {
          "output_type": "stream",
          "name": "stderr",
          "text": [
            "/usr/local/lib/python3.10/dist-packages/torchvision/transforms/functional.py:1603: UserWarning: The default value of the antialias parameter of all the resizing transforms (Resize(), RandomResizedCrop(), etc.) will change from None to True in v0.17, in order to be consistent across the PIL and Tensor backends. To suppress this warning, directly pass antialias=True (recommended, future default), antialias=None (current default, which means False for Tensors and True for PIL), or antialias=False (only works on Tensors - PIL will still use antialiasing). This also applies if you are using the inference transforms from the models weights: update the call to weights.transforms(antialias=True).\n",
            "  warnings.warn(\n",
            "/usr/local/lib/python3.10/dist-packages/torchvision/transforms/functional.py:1603: UserWarning: The default value of the antialias parameter of all the resizing transforms (Resize(), RandomResizedCrop(), etc.) will change from None to True in v0.17, in order to be consistent across the PIL and Tensor backends. To suppress this warning, directly pass antialias=True (recommended, future default), antialias=None (current default, which means False for Tensors and True for PIL), or antialias=False (only works on Tensors - PIL will still use antialiasing). This also applies if you are using the inference transforms from the models weights: update the call to weights.transforms(antialias=True).\n",
            "  warnings.warn(\n"
          ]
        },
        {
          "output_type": "stream",
          "name": "stdout",
          "text": [
            "in batch 1\n",
            "epoch loss= 81.52423322200775\n",
            "\n",
            "Epoch: 14\n"
          ]
        },
        {
          "output_type": "stream",
          "name": "stderr",
          "text": [
            "/usr/local/lib/python3.10/dist-packages/torchvision/transforms/functional.py:1603: UserWarning: The default value of the antialias parameter of all the resizing transforms (Resize(), RandomResizedCrop(), etc.) will change from None to True in v0.17, in order to be consistent across the PIL and Tensor backends. To suppress this warning, directly pass antialias=True (recommended, future default), antialias=None (current default, which means False for Tensors and True for PIL), or antialias=False (only works on Tensors - PIL will still use antialiasing). This also applies if you are using the inference transforms from the models weights: update the call to weights.transforms(antialias=True).\n",
            "  warnings.warn(\n",
            "/usr/local/lib/python3.10/dist-packages/torchvision/transforms/functional.py:1603: UserWarning: The default value of the antialias parameter of all the resizing transforms (Resize(), RandomResizedCrop(), etc.) will change from None to True in v0.17, in order to be consistent across the PIL and Tensor backends. To suppress this warning, directly pass antialias=True (recommended, future default), antialias=None (current default, which means False for Tensors and True for PIL), or antialias=False (only works on Tensors - PIL will still use antialiasing). This also applies if you are using the inference transforms from the models weights: update the call to weights.transforms(antialias=True).\n",
            "  warnings.warn(\n"
          ]
        },
        {
          "output_type": "stream",
          "name": "stdout",
          "text": [
            "in batch 1\n",
            "epoch loss= 80.96132099628448\n",
            "\n",
            "Epoch: 15\n"
          ]
        },
        {
          "output_type": "stream",
          "name": "stderr",
          "text": [
            "/usr/local/lib/python3.10/dist-packages/torchvision/transforms/functional.py:1603: UserWarning: The default value of the antialias parameter of all the resizing transforms (Resize(), RandomResizedCrop(), etc.) will change from None to True in v0.17, in order to be consistent across the PIL and Tensor backends. To suppress this warning, directly pass antialias=True (recommended, future default), antialias=None (current default, which means False for Tensors and True for PIL), or antialias=False (only works on Tensors - PIL will still use antialiasing). This also applies if you are using the inference transforms from the models weights: update the call to weights.transforms(antialias=True).\n",
            "  warnings.warn(\n",
            "/usr/local/lib/python3.10/dist-packages/torchvision/transforms/functional.py:1603: UserWarning: The default value of the antialias parameter of all the resizing transforms (Resize(), RandomResizedCrop(), etc.) will change from None to True in v0.17, in order to be consistent across the PIL and Tensor backends. To suppress this warning, directly pass antialias=True (recommended, future default), antialias=None (current default, which means False for Tensors and True for PIL), or antialias=False (only works on Tensors - PIL will still use antialiasing). This also applies if you are using the inference transforms from the models weights: update the call to weights.transforms(antialias=True).\n",
            "  warnings.warn(\n"
          ]
        },
        {
          "output_type": "stream",
          "name": "stdout",
          "text": [
            "in batch 1\n",
            "epoch loss= 75.23086655139923\n",
            "\n",
            "Epoch: 16\n"
          ]
        },
        {
          "output_type": "stream",
          "name": "stderr",
          "text": [
            "/usr/local/lib/python3.10/dist-packages/torchvision/transforms/functional.py:1603: UserWarning: The default value of the antialias parameter of all the resizing transforms (Resize(), RandomResizedCrop(), etc.) will change from None to True in v0.17, in order to be consistent across the PIL and Tensor backends. To suppress this warning, directly pass antialias=True (recommended, future default), antialias=None (current default, which means False for Tensors and True for PIL), or antialias=False (only works on Tensors - PIL will still use antialiasing). This also applies if you are using the inference transforms from the models weights: update the call to weights.transforms(antialias=True).\n",
            "  warnings.warn(\n",
            "/usr/local/lib/python3.10/dist-packages/torchvision/transforms/functional.py:1603: UserWarning: The default value of the antialias parameter of all the resizing transforms (Resize(), RandomResizedCrop(), etc.) will change from None to True in v0.17, in order to be consistent across the PIL and Tensor backends. To suppress this warning, directly pass antialias=True (recommended, future default), antialias=None (current default, which means False for Tensors and True for PIL), or antialias=False (only works on Tensors - PIL will still use antialiasing). This also applies if you are using the inference transforms from the models weights: update the call to weights.transforms(antialias=True).\n",
            "  warnings.warn(\n"
          ]
        },
        {
          "output_type": "stream",
          "name": "stdout",
          "text": [
            "in batch 1\n",
            "epoch loss= 80.01189625263214\n",
            "\n",
            "Epoch: 17\n"
          ]
        },
        {
          "output_type": "stream",
          "name": "stderr",
          "text": [
            "/usr/local/lib/python3.10/dist-packages/torchvision/transforms/functional.py:1603: UserWarning: The default value of the antialias parameter of all the resizing transforms (Resize(), RandomResizedCrop(), etc.) will change from None to True in v0.17, in order to be consistent across the PIL and Tensor backends. To suppress this warning, directly pass antialias=True (recommended, future default), antialias=None (current default, which means False for Tensors and True for PIL), or antialias=False (only works on Tensors - PIL will still use antialiasing). This also applies if you are using the inference transforms from the models weights: update the call to weights.transforms(antialias=True).\n",
            "  warnings.warn(\n",
            "/usr/local/lib/python3.10/dist-packages/torchvision/transforms/functional.py:1603: UserWarning: The default value of the antialias parameter of all the resizing transforms (Resize(), RandomResizedCrop(), etc.) will change from None to True in v0.17, in order to be consistent across the PIL and Tensor backends. To suppress this warning, directly pass antialias=True (recommended, future default), antialias=None (current default, which means False for Tensors and True for PIL), or antialias=False (only works on Tensors - PIL will still use antialiasing). This also applies if you are using the inference transforms from the models weights: update the call to weights.transforms(antialias=True).\n",
            "  warnings.warn(\n"
          ]
        },
        {
          "output_type": "stream",
          "name": "stdout",
          "text": [
            "in batch 1\n",
            "epoch loss= 74.22337865829468\n",
            "\n",
            "Epoch: 18\n"
          ]
        },
        {
          "output_type": "stream",
          "name": "stderr",
          "text": [
            "/usr/local/lib/python3.10/dist-packages/torchvision/transforms/functional.py:1603: UserWarning: The default value of the antialias parameter of all the resizing transforms (Resize(), RandomResizedCrop(), etc.) will change from None to True in v0.17, in order to be consistent across the PIL and Tensor backends. To suppress this warning, directly pass antialias=True (recommended, future default), antialias=None (current default, which means False for Tensors and True for PIL), or antialias=False (only works on Tensors - PIL will still use antialiasing). This also applies if you are using the inference transforms from the models weights: update the call to weights.transforms(antialias=True).\n",
            "  warnings.warn(\n",
            "/usr/local/lib/python3.10/dist-packages/torchvision/transforms/functional.py:1603: UserWarning: The default value of the antialias parameter of all the resizing transforms (Resize(), RandomResizedCrop(), etc.) will change from None to True in v0.17, in order to be consistent across the PIL and Tensor backends. To suppress this warning, directly pass antialias=True (recommended, future default), antialias=None (current default, which means False for Tensors and True for PIL), or antialias=False (only works on Tensors - PIL will still use antialiasing). This also applies if you are using the inference transforms from the models weights: update the call to weights.transforms(antialias=True).\n",
            "  warnings.warn(\n"
          ]
        },
        {
          "output_type": "stream",
          "name": "stdout",
          "text": [
            "in batch 1\n",
            "epoch loss= 68.91445636749268\n",
            "\n",
            "Epoch: 19\n"
          ]
        },
        {
          "output_type": "stream",
          "name": "stderr",
          "text": [
            "/usr/local/lib/python3.10/dist-packages/torchvision/transforms/functional.py:1603: UserWarning: The default value of the antialias parameter of all the resizing transforms (Resize(), RandomResizedCrop(), etc.) will change from None to True in v0.17, in order to be consistent across the PIL and Tensor backends. To suppress this warning, directly pass antialias=True (recommended, future default), antialias=None (current default, which means False for Tensors and True for PIL), or antialias=False (only works on Tensors - PIL will still use antialiasing). This also applies if you are using the inference transforms from the models weights: update the call to weights.transforms(antialias=True).\n",
            "  warnings.warn(\n",
            "/usr/local/lib/python3.10/dist-packages/torchvision/transforms/functional.py:1603: UserWarning: The default value of the antialias parameter of all the resizing transforms (Resize(), RandomResizedCrop(), etc.) will change from None to True in v0.17, in order to be consistent across the PIL and Tensor backends. To suppress this warning, directly pass antialias=True (recommended, future default), antialias=None (current default, which means False for Tensors and True for PIL), or antialias=False (only works on Tensors - PIL will still use antialiasing). This also applies if you are using the inference transforms from the models weights: update the call to weights.transforms(antialias=True).\n",
            "  warnings.warn(\n"
          ]
        },
        {
          "output_type": "stream",
          "name": "stdout",
          "text": [
            "in batch 1\n",
            "epoch loss= 68.58186376094818\n",
            "\n",
            "Epoch: 20\n"
          ]
        },
        {
          "output_type": "stream",
          "name": "stderr",
          "text": [
            "/usr/local/lib/python3.10/dist-packages/torchvision/transforms/functional.py:1603: UserWarning: The default value of the antialias parameter of all the resizing transforms (Resize(), RandomResizedCrop(), etc.) will change from None to True in v0.17, in order to be consistent across the PIL and Tensor backends. To suppress this warning, directly pass antialias=True (recommended, future default), antialias=None (current default, which means False for Tensors and True for PIL), or antialias=False (only works on Tensors - PIL will still use antialiasing). This also applies if you are using the inference transforms from the models weights: update the call to weights.transforms(antialias=True).\n",
            "  warnings.warn(\n",
            "/usr/local/lib/python3.10/dist-packages/torchvision/transforms/functional.py:1603: UserWarning: The default value of the antialias parameter of all the resizing transforms (Resize(), RandomResizedCrop(), etc.) will change from None to True in v0.17, in order to be consistent across the PIL and Tensor backends. To suppress this warning, directly pass antialias=True (recommended, future default), antialias=None (current default, which means False for Tensors and True for PIL), or antialias=False (only works on Tensors - PIL will still use antialiasing). This also applies if you are using the inference transforms from the models weights: update the call to weights.transforms(antialias=True).\n",
            "  warnings.warn(\n"
          ]
        },
        {
          "output_type": "stream",
          "name": "stdout",
          "text": [
            "in batch 1\n",
            "epoch loss= 68.26022815704346\n",
            "\n",
            "Epoch: 21\n"
          ]
        },
        {
          "output_type": "stream",
          "name": "stderr",
          "text": [
            "/usr/local/lib/python3.10/dist-packages/torchvision/transforms/functional.py:1603: UserWarning: The default value of the antialias parameter of all the resizing transforms (Resize(), RandomResizedCrop(), etc.) will change from None to True in v0.17, in order to be consistent across the PIL and Tensor backends. To suppress this warning, directly pass antialias=True (recommended, future default), antialias=None (current default, which means False for Tensors and True for PIL), or antialias=False (only works on Tensors - PIL will still use antialiasing). This also applies if you are using the inference transforms from the models weights: update the call to weights.transforms(antialias=True).\n",
            "  warnings.warn(\n",
            "/usr/local/lib/python3.10/dist-packages/torchvision/transforms/functional.py:1603: UserWarning: The default value of the antialias parameter of all the resizing transforms (Resize(), RandomResizedCrop(), etc.) will change from None to True in v0.17, in order to be consistent across the PIL and Tensor backends. To suppress this warning, directly pass antialias=True (recommended, future default), antialias=None (current default, which means False for Tensors and True for PIL), or antialias=False (only works on Tensors - PIL will still use antialiasing). This also applies if you are using the inference transforms from the models weights: update the call to weights.transforms(antialias=True).\n",
            "  warnings.warn(\n"
          ]
        },
        {
          "output_type": "stream",
          "name": "stdout",
          "text": [
            "in batch 1\n",
            "epoch loss= 62.285247683525085\n",
            "\n",
            "Epoch: 22\n"
          ]
        },
        {
          "output_type": "stream",
          "name": "stderr",
          "text": [
            "/usr/local/lib/python3.10/dist-packages/torchvision/transforms/functional.py:1603: UserWarning: The default value of the antialias parameter of all the resizing transforms (Resize(), RandomResizedCrop(), etc.) will change from None to True in v0.17, in order to be consistent across the PIL and Tensor backends. To suppress this warning, directly pass antialias=True (recommended, future default), antialias=None (current default, which means False for Tensors and True for PIL), or antialias=False (only works on Tensors - PIL will still use antialiasing). This also applies if you are using the inference transforms from the models weights: update the call to weights.transforms(antialias=True).\n",
            "  warnings.warn(\n",
            "/usr/local/lib/python3.10/dist-packages/torchvision/transforms/functional.py:1603: UserWarning: The default value of the antialias parameter of all the resizing transforms (Resize(), RandomResizedCrop(), etc.) will change from None to True in v0.17, in order to be consistent across the PIL and Tensor backends. To suppress this warning, directly pass antialias=True (recommended, future default), antialias=None (current default, which means False for Tensors and True for PIL), or antialias=False (only works on Tensors - PIL will still use antialiasing). This also applies if you are using the inference transforms from the models weights: update the call to weights.transforms(antialias=True).\n",
            "  warnings.warn(\n"
          ]
        },
        {
          "output_type": "stream",
          "name": "stdout",
          "text": [
            "in batch 1\n",
            "epoch loss= 64.95146864652634\n",
            "\n",
            "Epoch: 23\n"
          ]
        },
        {
          "output_type": "stream",
          "name": "stderr",
          "text": [
            "/usr/local/lib/python3.10/dist-packages/torchvision/transforms/functional.py:1603: UserWarning: The default value of the antialias parameter of all the resizing transforms (Resize(), RandomResizedCrop(), etc.) will change from None to True in v0.17, in order to be consistent across the PIL and Tensor backends. To suppress this warning, directly pass antialias=True (recommended, future default), antialias=None (current default, which means False for Tensors and True for PIL), or antialias=False (only works on Tensors - PIL will still use antialiasing). This also applies if you are using the inference transforms from the models weights: update the call to weights.transforms(antialias=True).\n",
            "  warnings.warn(\n",
            "/usr/local/lib/python3.10/dist-packages/torchvision/transforms/functional.py:1603: UserWarning: The default value of the antialias parameter of all the resizing transforms (Resize(), RandomResizedCrop(), etc.) will change from None to True in v0.17, in order to be consistent across the PIL and Tensor backends. To suppress this warning, directly pass antialias=True (recommended, future default), antialias=None (current default, which means False for Tensors and True for PIL), or antialias=False (only works on Tensors - PIL will still use antialiasing). This also applies if you are using the inference transforms from the models weights: update the call to weights.transforms(antialias=True).\n",
            "  warnings.warn(\n"
          ]
        },
        {
          "output_type": "stream",
          "name": "stdout",
          "text": [
            "in batch 1\n",
            "epoch loss= 59.73664563894272\n",
            "\n",
            "Epoch: 24\n"
          ]
        },
        {
          "output_type": "stream",
          "name": "stderr",
          "text": [
            "/usr/local/lib/python3.10/dist-packages/torchvision/transforms/functional.py:1603: UserWarning: The default value of the antialias parameter of all the resizing transforms (Resize(), RandomResizedCrop(), etc.) will change from None to True in v0.17, in order to be consistent across the PIL and Tensor backends. To suppress this warning, directly pass antialias=True (recommended, future default), antialias=None (current default, which means False for Tensors and True for PIL), or antialias=False (only works on Tensors - PIL will still use antialiasing). This also applies if you are using the inference transforms from the models weights: update the call to weights.transforms(antialias=True).\n",
            "  warnings.warn(\n",
            "/usr/local/lib/python3.10/dist-packages/torchvision/transforms/functional.py:1603: UserWarning: The default value of the antialias parameter of all the resizing transforms (Resize(), RandomResizedCrop(), etc.) will change from None to True in v0.17, in order to be consistent across the PIL and Tensor backends. To suppress this warning, directly pass antialias=True (recommended, future default), antialias=None (current default, which means False for Tensors and True for PIL), or antialias=False (only works on Tensors - PIL will still use antialiasing). This also applies if you are using the inference transforms from the models weights: update the call to weights.transforms(antialias=True).\n",
            "  warnings.warn(\n"
          ]
        },
        {
          "output_type": "stream",
          "name": "stdout",
          "text": [
            "in batch 1\n",
            "epoch loss= 63.73191076517105\n",
            "\n",
            "Epoch: 25\n"
          ]
        },
        {
          "output_type": "stream",
          "name": "stderr",
          "text": [
            "/usr/local/lib/python3.10/dist-packages/torchvision/transforms/functional.py:1603: UserWarning: The default value of the antialias parameter of all the resizing transforms (Resize(), RandomResizedCrop(), etc.) will change from None to True in v0.17, in order to be consistent across the PIL and Tensor backends. To suppress this warning, directly pass antialias=True (recommended, future default), antialias=None (current default, which means False for Tensors and True for PIL), or antialias=False (only works on Tensors - PIL will still use antialiasing). This also applies if you are using the inference transforms from the models weights: update the call to weights.transforms(antialias=True).\n",
            "  warnings.warn(\n",
            "/usr/local/lib/python3.10/dist-packages/torchvision/transforms/functional.py:1603: UserWarning: The default value of the antialias parameter of all the resizing transforms (Resize(), RandomResizedCrop(), etc.) will change from None to True in v0.17, in order to be consistent across the PIL and Tensor backends. To suppress this warning, directly pass antialias=True (recommended, future default), antialias=None (current default, which means False for Tensors and True for PIL), or antialias=False (only works on Tensors - PIL will still use antialiasing). This also applies if you are using the inference transforms from the models weights: update the call to weights.transforms(antialias=True).\n",
            "  warnings.warn(\n"
          ]
        },
        {
          "output_type": "stream",
          "name": "stdout",
          "text": [
            "in batch 1\n",
            "epoch loss= 61.926685214042664\n",
            "\n",
            "Epoch: 26\n"
          ]
        },
        {
          "output_type": "stream",
          "name": "stderr",
          "text": [
            "/usr/local/lib/python3.10/dist-packages/torchvision/transforms/functional.py:1603: UserWarning: The default value of the antialias parameter of all the resizing transforms (Resize(), RandomResizedCrop(), etc.) will change from None to True in v0.17, in order to be consistent across the PIL and Tensor backends. To suppress this warning, directly pass antialias=True (recommended, future default), antialias=None (current default, which means False for Tensors and True for PIL), or antialias=False (only works on Tensors - PIL will still use antialiasing). This also applies if you are using the inference transforms from the models weights: update the call to weights.transforms(antialias=True).\n",
            "  warnings.warn(\n",
            "/usr/local/lib/python3.10/dist-packages/torchvision/transforms/functional.py:1603: UserWarning: The default value of the antialias parameter of all the resizing transforms (Resize(), RandomResizedCrop(), etc.) will change from None to True in v0.17, in order to be consistent across the PIL and Tensor backends. To suppress this warning, directly pass antialias=True (recommended, future default), antialias=None (current default, which means False for Tensors and True for PIL), or antialias=False (only works on Tensors - PIL will still use antialiasing). This also applies if you are using the inference transforms from the models weights: update the call to weights.transforms(antialias=True).\n",
            "  warnings.warn(\n"
          ]
        },
        {
          "output_type": "stream",
          "name": "stdout",
          "text": [
            "in batch 1\n",
            "epoch loss= 64.20291918516159\n",
            "\n",
            "Epoch: 27\n"
          ]
        },
        {
          "output_type": "stream",
          "name": "stderr",
          "text": [
            "/usr/local/lib/python3.10/dist-packages/torchvision/transforms/functional.py:1603: UserWarning: The default value of the antialias parameter of all the resizing transforms (Resize(), RandomResizedCrop(), etc.) will change from None to True in v0.17, in order to be consistent across the PIL and Tensor backends. To suppress this warning, directly pass antialias=True (recommended, future default), antialias=None (current default, which means False for Tensors and True for PIL), or antialias=False (only works on Tensors - PIL will still use antialiasing). This also applies if you are using the inference transforms from the models weights: update the call to weights.transforms(antialias=True).\n",
            "  warnings.warn(\n",
            "/usr/local/lib/python3.10/dist-packages/torchvision/transforms/functional.py:1603: UserWarning: The default value of the antialias parameter of all the resizing transforms (Resize(), RandomResizedCrop(), etc.) will change from None to True in v0.17, in order to be consistent across the PIL and Tensor backends. To suppress this warning, directly pass antialias=True (recommended, future default), antialias=None (current default, which means False for Tensors and True for PIL), or antialias=False (only works on Tensors - PIL will still use antialiasing). This also applies if you are using the inference transforms from the models weights: update the call to weights.transforms(antialias=True).\n",
            "  warnings.warn(\n"
          ]
        },
        {
          "output_type": "stream",
          "name": "stdout",
          "text": [
            "in batch 1\n",
            "epoch loss= 60.506850719451904\n",
            "\n",
            "Epoch: 28\n"
          ]
        },
        {
          "output_type": "stream",
          "name": "stderr",
          "text": [
            "/usr/local/lib/python3.10/dist-packages/torchvision/transforms/functional.py:1603: UserWarning: The default value of the antialias parameter of all the resizing transforms (Resize(), RandomResizedCrop(), etc.) will change from None to True in v0.17, in order to be consistent across the PIL and Tensor backends. To suppress this warning, directly pass antialias=True (recommended, future default), antialias=None (current default, which means False for Tensors and True for PIL), or antialias=False (only works on Tensors - PIL will still use antialiasing). This also applies if you are using the inference transforms from the models weights: update the call to weights.transforms(antialias=True).\n",
            "  warnings.warn(\n",
            "/usr/local/lib/python3.10/dist-packages/torchvision/transforms/functional.py:1603: UserWarning: The default value of the antialias parameter of all the resizing transforms (Resize(), RandomResizedCrop(), etc.) will change from None to True in v0.17, in order to be consistent across the PIL and Tensor backends. To suppress this warning, directly pass antialias=True (recommended, future default), antialias=None (current default, which means False for Tensors and True for PIL), or antialias=False (only works on Tensors - PIL will still use antialiasing). This also applies if you are using the inference transforms from the models weights: update the call to weights.transforms(antialias=True).\n",
            "  warnings.warn(\n"
          ]
        },
        {
          "output_type": "stream",
          "name": "stdout",
          "text": [
            "in batch 1\n",
            "epoch loss= 62.62162947654724\n",
            "\n",
            "Epoch: 29\n"
          ]
        },
        {
          "output_type": "stream",
          "name": "stderr",
          "text": [
            "/usr/local/lib/python3.10/dist-packages/torchvision/transforms/functional.py:1603: UserWarning: The default value of the antialias parameter of all the resizing transforms (Resize(), RandomResizedCrop(), etc.) will change from None to True in v0.17, in order to be consistent across the PIL and Tensor backends. To suppress this warning, directly pass antialias=True (recommended, future default), antialias=None (current default, which means False for Tensors and True for PIL), or antialias=False (only works on Tensors - PIL will still use antialiasing). This also applies if you are using the inference transforms from the models weights: update the call to weights.transforms(antialias=True).\n",
            "  warnings.warn(\n",
            "/usr/local/lib/python3.10/dist-packages/torchvision/transforms/functional.py:1603: UserWarning: The default value of the antialias parameter of all the resizing transforms (Resize(), RandomResizedCrop(), etc.) will change from None to True in v0.17, in order to be consistent across the PIL and Tensor backends. To suppress this warning, directly pass antialias=True (recommended, future default), antialias=None (current default, which means False for Tensors and True for PIL), or antialias=False (only works on Tensors - PIL will still use antialiasing). This also applies if you are using the inference transforms from the models weights: update the call to weights.transforms(antialias=True).\n",
            "  warnings.warn(\n"
          ]
        },
        {
          "output_type": "stream",
          "name": "stdout",
          "text": [
            "in batch 1\n",
            "epoch loss= 56.87682032585144\n",
            "\n",
            "Epoch: 30\n"
          ]
        },
        {
          "output_type": "stream",
          "name": "stderr",
          "text": [
            "/usr/local/lib/python3.10/dist-packages/torchvision/transforms/functional.py:1603: UserWarning: The default value of the antialias parameter of all the resizing transforms (Resize(), RandomResizedCrop(), etc.) will change from None to True in v0.17, in order to be consistent across the PIL and Tensor backends. To suppress this warning, directly pass antialias=True (recommended, future default), antialias=None (current default, which means False for Tensors and True for PIL), or antialias=False (only works on Tensors - PIL will still use antialiasing). This also applies if you are using the inference transforms from the models weights: update the call to weights.transforms(antialias=True).\n",
            "  warnings.warn(\n",
            "/usr/local/lib/python3.10/dist-packages/torchvision/transforms/functional.py:1603: UserWarning: The default value of the antialias parameter of all the resizing transforms (Resize(), RandomResizedCrop(), etc.) will change from None to True in v0.17, in order to be consistent across the PIL and Tensor backends. To suppress this warning, directly pass antialias=True (recommended, future default), antialias=None (current default, which means False for Tensors and True for PIL), or antialias=False (only works on Tensors - PIL will still use antialiasing). This also applies if you are using the inference transforms from the models weights: update the call to weights.transforms(antialias=True).\n",
            "  warnings.warn(\n"
          ]
        },
        {
          "output_type": "stream",
          "name": "stdout",
          "text": [
            "in batch 1\n",
            "epoch loss= 53.55079126358032\n",
            "\n",
            "Epoch: 31\n"
          ]
        },
        {
          "output_type": "stream",
          "name": "stderr",
          "text": [
            "/usr/local/lib/python3.10/dist-packages/torchvision/transforms/functional.py:1603: UserWarning: The default value of the antialias parameter of all the resizing transforms (Resize(), RandomResizedCrop(), etc.) will change from None to True in v0.17, in order to be consistent across the PIL and Tensor backends. To suppress this warning, directly pass antialias=True (recommended, future default), antialias=None (current default, which means False for Tensors and True for PIL), or antialias=False (only works on Tensors - PIL will still use antialiasing). This also applies if you are using the inference transforms from the models weights: update the call to weights.transforms(antialias=True).\n",
            "  warnings.warn(\n",
            "/usr/local/lib/python3.10/dist-packages/torchvision/transforms/functional.py:1603: UserWarning: The default value of the antialias parameter of all the resizing transforms (Resize(), RandomResizedCrop(), etc.) will change from None to True in v0.17, in order to be consistent across the PIL and Tensor backends. To suppress this warning, directly pass antialias=True (recommended, future default), antialias=None (current default, which means False for Tensors and True for PIL), or antialias=False (only works on Tensors - PIL will still use antialiasing). This also applies if you are using the inference transforms from the models weights: update the call to weights.transforms(antialias=True).\n",
            "  warnings.warn(\n"
          ]
        },
        {
          "output_type": "stream",
          "name": "stdout",
          "text": [
            "in batch 1\n",
            "epoch loss= 57.89888793230057\n",
            "\n",
            "Epoch: 32\n"
          ]
        },
        {
          "output_type": "stream",
          "name": "stderr",
          "text": [
            "/usr/local/lib/python3.10/dist-packages/torchvision/transforms/functional.py:1603: UserWarning: The default value of the antialias parameter of all the resizing transforms (Resize(), RandomResizedCrop(), etc.) will change from None to True in v0.17, in order to be consistent across the PIL and Tensor backends. To suppress this warning, directly pass antialias=True (recommended, future default), antialias=None (current default, which means False for Tensors and True for PIL), or antialias=False (only works on Tensors - PIL will still use antialiasing). This also applies if you are using the inference transforms from the models weights: update the call to weights.transforms(antialias=True).\n",
            "  warnings.warn(\n",
            "/usr/local/lib/python3.10/dist-packages/torchvision/transforms/functional.py:1603: UserWarning: The default value of the antialias parameter of all the resizing transforms (Resize(), RandomResizedCrop(), etc.) will change from None to True in v0.17, in order to be consistent across the PIL and Tensor backends. To suppress this warning, directly pass antialias=True (recommended, future default), antialias=None (current default, which means False for Tensors and True for PIL), or antialias=False (only works on Tensors - PIL will still use antialiasing). This also applies if you are using the inference transforms from the models weights: update the call to weights.transforms(antialias=True).\n",
            "  warnings.warn(\n"
          ]
        },
        {
          "output_type": "stream",
          "name": "stdout",
          "text": [
            "in batch 1\n",
            "epoch loss= 49.58817517757416\n",
            "\n",
            "Epoch: 33\n"
          ]
        },
        {
          "output_type": "stream",
          "name": "stderr",
          "text": [
            "/usr/local/lib/python3.10/dist-packages/torchvision/transforms/functional.py:1603: UserWarning: The default value of the antialias parameter of all the resizing transforms (Resize(), RandomResizedCrop(), etc.) will change from None to True in v0.17, in order to be consistent across the PIL and Tensor backends. To suppress this warning, directly pass antialias=True (recommended, future default), antialias=None (current default, which means False for Tensors and True for PIL), or antialias=False (only works on Tensors - PIL will still use antialiasing). This also applies if you are using the inference transforms from the models weights: update the call to weights.transforms(antialias=True).\n",
            "  warnings.warn(\n",
            "/usr/local/lib/python3.10/dist-packages/torchvision/transforms/functional.py:1603: UserWarning: The default value of the antialias parameter of all the resizing transforms (Resize(), RandomResizedCrop(), etc.) will change from None to True in v0.17, in order to be consistent across the PIL and Tensor backends. To suppress this warning, directly pass antialias=True (recommended, future default), antialias=None (current default, which means False for Tensors and True for PIL), or antialias=False (only works on Tensors - PIL will still use antialiasing). This also applies if you are using the inference transforms from the models weights: update the call to weights.transforms(antialias=True).\n",
            "  warnings.warn(\n"
          ]
        },
        {
          "output_type": "stream",
          "name": "stdout",
          "text": [
            "in batch 1\n",
            "epoch loss= 50.49538576602936\n",
            "\n",
            "Epoch: 34\n"
          ]
        },
        {
          "output_type": "stream",
          "name": "stderr",
          "text": [
            "/usr/local/lib/python3.10/dist-packages/torchvision/transforms/functional.py:1603: UserWarning: The default value of the antialias parameter of all the resizing transforms (Resize(), RandomResizedCrop(), etc.) will change from None to True in v0.17, in order to be consistent across the PIL and Tensor backends. To suppress this warning, directly pass antialias=True (recommended, future default), antialias=None (current default, which means False for Tensors and True for PIL), or antialias=False (only works on Tensors - PIL will still use antialiasing). This also applies if you are using the inference transforms from the models weights: update the call to weights.transforms(antialias=True).\n",
            "  warnings.warn(\n",
            "/usr/local/lib/python3.10/dist-packages/torchvision/transforms/functional.py:1603: UserWarning: The default value of the antialias parameter of all the resizing transforms (Resize(), RandomResizedCrop(), etc.) will change from None to True in v0.17, in order to be consistent across the PIL and Tensor backends. To suppress this warning, directly pass antialias=True (recommended, future default), antialias=None (current default, which means False for Tensors and True for PIL), or antialias=False (only works on Tensors - PIL will still use antialiasing). This also applies if you are using the inference transforms from the models weights: update the call to weights.transforms(antialias=True).\n",
            "  warnings.warn(\n"
          ]
        },
        {
          "output_type": "stream",
          "name": "stdout",
          "text": [
            "in batch 1\n",
            "epoch loss= 52.68578082323074\n",
            "\n",
            "Epoch: 35\n"
          ]
        },
        {
          "output_type": "stream",
          "name": "stderr",
          "text": [
            "/usr/local/lib/python3.10/dist-packages/torchvision/transforms/functional.py:1603: UserWarning: The default value of the antialias parameter of all the resizing transforms (Resize(), RandomResizedCrop(), etc.) will change from None to True in v0.17, in order to be consistent across the PIL and Tensor backends. To suppress this warning, directly pass antialias=True (recommended, future default), antialias=None (current default, which means False for Tensors and True for PIL), or antialias=False (only works on Tensors - PIL will still use antialiasing). This also applies if you are using the inference transforms from the models weights: update the call to weights.transforms(antialias=True).\n",
            "  warnings.warn(\n",
            "/usr/local/lib/python3.10/dist-packages/torchvision/transforms/functional.py:1603: UserWarning: The default value of the antialias parameter of all the resizing transforms (Resize(), RandomResizedCrop(), etc.) will change from None to True in v0.17, in order to be consistent across the PIL and Tensor backends. To suppress this warning, directly pass antialias=True (recommended, future default), antialias=None (current default, which means False for Tensors and True for PIL), or antialias=False (only works on Tensors - PIL will still use antialiasing). This also applies if you are using the inference transforms from the models weights: update the call to weights.transforms(antialias=True).\n",
            "  warnings.warn(\n"
          ]
        },
        {
          "output_type": "stream",
          "name": "stdout",
          "text": [
            "in batch 1\n",
            "epoch loss= 50.6416180729866\n",
            "\n",
            "Epoch: 36\n"
          ]
        },
        {
          "output_type": "stream",
          "name": "stderr",
          "text": [
            "/usr/local/lib/python3.10/dist-packages/torchvision/transforms/functional.py:1603: UserWarning: The default value of the antialias parameter of all the resizing transforms (Resize(), RandomResizedCrop(), etc.) will change from None to True in v0.17, in order to be consistent across the PIL and Tensor backends. To suppress this warning, directly pass antialias=True (recommended, future default), antialias=None (current default, which means False for Tensors and True for PIL), or antialias=False (only works on Tensors - PIL will still use antialiasing). This also applies if you are using the inference transforms from the models weights: update the call to weights.transforms(antialias=True).\n",
            "  warnings.warn(\n",
            "/usr/local/lib/python3.10/dist-packages/torchvision/transforms/functional.py:1603: UserWarning: The default value of the antialias parameter of all the resizing transforms (Resize(), RandomResizedCrop(), etc.) will change from None to True in v0.17, in order to be consistent across the PIL and Tensor backends. To suppress this warning, directly pass antialias=True (recommended, future default), antialias=None (current default, which means False for Tensors and True for PIL), or antialias=False (only works on Tensors - PIL will still use antialiasing). This also applies if you are using the inference transforms from the models weights: update the call to weights.transforms(antialias=True).\n",
            "  warnings.warn(\n"
          ]
        },
        {
          "output_type": "stream",
          "name": "stdout",
          "text": [
            "in batch 1\n",
            "epoch loss= 49.09875428676605\n",
            "\n",
            "Epoch: 37\n"
          ]
        },
        {
          "output_type": "stream",
          "name": "stderr",
          "text": [
            "/usr/local/lib/python3.10/dist-packages/torchvision/transforms/functional.py:1603: UserWarning: The default value of the antialias parameter of all the resizing transforms (Resize(), RandomResizedCrop(), etc.) will change from None to True in v0.17, in order to be consistent across the PIL and Tensor backends. To suppress this warning, directly pass antialias=True (recommended, future default), antialias=None (current default, which means False for Tensors and True for PIL), or antialias=False (only works on Tensors - PIL will still use antialiasing). This also applies if you are using the inference transforms from the models weights: update the call to weights.transforms(antialias=True).\n",
            "  warnings.warn(\n",
            "/usr/local/lib/python3.10/dist-packages/torchvision/transforms/functional.py:1603: UserWarning: The default value of the antialias parameter of all the resizing transforms (Resize(), RandomResizedCrop(), etc.) will change from None to True in v0.17, in order to be consistent across the PIL and Tensor backends. To suppress this warning, directly pass antialias=True (recommended, future default), antialias=None (current default, which means False for Tensors and True for PIL), or antialias=False (only works on Tensors - PIL will still use antialiasing). This also applies if you are using the inference transforms from the models weights: update the call to weights.transforms(antialias=True).\n",
            "  warnings.warn(\n"
          ]
        },
        {
          "output_type": "stream",
          "name": "stdout",
          "text": [
            "in batch 1\n",
            "epoch loss= 47.311690986156464\n",
            "\n",
            "Epoch: 38\n"
          ]
        },
        {
          "output_type": "stream",
          "name": "stderr",
          "text": [
            "/usr/local/lib/python3.10/dist-packages/torchvision/transforms/functional.py:1603: UserWarning: The default value of the antialias parameter of all the resizing transforms (Resize(), RandomResizedCrop(), etc.) will change from None to True in v0.17, in order to be consistent across the PIL and Tensor backends. To suppress this warning, directly pass antialias=True (recommended, future default), antialias=None (current default, which means False for Tensors and True for PIL), or antialias=False (only works on Tensors - PIL will still use antialiasing). This also applies if you are using the inference transforms from the models weights: update the call to weights.transforms(antialias=True).\n",
            "  warnings.warn(\n",
            "/usr/local/lib/python3.10/dist-packages/torchvision/transforms/functional.py:1603: UserWarning: The default value of the antialias parameter of all the resizing transforms (Resize(), RandomResizedCrop(), etc.) will change from None to True in v0.17, in order to be consistent across the PIL and Tensor backends. To suppress this warning, directly pass antialias=True (recommended, future default), antialias=None (current default, which means False for Tensors and True for PIL), or antialias=False (only works on Tensors - PIL will still use antialiasing). This also applies if you are using the inference transforms from the models weights: update the call to weights.transforms(antialias=True).\n",
            "  warnings.warn(\n"
          ]
        },
        {
          "output_type": "stream",
          "name": "stdout",
          "text": [
            "in batch 1\n",
            "epoch loss= 42.75997859239578\n",
            "\n",
            "Epoch: 39\n"
          ]
        },
        {
          "output_type": "stream",
          "name": "stderr",
          "text": [
            "/usr/local/lib/python3.10/dist-packages/torchvision/transforms/functional.py:1603: UserWarning: The default value of the antialias parameter of all the resizing transforms (Resize(), RandomResizedCrop(), etc.) will change from None to True in v0.17, in order to be consistent across the PIL and Tensor backends. To suppress this warning, directly pass antialias=True (recommended, future default), antialias=None (current default, which means False for Tensors and True for PIL), or antialias=False (only works on Tensors - PIL will still use antialiasing). This also applies if you are using the inference transforms from the models weights: update the call to weights.transforms(antialias=True).\n",
            "  warnings.warn(\n",
            "/usr/local/lib/python3.10/dist-packages/torchvision/transforms/functional.py:1603: UserWarning: The default value of the antialias parameter of all the resizing transforms (Resize(), RandomResizedCrop(), etc.) will change from None to True in v0.17, in order to be consistent across the PIL and Tensor backends. To suppress this warning, directly pass antialias=True (recommended, future default), antialias=None (current default, which means False for Tensors and True for PIL), or antialias=False (only works on Tensors - PIL will still use antialiasing). This also applies if you are using the inference transforms from the models weights: update the call to weights.transforms(antialias=True).\n",
            "  warnings.warn(\n"
          ]
        },
        {
          "output_type": "stream",
          "name": "stdout",
          "text": [
            "in batch 1\n",
            "epoch loss= 46.242224752902985\n",
            "\n",
            "Epoch: 40\n"
          ]
        },
        {
          "output_type": "stream",
          "name": "stderr",
          "text": [
            "/usr/local/lib/python3.10/dist-packages/torchvision/transforms/functional.py:1603: UserWarning: The default value of the antialias parameter of all the resizing transforms (Resize(), RandomResizedCrop(), etc.) will change from None to True in v0.17, in order to be consistent across the PIL and Tensor backends. To suppress this warning, directly pass antialias=True (recommended, future default), antialias=None (current default, which means False for Tensors and True for PIL), or antialias=False (only works on Tensors - PIL will still use antialiasing). This also applies if you are using the inference transforms from the models weights: update the call to weights.transforms(antialias=True).\n",
            "  warnings.warn(\n",
            "/usr/local/lib/python3.10/dist-packages/torchvision/transforms/functional.py:1603: UserWarning: The default value of the antialias parameter of all the resizing transforms (Resize(), RandomResizedCrop(), etc.) will change from None to True in v0.17, in order to be consistent across the PIL and Tensor backends. To suppress this warning, directly pass antialias=True (recommended, future default), antialias=None (current default, which means False for Tensors and True for PIL), or antialias=False (only works on Tensors - PIL will still use antialiasing). This also applies if you are using the inference transforms from the models weights: update the call to weights.transforms(antialias=True).\n",
            "  warnings.warn(\n"
          ]
        },
        {
          "output_type": "stream",
          "name": "stdout",
          "text": [
            "in batch 1\n",
            "epoch loss= 44.04199814796448\n",
            "\n",
            "Epoch: 41\n"
          ]
        },
        {
          "output_type": "stream",
          "name": "stderr",
          "text": [
            "/usr/local/lib/python3.10/dist-packages/torchvision/transforms/functional.py:1603: UserWarning: The default value of the antialias parameter of all the resizing transforms (Resize(), RandomResizedCrop(), etc.) will change from None to True in v0.17, in order to be consistent across the PIL and Tensor backends. To suppress this warning, directly pass antialias=True (recommended, future default), antialias=None (current default, which means False for Tensors and True for PIL), or antialias=False (only works on Tensors - PIL will still use antialiasing). This also applies if you are using the inference transforms from the models weights: update the call to weights.transforms(antialias=True).\n",
            "  warnings.warn(\n",
            "/usr/local/lib/python3.10/dist-packages/torchvision/transforms/functional.py:1603: UserWarning: The default value of the antialias parameter of all the resizing transforms (Resize(), RandomResizedCrop(), etc.) will change from None to True in v0.17, in order to be consistent across the PIL and Tensor backends. To suppress this warning, directly pass antialias=True (recommended, future default), antialias=None (current default, which means False for Tensors and True for PIL), or antialias=False (only works on Tensors - PIL will still use antialiasing). This also applies if you are using the inference transforms from the models weights: update the call to weights.transforms(antialias=True).\n",
            "  warnings.warn(\n"
          ]
        },
        {
          "output_type": "stream",
          "name": "stdout",
          "text": [
            "in batch 1\n",
            "epoch loss= 48.25335443019867\n",
            "\n",
            "Epoch: 42\n"
          ]
        },
        {
          "output_type": "stream",
          "name": "stderr",
          "text": [
            "/usr/local/lib/python3.10/dist-packages/torchvision/transforms/functional.py:1603: UserWarning: The default value of the antialias parameter of all the resizing transforms (Resize(), RandomResizedCrop(), etc.) will change from None to True in v0.17, in order to be consistent across the PIL and Tensor backends. To suppress this warning, directly pass antialias=True (recommended, future default), antialias=None (current default, which means False for Tensors and True for PIL), or antialias=False (only works on Tensors - PIL will still use antialiasing). This also applies if you are using the inference transforms from the models weights: update the call to weights.transforms(antialias=True).\n",
            "  warnings.warn(\n",
            "/usr/local/lib/python3.10/dist-packages/torchvision/transforms/functional.py:1603: UserWarning: The default value of the antialias parameter of all the resizing transforms (Resize(), RandomResizedCrop(), etc.) will change from None to True in v0.17, in order to be consistent across the PIL and Tensor backends. To suppress this warning, directly pass antialias=True (recommended, future default), antialias=None (current default, which means False for Tensors and True for PIL), or antialias=False (only works on Tensors - PIL will still use antialiasing). This also applies if you are using the inference transforms from the models weights: update the call to weights.transforms(antialias=True).\n",
            "  warnings.warn(\n"
          ]
        },
        {
          "output_type": "stream",
          "name": "stdout",
          "text": [
            "in batch 1\n",
            "epoch loss= 43.990452110767365\n",
            "\n",
            "Epoch: 43\n"
          ]
        },
        {
          "output_type": "stream",
          "name": "stderr",
          "text": [
            "/usr/local/lib/python3.10/dist-packages/torchvision/transforms/functional.py:1603: UserWarning: The default value of the antialias parameter of all the resizing transforms (Resize(), RandomResizedCrop(), etc.) will change from None to True in v0.17, in order to be consistent across the PIL and Tensor backends. To suppress this warning, directly pass antialias=True (recommended, future default), antialias=None (current default, which means False for Tensors and True for PIL), or antialias=False (only works on Tensors - PIL will still use antialiasing). This also applies if you are using the inference transforms from the models weights: update the call to weights.transforms(antialias=True).\n",
            "  warnings.warn(\n",
            "/usr/local/lib/python3.10/dist-packages/torchvision/transforms/functional.py:1603: UserWarning: The default value of the antialias parameter of all the resizing transforms (Resize(), RandomResizedCrop(), etc.) will change from None to True in v0.17, in order to be consistent across the PIL and Tensor backends. To suppress this warning, directly pass antialias=True (recommended, future default), antialias=None (current default, which means False for Tensors and True for PIL), or antialias=False (only works on Tensors - PIL will still use antialiasing). This also applies if you are using the inference transforms from the models weights: update the call to weights.transforms(antialias=True).\n",
            "  warnings.warn(\n"
          ]
        },
        {
          "output_type": "stream",
          "name": "stdout",
          "text": [
            "in batch 1\n",
            "epoch loss= 55.28941971063614\n",
            "\n",
            "Epoch: 44\n"
          ]
        },
        {
          "output_type": "stream",
          "name": "stderr",
          "text": [
            "/usr/local/lib/python3.10/dist-packages/torchvision/transforms/functional.py:1603: UserWarning: The default value of the antialias parameter of all the resizing transforms (Resize(), RandomResizedCrop(), etc.) will change from None to True in v0.17, in order to be consistent across the PIL and Tensor backends. To suppress this warning, directly pass antialias=True (recommended, future default), antialias=None (current default, which means False for Tensors and True for PIL), or antialias=False (only works on Tensors - PIL will still use antialiasing). This also applies if you are using the inference transforms from the models weights: update the call to weights.transforms(antialias=True).\n",
            "  warnings.warn(\n",
            "/usr/local/lib/python3.10/dist-packages/torchvision/transforms/functional.py:1603: UserWarning: The default value of the antialias parameter of all the resizing transforms (Resize(), RandomResizedCrop(), etc.) will change from None to True in v0.17, in order to be consistent across the PIL and Tensor backends. To suppress this warning, directly pass antialias=True (recommended, future default), antialias=None (current default, which means False for Tensors and True for PIL), or antialias=False (only works on Tensors - PIL will still use antialiasing). This also applies if you are using the inference transforms from the models weights: update the call to weights.transforms(antialias=True).\n",
            "  warnings.warn(\n"
          ]
        },
        {
          "output_type": "stream",
          "name": "stdout",
          "text": [
            "in batch 1\n",
            "epoch loss= 42.7108833193779\n",
            "\n",
            "Epoch: 45\n"
          ]
        },
        {
          "output_type": "stream",
          "name": "stderr",
          "text": [
            "/usr/local/lib/python3.10/dist-packages/torchvision/transforms/functional.py:1603: UserWarning: The default value of the antialias parameter of all the resizing transforms (Resize(), RandomResizedCrop(), etc.) will change from None to True in v0.17, in order to be consistent across the PIL and Tensor backends. To suppress this warning, directly pass antialias=True (recommended, future default), antialias=None (current default, which means False for Tensors and True for PIL), or antialias=False (only works on Tensors - PIL will still use antialiasing). This also applies if you are using the inference transforms from the models weights: update the call to weights.transforms(antialias=True).\n",
            "  warnings.warn(\n",
            "/usr/local/lib/python3.10/dist-packages/torchvision/transforms/functional.py:1603: UserWarning: The default value of the antialias parameter of all the resizing transforms (Resize(), RandomResizedCrop(), etc.) will change from None to True in v0.17, in order to be consistent across the PIL and Tensor backends. To suppress this warning, directly pass antialias=True (recommended, future default), antialias=None (current default, which means False for Tensors and True for PIL), or antialias=False (only works on Tensors - PIL will still use antialiasing). This also applies if you are using the inference transforms from the models weights: update the call to weights.transforms(antialias=True).\n",
            "  warnings.warn(\n"
          ]
        },
        {
          "output_type": "stream",
          "name": "stdout",
          "text": [
            "in batch 1\n",
            "epoch loss= 40.73614281415939\n",
            "\n",
            "Epoch: 46\n"
          ]
        },
        {
          "output_type": "stream",
          "name": "stderr",
          "text": [
            "/usr/local/lib/python3.10/dist-packages/torchvision/transforms/functional.py:1603: UserWarning: The default value of the antialias parameter of all the resizing transforms (Resize(), RandomResizedCrop(), etc.) will change from None to True in v0.17, in order to be consistent across the PIL and Tensor backends. To suppress this warning, directly pass antialias=True (recommended, future default), antialias=None (current default, which means False for Tensors and True for PIL), or antialias=False (only works on Tensors - PIL will still use antialiasing). This also applies if you are using the inference transforms from the models weights: update the call to weights.transforms(antialias=True).\n",
            "  warnings.warn(\n",
            "/usr/local/lib/python3.10/dist-packages/torchvision/transforms/functional.py:1603: UserWarning: The default value of the antialias parameter of all the resizing transforms (Resize(), RandomResizedCrop(), etc.) will change from None to True in v0.17, in order to be consistent across the PIL and Tensor backends. To suppress this warning, directly pass antialias=True (recommended, future default), antialias=None (current default, which means False for Tensors and True for PIL), or antialias=False (only works on Tensors - PIL will still use antialiasing). This also applies if you are using the inference transforms from the models weights: update the call to weights.transforms(antialias=True).\n",
            "  warnings.warn(\n"
          ]
        },
        {
          "output_type": "stream",
          "name": "stdout",
          "text": [
            "in batch 1\n",
            "epoch loss= 42.12801694869995\n",
            "\n",
            "Epoch: 47\n"
          ]
        },
        {
          "output_type": "stream",
          "name": "stderr",
          "text": [
            "/usr/local/lib/python3.10/dist-packages/torchvision/transforms/functional.py:1603: UserWarning: The default value of the antialias parameter of all the resizing transforms (Resize(), RandomResizedCrop(), etc.) will change from None to True in v0.17, in order to be consistent across the PIL and Tensor backends. To suppress this warning, directly pass antialias=True (recommended, future default), antialias=None (current default, which means False for Tensors and True for PIL), or antialias=False (only works on Tensors - PIL will still use antialiasing). This also applies if you are using the inference transforms from the models weights: update the call to weights.transforms(antialias=True).\n",
            "  warnings.warn(\n",
            "/usr/local/lib/python3.10/dist-packages/torchvision/transforms/functional.py:1603: UserWarning: The default value of the antialias parameter of all the resizing transforms (Resize(), RandomResizedCrop(), etc.) will change from None to True in v0.17, in order to be consistent across the PIL and Tensor backends. To suppress this warning, directly pass antialias=True (recommended, future default), antialias=None (current default, which means False for Tensors and True for PIL), or antialias=False (only works on Tensors - PIL will still use antialiasing). This also applies if you are using the inference transforms from the models weights: update the call to weights.transforms(antialias=True).\n",
            "  warnings.warn(\n"
          ]
        },
        {
          "output_type": "stream",
          "name": "stdout",
          "text": [
            "in batch 1\n",
            "epoch loss= 44.8337225317955\n",
            "\n",
            "Epoch: 48\n"
          ]
        },
        {
          "output_type": "stream",
          "name": "stderr",
          "text": [
            "/usr/local/lib/python3.10/dist-packages/torchvision/transforms/functional.py:1603: UserWarning: The default value of the antialias parameter of all the resizing transforms (Resize(), RandomResizedCrop(), etc.) will change from None to True in v0.17, in order to be consistent across the PIL and Tensor backends. To suppress this warning, directly pass antialias=True (recommended, future default), antialias=None (current default, which means False for Tensors and True for PIL), or antialias=False (only works on Tensors - PIL will still use antialiasing). This also applies if you are using the inference transforms from the models weights: update the call to weights.transforms(antialias=True).\n",
            "  warnings.warn(\n",
            "/usr/local/lib/python3.10/dist-packages/torchvision/transforms/functional.py:1603: UserWarning: The default value of the antialias parameter of all the resizing transforms (Resize(), RandomResizedCrop(), etc.) will change from None to True in v0.17, in order to be consistent across the PIL and Tensor backends. To suppress this warning, directly pass antialias=True (recommended, future default), antialias=None (current default, which means False for Tensors and True for PIL), or antialias=False (only works on Tensors - PIL will still use antialiasing). This also applies if you are using the inference transforms from the models weights: update the call to weights.transforms(antialias=True).\n",
            "  warnings.warn(\n"
          ]
        },
        {
          "output_type": "stream",
          "name": "stdout",
          "text": [
            "in batch 1\n",
            "epoch loss= 43.520727813243866\n",
            "\n",
            "Epoch: 49\n"
          ]
        },
        {
          "output_type": "stream",
          "name": "stderr",
          "text": [
            "/usr/local/lib/python3.10/dist-packages/torchvision/transforms/functional.py:1603: UserWarning: The default value of the antialias parameter of all the resizing transforms (Resize(), RandomResizedCrop(), etc.) will change from None to True in v0.17, in order to be consistent across the PIL and Tensor backends. To suppress this warning, directly pass antialias=True (recommended, future default), antialias=None (current default, which means False for Tensors and True for PIL), or antialias=False (only works on Tensors - PIL will still use antialiasing). This also applies if you are using the inference transforms from the models weights: update the call to weights.transforms(antialias=True).\n",
            "  warnings.warn(\n",
            "/usr/local/lib/python3.10/dist-packages/torchvision/transforms/functional.py:1603: UserWarning: The default value of the antialias parameter of all the resizing transforms (Resize(), RandomResizedCrop(), etc.) will change from None to True in v0.17, in order to be consistent across the PIL and Tensor backends. To suppress this warning, directly pass antialias=True (recommended, future default), antialias=None (current default, which means False for Tensors and True for PIL), or antialias=False (only works on Tensors - PIL will still use antialiasing). This also applies if you are using the inference transforms from the models weights: update the call to weights.transforms(antialias=True).\n",
            "  warnings.warn(\n"
          ]
        },
        {
          "output_type": "stream",
          "name": "stdout",
          "text": [
            "in batch 1\n",
            "epoch loss= 36.82281255722046\n",
            "\n",
            "Epoch: 50\n"
          ]
        },
        {
          "output_type": "stream",
          "name": "stderr",
          "text": [
            "/usr/local/lib/python3.10/dist-packages/torchvision/transforms/functional.py:1603: UserWarning: The default value of the antialias parameter of all the resizing transforms (Resize(), RandomResizedCrop(), etc.) will change from None to True in v0.17, in order to be consistent across the PIL and Tensor backends. To suppress this warning, directly pass antialias=True (recommended, future default), antialias=None (current default, which means False for Tensors and True for PIL), or antialias=False (only works on Tensors - PIL will still use antialiasing). This also applies if you are using the inference transforms from the models weights: update the call to weights.transforms(antialias=True).\n",
            "  warnings.warn(\n",
            "/usr/local/lib/python3.10/dist-packages/torchvision/transforms/functional.py:1603: UserWarning: The default value of the antialias parameter of all the resizing transforms (Resize(), RandomResizedCrop(), etc.) will change from None to True in v0.17, in order to be consistent across the PIL and Tensor backends. To suppress this warning, directly pass antialias=True (recommended, future default), antialias=None (current default, which means False for Tensors and True for PIL), or antialias=False (only works on Tensors - PIL will still use antialiasing). This also applies if you are using the inference transforms from the models weights: update the call to weights.transforms(antialias=True).\n",
            "  warnings.warn(\n"
          ]
        },
        {
          "output_type": "stream",
          "name": "stdout",
          "text": [
            "in batch 1\n",
            "epoch loss= 35.97399789094925\n",
            "\n",
            "Epoch: 51\n"
          ]
        },
        {
          "output_type": "stream",
          "name": "stderr",
          "text": [
            "/usr/local/lib/python3.10/dist-packages/torchvision/transforms/functional.py:1603: UserWarning: The default value of the antialias parameter of all the resizing transforms (Resize(), RandomResizedCrop(), etc.) will change from None to True in v0.17, in order to be consistent across the PIL and Tensor backends. To suppress this warning, directly pass antialias=True (recommended, future default), antialias=None (current default, which means False for Tensors and True for PIL), or antialias=False (only works on Tensors - PIL will still use antialiasing). This also applies if you are using the inference transforms from the models weights: update the call to weights.transforms(antialias=True).\n",
            "  warnings.warn(\n",
            "/usr/local/lib/python3.10/dist-packages/torchvision/transforms/functional.py:1603: UserWarning: The default value of the antialias parameter of all the resizing transforms (Resize(), RandomResizedCrop(), etc.) will change from None to True in v0.17, in order to be consistent across the PIL and Tensor backends. To suppress this warning, directly pass antialias=True (recommended, future default), antialias=None (current default, which means False for Tensors and True for PIL), or antialias=False (only works on Tensors - PIL will still use antialiasing). This also applies if you are using the inference transforms from the models weights: update the call to weights.transforms(antialias=True).\n",
            "  warnings.warn(\n"
          ]
        },
        {
          "output_type": "stream",
          "name": "stdout",
          "text": [
            "in batch 1\n",
            "epoch loss= 53.04507553577423\n",
            "\n",
            "Epoch: 52\n"
          ]
        },
        {
          "output_type": "stream",
          "name": "stderr",
          "text": [
            "/usr/local/lib/python3.10/dist-packages/torchvision/transforms/functional.py:1603: UserWarning: The default value of the antialias parameter of all the resizing transforms (Resize(), RandomResizedCrop(), etc.) will change from None to True in v0.17, in order to be consistent across the PIL and Tensor backends. To suppress this warning, directly pass antialias=True (recommended, future default), antialias=None (current default, which means False for Tensors and True for PIL), or antialias=False (only works on Tensors - PIL will still use antialiasing). This also applies if you are using the inference transforms from the models weights: update the call to weights.transforms(antialias=True).\n",
            "  warnings.warn(\n",
            "/usr/local/lib/python3.10/dist-packages/torchvision/transforms/functional.py:1603: UserWarning: The default value of the antialias parameter of all the resizing transforms (Resize(), RandomResizedCrop(), etc.) will change from None to True in v0.17, in order to be consistent across the PIL and Tensor backends. To suppress this warning, directly pass antialias=True (recommended, future default), antialias=None (current default, which means False for Tensors and True for PIL), or antialias=False (only works on Tensors - PIL will still use antialiasing). This also applies if you are using the inference transforms from the models weights: update the call to weights.transforms(antialias=True).\n",
            "  warnings.warn(\n"
          ]
        },
        {
          "output_type": "stream",
          "name": "stdout",
          "text": [
            "in batch 1\n",
            "epoch loss= 47.86286062002182\n",
            "\n",
            "Epoch: 53\n"
          ]
        },
        {
          "output_type": "stream",
          "name": "stderr",
          "text": [
            "/usr/local/lib/python3.10/dist-packages/torchvision/transforms/functional.py:1603: UserWarning: The default value of the antialias parameter of all the resizing transforms (Resize(), RandomResizedCrop(), etc.) will change from None to True in v0.17, in order to be consistent across the PIL and Tensor backends. To suppress this warning, directly pass antialias=True (recommended, future default), antialias=None (current default, which means False for Tensors and True for PIL), or antialias=False (only works on Tensors - PIL will still use antialiasing). This also applies if you are using the inference transforms from the models weights: update the call to weights.transforms(antialias=True).\n",
            "  warnings.warn(\n",
            "/usr/local/lib/python3.10/dist-packages/torchvision/transforms/functional.py:1603: UserWarning: The default value of the antialias parameter of all the resizing transforms (Resize(), RandomResizedCrop(), etc.) will change from None to True in v0.17, in order to be consistent across the PIL and Tensor backends. To suppress this warning, directly pass antialias=True (recommended, future default), antialias=None (current default, which means False for Tensors and True for PIL), or antialias=False (only works on Tensors - PIL will still use antialiasing). This also applies if you are using the inference transforms from the models weights: update the call to weights.transforms(antialias=True).\n",
            "  warnings.warn(\n"
          ]
        },
        {
          "output_type": "stream",
          "name": "stdout",
          "text": [
            "in batch 1\n",
            "epoch loss= 40.75687348842621\n",
            "\n",
            "Epoch: 54\n"
          ]
        },
        {
          "output_type": "stream",
          "name": "stderr",
          "text": [
            "/usr/local/lib/python3.10/dist-packages/torchvision/transforms/functional.py:1603: UserWarning: The default value of the antialias parameter of all the resizing transforms (Resize(), RandomResizedCrop(), etc.) will change from None to True in v0.17, in order to be consistent across the PIL and Tensor backends. To suppress this warning, directly pass antialias=True (recommended, future default), antialias=None (current default, which means False for Tensors and True for PIL), or antialias=False (only works on Tensors - PIL will still use antialiasing). This also applies if you are using the inference transforms from the models weights: update the call to weights.transforms(antialias=True).\n",
            "  warnings.warn(\n",
            "/usr/local/lib/python3.10/dist-packages/torchvision/transforms/functional.py:1603: UserWarning: The default value of the antialias parameter of all the resizing transforms (Resize(), RandomResizedCrop(), etc.) will change from None to True in v0.17, in order to be consistent across the PIL and Tensor backends. To suppress this warning, directly pass antialias=True (recommended, future default), antialias=None (current default, which means False for Tensors and True for PIL), or antialias=False (only works on Tensors - PIL will still use antialiasing). This also applies if you are using the inference transforms from the models weights: update the call to weights.transforms(antialias=True).\n",
            "  warnings.warn(\n"
          ]
        },
        {
          "output_type": "stream",
          "name": "stdout",
          "text": [
            "in batch 1\n",
            "epoch loss= 47.44837898015976\n",
            "\n",
            "Epoch: 55\n"
          ]
        },
        {
          "output_type": "stream",
          "name": "stderr",
          "text": [
            "/usr/local/lib/python3.10/dist-packages/torchvision/transforms/functional.py:1603: UserWarning: The default value of the antialias parameter of all the resizing transforms (Resize(), RandomResizedCrop(), etc.) will change from None to True in v0.17, in order to be consistent across the PIL and Tensor backends. To suppress this warning, directly pass antialias=True (recommended, future default), antialias=None (current default, which means False for Tensors and True for PIL), or antialias=False (only works on Tensors - PIL will still use antialiasing). This also applies if you are using the inference transforms from the models weights: update the call to weights.transforms(antialias=True).\n",
            "  warnings.warn(\n",
            "/usr/local/lib/python3.10/dist-packages/torchvision/transforms/functional.py:1603: UserWarning: The default value of the antialias parameter of all the resizing transforms (Resize(), RandomResizedCrop(), etc.) will change from None to True in v0.17, in order to be consistent across the PIL and Tensor backends. To suppress this warning, directly pass antialias=True (recommended, future default), antialias=None (current default, which means False for Tensors and True for PIL), or antialias=False (only works on Tensors - PIL will still use antialiasing). This also applies if you are using the inference transforms from the models weights: update the call to weights.transforms(antialias=True).\n",
            "  warnings.warn(\n"
          ]
        },
        {
          "output_type": "stream",
          "name": "stdout",
          "text": [
            "in batch 1\n",
            "epoch loss= 38.75001734495163\n",
            "\n",
            "Epoch: 56\n"
          ]
        },
        {
          "output_type": "stream",
          "name": "stderr",
          "text": [
            "/usr/local/lib/python3.10/dist-packages/torchvision/transforms/functional.py:1603: UserWarning: The default value of the antialias parameter of all the resizing transforms (Resize(), RandomResizedCrop(), etc.) will change from None to True in v0.17, in order to be consistent across the PIL and Tensor backends. To suppress this warning, directly pass antialias=True (recommended, future default), antialias=None (current default, which means False for Tensors and True for PIL), or antialias=False (only works on Tensors - PIL will still use antialiasing). This also applies if you are using the inference transforms from the models weights: update the call to weights.transforms(antialias=True).\n",
            "  warnings.warn(\n",
            "/usr/local/lib/python3.10/dist-packages/torchvision/transforms/functional.py:1603: UserWarning: The default value of the antialias parameter of all the resizing transforms (Resize(), RandomResizedCrop(), etc.) will change from None to True in v0.17, in order to be consistent across the PIL and Tensor backends. To suppress this warning, directly pass antialias=True (recommended, future default), antialias=None (current default, which means False for Tensors and True for PIL), or antialias=False (only works on Tensors - PIL will still use antialiasing). This also applies if you are using the inference transforms from the models weights: update the call to weights.transforms(antialias=True).\n",
            "  warnings.warn(\n"
          ]
        },
        {
          "output_type": "stream",
          "name": "stdout",
          "text": [
            "in batch 1\n",
            "epoch loss= 37.74063220620155\n",
            "\n",
            "Epoch: 57\n"
          ]
        },
        {
          "output_type": "stream",
          "name": "stderr",
          "text": [
            "/usr/local/lib/python3.10/dist-packages/torchvision/transforms/functional.py:1603: UserWarning: The default value of the antialias parameter of all the resizing transforms (Resize(), RandomResizedCrop(), etc.) will change from None to True in v0.17, in order to be consistent across the PIL and Tensor backends. To suppress this warning, directly pass antialias=True (recommended, future default), antialias=None (current default, which means False for Tensors and True for PIL), or antialias=False (only works on Tensors - PIL will still use antialiasing). This also applies if you are using the inference transforms from the models weights: update the call to weights.transforms(antialias=True).\n",
            "  warnings.warn(\n",
            "/usr/local/lib/python3.10/dist-packages/torchvision/transforms/functional.py:1603: UserWarning: The default value of the antialias parameter of all the resizing transforms (Resize(), RandomResizedCrop(), etc.) will change from None to True in v0.17, in order to be consistent across the PIL and Tensor backends. To suppress this warning, directly pass antialias=True (recommended, future default), antialias=None (current default, which means False for Tensors and True for PIL), or antialias=False (only works on Tensors - PIL will still use antialiasing). This also applies if you are using the inference transforms from the models weights: update the call to weights.transforms(antialias=True).\n",
            "  warnings.warn(\n"
          ]
        },
        {
          "output_type": "stream",
          "name": "stdout",
          "text": [
            "in batch 1\n",
            "epoch loss= 39.07579988241196\n",
            "\n",
            "Epoch: 58\n"
          ]
        },
        {
          "output_type": "stream",
          "name": "stderr",
          "text": [
            "/usr/local/lib/python3.10/dist-packages/torchvision/transforms/functional.py:1603: UserWarning: The default value of the antialias parameter of all the resizing transforms (Resize(), RandomResizedCrop(), etc.) will change from None to True in v0.17, in order to be consistent across the PIL and Tensor backends. To suppress this warning, directly pass antialias=True (recommended, future default), antialias=None (current default, which means False for Tensors and True for PIL), or antialias=False (only works on Tensors - PIL will still use antialiasing). This also applies if you are using the inference transforms from the models weights: update the call to weights.transforms(antialias=True).\n",
            "  warnings.warn(\n",
            "/usr/local/lib/python3.10/dist-packages/torchvision/transforms/functional.py:1603: UserWarning: The default value of the antialias parameter of all the resizing transforms (Resize(), RandomResizedCrop(), etc.) will change from None to True in v0.17, in order to be consistent across the PIL and Tensor backends. To suppress this warning, directly pass antialias=True (recommended, future default), antialias=None (current default, which means False for Tensors and True for PIL), or antialias=False (only works on Tensors - PIL will still use antialiasing). This also applies if you are using the inference transforms from the models weights: update the call to weights.transforms(antialias=True).\n",
            "  warnings.warn(\n"
          ]
        },
        {
          "output_type": "stream",
          "name": "stdout",
          "text": [
            "in batch 1\n",
            "epoch loss= 34.93909966945648\n",
            "\n",
            "Epoch: 59\n"
          ]
        },
        {
          "output_type": "stream",
          "name": "stderr",
          "text": [
            "/usr/local/lib/python3.10/dist-packages/torchvision/transforms/functional.py:1603: UserWarning: The default value of the antialias parameter of all the resizing transforms (Resize(), RandomResizedCrop(), etc.) will change from None to True in v0.17, in order to be consistent across the PIL and Tensor backends. To suppress this warning, directly pass antialias=True (recommended, future default), antialias=None (current default, which means False for Tensors and True for PIL), or antialias=False (only works on Tensors - PIL will still use antialiasing). This also applies if you are using the inference transforms from the models weights: update the call to weights.transforms(antialias=True).\n",
            "  warnings.warn(\n",
            "/usr/local/lib/python3.10/dist-packages/torchvision/transforms/functional.py:1603: UserWarning: The default value of the antialias parameter of all the resizing transforms (Resize(), RandomResizedCrop(), etc.) will change from None to True in v0.17, in order to be consistent across the PIL and Tensor backends. To suppress this warning, directly pass antialias=True (recommended, future default), antialias=None (current default, which means False for Tensors and True for PIL), or antialias=False (only works on Tensors - PIL will still use antialiasing). This also applies if you are using the inference transforms from the models weights: update the call to weights.transforms(antialias=True).\n",
            "  warnings.warn(\n"
          ]
        },
        {
          "output_type": "stream",
          "name": "stdout",
          "text": [
            "in batch 1\n",
            "epoch loss= 34.77257776260376\n"
          ]
        }
      ]
    },
    {
      "cell_type": "code",
      "source": [
        "# Load the pre-trained model parameters\n",
        "paramsend_save_name = 'waterbird_paramsend_bs_restart_r.pt'\n",
        "path_paramsend = \"/content/drive/MyDrive/CS260D_final_project/model_parameters/waterbird_paramsend_bs_restart_r.pt\"\n",
        "# checkpoint = torch.load(path_paramsend)\n",
        "checkpoint = torch.load(path_paramsend, map_location=torch.device('cpu'))\n",
        "loss= checkpoint['loss']\n",
        "epoch = checkpoint['epoch']\n",
        "\n",
        "start_epoch=epoch+1\n",
        "clr_model.load_state_dict(checkpoint['net'])"
      ],
      "metadata": {
        "id": "3l9W9JBQsFYV",
        "colab": {
          "base_uri": "https://localhost:8080/"
        },
        "outputId": "54f0aa24-ed6c-4f53-9304-ff500e60d824"
      },
      "execution_count": null,
      "outputs": [
        {
          "output_type": "execute_result",
          "data": {
            "text/plain": [
              "<All keys matched successfully>"
            ]
          },
          "metadata": {},
          "execution_count": 16
        }
      ]
    },
    {
      "cell_type": "markdown",
      "source": [
        "## PCA and 2D Scatter Plot"
      ],
      "metadata": {
        "id": "slnn2BoJkcnr"
      }
    },
    {
      "cell_type": "code",
      "source": [
        "## https://www.kaggle.com/code/minc33/visualizing-high-dimensional-clusters\n",
        "\n",
        "import matplotlib.pyplot as plt\n",
        "import numpy as np\n",
        "from sklearn.decomposition import PCA\n",
        "\n",
        "torch.cuda.empty_cache()\n",
        "# device = 'cpu'\n",
        "clr_model.to(device)\n",
        "tmp = []\n",
        "embeddings = []\n",
        "targets = []\n",
        "\n",
        "for batch_idx, (images, labels) in enumerate(dataloaders['eval']):\n",
        "  print(batch_idx)\n",
        "  tmp.append(clr_model(images.to(device)).detach().cpu())\n",
        "  targets.append(labels)\n",
        "  torch.cuda.empty_cache()\n",
        "\n",
        "# clr_model = None\n",
        "\n",
        "embeddings = torch.cat(tmp).detach().cpu().numpy()\n",
        "targets = torch.cat(targets).cpu().numpy()"
      ],
      "metadata": {
        "id": "1BvNuyw5sHes",
        "colab": {
          "base_uri": "https://localhost:8080/"
        },
        "outputId": "370e52c3-1490-4849-9fc4-6ad4a75df8b0"
      },
      "execution_count": null,
      "outputs": [
        {
          "output_type": "stream",
          "name": "stdout",
          "text": [
            "0\n",
            "1\n",
            "2\n",
            "3\n",
            "4\n",
            "5\n",
            "6\n",
            "7\n",
            "8\n",
            "9\n",
            "10\n",
            "11\n",
            "12\n",
            "13\n",
            "14\n",
            "15\n",
            "16\n",
            "17\n",
            "18\n",
            "19\n",
            "20\n",
            "21\n",
            "22\n",
            "23\n",
            "24\n",
            "25\n",
            "26\n",
            "27\n",
            "28\n",
            "29\n",
            "30\n",
            "31\n",
            "32\n",
            "33\n",
            "34\n",
            "35\n",
            "36\n",
            "37\n",
            "38\n",
            "39\n",
            "40\n",
            "41\n",
            "42\n",
            "43\n",
            "44\n",
            "45\n",
            "46\n",
            "47\n",
            "48\n",
            "49\n",
            "50\n",
            "51\n",
            "52\n",
            "53\n",
            "54\n",
            "55\n",
            "56\n",
            "57\n",
            "58\n",
            "59\n",
            "60\n",
            "61\n",
            "62\n",
            "63\n",
            "64\n",
            "65\n",
            "66\n",
            "67\n",
            "68\n",
            "69\n",
            "70\n",
            "71\n",
            "72\n",
            "73\n",
            "74\n"
          ]
        }
      ]
    },
    {
      "cell_type": "code",
      "source": [
        "len(valset)"
      ],
      "metadata": {
        "colab": {
          "base_uri": "https://localhost:8080/"
        },
        "id": "v28-ZqpRXV5o",
        "outputId": "549f9c32-dbc8-434d-ebd5-ab1d93864cb9"
      },
      "execution_count": null,
      "outputs": [
        {
          "output_type": "execute_result",
          "data": {
            "text/plain": [
              "1199"
            ]
          },
          "metadata": {},
          "execution_count": 96
        }
      ]
    },
    {
      "cell_type": "code",
      "source": [
        "import pandas as pd\n",
        "\n",
        "comp = 8\n",
        "pca = PCA(n_components=comp)\n",
        "pca_emb = pca.fit_transform(embeddings)\n",
        "PCs = pd.DataFrame(pca_emb)\n",
        "PCs.columns = [f\"PC{i+ 1}\" for i in range(comp)]\n",
        "embs = pd.concat([pd.DataFrame(embeddings),PCs], axis=1, join='inner')"
      ],
      "metadata": {
        "id": "JX6E60Ds9e5v"
      },
      "execution_count": null,
      "outputs": []
    },
    {
      "cell_type": "code",
      "source": [
        "pca.singular_values_"
      ],
      "metadata": {
        "id": "lhD9FP6qM_rD",
        "colab": {
          "base_uri": "https://localhost:8080/"
        },
        "outputId": "35353289-b94b-49dc-bb9a-70e699ef06c7"
      },
      "execution_count": null,
      "outputs": [
        {
          "output_type": "execute_result",
          "data": {
            "text/plain": [
              "array([385.66995  ,  50.46564  ,  20.813457 ,   3.9054172,   2.6583967,\n",
              "         1.7497642,   1.4339342,   1.2107346], dtype=float32)"
            ]
          },
          "metadata": {},
          "execution_count": 19
        }
      ]
    },
    {
      "cell_type": "code",
      "source": [
        "# Add labels to embedding df\n",
        "embs['true_label'] = targets\n",
        "for (true, spur), idxs in valset.group_partition.items():\n",
        "  for i in idxs:\n",
        "    embs.loc[i, 'spurious_label'] = spur\n",
        "embs['spurious_label'] = embs['spurious_label'].astype(int)"
      ],
      "metadata": {
        "id": "_rU3kQDF_Oob"
      },
      "execution_count": null,
      "outputs": []
    },
    {
      "cell_type": "code",
      "source": [
        "clusters = {k : np.stack([PCs.loc[i].values for i in v]) for (k, v) in valset.group_partition.items()}"
      ],
      "metadata": {
        "id": "eSmCReMU-t6e"
      },
      "execution_count": null,
      "outputs": []
    },
    {
      "cell_type": "code",
      "source": [
        "import plotly as py\n",
        "import plotly.graph_objs as go\n",
        "from plotly.offline import download_plotlyjs, init_notebook_mode, plot, iplot\n",
        "\n",
        "# traces = []\n",
        "\n",
        "# # for (k, v) in sorted(clusters.items()):\n",
        "# #   traces.append(go.Scatter(\n",
        "# #                     x = v[:, 0],\n",
        "# #                     y = v[:, 1],\n",
        "# #                     mode = \"markers\",\n",
        "# #                     name = \"True label {}, Subgroup {}\".format(k[0], k[1]),\n",
        "# #                     text = None))\n",
        "\n",
        "# for true_label, df in embs.groupby(['true_label']):\n",
        "#   traces.append(go.Scatter(x = df['PC1'],\n",
        "#                            y = df['PC2'],\n",
        "#                            mode = \"markers\",\n",
        "#                            name = f\"True label {true_label}\",\n",
        "#                            text = None,\n",
        "#                            marker = dict(size = 4)\n",
        "#                            )\n",
        "#               )"
      ],
      "metadata": {
        "id": "_UkZz6yHAKVQ",
        "colab": {
          "base_uri": "https://localhost:8080/"
        },
        "outputId": "946c92f4-57ca-410e-f6e1-b2e5005235f1"
      },
      "execution_count": null,
      "outputs": [
        {
          "output_type": "stream",
          "name": "stderr",
          "text": [
            "<ipython-input-24-ae22b7a3578c>:15: FutureWarning:\n",
            "\n",
            "In a future version of pandas, a length 1 tuple will be returned when iterating over a groupby with a grouper equal to a list of length 1. Don't supply a list with a single grouper to avoid this warning.\n",
            "\n"
          ]
        }
      ]
    },
    {
      "cell_type": "code",
      "source": [
        "traces = []\n",
        "for true_label, df in embs.groupby(['true_label']):\n",
        "  traces.append(go.Scatter(x = df['PC1'],\n",
        "                           y = df['PC2'],\n",
        "                           mode = \"markers\",\n",
        "                           name = f\"True label {true_label}\",\n",
        "                           text = None,\n",
        "                           marker = dict(size = 4)\n",
        "                           )\n",
        "  )\n",
        "title = \"PCA analysis of Validation Data by True Label\"\n",
        "layout = dict(title = title,\n",
        "              xaxis= dict(title= 'PC1',ticklen= 5,zeroline= False),\n",
        "              yaxis= dict(title= 'PC2',ticklen= 5,zeroline= False),\n",
        "              height = 1000,\n",
        "              width = 1000\n",
        "             )\n",
        "\n",
        "fig = dict(data = traces, layout = layout)\n",
        "iplot(fig)\n",
        "go.Figure.write_html(fig,\"/content/drive/MyDrive/CS260D_final_project/plots/waterbirds_PCA_true_plot.html\") # write as html or image"
      ],
      "metadata": {
        "id": "-qyBnpT-_AHs",
        "colab": {
          "base_uri": "https://localhost:8080/",
          "height": 1000
        },
        "outputId": "3ce80338-22fe-4ed7-f796-e9e61edda627"
      },
      "execution_count": null,
      "outputs": [
        {
          "output_type": "stream",
          "name": "stderr",
          "text": [
            "<ipython-input-63-c11191799a5d>:2: FutureWarning:\n",
            "\n",
            "In a future version of pandas, a length 1 tuple will be returned when iterating over a groupby with a grouper equal to a list of length 1. Don't supply a list with a single grouper to avoid this warning.\n",
            "\n"
          ]
        },
        {
          "output_type": "display_data",
          "data": {
            "text/html": [
              "<html>\n",
              "<head><meta charset=\"utf-8\" /></head>\n",
              "<body>\n",
              "    <div>            <script src=\"https://cdnjs.cloudflare.com/ajax/libs/mathjax/2.7.5/MathJax.js?config=TeX-AMS-MML_SVG\"></script><script type=\"text/javascript\">if (window.MathJax && window.MathJax.Hub && window.MathJax.Hub.Config) {window.MathJax.Hub.Config({SVG: {font: \"STIX-Web\"}});}</script>                <script type=\"text/javascript\">window.PlotlyConfig = {MathJaxConfig: 'local'};</script>\n",
              "        <script charset=\"utf-8\" src=\"https://cdn.plot.ly/plotly-2.24.1.min.js\"></script>                <div id=\"23045f07-150c-486b-8c1d-2cc7b624a9fd\" class=\"plotly-graph-div\" style=\"height:1000px; width:1000px;\"></div>            <script type=\"text/javascript\">                                    window.PLOTLYENV=window.PLOTLYENV || {};                                    if (document.getElementById(\"23045f07-150c-486b-8c1d-2cc7b624a9fd\")) {                    Plotly.newPlot(                        \"23045f07-150c-486b-8c1d-2cc7b624a9fd\",                        [{\"marker\":{\"size\":4},\"mode\":\"markers\",\"name\":\"True label 0\",\"x\":[-7.5713887214660645,-6.186086654663086,-6.9166178703308105,-2.6248891353607178,-6.75333309173584,-6.185364246368408,-6.844295024871826,4.689322471618652,-6.665755748748779,5.7761616706848145,-7.427124977111816,-2.851402521133423,24.282695770263672,-7.180920124053955,-6.782070636749268,29.02556037902832,-7.124848365783691,6.732658863067627,-6.068333148956299,-6.327895164489746,-6.084325313568115,-6.239535331726074,-4.147690773010254,-7.121906280517578,-6.930567264556885,-7.4436445236206055,30.81264877319336,-6.287124156951904,-7.3031907081604,3.136310577392578,10.788008689880371,-7.905790328979492,-6.676641941070557,16.51759910583496,-6.635215759277344,-6.425577163696289,11.862310409545898,2.3509294986724854,-7.568901538848877,21.35690689086914,-8.55102252960205,7.421002388000488,-8.025529861450195,15.909126281738281,21.098600387573242,-8.620357513427734,-8.900554656982422,-8.641000747680664,-8.339446067810059,-3.248154878616333,-8.522377967834473,-8.443181037902832,10.723968505859375,-5.665674209594727,-5.835245132446289,-5.799096584320068,1.2158143520355225,-4.6786017417907715,-5.690095901489258,22.218364715576172,31.617733001708984,-5.376810550689697,-6.0987067222595215,-2.4994757175445557,11.328526496887207,-6.281374454498291,-6.5218024253845215,-7.411680221557617,-7.2669854164123535,14.135505676269531,23.912752151489258,-6.266290187835693,-6.214951992034912,-6.3874735832214355,-3.1296074390411377,2.2149221897125244,-6.197993755340576,30.36867904663086,-2.6531481742858887,-6.505030632019043,-6.913487434387207,6.440370559692383,5.708357334136963,1.9535959959030151,-6.088912010192871,-6.494521617889404,-6.406880855560303,-6.610702991485596,26.614866256713867,-6.568554878234863,-6.001619815826416,-6.9770684242248535,-6.495393753051758,-4.255285263061523,-5.802412986755371,27.897632598876953,-7.319831848144531,-8.01378059387207,-7.674661636352539,18.23102378845215,-7.4111151695251465,26.93962860107422,-7.197815418243408,4.160001754760742,16.506336212158203,-7.6510539054870605,8.972171783447266,-7.5079426765441895,-0.12573188543319702,-6.841825008392334,-7.51942253112793,-7.5459771156311035,20.139062881469727,-6.522101879119873,13.468744277954102,-5.889277458190918,-6.4936347007751465,-5.638780117034912,-6.637633323669434,-6.964497089385986,-5.847738265991211,-6.39175271987915,30.31669807434082,-5.614414691925049,-6.588910102844238,-5.863302707672119,-2.9467525482177734,7.474296569824219,-2.8168091773986816,1.241416096687317,-7.0499982833862305,-7.071303844451904,19.905115127563477,-7.466102600097656,-6.052526950836182,-7.624156951904297,-7.424540042877197,24.92647361755371,-7.357956409454346,-7.132355690002441,20.959064483642578,5.965771198272705,-6.03298282623291,-6.969095230102539,8.469072341918945,-5.8936848640441895,-3.8433802127838135,-5.981793403625488,-6.476351261138916,-6.305840015411377,-6.4987053871154785,29.456510543823242,6.565160751342773,-6.4963250160217285,-6.619250774383545,-2.989886999130249,-4.188281059265137,-7.006339073181152,24.332759857177734,-6.52366304397583,18.2469482421875,-8.268538475036621,-7.307969570159912,2.7008578777313232,9.683923721313477,8.910323143005371,-8.214731216430664,-7.92031717300415,28.597169876098633,-7.914741039276123,-8.352474212646484,-5.241850852966309,-7.978770732879639,7.105414390563965,-5.156310081481934,-8.888945579528809,-7.893275737762451,1.118086814880371,-7.617173194885254,1.0022330284118652,-8.595039367675781,9.394917488098145,25.209003448486328,-7.954367160797119,-7.559535503387451,-3.8521337509155273,-7.780965328216553,-8.243199348449707,-8.184975624084473,-6.941098213195801,19.680461883544922,0.22491778433322906,18.231149673461914,-4.064422130584717,-7.230038166046143,27.706758499145508,1.1192421913146973,23.363985061645508,-8.36972713470459,-7.757510185241699,-6.447929859161377,-7.7350568771362305,-7.1901655197143555,-4.090416431427002,12.088444709777832,5.352646350860596,14.046429634094238,-4.7317376136779785,-6.227969646453857,-8.546988487243652,-7.597049236297607,33.0319938659668,-8.102394104003906,-7.72842264175415,-5.249541759490967,-1.3305720090866089,-8.483443260192871,4.7634711265563965,-7.19446325302124,-8.252202987670898,-8.278116226196289,11.626259803771973,-4.253912925720215,2.0766642093658447,-7.339365482330322,-7.9142231941223145,0.6349475979804993,-5.309042930603027,4.453052997589111,-4.473969459533691,-4.755112171173096,-4.760124683380127,-6.3077006340026855,-6.4266204833984375,8.265796661376953,-0.35236015915870667,-6.148736953735352,-1.4176472425460815,-6.410548210144043,-6.815615653991699,-7.354558944702148,-6.603597164154053,14.896414756774902,-6.688183784484863,-7.231270790100098,-6.54176139831543,33.53945541381836,6.136452674865723,19.97442626953125,-7.857635974884033,6.988214015960693,-6.410528182983398,-5.541409969329834,-6.359502792358398,-2.135167121887207,-6.42271089553833,-5.735561847686768,-6.017887592315674,-5.653934478759766,-6.322721004486084,-7.189052581787109,-5.775412082672119,-5.397639751434326,22.751951217651367,30.90055274963379,8.320808410644531,-6.03450870513916,-0.9779074788093567,-5.859046459197998,-0.04078095778822899,-6.093709945678711,-6.418255805969238,-6.89288330078125,-6.40622091293335,-6.371115207672119,-6.0542778968811035,20.97150993347168,-5.885069847106934,10.19544792175293,32.383636474609375,-7.086979866027832,0.5701584219932556,-7.311400890350342,-6.454493045806885,-7.566773891448975,-7.401208400726318,-6.481489181518555,-7.282216548919678,-6.135726451873779,10.568766593933105,0.23180589079856873,-7.101102828979492,20.17919921875,26.87380599975586,-6.7605814933776855,-4.641895771026611,15.959558486938477,-6.676250457763672,18.083667755126953,-8.28200626373291,-8.712746620178223,4.107029438018799,0.6574140787124634,-9.303120613098145,-4.006601810455322,-2.5407283306121826,-6.355096340179443,19.81415557861328,1.573596715927124,-7.9365692138671875,-7.936287879943848,-7.313652992248535,-8.124943733215332,19.838525772094727,-8.145337104797363,12.09579849243164,-7.938636779785156,-7.57589864730835,-7.7370524406433105,-7.957653999328613,-6.981803894042969,-6.608972549438477,-6.040007591247559,-6.908037185668945,-3.859637975692749,-6.4883198738098145,-7.343336582183838,-8.220303535461426,-8.826051712036133,5.562633514404297,4.523468971252441,-7.904444217681885,8.551839828491211,-8.321056365966797,-8.637491226196289,-8.610851287841797,-8.4392671585083,-7.751224517822266,16.484477996826172,-8.721095085144043,18.079120635986328,24.786785125732422,-2.5565381050109863,11.049040794372559,-10.830080032348633,-7.142542839050293,-4.4456634521484375,11.58273696899414,-5.908231735229492,-10.42485237121582,-9.346426010131836,-7.143671989440918,22.606630325317383,-11.800041198730469,-11.006884574890137,2.387021064758301,1.7958705425262451,17.65505599975586,10.972033500671387,16.648014068603516,-7.230280876159668,-7.305662155151367,31.203886032104492,4.399177074432373,-6.676414966583252,4.082305431365967,-7.442829608917236,-7.22929048538208,-7.408758640289307,11.3746976852417,-8.283842086791992,5.464612007141113,-7.116138458251953,-7.435946941375732,-7.043529033660889,-10.260794639587402,4.5369696617126465,-4.202625274658203,-7.867582321166992,-7.274188995361328,-7.080493927001953,16.60770034790039,10.998125076293945,21.686487197875977,-5.106010913848877,23.437889099121094,-7.885616302490234,-7.022627353668213,-7.94895601272583,-7.196430683135986,2.4920806884765625,-7.753864288330078,-6.407413959503174,-0.8496018052101135,-7.805412769317627,25.233448028564453,-0.9967243671417236,-6.1160807609558105,-7.11971378326416,-6.3191914558410645,3.9096548557281494,8.50814437866211,-6.225728511810303,-6.351109981536865,-6.40829610824585,0.7818508744239807,-6.044139862060547,-4.8845930099487305,-6.362240314483643,27.514392852783203,27.091384887695312,-5.3926801681518555,-6.581655025482178,-5.199228286743164,12.036038398742676,18.30803680419922,-9.09131145477295,8.338059425354004,14.351317405700684,-0.13209711015224457,-7.653625011444092,-7.8128485679626465,-7.733139514923096,-8.200861930847168,-7.394806861877441,-6.707176685333252,24.709047317504883,-9.147279739379883,-8.670110702514648,-2.6579971313476562,-8.328036308288574,11.078332901000977,-7.847261428833008,-8.284473419189453,-7.971438407897949,-7.3760905265808105,-3.8941593170166016,8.752493858337402,-7.239187240600586,27.18629264831543,-6.19359016418457,-8.063827514648438,-7.957674980163574,8.155162811279297,20.641460418701172,8.501192092895508,3.021638870239258,-6.044939994812012,-6.645937442779541,-6.587390422821045,31.353641510009766,-6.5782551765441895,-6.676708698272705,-7.032175540924072,-6.109950542449951,-6.39357328414917,21.243026733398438,-7.1465301513671875,-4.220421314239502,-6.5482635498046875,5.864658355712891,-4.494866371154785,-7.224555492401123,1.9734394550323486,-3.682048797607422,-7.3790388107299805,-7.329736709594727,-5.394105434417725,-7.823298931121826,-4.546814918518066,32.975685119628906,-7.229465007781982,-7.573851108551025,6.251220226287842,14.866554260253906,13.476635932922363,-6.8657684326171875,0.6391066908836365,26.615642547607422,3.506242275238037,-7.973646640777588,18.236465454101562,-8.033794403076172,-8.356006622314453,-4.70305061340332,-8.436380386352539,-7.9369683265686035,-7.848343849182129,-7.380849838256836,10.223956108093262,15.96303653717041,-7.568883895874023,-6.946532726287842,-4.067555904388428,2.405689239501953,-6.664514541625977,-6.578011512756348,-6.6795973777771,-5.001363277435303,-0.6538896560668945,40.1866569519043,0.007693158928304911,2.6101999282836914,3.00777530670166,-4.783757209777832,-6.596621036529541,5.153653144836426,-6.484941005706787,-5.861411094665527,7.100613594055176,14.305774688720703,-7.140349388122559,-7.568008899688721,-8.34109115600586,24.362058639526367,-8.1768159866333,-7.815128803253174,-0.5975303649902344,-7.598397731781006,-7.754793167114258,-8.209855079650879,24.255565643310547,0.9232169985771179,-7.454887390136719,-0.29037076234817505,-2.9824271202087402,-8.133662223815918,-8.218152046203613,2.082948684692383,-8.189322471618652,2.3014273643493652,-8.023015975952148,-7.7524333000183105,19.517166137695312,30.976051330566406,3.6887664794921875,9.087248802185059,-7.475894927978516,-8.558279037475586,-7.653806209564209,-0.6666165590286255,-8.073322296142578,25.161996841430664,-8.669036865234375,-7.809589385986328,-7.817614555358887,16.750131607055664,-6.928027629852295,-7.1216864585876465,-3.2494311332702637,-1.6115576028823853,8.617624282836914,20.521162033081055,3.451376438140869,-7.763361930847168,-8.182463645935059,-7.276201248168945,-7.494494915008545,-6.810421943664551,-7.891134738922119,-6.810348033905029,28.99418830871582,-6.740664005279541,6.635303497314453,-1.3176387548446655,-5.186788558959961,4.569367408752441,-7.387787818908691,16.184200286865234,16.99786376953125,-7.843242168426514,-7.997974872589111,-7.900422096252441,-7.255248069763184,5.88300895690918,-7.631837844848633,-7.5558390617370605,5.267923355102539,-7.63367223739624,-6.633761882781982,-8.289590835571289,-2.5936574935913086,-7.663590908050537,30.83509063720703,-5.48111629486084,9.609094619750977,-7.725882530212402,19.283573150634766,-2.414483070373535,-6.777935981750488,-6.6182990074157715,-5.405867576599121,-1.2642850875854492,-6.735271453857422,0.9798133969306946,29.609088897705078,-6.930911064147949,-6.257692337036133,-5.444233417510986,-5.749830722808838,-7.804764270782471,-4.753912448883057,-7.942577838897705,-8.023073196411133,25.190168380737305,-7.282749652862549,-7.904083251953125,-7.791214466094971,-7.06512451171875,19.279924392700195,15.665380477905273,-7.834444522857666,-5.673457145690918,-6.74678373336792,-5.718573570251465,-5.507984161376953,-2.9393842220306396,-6.020502090454102,11.51679801940918,-5.4880170822143555,-4.304784297943115,-5.540886402130127,-5.156545162200928,35.673736572265625,-5.042078971862793,-4.78251314163208,16.45889663696289,-2.789479970932007,-4.917331695556641,-5.441341876983643,22.54829216003418,-7.329990863800049,-7.209819793701172,23.745073318481445,10.81230354309082,-8.079459190368652,-7.506478309631348,-7.342282295227051,-4.32047176361084,-8.189234733581543,-7.783211708068848,10.833832740783691,10.85529899597168,-7.894678115844727,-7.247676849365234,-5.891495227813721,-6.135421276092529,-6.5562005043029785,-6.290798187255859,18.283536911010742,-6.163609027862549,-4.922970771789551,0.9236264228820801,-5.533379077911377,-5.9821391105651855,-5.887016773223877,1.6360664367675781,-5.958843231201172,5.051557540893555,35.641937255859375,-6.159300327301025,-1.9470402002334595,6.488396167755127,-9.131155967712402,-9.58602523803711,23.677011489868164,-7.611785411834717,-8.958312034606934,-3.1249783039093018,-9.000600814819336,12.326725959777832,-0.5434252023696899,1.616266131401062,-7.751099586486816,23.468908309936523,5.691257953643799,-8.96860122680664,-8.592597007751465,1.1196752786636353,-6.504766941070557,5.539421081542969,-3.1172189712524414,-6.143965244293213,-7.094019889831543,-5.623305797576904,30.423233032226562,-6.356655120849609,20.55961036682129,-6.2818284034729,-7.101966381072998,-7.26413106918335,-7.342015743255615,12.467010498046875,-7.279088497161865,32.163307189941406,15.31470775604248,-6.85218620300293,-6.7400031089782715,-1.6960573196411133,-5.7422871589660645,-4.319802284240723,-7.279858589172363,-6.408809185028076,-6.795144557952881,-2.997551679611206,-6.225234031677246,-6.7637810707092285,3.414994955062866,-6.094517230987549,17.022218704223633,-2.853395938873291,-7.015964508056641,-5.251081943511963,-5.827426910400391,-4.632559299468994,14.938700675964355,-4.400496482849121,5.137176036834717,37.40090560913086,-6.1756367683410645,-0.8931838274002075,-6.159171104431152,-5.966227054595947,2.980149745941162,-5.896819591522217,-5.384969234466553,-5.94649600982666,12.453676223754883,-6.467672824859619,2.4283289909362793,-7.641934394836426,14.63346004486084,-6.40872859954834,-7.037639141082764,-6.642882347106934,-7.229703426361084,-6.022802352905273,-7.516730308532715,-7.440011501312256,11.190755844116211,-4.025304317474365,31.673677444458008,16.636154174804688,-3.093701124191284,-6.701898097991943,-6.966232776641846,-1.1172212362289429,20.939361572265625,-6.998075008392334,-7.19995641708374,-6.5604166984558105,-7.076321601867676,-7.178191661834717,-7.493519306182861,-8.487300872802734,23.355985641479492,-6.660255432128906,14.601584434509277,-7.832693099975586,23.65252685546875,-8.471007347106934,-8.7525634765625,-7.631554126739502,20.796245574951172,-8.661388397216797,-9.500587463378906,3.9952902793884277,11.488585472106934,-3.4925620555877686,-8.72606372833252,11.69276237487793,-7.852426528930664,7.561980247497559,-8.266557693481445,-8.01073169708252,-8.133231163024902,-8.440526962280273,-7.219975471496582,23.63425636291504,10.947470664978027,13.522268295288086,-8.32801628112793,-7.716494083404541,-8.379594802856445,-4.484328746795654,-4.641358375549316,-1.682464599609375,-7.890089511871338,23.256189346313477,3.566622495651245,-7.013485908508301,-0.4001781940460205,-7.634087562561035,7.556141376495361,-7.5116376876831055,-7.224410057067871,7.744718074798584,-8.274022102355957,-6.817272663116455,-6.798659324645996,-8.106983184814453,11.555846214294434,19.403905868530273,-7.131740093231201,-7.841470718383789,28.493343353271484,-7.5385613441467285,-7.862264633178711,-7.988744258880615,-8.145898818969727,-1.0111665725708008,-7.59216833114624,26.430261611938477,-5.396755695343018,15.478092193603516,-8.218453407287598,-6.255712509155273,-1.6355221271514893,4.826887130737305,0.2874816656112671,22.471908569335938,-7.849395751953125,-4.711254119873047,-5.31887674331665,-6.150328159332275,27.3847599029541,28.579532623291016,0.12455563247203827,-2.783167600631714,-6.473432540893555,-6.219037055969238,-6.358666896820068,-6.285099029541016,-6.11392068862915,-5.996492862701416,-6.814060211181641,0.6144058108329773,6.521086692810059,35.88804244995117,0.7836934924125671,11.413945198059082,3.152827024459839,-6.685369968414307,-5.444957733154297,8.252725601196289,-4.5583391189575195,3.3678345680236816,-2.447230100631714,-7.454827308654785,-8.748236656188965,-2.2934277057647705,-8.43587589263916,-8.703782081604004,-8.0870361328125,11.22447395324707,-7.057133197784424,-7.536629676818848,-7.606226444244385,5.368292331695557,24.570465087890625,-2.4322054386138916,-7.664741039276123,-6.963676452636719,0.4368203282356262,1.8277770280838013,-7.121592044830322,26.521522521972656,-7.843579292297363,-7.829796314239502,-7.8937668800354,-1.3410083055496216,-6.814445495605469,-7.491713047027588,-8.620546340942383,-7.336851596832275,4.661927223205566,-6.4170122146606445,-7.277825355529785,12.948226928710938,-7.982432842254639,15.428916931152344,-8.250289916992188,-7.917501926422119,27.06193733215332,16.328481674194336,-6.979872226715088,3.063173770904541,-7.211010932922363,6.90286111831665,38.27822494506836,-7.002814769744873,-6.925786972045898,3.3841114044189453,-6.166849136352539,-6.013416767120361,-6.509324550628662,-1.4963116645812988,-6.574901103973389,-6.389919757843018,1.263769507408142,-5.949428558349609,7.347616195678711,-7.605284214019775,-7.616139888763428,-7.136567115783691,-5.599316120147705,-6.653706073760986,9.713593482971191,-3.6428112983703613,25.02859115600586,-6.121270179748535,-6.040235996246338,25.509084701538086,11.393902778625488,0.6250532269477844,-6.9154863357543945,-7.5048699378967285,-7.434552192687988,-1.44077467918396,-7.3281168937683105,26.54465103149414,6.788569927215576,-8.174832344055176,-7.455479621887207,5.687532901763916,-7.929983615875244,-7.42435359954834,-7.974755764007568,-7.589926719665527,-7.570508003234863,9.165144920349121,21.732196807861328,-7.029357433319092],\"y\":[1.0960527658462524,0.8183906078338623,1.0113903284072876,-1.7395662069320679,0.980046808719635,0.3639516234397888,1.0791245698928833,-1.9961384534835815,0.6362730264663696,-2.1196210384368896,0.6882229447364807,-2.5046958923339844,1.0551234483718872,0.6501621007919312,0.47548237442970276,1.4299103021621704,0.635833740234375,-1.1059930324554443,0.23190587759017944,0.3819306492805481,0.24136975407600403,0.174797922372818,-1.1772501468658447,1.0311362743377686,0.8092496991157532,0.9104255437850952,3.0374317169189453,-1.0447129011154175,0.9689036011695862,-2.771749258041382,-2.2635607719421387,0.9437392354011536,0.661578893661499,-1.4374117851257324,0.7181272506713867,-0.2082279622554779,-0.3524812161922455,-4.248791217803955,0.6031537055969238,0.6145120859146118,0.9090452194213867,-1.1478381156921387,0.5388121604919434,-0.5669166445732117,2.7785604000091553,0.751667857170105,0.8218184113502502,0.7537062168121338,0.6909621953964233,-2.6816203594207764,0.7540332674980164,0.660807192325592,-1.231912612915039,0.2753462791442871,0.47746542096138,0.5022841691970825,-1.216097354888916,-0.4960035979747772,0.5151591300964355,-0.20949260890483856,2.0720267295837402,0.197221040725708,0.5387049317359924,-2.056100845336914,-2.6549479961395264,0.48876798152923584,0.609666645526886,0.5613794326782227,0.5602845549583435,-2.2927963733673096,1.9033910036087036,-0.39386260509490967,0.9638032913208008,0.89040607213974,-1.5163670778274536,-3.128840446472168,0.9035969972610474,1.4806444644927979,-1.501388430595398,1.07088303565979,0.5930502414703369,-0.5663206577301025,-3.073669672012329,-2.8378443717956543,0.325973778963089,0.6131851077079773,0.5323683619499207,0.5486421585083008,0.7744889855384827,0.709160566329956,0.42131176590919495,0.6686918139457703,0.5192337036132812,-1.0987366437911987,0.3693278133869171,1.5011471509933472,0.6579694747924805,0.7041463255882263,0.6636418700218201,0.1345561146736145,0.5004303455352783,2.471778631210327,0.5126053094863892,-2.9365780353546143,0.06334313750267029,0.6554291248321533,-2.256770372390747,0.5584933161735535,-3.510608673095703,0.4650590419769287,0.590900719165802,0.7256090044975281,-0.19921131432056427,0.5479923486709595,-2.7513723373413086,0.34440916776657104,0.6566942930221558,-0.46848705410957336,0.5446436405181885,0.5965179204940796,0.36480796337127686,0.5100497007369995,2.463686943054199,0.13409490883350372,0.4827428460121155,0.19975297152996063,-2.3306379318237305,-1.0956922769546509,-2.1456000804901123,-2.467209577560425,0.8492233157157898,0.3534092903137207,0.8376099467277527,0.6746777892112732,0.10994477570056915,0.7806146740913391,0.7222541570663452,1.329323172569275,0.7453376054763794,0.5847474336624146,0.24747925996780396,-2.544426918029785,-0.6688724160194397,0.5914753079414368,-3.0357024669647217,0.6623919010162354,-0.6794061064720154,0.5417706370353699,0.7669545412063599,0.7848304510116577,0.8514845967292786,1.7546873092651367,-2.4758400917053223,0.7521583437919617,0.7133264541625977,-1.8763275146484375,-1.45430588722229,0.907666802406311,0.9479917287826538,0.8383164405822754,0.605326771736145,1.1428523063659668,0.8781923055648804,-3.8512918949127197,-1.4753804206848145,-2.2834441661834717,1.1683509349822998,1.1154550313949585,3.2846262454986572,1.0114929676055908,1.1123769283294678,-1.5140663385391235,1.0459294319152832,-2.084446430206299,-1.5068228244781494,1.350855827331543,0.6791852116584778,-2.2397942543029785,0.10321547836065292,-3.9075043201446533,1.1860636472702026,-0.644212007522583,2.470674753189087,1.2246493101119995,1.0159127712249756,-2.0649006366729736,1.2076994180679321,1.385489821434021,1.265154242515564,0.9454036355018616,0.9875270128250122,-2.7146706581115723,-0.5094669461250305,-1.7002712488174438,1.1265443563461304,1.8311537504196167,-2.3236708641052246,0.444285124540329,0.6838217973709106,0.4741249084472656,-0.846247673034668,0.30223846435546875,0.7604219317436218,-1.527077317237854,-1.1350634098052979,0.1925097554922104,-2.703906774520874,-1.1688510179519653,-0.10724663734436035,1.4435685873031616,1.2387217283248901,2.882526159286499,1.2275828123092651,1.215278148651123,-0.8823027014732361,-2.951556921005249,1.4133352041244507,-0.43979790806770325,1.3022851943969727,1.049317479133606,1.0445597171783447,-0.5378496050834656,-1.5618069171905518,-2.766207218170166,0.821000337600708,0.9810127019882202,-2.2011501789093018,0.9352430105209351,-1.777520775794983,0.10085883736610413,0.6877391934394836,0.744953989982605,0.4732038974761963,0.6178315877914429,-2.6846096515655518,-1.1069906949996948,0.466361403465271,-2.4111666679382324,0.5445665717124939,0.708778440952301,0.639403223991394,0.3745086193084717,-0.7463181018829346,0.502108097076416,0.7052286267280579,0.5362147688865662,2.575554847717285,-0.11992218345403671,-0.49703720211982727,1.627740502357483,-1.7290267944335938,0.5545571446418762,0.4299880564212799,0.5007742643356323,-2.6878788471221924,0.6053926348686218,0.49174395203590393,0.5733259916305542,0.1116752028465271,0.5556594729423523,0.5796418190002441,0.011334298178553581,-0.8506098985671997,0.054364800453186035,1.6004058122634888,-0.801341712474823,0.7273546457290649,-1.423431158065796,0.4948381781578064,-2.6918201446533203,0.6047979593276978,0.6951020956039429,0.7540314793586731,0.7330517768859863,0.7352479696273804,0.2866726815700531,0.1459430754184723,0.622072696685791,-0.7238847017288208,1.5935513973236084,0.7673048377037048,-3.320836305618286,0.5764572620391846,0.05903581529855728,0.6032859086990356,0.6268362998962402,0.3526533544063568,0.5878037214279175,0.24330733716487885,-2.2399251461029053,-3.4793996810913086,0.5672670602798462,-0.10463479161262512,1.5937045812606812,0.3858041763305664,-1.1563295125961304,0.8386892676353455,0.5454559922218323,1.2240855693817139,1.2228835821151733,1.3263040781021118,-2.0908849239349365,-2.6119446754455566,1.5526102781295776,-1.7033302783966064,-0.1491435170173645,-0.46845364570617676,-0.00022949892445467412,-3.6845409870147705,1.1228028535842896,1.2007806301116943,0.14012476801872253,1.222116231918335,2.074662208557129,0.6336659789085388,-1.8445308208465576,0.49096164107322693,0.2530505061149597,0.4046594500541687,0.4775804877281189,0.8384264707565308,0.7248827815055847,0.10613910853862762,0.6515853404998779,-1.9397896528244019,0.7050718665122986,0.777478039264679,0.7109284996986389,0.8736443519592285,-2.6816964149475098,-3.8474392890930176,0.31272366642951965,-0.5894815921783447,0.9257065653800964,0.8609759211540222,0.8612092137336731,0.7970830798149109,0.653650164604187,-0.09116844087839127,0.8336232304573059,0.9723708033561707,2.313873052597046,-2.9060075283050537,-1.4744839668273926,1.99905264377594,-1.8774363994598389,-2.6051888465881348,0.3109837770462036,-1.3303139209747314,1.8397905826568604,1.4363566637039185,-0.15514323115348816,3.0196146965026855,2.3974504470825195,2.0415165424346924,-2.958266496658325,-3.9554357528686523,0.1776496022939682,1.133853554725647,-0.0615525022149086,0.690850555896759,0.6754363179206848,3.325836420059204,-2.597738742828369,0.16514098644256592,-1.7132776975631714,0.686241090297699,0.7027786374092102,0.7584315538406372,-2.190093517303467,0.9431547522544861,-3.258270740509033,0.5692074298858643,0.7062719464302063,0.5975862741470337,1.0114365816116333,-3.0474185943603516,-1.82342529296875,0.5386791825294495,0.6075161695480347,0.29317718744277954,1.6081329584121704,-1.9496960639953613,1.3493252992630005,-1.691846251487732,0.18597254157066345,0.6883010268211365,0.37671753764152527,0.8758466243743896,1.3178284168243408,-2.3768484592437744,1.3508518934249878,0.882079541683197,-2.7031502723693848,1.2389923334121704,1.7465214729309082,-2.567941188812256,0.29501843452453613,0.7357073426246643,0.620665431022644,-2.5208959579467773,-0.38798362016677856,0.441999226808548,0.6409153342247009,0.46658021211624146,-3.1865344047546387,0.4825770854949951,-0.8111537098884583,0.7098755836486816,0.6899450421333313,1.2002253532409668,0.02134060487151146,0.601722002029419,-1.634644627571106,-2.7372992038726807,0.444877564907074,1.0591577291488647,0.3074910640716553,-0.2135898470878601,-3.498675584793091,0.7218505144119263,-0.05800432339310646,0.696912407875061,0.6428658366203308,-0.42785191535949707,0.3746682107448578,2.206205129623413,1.0761387348175049,1.0398954153060913,-1.8854868412017822,0.9410168528556824,-1.6737303733825684,0.904166579246521,0.8326334357261658,0.922030508518219,0.32364562153816223,-1.9354329109191895,-1.4247124195098877,-0.12011349946260452,1.2211053371429443,-0.8249731063842773,1.0834077596664429,0.7234976291656494,-0.8724663257598877,1.7854105234146118,-1.4597978591918945,-2.7701892852783203,0.39230507612228394,0.4235959053039551,0.564887285232544,1.7515088319778442,0.5939836502075195,0.6134517788887024,0.6769915819168091,-0.31645968556404114,0.49979060888290405,0.4565056264400482,0.7078923583030701,-1.2714436054229736,0.5611562132835388,-1.424181580543518,-0.8069798350334167,1.0178840160369873,-2.4476168155670166,-1.8470185995101929,1.106096625328064,1.1045914888381958,-0.837013840675354,1.0520801544189453,-1.0402222871780396,1.653572916984558,1.043108344078064,1.080033540725708,-1.830521583557129,0.19120049476623535,0.0018682890804484487,0.5589424967765808,-3.5195236206054688,2.0272104740142822,-2.591038465499878,0.7257190942764282,-0.5967143177986145,0.6868871450424194,0.7768545746803284,-1.6713727712631226,0.7049826383590698,0.5437535047531128,0.6884452104568481,0.6048479080200195,1.1974791288375854,-0.6329372525215149,0.6400737762451172,0.4153378903865814,-0.23567090928554535,-1.836369276046753,1.4596701860427856,1.5073503255844116,1.480445146560669,0.5062823295593262,-1.9753113985061646,2.084425210952759,-1.9423145055770874,-1.2183252573013306,-2.9554548263549805,0.06065912917256355,1.3996332883834839,-0.7489678263664246,1.4435323476791382,0.9704114198684692,-1.3445818424224854,0.5006740093231201,0.5092772245407104,0.7824917435646057,0.9063317179679871,0.5699599385261536,0.87181556224823,0.6523779630661011,-1.2525590658187866,0.5953535437583923,0.5952070951461792,0.971095085144043,1.6164931058883667,-3.285413980484009,0.7499809265136719,-3.4385104179382324,-2.391618490219116,1.1567736864089966,1.16347074508667,0.8137148022651672,1.2514712810516357,-1.6085853576660156,0.13254980742931366,0.9878844618797302,0.38933274149894714,2.4827427864074707,-2.4172306060791016,-2.8275227546691895,0.9228943586349487,1.5576918125152588,1.1224274635314941,-2.7359981536865234,0.6819726824760437,1.5249850749969482,0.842694878578186,0.6936078071594238,0.6517623066902161,-1.0146384239196777,0.3657429814338684,0.3035479784011841,-1.2135837078094482,-1.1416701078414917,0.7733170390129089,0.6009698510169983,-4.668722629547119,0.626503050327301,0.6634204983711243,0.31009361147880554,0.8609697818756104,0.6067113876342773,0.997684121131897,0.7088724970817566,3.028266191482544,-0.18136554956436157,-2.8524281978607178,-2.1021971702575684,-1.3384466171264648,-2.7209019660949707,0.9783454537391663,-0.8817991018295288,-0.0927392840385437,1.032351016998291,0.9581066370010376,0.998566746711731,1.104151725769043,-3.0049641132354736,1.0257266759872437,0.9548792243003845,-2.7392280101776123,1.1229609251022339,-0.11608058959245682,1.2826772928237915,-2.232551097869873,1.0669682025909424,2.7913732528686523,-0.4778369069099426,-0.011576282791793346,0.9920861721038818,-0.524513304233551,-1.2340822219848633,0.8551619648933411,0.6471762657165527,0.14156730473041534,-2.709831714630127,0.6130123734474182,-2.1292669773101807,0.4841082692146301,0.903533935546875,0.14237470924854279,0.35268330574035645,0.444815456867218,0.4565369784832001,-1.8445346355438232,0.4593372642993927,0.4792105257511139,1.7569833993911743,0.46987614035606384,0.6487665176391602,0.5372536182403564,0.2825940251350403,-0.8087126016616821,1.1033825874328613,0.41025102138519287,-1.4477673768997192,0.15417510271072388,0.7055705785751343,0.61496901512146,-1.2799475193023682,0.6809843182563782,-2.845125675201416,0.5978536605834961,-0.4228824973106384,0.6517206430435181,0.5673832297325134,2.3339412212371826,0.6457812190055847,0.22473612427711487,-1.4064581394195557,-1.5907799005508423,0.03375275433063507,0.48849621415138245,2.139892101287842,0.26803848147392273,0.1414911150932312,0.5971733927726746,-1.1290761232376099,0.4013480842113495,0.47632622718811035,0.4686357080936432,-0.9406871795654297,0.5209507346153259,0.4368022382259369,-1.6810678243637085,-0.8558638095855713,0.5704679489135742,0.10149723291397095,-1.5159326791763306,0.7677025198936462,0.8267667293548584,0.736035943031311,-0.27530473470687866,0.7758153080940247,0.00734962522983551,-2.8740103244781494,0.7812319993972778,0.7761587500572205,0.7159627079963684,-1.2647247314453125,0.7988668084144592,-2.3810038566589355,1.8706469535827637,0.7548534870147705,-2.016352415084839,-3.3869123458862305,1.233615756034851,1.413251519203186,2.326767921447754,0.8004451394081116,1.211757779121399,-2.408398151397705,1.2712997198104858,-1.3239473104476929,-3.0515360832214355,-2.570603370666504,1.1287723779678345,2.641801118850708,-1.8286386728286743,1.281472086906433,1.2608593702316284,-2.5349435806274414,0.7819774150848389,-1.5072544813156128,-2.278384208679199,-0.34323349595069885,0.8050462603569031,-0.15372280776500702,2.250147581100464,0.46074745059013367,-0.31124258041381836,0.6062442064285278,0.7693208456039429,0.830207884311676,0.7789266109466553,-0.9308104515075684,0.7769854068756104,2.3609676361083984,-1.8088669776916504,0.9721314311027527,0.9297581315040588,-2.2411351203918457,0.4509238302707672,-0.5701872110366821,1.0134868621826172,0.9606153964996338,1.0019458532333374,-1.6950570344924927,0.8555746674537659,0.8987312912940979,-3.110285758972168,-0.0831402987241745,0.06454332172870636,-1.6735156774520874,1.000652551651001,-0.5608933568000793,0.7983161807060242,0.21157674491405487,-0.7889760732650757,-0.058786727488040924,-1.5719455480575562,1.9095219373703003,1.0492793321609497,-1.7888375520706177,1.1019891500473022,1.0674664974212646,-1.956674575805664,0.9826362133026123,0.27818822860717773,-0.16166292130947113,-0.4647604823112488,0.6508747935295105,-3.4116647243499756,0.9286713004112244,-2.0459165573120117,0.40811583399772644,0.7445397973060608,0.6810197830200195,0.8606157898902893,-0.20361778140068054,0.85889732837677,0.899816632270813,-0.6643897891044617,-1.8206475973129272,2.7401034832000732,0.6531437039375305,-2.666379690170288,0.4162341058254242,-0.2285737544298172,-3.0632920265197754,0.3031863272190094,0.5083276033401489,0.6885223984718323,0.5334596633911133,0.6104380488395691,0.6882736086845398,0.6612829566001892,0.7413092255592346,1.6971343755722046,0.34931379556655884,-1.8923832178115845,-0.2711591422557831,1.9707142114639282,1.0746668577194214,0.8165236115455627,0.16615337133407593,1.8328670263290405,0.8259955644607544,1.0790094137191772,-2.452115297317505,-2.4101402759552,-2.7700676918029785,0.9400961399078369,-1.4343076944351196,0.32940399646759033,-0.13537253439426422,0.4377429783344269,1.2469253540039062,1.1263041496276855,1.1835646629333496,-0.47297394275665283,2.2058019638061523,-2.4122626781463623,-0.6176300048828125,1.156203269958496,1.0847142934799194,1.1841132640838623,-1.4965758323669434,-1.3801573514938354,-1.8753201961517334,1.1650502681732178,1.5265276432037354,-3.624281406402588,0.3577073812484741,-2.302969455718994,0.5214132070541382,-1.6247464418411255,0.5440327525138855,0.5096224546432495,-2.3060431480407715,0.6527707576751709,0.360059529542923,0.2935742139816284,0.6114895343780518,-1.7751222848892212,0.07485411316156387,0.32015448808670044,0.7017853856086731,3.0614163875579834,1.0981831550598145,1.3548686504364014,1.1644600629806519,1.283219814300537,-2.6392691135406494,1.241251826286316,2.3292031288146973,-0.590167760848999,-1.5175628662109375,1.2835553884506226,-0.028324946761131287,-2.1334216594696045,-2.6860105991363525,-2.8388004302978516,1.4071539640426636,1.2716636657714844,-0.1761137992143631,0.26619014143943787,0.8752980828285217,0.6902628540992737,1.6904104948043823,-1.5415362119674683,-1.4465922117233276,0.8934643268585205,0.4509913921356201,0.9726303219795227,1.0452278852462769,0.5579457879066467,1.014586329460144,0.9991713762283325,-2.763324022293091,-3.528616428375244,2.597622871398926,-3.054189920425415,-1.9608447551727295,-1.806388258934021,1.1239819526672363,-0.9315219521522522,1.0181154012680054,-1.138188362121582,-1.1456965208053589,-1.748824954032898,1.5229531526565552,1.9402347803115845,-2.1085896492004395,1.904934048652649,1.8675280809402466,1.9188731908798218,-0.5741867423057556,0.8445514440536499,0.9870136380195618,1.017558217048645,-2.621642589569092,0.4858565330505371,-2.3903071880340576,1.0597186088562012,0.7323601841926575,-2.543917417526245,-3.2601242065429688,0.7498474717140198,2.5656216144561768,1.0416431427001953,0.8757199645042419,1.0302919149398804,-2.3876430988311768,0.40225884318351746,0.7141969203948975,0.8532108068466187,-0.1611787974834442,-2.733309268951416,-0.7269909977912903,0.6396821141242981,-1.1612331867218018,0.7500163912773132,-0.34187865257263184,0.7995219230651855,0.6787230968475342,2.4363362789154053,0.18018344044685364,0.058106835931539536,-2.651684284210205,1.2157801389694214,-0.593550443649292,2.5960333347320557,1.1888282299041748,1.1102373600006104,-0.9690386652946472,1.001932144165039,0.8538647294044495,0.9824531674385071,-2.064209222793579,1.0753281116485596,0.9537793397903442,-2.200913429260254,0.6221594214439392,-3.1209988594055176,0.9208094477653503,0.912402868270874,0.8890983462333679,-0.7513387203216553,0.01896001398563385,-1.5919491052627563,-1.9496524333953857,1.283921241760254,0.5896246433258057,0.3090094327926636,1.5009820461273193,-1.2952147722244263,-3.564574956893921,0.8320096731185913,0.9556667804718018,0.9402492642402649,-3.1275534629821777,0.6755956411361694,1.7010513544082642,-1.217738389968872,0.9088080525398254,0.580133855342865,-2.2902376651763916,0.7538590431213379,0.616682767868042,0.8689295053482056,0.7081223726272583,0.4200352430343628,-2.6194024085998535,1.645801067352295,0.3759058117866516],\"type\":\"scatter\"},{\"marker\":{\"size\":4},\"mode\":\"markers\",\"name\":\"True label 1\",\"x\":[32.81754684448242,-6.93284273147583,12.632670402526855,14.082551002502441,0.9310646653175354,5.964229583740234,-7.8030500411987305,-8.368302345275879,-6.609715938568115,2.4044971466064453,-6.878708362579346,-2.066805124282837,-8.071000099182129,-7.680225372314453,-6.216862201690674,-8.205071449279785,-7.427663803100586,32.961700439453125,18.318340301513672,11.521069526672363,-6.415946960449219,-6.99130916595459,-0.9477884769439697,2.0765485763549805,-0.012990573421120644,3.976983070373535,-1.0303949117660522,-5.426001071929932,29.547122955322266,-6.893348693847656,12.972954750061035,-6.41985559463501,-6.495569229125977,-6.912013053894043,-7.029555320739746,-5.799756050109863,-4.083803176879883,-6.178150177001953,-6.299123764038086,22.2995662689209,-6.229055881500244,-6.889284610748291,-7.1044392585754395,-5.736799240112305,-6.1967597007751465,-6.297835826873779,22.504180908203125,-6.1723737716674805,-6.695931434631348,-7.320206642150879,14.782068252563477,-1.2789828777313232,-6.26138162612915,-6.011684417724609,-7.117916107177734,-7.233242034912109,-3.920440435409546,-7.028527736663818,-5.902098178863525,-2.6460957527160645,25.739517211914062,-6.7107415199279785,-6.586890697479248,5.559870719909668,-8.898526191711426,13.279197692871094,15.434231758117676,-8.941627502441406,-9.348272323608398,-7.977032661437988,-10.144780158996582,12.076213836669922,-8.098152160644531,-6.628137111663818,1.2883230447769165,1.307248592376709,9.408275604248047,0.09407723695039749,-8.15212631225586,-7.034392833709717,20.893096923828125,-6.468353271484375,-7.983904838562012,-6.651211738586426,-7.436229228973389,19.157777786254883,-7.900181293487549,-7.5216546058654785,29.48880386352539,2.7318687438964844,-7.883274555206299,10.816965103149414,-7.511779308319092,1.784903645515442,-7.2225189208984375,-7.433905601501465,9.976150512695312,-7.554060935974121,-8.396761894226074,-4.541718482971191,18.35732078552246,-7.367504119873047,11.440122604370117,-7.147025108337402,-8.42612361907959,-6.781823635101318,31.217424392700195,-8.251413345336914,6.214341640472412,11.436885833740234,-6.435865879058838,10.703312873840332,-6.963250160217285,-6.875751972198486,-7.089710235595703,-7.54838228225708,1.0669276714324951,-7.818513870239258,-6.959933280944824,-7.47955322265625,3.998624086380005,-7.07819938659668,14.615829467773438,32.39692306518555,-7.41602087020874,8.883561134338379,4.614087104797363,7.463477611541748,-4.277457237243652,-8.771671295166016,19.393083572387695,-6.982999801635742,24.18380355834961,-7.0379557609558105,-7.630421161651611,-7.071195125579834,19.66223907470703,-6.990131378173828,-7.788827419281006,-8.71981430053711,-6.864023208618164,-3.1821866035461426,-5.604527950286865,40.85869216918945,-5.105948448181152,-4.441348075866699,-4.491998672485352,-4.887056350708008,5.987811088562012,1.9198042154312134,-5.191084384918213,-4.834089756011963,11.596945762634277,-3.018528461456299,1.8835829496383667,-5.0518646240234375,-7.3119425773620605,-1.0991578102111816,2.092449903488159,-7.187753677368164,32.591434478759766,-9.242231369018555,-7.171383857727051,-8.499221801757812,-6.838606834411621,0.5999783277511597,26.275896072387695,-8.15461254119873,-7.347565650939941,26.1039981842041,9.378278732299805,-7.492610454559326,4.900851726531982,6.19569206237793,-8.421631813049316,-7.742146968841553,-6.478882789611816,35.01325225830078,-6.677189350128174,-6.105608940124512,17.569730758666992,-5.2090959548950195,-3.715017080307007,8.717079162597656,-2.661795139312744,-6.3378496170043945,-6.487162113189697,-6.639242172241211,-6.51787805557251,-0.44676774740219116,2.1189258098602295,-6.142492771148682,-4.942331790924072,-7.019111633300781,12.012751579284668,13.540226936340332,-6.655233383178711,32.35247802734375,-0.7449319362640381,-7.163401126861572,12.849648475646973,11.215018272399902,-11.126352310180664,5.776882171630859,-5.324408054351807,-10.555292129516602,-8.775215148925781,-3.767885684967041,3.669705867767334,-9.843628883361816,11.744211196899414,-10.414083480834961,10.369891166687012,25.0166072845459,11.886357307434082,-9.611000061035156,-7.26082181930542,-8.102639198303223,-7.515601634979248,1.7579052448272705,-7.22445011138916,-6.7823076248168945,30.060476303100586,-0.2400631606578827,-6.7285637855529785,-7.776809215545654,0.21773454546928406,-6.063994884490967,25.29119300842285,0.2746729254722595,8.260293006896973,-7.166727066040039,-9.383206367492676,-8.301597595214844,-8.9920015335083,-8.57686996459961,-6.928926944732666,-8.545042037963867,-1.873481273651123,-8.364367485046387,-8.83271598815918,8.90099811553955,25.842945098876953,19.038326263427734,7.879358768463135,6.196783065795898,10.376906394958496,-8.437116622924805,-7.889472007751465,24.016876220703125,3.811751365661621,-9.223470687866211,-8.22430419921875,-2.553353786468506,-6.800136089324951,-8.50913143157959,-7.677943229675293,-7.78466796875,-7.921592712402344,24.581838607788086,-8.657796859741211,4.573027610778809,7.912770748138428,10.345608711242676,10.574698448181152,8.111997604370117],\"y\":[2.9214913845062256,0.4901517331600189,-2.5143117904663086,0.24969491362571716,-2.1914186477661133,-1.0448764562606812,0.9833349585533142,1.1861120462417603,0.4437491297721863,-2.323068141937256,0.7681758999824524,-2.5921597480773926,1.0677297115325928,1.1198800802230835,0.2984232008457184,1.1371499300003052,1.0610700845718384,2.3624706268310547,-0.30580514669418335,-1.1349177360534668,0.9000688195228577,1.0367189645767212,-2.4221832752227783,-2.51841402053833,-2.5883936882019043,-4.109546661376953,-2.2482542991638184,-0.6661432981491089,0.6410212516784668,0.9529371857643127,-1.5889736413955688,0.7675473093986511,0.7247685194015503,0.9692246317863464,0.9608449935913086,0.2163032591342926,-1.1630265712738037,0.8046208024024963,0.8384155631065369,2.205913782119751,0.6943491101264954,0.6218367218971252,0.678390622138977,0.45609286427497864,0.499909371137619,0.23552125692367554,0.9775869846343994,0.33105161786079407,0.05995199456810951,0.5653972625732422,-0.7697750926017761,-3.2350165843963623,0.312317818403244,0.06704111397266388,0.5682278871536255,0.5493027567863464,-0.8584002256393433,1.063297152519226,0.8146815896034241,-1.8177379369735718,0.2684583067893982,0.9617815613746643,1.0465202331542969,-0.6413431167602539,1.0875483751296997,-3.207763195037842,1.4662269353866577,1.146145224571228,1.336807131767273,-0.6738466024398804,1.5293103456497192,0.4033487141132355,-0.7354015707969666,0.4742993414402008,-1.7628122568130493,-2.7117042541503906,2.0873966217041016,-3.0545899868011475,0.6671002507209778,0.38809728622436523,1.058359980583191,0.004218691494315863,0.7479510307312012,0.25252434611320496,0.3761374056339264,-1.2617555856704712,0.8867937326431274,0.9074440598487854,3.821382761001587,-2.5413079261779785,0.911826491355896,-1.8220298290252686,0.8094457983970642,-2.9487080574035645,0.8392846584320068,0.5778289437294006,-1.316317081451416,0.6596809029579163,1.0242551565170288,-1.293394684791565,-1.2766103744506836,0.306260883808136,-3.198559522628784,0.908362627029419,1.089474081993103,-0.3610920011997223,3.5702147483825684,1.0482984781265259,-1.5022443532943726,-0.8907429575920105,0.24552690982818604,-2.1785223484039307,0.4724906384944916,0.4763551354408264,0.5682529211044312,0.596118688583374,-0.12044090032577515,0.6721750497817993,0.3574371933937073,0.5704073905944824,-2.503330707550049,0.5820260643959045,-1.4127023220062256,3.327117919921875,0.5373475551605225,-2.1902575492858887,-0.7579522132873535,-4.515201091766357,-2.194204807281494,1.1016489267349243,2.236180543899536,0.46985310316085815,-0.02670568972826004,0.8528234958648682,0.8314902186393738,0.6396267414093018,1.1551573276519775,0.7580518126487732,0.9715871810913086,1.0749940872192383,-0.18127618730068207,-2.416080951690674,0.8434484004974365,1.8066362142562866,0.83332359790802,0.6133409738540649,0.31796911358833313,0.6377977132797241,-3.035494089126587,-1.786496639251709,0.505741536617279,0.7736055254936218,-1.1946722269058228,-2.0577261447906494,-2.336996078491211,-0.033737435936927795,1.3491780757904053,-2.66207218170166,-2.149836301803589,1.4242693185806274,2.8544414043426514,1.660845160484314,0.5721936225891113,1.4847043752670288,1.1839518547058105,-2.2999958992004395,1.6968201398849487,0.4823515713214874,0.3561430871486664,2.131514549255371,-2.4788312911987305,0.5006945729255676,-1.0721551179885864,-3.281254768371582,0.6112130284309387,0.26027193665504456,0.8668017983436584,1.6918056011199951,0.9599345326423645,0.6869590878486633,0.16879242658615112,0.07126041501760483,-1.2179545164108276,-1.387532353401184,-1.6261180639266968,0.9983463287353516,0.857426106929779,0.9006115198135376,0.9236519932746887,-1.5123733282089233,-3.263015031814575,0.8814054131507874,-0.5183214545249939,0.6597922444343567,-1.0788698196411133,-1.418997049331665,0.588912844657898,2.5796635150909424,-2.3329598903656006,0.7807754874229431,-1.1237682104110718,-1.5024702548980713,1.3743902444839478,-2.3369877338409424,-2.761521339416504,1.09200119972229,0.1273166984319687,-2.3672902584075928,-1.3766746520996094,1.1130608320236206,4.718112468719482,1.0911070108413696,-1.1193044185638428,-0.2755684554576874,0.38392844796180725,0.828457772731781,0.6189274787902832,0.6378829479217529,0.731904923915863,-2.2559707164764404,0.6999250054359436,1.2297815084457397,0.7727319002151489,0.9045632481575012,0.6674301624298096,1.2237797975540161,-2.1305806636810303,0.47686612606048584,0.548879086971283,-2.946237802505493,1.4433573484420776,0.7317951321601868,1.2761430740356445,0.9085769057273865,1.1990662813186646,1.142330527305603,-0.8318077325820923,1.1496448516845703,-3.09963059425354,0.88657546043396,1.0428944826126099,-0.017608504742383957,2.897059440612793,0.8041967749595642,-2.5688018798828125,-2.825702428817749,-1.4633859395980835,-0.49955058097839355,0.6063795685768127,0.7127681374549866,-3.488408327102661,0.927666425704956,0.7091981172561646,0.03514421731233597,-0.342529833316803,0.9907699823379517,0.7002211809158325,-0.25278133153915405,0.0035371279809623957,2.24845290184021,0.8277561664581299,-1.5725349187850952,-0.6823416352272034,-1.4233002662658691,-1.254849910736084,-1.402488112449646],\"type\":\"scatter\"}],                        {\"height\":1000,\"template\":{\"data\":{\"barpolar\":[{\"marker\":{\"line\":{\"color\":\"#E5ECF6\",\"width\":0.5},\"pattern\":{\"fillmode\":\"overlay\",\"size\":10,\"solidity\":0.2}},\"type\":\"barpolar\"}],\"bar\":[{\"error_x\":{\"color\":\"#2a3f5f\"},\"error_y\":{\"color\":\"#2a3f5f\"},\"marker\":{\"line\":{\"color\":\"#E5ECF6\",\"width\":0.5},\"pattern\":{\"fillmode\":\"overlay\",\"size\":10,\"solidity\":0.2}},\"type\":\"bar\"}],\"carpet\":[{\"aaxis\":{\"endlinecolor\":\"#2a3f5f\",\"gridcolor\":\"white\",\"linecolor\":\"white\",\"minorgridcolor\":\"white\",\"startlinecolor\":\"#2a3f5f\"},\"baxis\":{\"endlinecolor\":\"#2a3f5f\",\"gridcolor\":\"white\",\"linecolor\":\"white\",\"minorgridcolor\":\"white\",\"startlinecolor\":\"#2a3f5f\"},\"type\":\"carpet\"}],\"choropleth\":[{\"colorbar\":{\"outlinewidth\":0,\"ticks\":\"\"},\"type\":\"choropleth\"}],\"contourcarpet\":[{\"colorbar\":{\"outlinewidth\":0,\"ticks\":\"\"},\"type\":\"contourcarpet\"}],\"contour\":[{\"colorbar\":{\"outlinewidth\":0,\"ticks\":\"\"},\"colorscale\":[[0.0,\"#0d0887\"],[0.1111111111111111,\"#46039f\"],[0.2222222222222222,\"#7201a8\"],[0.3333333333333333,\"#9c179e\"],[0.4444444444444444,\"#bd3786\"],[0.5555555555555556,\"#d8576b\"],[0.6666666666666666,\"#ed7953\"],[0.7777777777777778,\"#fb9f3a\"],[0.8888888888888888,\"#fdca26\"],[1.0,\"#f0f921\"]],\"type\":\"contour\"}],\"heatmapgl\":[{\"colorbar\":{\"outlinewidth\":0,\"ticks\":\"\"},\"colorscale\":[[0.0,\"#0d0887\"],[0.1111111111111111,\"#46039f\"],[0.2222222222222222,\"#7201a8\"],[0.3333333333333333,\"#9c179e\"],[0.4444444444444444,\"#bd3786\"],[0.5555555555555556,\"#d8576b\"],[0.6666666666666666,\"#ed7953\"],[0.7777777777777778,\"#fb9f3a\"],[0.8888888888888888,\"#fdca26\"],[1.0,\"#f0f921\"]],\"type\":\"heatmapgl\"}],\"heatmap\":[{\"colorbar\":{\"outlinewidth\":0,\"ticks\":\"\"},\"colorscale\":[[0.0,\"#0d0887\"],[0.1111111111111111,\"#46039f\"],[0.2222222222222222,\"#7201a8\"],[0.3333333333333333,\"#9c179e\"],[0.4444444444444444,\"#bd3786\"],[0.5555555555555556,\"#d8576b\"],[0.6666666666666666,\"#ed7953\"],[0.7777777777777778,\"#fb9f3a\"],[0.8888888888888888,\"#fdca26\"],[1.0,\"#f0f921\"]],\"type\":\"heatmap\"}],\"histogram2dcontour\":[{\"colorbar\":{\"outlinewidth\":0,\"ticks\":\"\"},\"colorscale\":[[0.0,\"#0d0887\"],[0.1111111111111111,\"#46039f\"],[0.2222222222222222,\"#7201a8\"],[0.3333333333333333,\"#9c179e\"],[0.4444444444444444,\"#bd3786\"],[0.5555555555555556,\"#d8576b\"],[0.6666666666666666,\"#ed7953\"],[0.7777777777777778,\"#fb9f3a\"],[0.8888888888888888,\"#fdca26\"],[1.0,\"#f0f921\"]],\"type\":\"histogram2dcontour\"}],\"histogram2d\":[{\"colorbar\":{\"outlinewidth\":0,\"ticks\":\"\"},\"colorscale\":[[0.0,\"#0d0887\"],[0.1111111111111111,\"#46039f\"],[0.2222222222222222,\"#7201a8\"],[0.3333333333333333,\"#9c179e\"],[0.4444444444444444,\"#bd3786\"],[0.5555555555555556,\"#d8576b\"],[0.6666666666666666,\"#ed7953\"],[0.7777777777777778,\"#fb9f3a\"],[0.8888888888888888,\"#fdca26\"],[1.0,\"#f0f921\"]],\"type\":\"histogram2d\"}],\"histogram\":[{\"marker\":{\"pattern\":{\"fillmode\":\"overlay\",\"size\":10,\"solidity\":0.2}},\"type\":\"histogram\"}],\"mesh3d\":[{\"colorbar\":{\"outlinewidth\":0,\"ticks\":\"\"},\"type\":\"mesh3d\"}],\"parcoords\":[{\"line\":{\"colorbar\":{\"outlinewidth\":0,\"ticks\":\"\"}},\"type\":\"parcoords\"}],\"pie\":[{\"automargin\":true,\"type\":\"pie\"}],\"scatter3d\":[{\"line\":{\"colorbar\":{\"outlinewidth\":0,\"ticks\":\"\"}},\"marker\":{\"colorbar\":{\"outlinewidth\":0,\"ticks\":\"\"}},\"type\":\"scatter3d\"}],\"scattercarpet\":[{\"marker\":{\"colorbar\":{\"outlinewidth\":0,\"ticks\":\"\"}},\"type\":\"scattercarpet\"}],\"scattergeo\":[{\"marker\":{\"colorbar\":{\"outlinewidth\":0,\"ticks\":\"\"}},\"type\":\"scattergeo\"}],\"scattergl\":[{\"marker\":{\"colorbar\":{\"outlinewidth\":0,\"ticks\":\"\"}},\"type\":\"scattergl\"}],\"scattermapbox\":[{\"marker\":{\"colorbar\":{\"outlinewidth\":0,\"ticks\":\"\"}},\"type\":\"scattermapbox\"}],\"scatterpolargl\":[{\"marker\":{\"colorbar\":{\"outlinewidth\":0,\"ticks\":\"\"}},\"type\":\"scatterpolargl\"}],\"scatterpolar\":[{\"marker\":{\"colorbar\":{\"outlinewidth\":0,\"ticks\":\"\"}},\"type\":\"scatterpolar\"}],\"scatter\":[{\"fillpattern\":{\"fillmode\":\"overlay\",\"size\":10,\"solidity\":0.2},\"type\":\"scatter\"}],\"scatterternary\":[{\"marker\":{\"colorbar\":{\"outlinewidth\":0,\"ticks\":\"\"}},\"type\":\"scatterternary\"}],\"surface\":[{\"colorbar\":{\"outlinewidth\":0,\"ticks\":\"\"},\"colorscale\":[[0.0,\"#0d0887\"],[0.1111111111111111,\"#46039f\"],[0.2222222222222222,\"#7201a8\"],[0.3333333333333333,\"#9c179e\"],[0.4444444444444444,\"#bd3786\"],[0.5555555555555556,\"#d8576b\"],[0.6666666666666666,\"#ed7953\"],[0.7777777777777778,\"#fb9f3a\"],[0.8888888888888888,\"#fdca26\"],[1.0,\"#f0f921\"]],\"type\":\"surface\"}],\"table\":[{\"cells\":{\"fill\":{\"color\":\"#EBF0F8\"},\"line\":{\"color\":\"white\"}},\"header\":{\"fill\":{\"color\":\"#C8D4E3\"},\"line\":{\"color\":\"white\"}},\"type\":\"table\"}]},\"layout\":{\"annotationdefaults\":{\"arrowcolor\":\"#2a3f5f\",\"arrowhead\":0,\"arrowwidth\":1},\"autotypenumbers\":\"strict\",\"coloraxis\":{\"colorbar\":{\"outlinewidth\":0,\"ticks\":\"\"}},\"colorscale\":{\"diverging\":[[0,\"#8e0152\"],[0.1,\"#c51b7d\"],[0.2,\"#de77ae\"],[0.3,\"#f1b6da\"],[0.4,\"#fde0ef\"],[0.5,\"#f7f7f7\"],[0.6,\"#e6f5d0\"],[0.7,\"#b8e186\"],[0.8,\"#7fbc41\"],[0.9,\"#4d9221\"],[1,\"#276419\"]],\"sequential\":[[0.0,\"#0d0887\"],[0.1111111111111111,\"#46039f\"],[0.2222222222222222,\"#7201a8\"],[0.3333333333333333,\"#9c179e\"],[0.4444444444444444,\"#bd3786\"],[0.5555555555555556,\"#d8576b\"],[0.6666666666666666,\"#ed7953\"],[0.7777777777777778,\"#fb9f3a\"],[0.8888888888888888,\"#fdca26\"],[1.0,\"#f0f921\"]],\"sequentialminus\":[[0.0,\"#0d0887\"],[0.1111111111111111,\"#46039f\"],[0.2222222222222222,\"#7201a8\"],[0.3333333333333333,\"#9c179e\"],[0.4444444444444444,\"#bd3786\"],[0.5555555555555556,\"#d8576b\"],[0.6666666666666666,\"#ed7953\"],[0.7777777777777778,\"#fb9f3a\"],[0.8888888888888888,\"#fdca26\"],[1.0,\"#f0f921\"]]},\"colorway\":[\"#636efa\",\"#EF553B\",\"#00cc96\",\"#ab63fa\",\"#FFA15A\",\"#19d3f3\",\"#FF6692\",\"#B6E880\",\"#FF97FF\",\"#FECB52\"],\"font\":{\"color\":\"#2a3f5f\"},\"geo\":{\"bgcolor\":\"white\",\"lakecolor\":\"white\",\"landcolor\":\"#E5ECF6\",\"showlakes\":true,\"showland\":true,\"subunitcolor\":\"white\"},\"hoverlabel\":{\"align\":\"left\"},\"hovermode\":\"closest\",\"mapbox\":{\"style\":\"light\"},\"paper_bgcolor\":\"white\",\"plot_bgcolor\":\"#E5ECF6\",\"polar\":{\"angularaxis\":{\"gridcolor\":\"white\",\"linecolor\":\"white\",\"ticks\":\"\"},\"bgcolor\":\"#E5ECF6\",\"radialaxis\":{\"gridcolor\":\"white\",\"linecolor\":\"white\",\"ticks\":\"\"}},\"scene\":{\"xaxis\":{\"backgroundcolor\":\"#E5ECF6\",\"gridcolor\":\"white\",\"gridwidth\":2,\"linecolor\":\"white\",\"showbackground\":true,\"ticks\":\"\",\"zerolinecolor\":\"white\"},\"yaxis\":{\"backgroundcolor\":\"#E5ECF6\",\"gridcolor\":\"white\",\"gridwidth\":2,\"linecolor\":\"white\",\"showbackground\":true,\"ticks\":\"\",\"zerolinecolor\":\"white\"},\"zaxis\":{\"backgroundcolor\":\"#E5ECF6\",\"gridcolor\":\"white\",\"gridwidth\":2,\"linecolor\":\"white\",\"showbackground\":true,\"ticks\":\"\",\"zerolinecolor\":\"white\"}},\"shapedefaults\":{\"line\":{\"color\":\"#2a3f5f\"}},\"ternary\":{\"aaxis\":{\"gridcolor\":\"white\",\"linecolor\":\"white\",\"ticks\":\"\"},\"baxis\":{\"gridcolor\":\"white\",\"linecolor\":\"white\",\"ticks\":\"\"},\"bgcolor\":\"#E5ECF6\",\"caxis\":{\"gridcolor\":\"white\",\"linecolor\":\"white\",\"ticks\":\"\"}},\"title\":{\"x\":0.05},\"xaxis\":{\"automargin\":true,\"gridcolor\":\"white\",\"linecolor\":\"white\",\"ticks\":\"\",\"title\":{\"standoff\":15},\"zerolinecolor\":\"white\",\"zerolinewidth\":2},\"yaxis\":{\"automargin\":true,\"gridcolor\":\"white\",\"linecolor\":\"white\",\"ticks\":\"\",\"title\":{\"standoff\":15},\"zerolinecolor\":\"white\",\"zerolinewidth\":2}}},\"title\":{\"text\":\"PCA analysis of Validation Data by True Label\"},\"width\":1000,\"xaxis\":{\"ticklen\":5,\"title\":{\"text\":\"PC1\"},\"zeroline\":false},\"yaxis\":{\"ticklen\":5,\"title\":{\"text\":\"PC2\"},\"zeroline\":false}},                        {\"responsive\": true}                    ).then(function(){\n",
              "                            \n",
              "var gd = document.getElementById('23045f07-150c-486b-8c1d-2cc7b624a9fd');\n",
              "var x = new MutationObserver(function (mutations, observer) {{\n",
              "        var display = window.getComputedStyle(gd).display;\n",
              "        if (!display || display === 'none') {{\n",
              "            console.log([gd, 'removed!']);\n",
              "            Plotly.purge(gd);\n",
              "            observer.disconnect();\n",
              "        }}\n",
              "}});\n",
              "\n",
              "// Listen for the removal of the full notebook cells\n",
              "var notebookContainer = gd.closest('#notebook-container');\n",
              "if (notebookContainer) {{\n",
              "    x.observe(notebookContainer, {childList: true});\n",
              "}}\n",
              "\n",
              "// Listen for the clearing of the current output cell\n",
              "var outputEl = gd.closest('.output');\n",
              "if (outputEl) {{\n",
              "    x.observe(outputEl, {childList: true});\n",
              "}}\n",
              "\n",
              "                        })                };                            </script>        </div>\n",
              "</body>\n",
              "</html>"
            ]
          },
          "metadata": {}
        }
      ]
    },
    {
      "cell_type": "code",
      "source": [
        "traces = []\n",
        "for spurious_label, df in embs.groupby(['spurious_label']):\n",
        "  traces.append(go.Scatter(x = df['PC1'],\n",
        "                           y = df['PC2'],\n",
        "                           mode = \"markers\",\n",
        "                           name = f\"Spurious label {spurious_label}\",\n",
        "                           text = None,\n",
        "                           marker = dict(size = 4)\n",
        "                           )\n",
        "  )\n",
        "title = \"PCA analysis of Validation Data by Spurious Label\"\n",
        "layout = dict(title = title,\n",
        "              xaxis= dict(title= 'PC1',ticklen= 5,zeroline= False),\n",
        "              yaxis= dict(title= 'PC2',ticklen= 5,zeroline= False),\n",
        "              height = 1000,\n",
        "              width = 1000\n",
        "             )\n",
        "\n",
        "fig = dict(data = traces, layout = layout)\n",
        "iplot(fig)\n",
        "go.Figure.write_html(fig,\"/content/drive/MyDrive/CS260D_final_project/plots/waterbirds_PCA_spurious_plot.html\") # write as html or image"
      ],
      "metadata": {
        "colab": {
          "base_uri": "https://localhost:8080/",
          "height": 1000
        },
        "id": "ZWhE1_tjhRfd",
        "outputId": "4fcb0f20-3b4e-4ec9-eeed-95464bd81f8e"
      },
      "execution_count": null,
      "outputs": [
        {
          "output_type": "stream",
          "name": "stderr",
          "text": [
            "<ipython-input-60-e824a9695bd9>:2: FutureWarning:\n",
            "\n",
            "In a future version of pandas, a length 1 tuple will be returned when iterating over a groupby with a grouper equal to a list of length 1. Don't supply a list with a single grouper to avoid this warning.\n",
            "\n"
          ]
        },
        {
          "output_type": "display_data",
          "data": {
            "text/html": [
              "<html>\n",
              "<head><meta charset=\"utf-8\" /></head>\n",
              "<body>\n",
              "    <div>            <script src=\"https://cdnjs.cloudflare.com/ajax/libs/mathjax/2.7.5/MathJax.js?config=TeX-AMS-MML_SVG\"></script><script type=\"text/javascript\">if (window.MathJax && window.MathJax.Hub && window.MathJax.Hub.Config) {window.MathJax.Hub.Config({SVG: {font: \"STIX-Web\"}});}</script>                <script type=\"text/javascript\">window.PlotlyConfig = {MathJaxConfig: 'local'};</script>\n",
              "        <script charset=\"utf-8\" src=\"https://cdn.plot.ly/plotly-2.24.1.min.js\"></script>                <div id=\"c75b106f-0ff9-4a05-bcab-b89703c60c67\" class=\"plotly-graph-div\" style=\"height:1000px; width:1000px;\"></div>            <script type=\"text/javascript\">                                    window.PLOTLYENV=window.PLOTLYENV || {};                                    if (document.getElementById(\"c75b106f-0ff9-4a05-bcab-b89703c60c67\")) {                    Plotly.newPlot(                        \"c75b106f-0ff9-4a05-bcab-b89703c60c67\",                        [{\"marker\":{\"size\":4},\"mode\":\"markers\",\"name\":\"Spurious label 0\",\"x\":[-6.93284273147583,0.9310646653175354,-7.8030500411987305,-8.368302345275879,2.4044971466064453,-2.066805124282837,-8.071000099182129,-7.680225372314453,-8.205071449279785,-7.427663803100586,-7.5713887214660645,-6.186086654663086,-6.9166178703308105,-2.6248891353607178,-6.75333309173584,-6.185364246368408,-6.844295024871826,-6.99130916595459,-5.426001071929932,-6.893348693847656,-6.41985559463501,-6.495569229125977,-7.029555320739746,-4.083803176879883,-6.178150177001953,-6.299123764038086,-6.229055881500244,-6.889284610748291,-7.1044392585754395,-7.427124977111816,-7.180920124053955,-6.782070636749268,-7.124848365783691,-6.327895164489746,-6.239535331726074,-4.147690773010254,-7.121906280517578,-6.930567264556885,-7.4436445236206055,-6.287124156951904,-7.3031907081604,-7.905790328979492,-6.676641941070557,-6.635215759277344,-6.425577163696289,2.3509294986724854,-8.025529861450195,-8.620357513427734,-8.900554656982422,-8.641000747680664,-8.339446067810059,-8.522377967834473,-8.443181037902832,-5.665674209594727,-5.835245132446289,-5.690095901489258,-5.376810550689697,-6.0987067222595215,-6.281374454498291,-6.5218024253845215,-6.1967597007751465,-6.297835826873779,-6.1723737716674805,-6.695931434631348,-7.320206642150879,-7.411680221557617,-7.2669854164123535,-6.266290187835693,-6.26138162612915,-6.011684417724609,-7.117916107177734,-7.233242034912109,-2.6460957527160645,-6.7107415199279785,-6.586890697479248,5.559870719909668,-6.214951992034912,-6.3874735832214355,-6.197993755340576,-2.6531481742858887,-6.505030632019043,-6.913487434387207,6.440370559692383,-6.406880855560303,-6.610702991485596,-6.568554878234863,-6.9770684242248535,-6.495393753051758,-7.319831848144531,-8.01378059387207,-7.4111151695251465,-7.197815418243408,-7.6510539054870605,-7.5079426765441895,-7.51942253112793,-7.5459771156311035,-6.522101879119873,-5.889277458190918,-6.4936347007751465,-5.638780117034912,-6.637633323669434,-6.964497089385986,-6.39175271987915,-6.588910102844238,-5.863302707672119,-2.8168091773986816,-7.071303844451904,-7.466102600097656,-7.624156951904297,-7.424540042877197,-7.357956409454346,-7.132355690002441,-6.03298282623291,-6.969095230102539,-5.8936848640441895,-3.8433802127838135,-5.981793403625488,-6.476351261138916,-6.305840015411377,-6.4987053871154785,-6.4963250160217285,-6.619250774383545,-2.989886999130249,-4.188281059265137,-7.006339073181152,-8.268538475036621,-7.307969570159912,-8.214731216430664,-7.92031717300415,-7.914741039276123,-8.352474212646484,-8.888945579528809,9.394917488098145,25.209003448486328,-8.898526191711426,13.279197692871094,-8.941627502441406,-9.348272323608398,-7.977032661437988,-10.144780158996582,-8.098152160644531,-7.954367160797119,-7.559535503387451,-7.780965328216553,-8.243199348449707,-8.184975624084473,-7.230038166046143,27.706758499145508,-8.36972713470459,-7.757510185241699,-6.447929859161377,9.408275604248047,-8.15212631225586,-6.468353271484375,-7.983904838562012,-7.436229228973389,-7.900181293487549,-7.5216546058654785,-7.883274555206299,-7.511779308319092,-7.2225189208984375,-7.554060935974121,-8.396761894226074,-7.1901655197143555,-8.546988487243652,-8.102394104003906,-7.72842264175415,-8.483443260192871,-8.278116226196289,-7.339365482330322,-7.9142231941223145,-7.367504119873047,-8.42612361907959,-6.781823635101318,-8.251413345336914,6.214341640472412,11.436885833740234,-7.089710235595703,-7.54838228225708,-7.818513870239258,-6.959933280944824,-7.47955322265625,-7.07819938659668,-7.41602087020874,8.883561134338379,-8.771671295166016,19.393083572387695,-7.0379557609558105,-7.630421161651611,-7.071195125579834,-8.71981430053711,-6.864023208618164,-5.604527950286865,-4.491998672485352,-4.887056350708008,1.9198042154312134,-5.191084384918213,-4.834089756011963,-5.309042930603027,-4.755112171173096,-4.760124683380127,-6.3077006340026855,-6.4266204833984375,-0.35236015915870667,-1.4176472425460815,-6.410548210144043,-7.354558944702148,-6.688183784484863,-7.231270790100098,-6.54176139831543,11.596945762634277,-3.018528461456299,-5.0518646240234375,-7.3119425773620605,2.092449903488159,-7.187753677368164,-7.171383857727051,-8.499221801757812,6.136452674865723,-7.857635974884033,-6.410528182983398,-6.359502792358398,-6.42271089553833,-6.017887592315674,-6.322721004486084,-7.189052581787109,-5.397639751434326,-6.093709945678711,-6.418255805969238,-6.89288330078125,-6.40622091293335,-6.371115207672119,-5.885069847106934,-7.086979866027832,-7.311400890350342,-6.454493045806885,-7.566773891448975,-7.401208400726318,-6.481489181518555,-7.282216548919678,-6.135726451873779,-7.101102828979492,-6.7605814933776855,-8.28200626373291,-8.712746620178223,-9.303120613098145,-7.9365692138671875,-7.313652992248535,-8.124943733215332,-7.347565650939941,-8.145337104797363,-7.938636779785156,-7.57589864730835,-7.7370524406433105,-7.957653999328613,-7.492610454559326,-8.421631813049316,-7.742146968841553,-6.478882789611816,-6.677189350128174,-6.105608940124512,-3.715017080307007,-2.661795139312744,-6.3378496170043945,-6.487162113189697,-6.639242172241211,-6.51787805557251,-0.44676774740219116,-6.142492771148682,-7.019111633300781,-7.163401126861572,-6.908037185668945,-7.343336582183838,-8.826051712036133,-7.904444217681885,-8.321056365966797,-8.637491226196289,-8.610851287841797,-8.4392671585083,-7.751224517822266,-8.721095085144043,-10.830080032348633,-9.346426010131836,-11.800041198730469,-11.006884574890137,-7.230280876159668,-7.305662155151367,-6.676414966583252,-7.442829608917236,-7.22929048538208,-7.408758640289307,-8.283842086791992,-7.116138458251953,-7.435946941375732,-7.043529033660889,-10.260794639587402,-11.126352310180664,-10.555292129516602,-8.775215148925781,3.669705867767334,-9.843628883361816,11.744211196899414,-10.414083480834961,-9.611000061035156,-8.102639198303223,-7.867582321166992,-7.274188995361328,-7.080493927001953,16.60770034790039,-5.106010913848877,-7.885616302490234,-7.94895601272583,-0.2400631606578827,-7.776809215545654,-7.753864288330078,-0.8496018052101135,-7.805412769317627,-0.9967243671417236,-6.1160807609558105,-7.11971378326416,-6.3191914558410645,8.50814437866211,-6.225728511810303,-6.351109981536865,-6.40829610824585,0.7818508744239807,-6.044139862060547,-6.362240314483643,-5.3926801681518555,-6.581655025482178,-9.09131145477295,-7.653625011444092,-7.8128485679626465,-7.733139514923096,-8.200861930847168,-7.394806861877441,-9.147279739379883,-8.670110702514648,-8.328036308288574,-7.847261428833008,-8.284473419189453,-7.3760905265808105,-6.19359016418457,-7.957674980163574,3.021638870239258,-6.044939994812012,-6.645937442779541,-6.587390422821045,-6.5782551765441895,-6.676708698272705,-7.032175540924072,-6.109950542449951,-6.39357328414917,-7.1465301513671875,-6.5482635498046875,-7.224555492401123,-7.329736709594727,-7.823298931121826,-7.229465007781982,-7.573851108551025,-6.8657684326171875,-7.973646640777588,-8.033794403076172,-8.356006622314453,-8.436380386352539,-7.848343849182129,-7.380849838256836,-7.568883895874023,-4.067555904388428,-6.664514541625977,-6.578011512756348,-6.6795973777771,2.6101999282836914,-6.596621036529541,-5.861411094665527,-7.568008899688721,-8.34109115600586,-7.815128803253174,-7.598397731781006,-7.754793167114258,-8.209855079650879,-7.454887390136719,-2.9824271202087402,-8.133662223815918,-8.218152046203613,2.082948684692383,-8.189322471618652,-8.023015975952148,-7.7524333000183105,-7.475894927978516,-8.558279037475586,-8.073322296142578,-8.669036865234375,-7.817614555358887,-1.6115576028823853,-7.763361930847168,-7.494494915008545,-7.891134738922119,-6.740664005279541,-7.387787818908691,-7.843242168426514,-7.997974872589111,-7.900422096252441,-7.255248069763184,-7.631837844848633,-7.5558390617370605,-7.63367223739624,-6.633761882781982,-8.289590835571289,-7.663590908050537,-7.725882530212402,-2.414483070373535,-6.777935981750488,-6.6182990074157715,-6.735271453857422,-6.930911064147949,-6.257692337036133,-5.444233417510986,8.260293006896973,-7.166727066040039,-9.383206367492676,-8.301597595214844,-8.9920015335083,-8.57686996459961,-8.364367485046387,-8.83271598815918,-7.889472007751465,-9.223470687866211,-2.553353786468506,-6.800136089324951,-8.50913143157959,-7.921592712402344,-8.657796859741211,10.345608711242676,-7.804764270782471,-7.942577838897705,-8.023073196411133,-7.282749652862549,-7.904083251953125,-7.791214466094971,-7.834444522857666,-5.673457145690918,-5.718573570251465,-5.507984161376953,-6.020502090454102,-4.304784297943115,-5.540886402130127,-5.156545162200928,-4.78251314163208,-4.917331695556641,-5.441341876983643,-7.329990863800049,-7.209819793701172,-8.079459190368652,-7.506478309631348,-7.342282295227051,-8.189234733581543,-7.783211708068848,-7.894678115844727,-6.135421276092529,-6.5562005043029785,-6.290798187255859,-6.163609027862549,-5.9821391105651855,-5.887016773223877,-5.958843231201172,5.051557540893555,-6.159300327301025,-9.131155967712402,-9.58602523803711,-7.611785411834717,-8.958312034606934,-9.000600814819336,1.616266131401062,-8.96860122680664,-8.592597007751465,-6.504766941070557,-6.143965244293213,-7.094019889831543,-5.623305797576904,-6.356655120849609,-6.2818284034729,-7.101966381072998,-7.26413106918335,-7.342015743255615,12.467010498046875,-7.279088497161865,-6.85218620300293,-6.7400031089782715,-7.279858589172363,-6.795144557952881,-6.225234031677246,-6.7637810707092285,3.414994955062866,-6.094517230987549,-7.015964508056641,-5.251081943511963,-5.827426910400391,5.137176036834717,-6.1756367683410645,-6.159171104431152,-5.966227054595947,-5.896819591522217,-5.384969234466553,-6.467672824859619,-7.641934394836426,-6.40872859954834,-7.037639141082764,-6.642882347106934,-7.229703426361084,-6.022802352905273,-7.516730308532715,-7.440011501312256,-6.701898097991943,-6.966232776641846,-7.19995641708374,-6.5604166984558105,-7.076321601867676,-7.178191661834717,-7.493519306182861,-8.487300872802734,-6.660255432128906,-7.832693099975586,-8.471007347106934,-8.7525634765625,-7.631554126739502,-8.661388397216797,-9.500587463378906,-8.72606372833252,-8.266557693481445,-8.01073169708252,-8.133231163024902,-8.440526962280273,-7.219975471496582,-8.32801628112793,-8.379594802856445,-1.682464599609375,-7.890089511871338,-7.634087562561035,-7.5116376876831055,-7.224410057067871,-8.274022102355957,-8.106983184814453,-7.131740093231201,-7.841470718383789,-7.862264633178711,-7.988744258880615,-8.145898818969727,-6.150328159332275,-6.473432540893555,-6.219037055969238,-6.358666896820068,-6.11392068862915,-5.996492862701416,-6.814060211181641,-6.685369968414307,8.252725601196289,-4.5583391189575195,-2.447230100631714,-7.454827308654785,-8.748236656188965,-2.2934277057647705,-8.43587589263916,-8.703782081604004,-8.0870361328125,-7.057133197784424,-7.606226444244385,-7.664741039276123,-7.843579292297363,-7.829796314239502,-7.8937668800354,-8.620546340942383,-7.982432842254639,-8.250289916992188,-7.917501926422119,-7.211010932922363,-7.002814769744873,-6.925786972045898,-6.013416767120361,-6.509324550628662,-6.574901103973389,-7.605284214019775,-7.616139888763428,-7.136567115783691,-5.599316120147705,-6.653706073760986,-6.040235996246338,25.509084701538086,-6.9154863357543945,-7.5048699378967285,-7.434552192687988,-7.3281168937683105,-8.174832344055176,-7.455479621887207,-7.929983615875244,-7.42435359954834,-7.974755764007568,-7.589926719665527,-7.570508003234863,-7.029357433319092],\"y\":[0.4901517331600189,-2.1914186477661133,0.9833349585533142,1.1861120462417603,-2.323068141937256,-2.5921597480773926,1.0677297115325928,1.1198800802230835,1.1371499300003052,1.0610700845718384,1.0960527658462524,0.8183906078338623,1.0113903284072876,-1.7395662069320679,0.980046808719635,0.3639516234397888,1.0791245698928833,1.0367189645767212,-0.6661432981491089,0.9529371857643127,0.7675473093986511,0.7247685194015503,0.9608449935913086,-1.1630265712738037,0.8046208024024963,0.8384155631065369,0.6943491101264954,0.6218367218971252,0.678390622138977,0.6882229447364807,0.6501621007919312,0.47548237442970276,0.635833740234375,0.3819306492805481,0.174797922372818,-1.1772501468658447,1.0311362743377686,0.8092496991157532,0.9104255437850952,-1.0447129011154175,0.9689036011695862,0.9437392354011536,0.661578893661499,0.7181272506713867,-0.2082279622554779,-4.248791217803955,0.5388121604919434,0.751667857170105,0.8218184113502502,0.7537062168121338,0.6909621953964233,0.7540332674980164,0.660807192325592,0.2753462791442871,0.47746542096138,0.5151591300964355,0.197221040725708,0.5387049317359924,0.48876798152923584,0.609666645526886,0.499909371137619,0.23552125692367554,0.33105161786079407,0.05995199456810951,0.5653972625732422,0.5613794326782227,0.5602845549583435,-0.39386260509490967,0.312317818403244,0.06704111397266388,0.5682278871536255,0.5493027567863464,-1.8177379369735718,0.9617815613746643,1.0465202331542969,-0.6413431167602539,0.9638032913208008,0.89040607213974,0.9035969972610474,-1.501388430595398,1.07088303565979,0.5930502414703369,-0.5663206577301025,0.5323683619499207,0.5486421585083008,0.709160566329956,0.6686918139457703,0.5192337036132812,0.6579694747924805,0.7041463255882263,0.5004303455352783,0.5126053094863892,0.6554291248321533,0.5584933161735535,0.590900719165802,0.7256090044975281,0.5479923486709595,0.34440916776657104,0.6566942930221558,-0.46848705410957336,0.5446436405181885,0.5965179204940796,0.5100497007369995,0.4827428460121155,0.19975297152996063,-2.1456000804901123,0.3534092903137207,0.6746777892112732,0.7806146740913391,0.7222541570663452,0.7453376054763794,0.5847474336624146,-0.6688724160194397,0.5914753079414368,0.6623919010162354,-0.6794061064720154,0.5417706370353699,0.7669545412063599,0.7848304510116577,0.8514845967292786,0.7521583437919617,0.7133264541625977,-1.8763275146484375,-1.45430588722229,0.907666802406311,1.1428523063659668,0.8781923055648804,1.1683509349822998,1.1154550313949585,1.0114929676055908,1.1123769283294678,1.350855827331543,-0.644212007522583,2.470674753189087,1.0875483751296997,-3.207763195037842,1.146145224571228,1.336807131767273,-0.6738466024398804,1.5293103456497192,-0.7354015707969666,1.2246493101119995,1.0159127712249756,1.2076994180679321,1.385489821434021,1.265154242515564,1.1265443563461304,1.8311537504196167,0.6838217973709106,0.4741249084472656,-0.846247673034668,2.0873966217041016,0.6671002507209778,0.004218691494315863,0.7479510307312012,0.3761374056339264,0.8867937326431274,0.9074440598487854,0.911826491355896,0.8094457983970642,0.8392846584320068,0.6596809029579163,1.0242551565170288,0.7604219317436218,1.4435685873031616,1.2275828123092651,1.215278148651123,1.4133352041244507,1.0445597171783447,0.821000337600708,0.9810127019882202,0.306260883808136,1.089474081993103,-0.3610920011997223,1.0482984781265259,-1.5022443532943726,-0.8907429575920105,0.5682529211044312,0.596118688583374,0.6721750497817993,0.3574371933937073,0.5704073905944824,0.5820260643959045,0.5373475551605225,-2.1902575492858887,1.1016489267349243,2.236180543899536,0.8528234958648682,0.8314902186393738,0.6396267414093018,1.0749940872192383,-0.18127618730068207,0.8434484004974365,0.31796911358833313,0.6377977132797241,-1.786496639251709,0.505741536617279,0.7736055254936218,0.9352430105209351,0.6877391934394836,0.744953989982605,0.4732038974761963,0.6178315877914429,-1.1069906949996948,-2.4111666679382324,0.5445665717124939,0.639403223991394,0.502108097076416,0.7052286267280579,0.5362147688865662,-1.1946722269058228,-2.0577261447906494,-0.033737435936927795,1.3491780757904053,-2.149836301803589,1.4242693185806274,0.5721936225891113,1.4847043752670288,-0.11992218345403671,1.627740502357483,0.5545571446418762,0.5007742643356323,0.6053926348686218,0.5733259916305542,0.5556594729423523,0.5796418190002441,-0.8506098985671997,0.6047979593276978,0.6951020956039429,0.7540314793586731,0.7330517768859863,0.7352479696273804,0.622072696685791,0.7673048377037048,0.5764572620391846,0.05903581529855728,0.6032859086990356,0.6268362998962402,0.3526533544063568,0.5878037214279175,0.24330733716487885,0.5672670602798462,0.3858041763305664,1.2228835821151733,1.3263040781021118,1.5526102781295776,1.1228028535842896,0.14012476801872253,1.222116231918335,0.3561430871486664,0.6336659789085388,0.49096164107322693,0.2530505061149597,0.4046594500541687,0.4775804877281189,0.5006945729255676,0.6112130284309387,0.26027193665504456,0.8668017983436584,0.9599345326423645,0.6869590878486633,-1.2179545164108276,-1.6261180639266968,0.9983463287353516,0.857426106929779,0.9006115198135376,0.9236519932746887,-1.5123733282089233,0.8814054131507874,0.6597922444343567,0.7807754874229431,0.6515853404998779,0.777478039264679,0.8736443519592285,0.31272366642951965,0.9257065653800964,0.8609759211540222,0.8612092137336731,0.7970830798149109,0.653650164604187,0.8336232304573059,1.99905264377594,1.4363566637039185,2.3974504470825195,2.0415165424346924,0.690850555896759,0.6754363179206848,0.16514098644256592,0.686241090297699,0.7027786374092102,0.7584315538406372,0.9431547522544861,0.5692074298858643,0.7062719464302063,0.5975862741470337,1.0114365816116333,1.3743902444839478,1.09200119972229,0.1273166984319687,-1.3766746520996094,1.1130608320236206,4.718112468719482,1.0911070108413696,0.828457772731781,0.6378829479217529,0.5386791825294495,0.6075161695480347,0.29317718744277954,1.6081329584121704,-1.691846251487732,0.6883010268211365,0.8758466243743896,0.9045632481575012,1.2237797975540161,1.3508518934249878,-2.7031502723693848,1.2389923334121704,-2.567941188812256,0.29501843452453613,0.7357073426246643,0.620665431022644,-0.38798362016677856,0.441999226808548,0.6409153342247009,0.46658021211624146,-3.1865344047546387,0.4825770854949951,0.7098755836486816,0.02134060487151146,0.601722002029419,1.0591577291488647,0.7218505144119263,-0.05800432339310646,0.696912407875061,0.6428658366203308,-0.42785191535949707,1.0761387348175049,1.0398954153060913,0.9410168528556824,0.904166579246521,0.8326334357261658,0.32364562153816223,-0.8249731063842773,0.7234976291656494,-2.7701892852783203,0.39230507612228394,0.4235959053039551,0.564887285232544,0.5939836502075195,0.6134517788887024,0.6769915819168091,-0.31645968556404114,0.49979060888290405,0.7078923583030701,0.5611562132835388,1.0178840160369873,1.1045914888381958,1.0520801544189453,1.043108344078064,1.080033540725708,0.5589424967765808,0.7257190942764282,0.6868871450424194,0.7768545746803284,0.7049826383590698,0.6884452104568481,0.6048479080200195,0.6400737762451172,-0.23567090928554535,1.4596701860427856,1.5073503255844116,1.480445146560669,-1.2183252573013306,1.3996332883834839,0.9704114198684692,0.7824917435646057,0.9063317179679871,0.6523779630661011,0.5953535437583923,0.5952070951461792,0.971095085144043,0.7499809265136719,-2.391618490219116,1.1567736864089966,1.16347074508667,0.8137148022651672,1.2514712810516357,0.13254980742931366,0.9878844618797302,0.9228943586349487,1.5576918125152588,0.6819726824760437,0.842694878578186,0.6517623066902161,-1.1416701078414917,0.626503050327301,0.8609697818756104,0.997684121131897,-0.18136554956436157,0.9783454537391663,1.032351016998291,0.9581066370010376,0.998566746711731,1.104151725769043,1.0257266759872437,0.9548792243003845,1.1229609251022339,-0.11608058959245682,1.2826772928237915,1.0669682025909424,0.9920861721038818,-1.2340822219848633,0.8551619648933411,0.6471762657165527,0.6130123734474182,0.903533935546875,0.14237470924854279,0.35268330574035645,1.4433573484420776,0.7317951321601868,1.2761430740356445,0.9085769057273865,1.1990662813186646,1.142330527305603,0.88657546043396,1.0428944826126099,0.6063795685768127,0.927666425704956,0.03514421731233597,-0.342529833316803,0.9907699823379517,0.0035371279809623957,0.8277561664581299,-1.4233002662658691,0.4565369784832001,0.4593372642993927,0.4792105257511139,0.46987614035606384,0.6487665176391602,0.5372536182403564,0.41025102138519287,-1.4477673768997192,0.7055705785751343,0.61496901512146,0.6809843182563782,-0.4228824973106384,0.6517206430435181,0.5673832297325134,0.22473612427711487,0.03375275433063507,0.48849621415138245,0.26803848147392273,0.1414911150932312,0.4013480842113495,0.47632622718811035,0.4686357080936432,0.5209507346153259,0.4368022382259369,0.5704679489135742,0.7677025198936462,0.8267667293548584,0.736035943031311,0.7758153080940247,0.7761587500572205,0.7159627079963684,0.7988668084144592,-2.3810038566589355,0.7548534870147705,1.233615756034851,1.413251519203186,0.8004451394081116,1.211757779121399,1.2712997198104858,-2.570603370666504,1.281472086906433,1.2608593702316284,0.7819774150848389,-0.34323349595069885,0.8050462603569031,-0.15372280776500702,0.46074745059013367,0.6062442064285278,0.7693208456039429,0.830207884311676,0.7789266109466553,-0.9308104515075684,0.7769854068756104,0.9721314311027527,0.9297581315040588,1.0134868621826172,1.0019458532333374,0.8555746674537659,0.8987312912940979,-3.110285758972168,-0.0831402987241745,1.000652551651001,-0.5608933568000793,0.7983161807060242,-1.5719455480575562,1.0492793321609497,1.1019891500473022,1.0674664974212646,0.9826362133026123,0.27818822860717773,0.6508747935295105,0.9286713004112244,0.40811583399772644,0.7445397973060608,0.6810197830200195,0.8606157898902893,-0.20361778140068054,0.85889732837677,0.899816632270813,0.4162341058254242,-0.2285737544298172,0.6885223984718323,0.5334596633911133,0.6104380488395691,0.6882736086845398,0.6612829566001892,0.7413092255592346,0.34931379556655884,-0.2711591422557831,1.0746668577194214,0.8165236115455627,0.16615337133407593,0.8259955644607544,1.0790094137191772,0.9400961399078369,0.4377429783344269,1.2469253540039062,1.1263041496276855,1.1835646629333496,-0.47297394275665283,1.156203269958496,1.1841132640838623,-1.8753201961517334,1.1650502681732178,0.5214132070541382,0.5440327525138855,0.5096224546432495,0.6527707576751709,0.6114895343780518,0.32015448808670044,0.7017853856086731,1.3548686504364014,1.1644600629806519,1.283219814300537,0.8752980828285217,0.8934643268585205,0.4509913921356201,0.9726303219795227,0.5579457879066467,1.014586329460144,0.9991713762283325,1.1239819526672363,1.0181154012680054,-1.138188362121582,-1.748824954032898,1.5229531526565552,1.9402347803115845,-2.1085896492004395,1.904934048652649,1.8675280809402466,1.9188731908798218,0.8445514440536499,1.017558217048645,1.0597186088562012,1.0416431427001953,0.8757199645042419,1.0302919149398804,0.8532108068466187,0.7500163912773132,0.7995219230651855,0.6787230968475342,1.2157801389694214,1.1888282299041748,1.1102373600006104,0.8538647294044495,0.9824531674385071,1.0753281116485596,0.9208094477653503,0.912402868270874,0.8890983462333679,-0.7513387203216553,0.01896001398563385,0.3090094327926636,1.5009820461273193,0.8320096731185913,0.9556667804718018,0.9402492642402649,0.6755956411361694,0.9088080525398254,0.580133855342865,0.7538590431213379,0.616682767868042,0.8689295053482056,0.7081223726272583,0.4200352430343628,0.3759058117866516],\"type\":\"scatter\"},{\"marker\":{\"size\":4},\"mode\":\"markers\",\"name\":\"Spurious label 1\",\"x\":[32.81754684448242,12.632670402526855,14.082551002502441,5.964229583740234,-6.609715938568115,-6.878708362579346,-6.216862201690674,32.961700439453125,18.318340301513672,11.521069526672363,-6.415946960449219,-0.9477884769439697,2.0765485763549805,-0.012990573421120644,3.976983070373535,-1.0303949117660522,29.547122955322266,12.972954750061035,-6.912013053894043,-5.799756050109863,22.2995662689209,4.689322471618652,-6.665755748748779,5.7761616706848145,-2.851402521133423,24.282695770263672,29.02556037902832,6.732658863067627,-6.068333148956299,-6.084325313568115,30.81264877319336,3.136310577392578,10.788008689880371,16.51759910583496,11.862310409545898,-7.568901538848877,21.35690689086914,-8.55102252960205,7.421002388000488,15.909126281738281,21.098600387573242,-3.248154878616333,10.723968505859375,-5.799096584320068,1.2158143520355225,-4.6786017417907715,22.218364715576172,31.617733001708984,-2.4994757175445557,11.328526496887207,-5.736799240112305,22.504180908203125,14.135505676269531,23.912752151489258,14.782068252563477,-1.2789828777313232,-3.920440435409546,-7.028527736663818,-5.902098178863525,25.739517211914062,-3.1296074390411377,2.2149221897125244,30.36867904663086,5.708357334136963,1.9535959959030151,-6.088912010192871,-6.494521617889404,26.614866256713867,-6.001619815826416,-4.255285263061523,-5.802412986755371,27.897632598876953,-7.674661636352539,18.23102378845215,26.93962860107422,4.160001754760742,16.506336212158203,8.972171783447266,-0.12573188543319702,-6.841825008392334,20.139062881469727,13.468744277954102,-5.847738265991211,30.31669807434082,-5.614414691925049,-2.9467525482177734,7.474296569824219,1.241416096687317,-7.0499982833862305,19.905115127563477,-6.052526950836182,24.92647361755371,20.959064483642578,5.965771198272705,8.469072341918945,29.456510543823242,6.565160751342773,24.332759857177734,-6.52366304397583,18.2469482421875,2.7008578777313232,9.683923721313477,8.910323143005371,28.597169876098633,-5.241850852966309,-7.978770732879639,7.105414390563965,-5.156310081481934,-7.893275737762451,1.118086814880371,-7.617173194885254,1.0022330284118652,-8.595039367675781,15.434231758117676,12.076213836669922,-6.628137111663818,1.2883230447769165,1.307248592376709,-3.8521337509155273,-6.941098213195801,19.680461883544922,0.22491778433322906,18.231149673461914,-4.064422130584717,1.1192421913146973,23.363985061645508,-7.7350568771362305,0.09407723695039749,-7.034392833709717,20.893096923828125,-6.651211738586426,19.157777786254883,29.48880386352539,2.7318687438964844,10.816965103149414,1.784903645515442,-7.433905601501465,9.976150512695312,-4.541718482971191,18.35732078552246,-4.090416431427002,12.088444709777832,5.352646350860596,14.046429634094238,-4.7317376136779785,-6.227969646453857,-7.597049236297607,33.0319938659668,-5.249541759490967,-1.3305720090866089,4.7634711265563965,-7.19446325302124,-8.252202987670898,11.626259803771973,-4.253912925720215,2.0766642093658447,11.440122604370117,-7.147025108337402,31.217424392700195,-6.435865879058838,10.703312873840332,-6.963250160217285,-6.875751972198486,1.0669276714324951,3.998624086380005,14.615829467773438,32.39692306518555,4.614087104797363,7.463477611541748,-4.277457237243652,-6.982999801635742,24.18380355834961,19.66223907470703,-6.990131378173828,-7.788827419281006,-3.1821866035461426,40.85869216918945,-5.105948448181152,-4.441348075866699,5.987811088562012,0.6349475979804993,4.453052997589111,-4.473969459533691,8.265796661376953,-6.148736953735352,-6.815615653991699,-6.603597164154053,14.896414756774902,33.53945541381836,1.8835829496383667,-1.0991578102111816,32.591434478759766,-9.242231369018555,-6.838606834411621,0.5999783277511597,19.97442626953125,6.988214015960693,-5.541409969329834,-2.135167121887207,-5.735561847686768,-5.653934478759766,-5.775412082672119,22.751951217651367,30.90055274963379,8.320808410644531,-6.03450870513916,-0.9779074788093567,-5.859046459197998,-0.04078095778822899,-6.0542778968811035,20.97150993347168,10.19544792175293,32.383636474609375,0.5701584219932556,10.568766593933105,0.23180589079856873,20.17919921875,26.87380599975586,-4.641895771026611,15.959558486938477,-6.676250457763672,18.083667755126953,4.107029438018799,0.6574140787124634,-4.006601810455322,-2.5407283306121826,-6.355096340179443,19.81415557861328,1.573596715927124,-7.936287879943848,26.275896072387695,-8.15461254119873,26.1039981842041,9.378278732299805,19.838525772094727,12.09579849243164,4.900851726531982,6.19569206237793,35.01325225830078,17.569730758666992,-5.2090959548950195,8.717079162597656,2.1189258098602295,-4.942331790924072,12.012751579284668,13.540226936340332,-6.655233383178711,32.35247802734375,-0.7449319362640381,12.849648475646973,-6.981803894042969,-6.608972549438477,-6.040007591247559,-3.859637975692749,-6.4883198738098145,-8.220303535461426,5.562633514404297,4.523468971252441,8.551839828491211,16.484477996826172,18.079120635986328,24.786785125732422,-2.5565381050109863,11.049040794372559,-7.142542839050293,-4.4456634521484375,11.58273696899414,-5.908231735229492,-10.42485237121582,-7.143671989440918,22.606630325317383,2.387021064758301,1.7958705425262451,17.65505599975586,10.972033500671387,16.648014068603516,31.203886032104492,4.399177074432373,4.082305431365967,11.3746976852417,5.464612007141113,11.215018272399902,5.776882171630859,-5.324408054351807,-3.767885684967041,10.369891166687012,25.0166072845459,11.886357307434082,-7.26082181930542,-7.515601634979248,4.5369696617126465,-4.202625274658203,10.998125076293945,21.686487197875977,23.437889099121094,-7.022627353668213,-7.196430683135986,1.7579052448272705,-7.22445011138916,-6.7823076248168945,30.060476303100586,-6.7285637855529785,0.21773454546928406,2.4920806884765625,-6.407413959503174,25.233448028564453,3.9096548557281494,-4.8845930099487305,27.514392852783203,27.091384887695312,-5.199228286743164,12.036038398742676,18.30803680419922,8.338059425354004,14.351317405700684,-0.13209711015224457,-6.707176685333252,24.709047317504883,-2.6579971313476562,11.078332901000977,-7.971438407897949,-3.8941593170166016,8.752493858337402,-7.239187240600586,27.18629264831543,-8.063827514648438,8.155162811279297,20.641460418701172,8.501192092895508,31.353641510009766,21.243026733398438,-4.220421314239502,5.864658355712891,-4.494866371154785,1.9734394550323486,-3.682048797607422,-7.3790388107299805,-5.394105434417725,-4.546814918518066,32.975685119628906,6.251220226287842,14.866554260253906,13.476635932922363,0.6391066908836365,26.615642547607422,3.506242275238037,18.236465454101562,-4.70305061340332,-7.9369683265686035,10.223956108093262,15.96303653717041,-6.946532726287842,2.405689239501953,-5.001363277435303,-0.6538896560668945,40.1866569519043,0.007693158928304911,3.00777530670166,-4.783757209777832,5.153653144836426,-6.484941005706787,7.100613594055176,14.305774688720703,-7.140349388122559,24.362058639526367,-8.1768159866333,-0.5975303649902344,24.255565643310547,0.9232169985771179,-0.29037076234817505,2.3014273643493652,19.517166137695312,30.976051330566406,3.6887664794921875,9.087248802185059,-7.653806209564209,-0.6666165590286255,25.161996841430664,-7.809589385986328,16.750131607055664,-6.928027629852295,-7.1216864585876465,-3.2494311332702637,8.617624282836914,20.521162033081055,3.451376438140869,-8.182463645935059,-7.276201248168945,-6.810421943664551,-6.810348033905029,28.99418830871582,6.635303497314453,-1.3176387548446655,-5.186788558959961,4.569367408752441,16.184200286865234,16.99786376953125,5.88300895690918,5.267923355102539,-2.5936574935913086,30.83509063720703,-5.48111629486084,9.609094619750977,19.283573150634766,-5.405867576599121,-1.2642850875854492,0.9798133969306946,29.609088897705078,-5.749830722808838,-6.063994884490967,25.29119300842285,0.2746729254722595,-6.928926944732666,-8.545042037963867,-1.873481273651123,8.90099811553955,25.842945098876953,19.038326263427734,7.879358768463135,6.196783065795898,10.376906394958496,-8.437116622924805,24.016876220703125,3.811751365661621,-8.22430419921875,-7.677943229675293,-7.78466796875,24.581838607788086,4.573027610778809,7.912770748138428,10.574698448181152,8.111997604370117,-4.753912448883057,25.190168380737305,-7.06512451171875,19.279924392700195,15.665380477905273,-6.74678373336792,-2.9393842220306396,11.51679801940918,-5.4880170822143555,35.673736572265625,-5.042078971862793,16.45889663696289,-2.789479970932007,22.54829216003418,23.745073318481445,10.81230354309082,-4.32047176361084,10.833832740783691,10.85529899597168,-7.247676849365234,-5.891495227813721,18.283536911010742,-4.922970771789551,0.9236264228820801,-5.533379077911377,1.6360664367675781,35.641937255859375,-1.9470402002334595,6.488396167755127,23.677011489868164,-3.1249783039093018,12.326725959777832,-0.5434252023696899,-7.751099586486816,23.468908309936523,5.691257953643799,1.1196752786636353,5.539421081542969,-3.1172189712524414,30.423233032226562,20.55961036682129,32.163307189941406,15.31470775604248,-1.6960573196411133,-5.7422871589660645,-4.319802284240723,-6.408809185028076,-2.997551679611206,17.022218704223633,-2.853395938873291,-4.632559299468994,14.938700675964355,-4.400496482849121,37.40090560913086,-0.8931838274002075,2.980149745941162,-5.94649600982666,12.453676223754883,2.4283289909362793,14.63346004486084,11.190755844116211,-4.025304317474365,31.673677444458008,16.636154174804688,-3.093701124191284,-1.1172212362289429,20.939361572265625,-6.998075008392334,23.355985641479492,14.601584434509277,23.65252685546875,20.796245574951172,3.9952902793884277,11.488585472106934,-3.4925620555877686,11.69276237487793,-7.852426528930664,7.561980247497559,23.63425636291504,10.947470664978027,13.522268295288086,-7.716494083404541,-4.484328746795654,-4.641358375549316,23.256189346313477,3.566622495651245,-7.013485908508301,-0.4001781940460205,7.556141376495361,7.744718074798584,-6.817272663116455,-6.798659324645996,11.555846214294434,19.403905868530273,28.493343353271484,-7.5385613441467285,-1.0111665725708008,-7.59216833114624,26.430261611938477,-5.396755695343018,15.478092193603516,-8.218453407287598,-6.255712509155273,-1.6355221271514893,4.826887130737305,0.2874816656112671,22.471908569335938,-7.849395751953125,-4.711254119873047,-5.31887674331665,27.3847599029541,28.579532623291016,0.12455563247203827,-2.783167600631714,-6.285099029541016,0.6144058108329773,6.521086692810059,35.88804244995117,0.7836934924125671,11.413945198059082,3.152827024459839,-5.444957733154297,3.3678345680236816,11.22447395324707,-7.536629676818848,5.368292331695557,24.570465087890625,-2.4322054386138916,-6.963676452636719,0.4368203282356262,1.8277770280838013,-7.121592044830322,26.521522521972656,-1.3410083055496216,-6.814445495605469,-7.491713047027588,-7.336851596832275,4.661927223205566,-6.4170122146606445,-7.277825355529785,12.948226928710938,15.428916931152344,27.06193733215332,16.328481674194336,-6.979872226715088,3.063173770904541,6.90286111831665,38.27822494506836,3.3841114044189453,-6.166849136352539,-1.4963116645812988,-6.389919757843018,1.263769507408142,-5.949428558349609,7.347616195678711,9.713593482971191,-3.6428112983703613,25.02859115600586,-6.121270179748535,11.393902778625488,0.6250532269477844,-1.44077467918396,26.54465103149414,6.788569927215576,5.687532901763916,9.165144920349121,21.732196807861328],\"y\":[2.9214913845062256,-2.5143117904663086,0.24969491362571716,-1.0448764562606812,0.4437491297721863,0.7681758999824524,0.2984232008457184,2.3624706268310547,-0.30580514669418335,-1.1349177360534668,0.9000688195228577,-2.4221832752227783,-2.51841402053833,-2.5883936882019043,-4.109546661376953,-2.2482542991638184,0.6410212516784668,-1.5889736413955688,0.9692246317863464,0.2163032591342926,2.205913782119751,-1.9961384534835815,0.6362730264663696,-2.1196210384368896,-2.5046958923339844,1.0551234483718872,1.4299103021621704,-1.1059930324554443,0.23190587759017944,0.24136975407600403,3.0374317169189453,-2.771749258041382,-2.2635607719421387,-1.4374117851257324,-0.3524812161922455,0.6031537055969238,0.6145120859146118,0.9090452194213867,-1.1478381156921387,-0.5669166445732117,2.7785604000091553,-2.6816203594207764,-1.231912612915039,0.5022841691970825,-1.216097354888916,-0.4960035979747772,-0.20949260890483856,2.0720267295837402,-2.056100845336914,-2.6549479961395264,0.45609286427497864,0.9775869846343994,-2.2927963733673096,1.9033910036087036,-0.7697750926017761,-3.2350165843963623,-0.8584002256393433,1.063297152519226,0.8146815896034241,0.2684583067893982,-1.5163670778274536,-3.128840446472168,1.4806444644927979,-3.073669672012329,-2.8378443717956543,0.325973778963089,0.6131851077079773,0.7744889855384827,0.42131176590919495,-1.0987366437911987,0.3693278133869171,1.5011471509933472,0.6636418700218201,0.1345561146736145,2.471778631210327,-2.9365780353546143,0.06334313750267029,-2.256770372390747,-3.510608673095703,0.4650590419769287,-0.19921131432056427,-2.7513723373413086,0.36480796337127686,2.463686943054199,0.13409490883350372,-2.3306379318237305,-1.0956922769546509,-2.467209577560425,0.8492233157157898,0.8376099467277527,0.10994477570056915,1.329323172569275,0.24747925996780396,-2.544426918029785,-3.0357024669647217,1.7546873092651367,-2.4758400917053223,0.9479917287826538,0.8383164405822754,0.605326771736145,-3.8512918949127197,-1.4753804206848145,-2.2834441661834717,3.2846262454986572,-1.5140663385391235,1.0459294319152832,-2.084446430206299,-1.5068228244781494,0.6791852116584778,-2.2397942543029785,0.10321547836065292,-3.9075043201446533,1.1860636472702026,1.4662269353866577,0.4033487141132355,0.4742993414402008,-1.7628122568130493,-2.7117042541503906,-2.0649006366729736,0.9454036355018616,0.9875270128250122,-2.7146706581115723,-0.5094669461250305,-1.7002712488174438,-2.3236708641052246,0.444285124540329,0.30223846435546875,-3.0545899868011475,0.38809728622436523,1.058359980583191,0.25252434611320496,-1.2617555856704712,3.821382761001587,-2.5413079261779785,-1.8220298290252686,-2.9487080574035645,0.5778289437294006,-1.316317081451416,-1.293394684791565,-1.2766103744506836,-1.527077317237854,-1.1350634098052979,0.1925097554922104,-2.703906774520874,-1.1688510179519653,-0.10724663734436035,1.2387217283248901,2.882526159286499,-0.8823027014732361,-2.951556921005249,-0.43979790806770325,1.3022851943969727,1.049317479133606,-0.5378496050834656,-1.5618069171905518,-2.766207218170166,-3.198559522628784,0.908362627029419,3.5702147483825684,0.24552690982818604,-2.1785223484039307,0.4724906384944916,0.4763551354408264,-0.12044090032577515,-2.503330707550049,-1.4127023220062256,3.327117919921875,-0.7579522132873535,-4.515201091766357,-2.194204807281494,0.46985310316085815,-0.02670568972826004,1.1551573276519775,0.7580518126487732,0.9715871810913086,-2.416080951690674,1.8066362142562866,0.83332359790802,0.6133409738540649,-3.035494089126587,-2.2011501789093018,-1.777520775794983,0.10085883736610413,-2.6846096515655518,0.466361403465271,0.708778440952301,0.3745086193084717,-0.7463181018829346,2.575554847717285,-2.336996078491211,-2.66207218170166,2.8544414043426514,1.660845160484314,1.1839518547058105,-2.2999958992004395,-0.49703720211982727,-1.7290267944335938,0.4299880564212799,-2.6878788471221924,0.49174395203590393,0.1116752028465271,0.011334298178553581,0.054364800453186035,1.6004058122634888,-0.801341712474823,0.7273546457290649,-1.423431158065796,0.4948381781578064,-2.6918201446533203,0.2866726815700531,0.1459430754184723,-0.7238847017288208,1.5935513973236084,-3.320836305618286,-2.2399251461029053,-3.4793996810913086,-0.10463479161262512,1.5937045812606812,-1.1563295125961304,0.8386892676353455,0.5454559922218323,1.2240855693817139,-2.0908849239349365,-2.6119446754455566,-1.7033302783966064,-0.1491435170173645,-0.46845364570617676,-0.00022949892445467412,-3.6845409870147705,1.2007806301116943,1.6968201398849487,0.4823515713214874,2.131514549255371,-2.4788312911987305,2.074662208557129,-1.8445308208465576,-1.0721551179885864,-3.281254768371582,1.6918056011199951,0.16879242658615112,0.07126041501760483,-1.387532353401184,-3.263015031814575,-0.5183214545249939,-1.0788698196411133,-1.418997049331665,0.588912844657898,2.5796635150909424,-2.3329598903656006,-1.1237682104110718,0.8384264707565308,0.7248827815055847,0.10613910853862762,-1.9397896528244019,0.7050718665122986,0.7109284996986389,-2.6816964149475098,-3.8474392890930176,-0.5894815921783447,-0.09116844087839127,0.9723708033561707,2.313873052597046,-2.9060075283050537,-1.4744839668273926,-1.8774363994598389,-2.6051888465881348,0.3109837770462036,-1.3303139209747314,1.8397905826568604,-0.15514323115348816,3.0196146965026855,-2.958266496658325,-3.9554357528686523,0.1776496022939682,1.133853554725647,-0.0615525022149086,3.325836420059204,-2.597738742828369,-1.7132776975631714,-2.190093517303467,-3.258270740509033,-1.5024702548980713,-2.3369877338409424,-2.761521339416504,-2.3672902584075928,-1.1193044185638428,-0.2755684554576874,0.38392844796180725,0.6189274787902832,0.731904923915863,-3.0474185943603516,-1.82342529296875,-1.9496960639953613,1.3493252992630005,0.18597254157066345,0.37671753764152527,1.3178284168243408,-2.2559707164764404,0.6999250054359436,1.2297815084457397,0.7727319002151489,0.6674301624298096,-2.1305806636810303,-2.3768484592437744,0.882079541683197,1.7465214729309082,-2.5208959579467773,-0.8111537098884583,0.6899450421333313,1.2002253532409668,-1.634644627571106,-2.7372992038726807,0.444877564907074,0.3074910640716553,-0.2135898470878601,-3.498675584793091,0.3746682107448578,2.206205129623413,-1.8854868412017822,-1.6737303733825684,0.922030508518219,-1.9354329109191895,-1.4247124195098877,-0.12011349946260452,1.2211053371429443,1.0834077596664429,-0.8724663257598877,1.7854105234146118,-1.4597978591918945,1.7515088319778442,0.4565056264400482,-1.2714436054229736,-1.424181580543518,-0.8069798350334167,-2.4476168155670166,-1.8470185995101929,1.106096625328064,-0.837013840675354,-1.0402222871780396,1.653572916984558,-1.830521583557129,0.19120049476623535,0.0018682890804484487,-3.5195236206054688,2.0272104740142822,-2.591038465499878,-0.5967143177986145,-1.6713727712631226,0.5437535047531128,1.1974791288375854,-0.6329372525215149,0.4153378903865814,-1.836369276046753,0.5062823295593262,-1.9753113985061646,2.084425210952759,-1.9423145055770874,-2.9554548263549805,0.06065912917256355,-0.7489678263664246,1.4435323476791382,-1.3445818424224854,0.5006740093231201,0.5092772245407104,0.5699599385261536,0.87181556224823,-1.2525590658187866,1.6164931058883667,-3.285413980484009,-3.4385104179382324,-1.6085853576660156,0.38933274149894714,2.4827427864074707,-2.4172306060791016,-2.8275227546691895,1.1224274635314941,-2.7359981536865234,1.5249850749969482,0.6936078071594238,-1.0146384239196777,0.3657429814338684,0.3035479784011841,-1.2135837078094482,0.7733170390129089,0.6009698510169983,-4.668722629547119,0.6634204983711243,0.31009361147880554,0.6067113876342773,0.7088724970817566,3.028266191482544,-2.8524281978607178,-2.1021971702575684,-1.3384466171264648,-2.7209019660949707,-0.8817991018295288,-0.0927392840385437,-3.0049641132354736,-2.7392280101776123,-2.232551097869873,2.7913732528686523,-0.4778369069099426,-0.011576282791793346,-0.524513304233551,0.14156730473041534,-2.709831714630127,-2.1292669773101807,0.4841082692146301,0.444815456867218,0.47686612606048584,0.548879086971283,-2.946237802505493,-0.8318077325820923,1.1496448516845703,-3.09963059425354,-0.017608504742383957,2.897059440612793,0.8041967749595642,-2.5688018798828125,-2.825702428817749,-1.4633859395980835,-0.49955058097839355,0.7127681374549866,-3.488408327102661,0.7091981172561646,0.7002211809158325,-0.25278133153915405,2.24845290184021,-1.5725349187850952,-0.6823416352272034,-1.254849910736084,-1.402488112449646,-1.8445346355438232,1.7569833993911743,0.2825940251350403,-0.8087126016616821,1.1033825874328613,0.15417510271072388,-1.2799475193023682,-2.845125675201416,0.5978536605834961,2.3339412212371826,0.6457812190055847,-1.4064581394195557,-1.5907799005508423,2.139892101287842,0.5971733927726746,-1.1290761232376099,-0.9406871795654297,-1.6810678243637085,-0.8558638095855713,0.10149723291397095,-1.5159326791763306,-0.27530473470687866,0.00734962522983551,-2.8740103244781494,0.7812319993972778,-1.2647247314453125,1.8706469535827637,-2.016352415084839,-3.3869123458862305,2.326767921447754,-2.408398151397705,-1.3239473104476929,-3.0515360832214355,1.1287723779678345,2.641801118850708,-1.8286386728286743,-2.5349435806274414,-1.5072544813156128,-2.278384208679199,2.250147581100464,-0.31124258041381836,2.3609676361083984,-1.8088669776916504,-2.2411351203918457,0.4509238302707672,-0.5701872110366821,0.9606153964996338,-1.6950570344924927,0.06454332172870636,-1.6735156774520874,0.21157674491405487,-0.7889760732650757,-0.058786727488040924,1.9095219373703003,-1.7888375520706177,-1.956674575805664,-0.16166292130947113,-0.4647604823112488,-3.4116647243499756,-2.0459165573120117,-0.6643897891044617,-1.8206475973129272,2.7401034832000732,0.6531437039375305,-2.666379690170288,-3.0632920265197754,0.3031863272190094,0.5083276033401489,1.6971343755722046,-1.8923832178115845,1.9707142114639282,1.8328670263290405,-2.452115297317505,-2.4101402759552,-2.7700676918029785,-1.4343076944351196,0.32940399646759033,-0.13537253439426422,2.2058019638061523,-2.4122626781463623,-0.6176300048828125,1.0847142934799194,-1.4965758323669434,-1.3801573514938354,1.5265276432037354,-3.624281406402588,0.3577073812484741,-2.302969455718994,-1.6247464418411255,-2.3060431480407715,0.360059529542923,0.2935742139816284,-1.7751222848892212,0.07485411316156387,3.0614163875579834,1.0981831550598145,-2.6392691135406494,1.241251826286316,2.3292031288146973,-0.590167760848999,-1.5175628662109375,1.2835553884506226,-0.028324946761131287,-2.1334216594696045,-2.6860105991363525,-2.8388004302978516,1.4071539640426636,1.2716636657714844,-0.1761137992143631,0.26619014143943787,0.6902628540992737,1.6904104948043823,-1.5415362119674683,-1.4465922117233276,1.0452278852462769,-2.763324022293091,-3.528616428375244,2.597622871398926,-3.054189920425415,-1.9608447551727295,-1.806388258934021,-0.9315219521522522,-1.1456965208053589,-0.5741867423057556,0.9870136380195618,-2.621642589569092,0.4858565330505371,-2.3903071880340576,0.7323601841926575,-2.543917417526245,-3.2601242065429688,0.7498474717140198,2.5656216144561768,-2.3876430988311768,0.40225884318351746,0.7141969203948975,-0.1611787974834442,-2.733309268951416,-0.7269909977912903,0.6396821141242981,-1.1612331867218018,-0.34187865257263184,2.4363362789154053,0.18018344044685364,0.058106835931539536,-2.651684284210205,-0.593550443649292,2.5960333347320557,-0.9690386652946472,1.001932144165039,-2.064209222793579,0.9537793397903442,-2.200913429260254,0.6221594214439392,-3.1209988594055176,-1.5919491052627563,-1.9496524333953857,1.283921241760254,0.5896246433258057,-1.2952147722244263,-3.564574956893921,-3.1275534629821777,1.7010513544082642,-1.217738389968872,-2.2902376651763916,-2.6194024085998535,1.645801067352295],\"type\":\"scatter\"}],                        {\"height\":1000,\"template\":{\"data\":{\"barpolar\":[{\"marker\":{\"line\":{\"color\":\"#E5ECF6\",\"width\":0.5},\"pattern\":{\"fillmode\":\"overlay\",\"size\":10,\"solidity\":0.2}},\"type\":\"barpolar\"}],\"bar\":[{\"error_x\":{\"color\":\"#2a3f5f\"},\"error_y\":{\"color\":\"#2a3f5f\"},\"marker\":{\"line\":{\"color\":\"#E5ECF6\",\"width\":0.5},\"pattern\":{\"fillmode\":\"overlay\",\"size\":10,\"solidity\":0.2}},\"type\":\"bar\"}],\"carpet\":[{\"aaxis\":{\"endlinecolor\":\"#2a3f5f\",\"gridcolor\":\"white\",\"linecolor\":\"white\",\"minorgridcolor\":\"white\",\"startlinecolor\":\"#2a3f5f\"},\"baxis\":{\"endlinecolor\":\"#2a3f5f\",\"gridcolor\":\"white\",\"linecolor\":\"white\",\"minorgridcolor\":\"white\",\"startlinecolor\":\"#2a3f5f\"},\"type\":\"carpet\"}],\"choropleth\":[{\"colorbar\":{\"outlinewidth\":0,\"ticks\":\"\"},\"type\":\"choropleth\"}],\"contourcarpet\":[{\"colorbar\":{\"outlinewidth\":0,\"ticks\":\"\"},\"type\":\"contourcarpet\"}],\"contour\":[{\"colorbar\":{\"outlinewidth\":0,\"ticks\":\"\"},\"colorscale\":[[0.0,\"#0d0887\"],[0.1111111111111111,\"#46039f\"],[0.2222222222222222,\"#7201a8\"],[0.3333333333333333,\"#9c179e\"],[0.4444444444444444,\"#bd3786\"],[0.5555555555555556,\"#d8576b\"],[0.6666666666666666,\"#ed7953\"],[0.7777777777777778,\"#fb9f3a\"],[0.8888888888888888,\"#fdca26\"],[1.0,\"#f0f921\"]],\"type\":\"contour\"}],\"heatmapgl\":[{\"colorbar\":{\"outlinewidth\":0,\"ticks\":\"\"},\"colorscale\":[[0.0,\"#0d0887\"],[0.1111111111111111,\"#46039f\"],[0.2222222222222222,\"#7201a8\"],[0.3333333333333333,\"#9c179e\"],[0.4444444444444444,\"#bd3786\"],[0.5555555555555556,\"#d8576b\"],[0.6666666666666666,\"#ed7953\"],[0.7777777777777778,\"#fb9f3a\"],[0.8888888888888888,\"#fdca26\"],[1.0,\"#f0f921\"]],\"type\":\"heatmapgl\"}],\"heatmap\":[{\"colorbar\":{\"outlinewidth\":0,\"ticks\":\"\"},\"colorscale\":[[0.0,\"#0d0887\"],[0.1111111111111111,\"#46039f\"],[0.2222222222222222,\"#7201a8\"],[0.3333333333333333,\"#9c179e\"],[0.4444444444444444,\"#bd3786\"],[0.5555555555555556,\"#d8576b\"],[0.6666666666666666,\"#ed7953\"],[0.7777777777777778,\"#fb9f3a\"],[0.8888888888888888,\"#fdca26\"],[1.0,\"#f0f921\"]],\"type\":\"heatmap\"}],\"histogram2dcontour\":[{\"colorbar\":{\"outlinewidth\":0,\"ticks\":\"\"},\"colorscale\":[[0.0,\"#0d0887\"],[0.1111111111111111,\"#46039f\"],[0.2222222222222222,\"#7201a8\"],[0.3333333333333333,\"#9c179e\"],[0.4444444444444444,\"#bd3786\"],[0.5555555555555556,\"#d8576b\"],[0.6666666666666666,\"#ed7953\"],[0.7777777777777778,\"#fb9f3a\"],[0.8888888888888888,\"#fdca26\"],[1.0,\"#f0f921\"]],\"type\":\"histogram2dcontour\"}],\"histogram2d\":[{\"colorbar\":{\"outlinewidth\":0,\"ticks\":\"\"},\"colorscale\":[[0.0,\"#0d0887\"],[0.1111111111111111,\"#46039f\"],[0.2222222222222222,\"#7201a8\"],[0.3333333333333333,\"#9c179e\"],[0.4444444444444444,\"#bd3786\"],[0.5555555555555556,\"#d8576b\"],[0.6666666666666666,\"#ed7953\"],[0.7777777777777778,\"#fb9f3a\"],[0.8888888888888888,\"#fdca26\"],[1.0,\"#f0f921\"]],\"type\":\"histogram2d\"}],\"histogram\":[{\"marker\":{\"pattern\":{\"fillmode\":\"overlay\",\"size\":10,\"solidity\":0.2}},\"type\":\"histogram\"}],\"mesh3d\":[{\"colorbar\":{\"outlinewidth\":0,\"ticks\":\"\"},\"type\":\"mesh3d\"}],\"parcoords\":[{\"line\":{\"colorbar\":{\"outlinewidth\":0,\"ticks\":\"\"}},\"type\":\"parcoords\"}],\"pie\":[{\"automargin\":true,\"type\":\"pie\"}],\"scatter3d\":[{\"line\":{\"colorbar\":{\"outlinewidth\":0,\"ticks\":\"\"}},\"marker\":{\"colorbar\":{\"outlinewidth\":0,\"ticks\":\"\"}},\"type\":\"scatter3d\"}],\"scattercarpet\":[{\"marker\":{\"colorbar\":{\"outlinewidth\":0,\"ticks\":\"\"}},\"type\":\"scattercarpet\"}],\"scattergeo\":[{\"marker\":{\"colorbar\":{\"outlinewidth\":0,\"ticks\":\"\"}},\"type\":\"scattergeo\"}],\"scattergl\":[{\"marker\":{\"colorbar\":{\"outlinewidth\":0,\"ticks\":\"\"}},\"type\":\"scattergl\"}],\"scattermapbox\":[{\"marker\":{\"colorbar\":{\"outlinewidth\":0,\"ticks\":\"\"}},\"type\":\"scattermapbox\"}],\"scatterpolargl\":[{\"marker\":{\"colorbar\":{\"outlinewidth\":0,\"ticks\":\"\"}},\"type\":\"scatterpolargl\"}],\"scatterpolar\":[{\"marker\":{\"colorbar\":{\"outlinewidth\":0,\"ticks\":\"\"}},\"type\":\"scatterpolar\"}],\"scatter\":[{\"fillpattern\":{\"fillmode\":\"overlay\",\"size\":10,\"solidity\":0.2},\"type\":\"scatter\"}],\"scatterternary\":[{\"marker\":{\"colorbar\":{\"outlinewidth\":0,\"ticks\":\"\"}},\"type\":\"scatterternary\"}],\"surface\":[{\"colorbar\":{\"outlinewidth\":0,\"ticks\":\"\"},\"colorscale\":[[0.0,\"#0d0887\"],[0.1111111111111111,\"#46039f\"],[0.2222222222222222,\"#7201a8\"],[0.3333333333333333,\"#9c179e\"],[0.4444444444444444,\"#bd3786\"],[0.5555555555555556,\"#d8576b\"],[0.6666666666666666,\"#ed7953\"],[0.7777777777777778,\"#fb9f3a\"],[0.8888888888888888,\"#fdca26\"],[1.0,\"#f0f921\"]],\"type\":\"surface\"}],\"table\":[{\"cells\":{\"fill\":{\"color\":\"#EBF0F8\"},\"line\":{\"color\":\"white\"}},\"header\":{\"fill\":{\"color\":\"#C8D4E3\"},\"line\":{\"color\":\"white\"}},\"type\":\"table\"}]},\"layout\":{\"annotationdefaults\":{\"arrowcolor\":\"#2a3f5f\",\"arrowhead\":0,\"arrowwidth\":1},\"autotypenumbers\":\"strict\",\"coloraxis\":{\"colorbar\":{\"outlinewidth\":0,\"ticks\":\"\"}},\"colorscale\":{\"diverging\":[[0,\"#8e0152\"],[0.1,\"#c51b7d\"],[0.2,\"#de77ae\"],[0.3,\"#f1b6da\"],[0.4,\"#fde0ef\"],[0.5,\"#f7f7f7\"],[0.6,\"#e6f5d0\"],[0.7,\"#b8e186\"],[0.8,\"#7fbc41\"],[0.9,\"#4d9221\"],[1,\"#276419\"]],\"sequential\":[[0.0,\"#0d0887\"],[0.1111111111111111,\"#46039f\"],[0.2222222222222222,\"#7201a8\"],[0.3333333333333333,\"#9c179e\"],[0.4444444444444444,\"#bd3786\"],[0.5555555555555556,\"#d8576b\"],[0.6666666666666666,\"#ed7953\"],[0.7777777777777778,\"#fb9f3a\"],[0.8888888888888888,\"#fdca26\"],[1.0,\"#f0f921\"]],\"sequentialminus\":[[0.0,\"#0d0887\"],[0.1111111111111111,\"#46039f\"],[0.2222222222222222,\"#7201a8\"],[0.3333333333333333,\"#9c179e\"],[0.4444444444444444,\"#bd3786\"],[0.5555555555555556,\"#d8576b\"],[0.6666666666666666,\"#ed7953\"],[0.7777777777777778,\"#fb9f3a\"],[0.8888888888888888,\"#fdca26\"],[1.0,\"#f0f921\"]]},\"colorway\":[\"#636efa\",\"#EF553B\",\"#00cc96\",\"#ab63fa\",\"#FFA15A\",\"#19d3f3\",\"#FF6692\",\"#B6E880\",\"#FF97FF\",\"#FECB52\"],\"font\":{\"color\":\"#2a3f5f\"},\"geo\":{\"bgcolor\":\"white\",\"lakecolor\":\"white\",\"landcolor\":\"#E5ECF6\",\"showlakes\":true,\"showland\":true,\"subunitcolor\":\"white\"},\"hoverlabel\":{\"align\":\"left\"},\"hovermode\":\"closest\",\"mapbox\":{\"style\":\"light\"},\"paper_bgcolor\":\"white\",\"plot_bgcolor\":\"#E5ECF6\",\"polar\":{\"angularaxis\":{\"gridcolor\":\"white\",\"linecolor\":\"white\",\"ticks\":\"\"},\"bgcolor\":\"#E5ECF6\",\"radialaxis\":{\"gridcolor\":\"white\",\"linecolor\":\"white\",\"ticks\":\"\"}},\"scene\":{\"xaxis\":{\"backgroundcolor\":\"#E5ECF6\",\"gridcolor\":\"white\",\"gridwidth\":2,\"linecolor\":\"white\",\"showbackground\":true,\"ticks\":\"\",\"zerolinecolor\":\"white\"},\"yaxis\":{\"backgroundcolor\":\"#E5ECF6\",\"gridcolor\":\"white\",\"gridwidth\":2,\"linecolor\":\"white\",\"showbackground\":true,\"ticks\":\"\",\"zerolinecolor\":\"white\"},\"zaxis\":{\"backgroundcolor\":\"#E5ECF6\",\"gridcolor\":\"white\",\"gridwidth\":2,\"linecolor\":\"white\",\"showbackground\":true,\"ticks\":\"\",\"zerolinecolor\":\"white\"}},\"shapedefaults\":{\"line\":{\"color\":\"#2a3f5f\"}},\"ternary\":{\"aaxis\":{\"gridcolor\":\"white\",\"linecolor\":\"white\",\"ticks\":\"\"},\"baxis\":{\"gridcolor\":\"white\",\"linecolor\":\"white\",\"ticks\":\"\"},\"bgcolor\":\"#E5ECF6\",\"caxis\":{\"gridcolor\":\"white\",\"linecolor\":\"white\",\"ticks\":\"\"}},\"title\":{\"x\":0.05},\"xaxis\":{\"automargin\":true,\"gridcolor\":\"white\",\"linecolor\":\"white\",\"ticks\":\"\",\"title\":{\"standoff\":15},\"zerolinecolor\":\"white\",\"zerolinewidth\":2},\"yaxis\":{\"automargin\":true,\"gridcolor\":\"white\",\"linecolor\":\"white\",\"ticks\":\"\",\"title\":{\"standoff\":15},\"zerolinecolor\":\"white\",\"zerolinewidth\":2}}},\"title\":{\"text\":\"PCA analysis of Validation Data by Spurious Label\"},\"width\":1000,\"xaxis\":{\"ticklen\":5,\"title\":{\"text\":\"PC1\"},\"zeroline\":false},\"yaxis\":{\"ticklen\":5,\"title\":{\"text\":\"PC2\"},\"zeroline\":false}},                        {\"responsive\": true}                    ).then(function(){\n",
              "                            \n",
              "var gd = document.getElementById('c75b106f-0ff9-4a05-bcab-b89703c60c67');\n",
              "var x = new MutationObserver(function (mutations, observer) {{\n",
              "        var display = window.getComputedStyle(gd).display;\n",
              "        if (!display || display === 'none') {{\n",
              "            console.log([gd, 'removed!']);\n",
              "            Plotly.purge(gd);\n",
              "            observer.disconnect();\n",
              "        }}\n",
              "}});\n",
              "\n",
              "// Listen for the removal of the full notebook cells\n",
              "var notebookContainer = gd.closest('#notebook-container');\n",
              "if (notebookContainer) {{\n",
              "    x.observe(notebookContainer, {childList: true});\n",
              "}}\n",
              "\n",
              "// Listen for the clearing of the current output cell\n",
              "var outputEl = gd.closest('.output');\n",
              "if (outputEl) {{\n",
              "    x.observe(outputEl, {childList: true});\n",
              "}}\n",
              "\n",
              "                        })                };                            </script>        </div>\n",
              "</body>\n",
              "</html>"
            ]
          },
          "metadata": {}
        }
      ]
    },
    {
      "cell_type": "markdown",
      "source": [
        "## t-SNE"
      ],
      "metadata": {
        "id": "CnoKCK0zzbyT"
      }
    },
    {
      "cell_type": "code",
      "source": [
        "from sklearn.manifold import TSNE\n",
        "\n",
        "perplexity = 30\n",
        "iteration = 3000\n",
        "\n",
        "# #T-SNE with two dimensions\n",
        "# tsne_2d = TSNE(n_components=2, perplexity=perplexity, n_iter=iteration)\n",
        "\n",
        "# TCs_2d = pd.DataFrame(tsne_2d.fit_transform(embeddings))\n",
        "# TCs_2d.columns = [\"TC1_2d\",\"TC2_2d\"]\n",
        "# tsne_embs = pd.concat([pd.DataFrame(embeddings),TCs_2d], axis=1, join='inner')"
      ],
      "metadata": {
        "id": "wAPFpFOWPo5j"
      },
      "execution_count": null,
      "outputs": []
    },
    {
      "cell_type": "code",
      "source": [
        "# tsne_clusters = {k : np.stack([TCs_2d.loc[i].values for i in v]) for (k, v) in valset.group_partition.items()}"
      ],
      "metadata": {
        "id": "FTew3nk4zr6d"
      },
      "execution_count": null,
      "outputs": []
    },
    {
      "cell_type": "code",
      "source": [
        "# tsne_traces = []\n",
        "\n",
        "# for (k, v) in sorted(tsne_clusters.items()):\n",
        "#   tsne_traces.append(go.Scatter(\n",
        "#                     x = v[:, 0],\n",
        "#                     y = v[:, 1],\n",
        "#                     mode = \"markers\",\n",
        "#                     name = \"True label {}, Subgroup {}\".format(k[0], k[1]),\n",
        "#                     text = None))"
      ],
      "metadata": {
        "id": "D72d9gdo0TIZ"
      },
      "execution_count": null,
      "outputs": []
    },
    {
      "cell_type": "code",
      "source": [
        "# data = tsne_traces\n",
        "\n",
        "# title = \"Visualizing Clusters in Two Dimensions Using t-SNE\"\n",
        "\n",
        "# layout = dict(title = title,\n",
        "#               xaxis= dict(title= 'TC1',ticklen= 5,zeroline= False),\n",
        "#               yaxis= dict(title= 'TC2',ticklen= 5,zeroline= False)\n",
        "#              )\n",
        "\n",
        "# fig = dict(data = data, layout = layout)\n",
        "\n",
        "# iplot(fig)"
      ],
      "metadata": {
        "id": "NRYuHz5_0apY",
        "colab": {
          "base_uri": "https://localhost:8080/",
          "height": 542
        },
        "outputId": "38758acf-26bf-41b1-b99d-92d5c2654d4b"
      },
      "execution_count": null,
      "outputs": [
        {
          "output_type": "display_data",
          "data": {
            "text/html": [
              "<html>\n",
              "<head><meta charset=\"utf-8\" /></head>\n",
              "<body>\n",
              "    <div>            <script src=\"https://cdnjs.cloudflare.com/ajax/libs/mathjax/2.7.5/MathJax.js?config=TeX-AMS-MML_SVG\"></script><script type=\"text/javascript\">if (window.MathJax && window.MathJax.Hub && window.MathJax.Hub.Config) {window.MathJax.Hub.Config({SVG: {font: \"STIX-Web\"}});}</script>                <script type=\"text/javascript\">window.PlotlyConfig = {MathJaxConfig: 'local'};</script>\n",
              "        <script charset=\"utf-8\" src=\"https://cdn.plot.ly/plotly-2.24.1.min.js\"></script>                <div id=\"311d2271-540d-4218-84fa-5eca8dafea3a\" class=\"plotly-graph-div\" style=\"height:525px; width:100%;\"></div>            <script type=\"text/javascript\">                                    window.PLOTLYENV=window.PLOTLYENV || {};                                    if (document.getElementById(\"311d2271-540d-4218-84fa-5eca8dafea3a\")) {                    Plotly.newPlot(                        \"311d2271-540d-4218-84fa-5eca8dafea3a\",                        [{\"mode\":\"markers\",\"name\":\"True label 0, Subgroup 0\",\"x\":[-60.6151237487793,7.167367935180664,-6.512142181396484,7.0672173500061035,-4.589571952819824,-10.333549499511719,-7.036009788513184,-41.792415618896484,-31.10884666442871,-16.280685424804688,-30.361053466796875,1.0143284797668457,-7.106037139892578,2.3674445152282715,-22.922346115112305,-14.140034675598145,-56.52152633666992,-15.639586448669434,-33.7254638671875,-70.81480407714844,-6.8123016357421875,-4.933193206787109,-16.682720184326172,42.10831069946289,-61.637943267822266,-74.59031677246094,-77.17256164550781,-74.83866119384766,-70.3320083618164,-73.53280639648438,-71.72249603271484,9.656494140625,10.435003280639648,12.010628700256348,9.616662979125977,-4.363006591796875,-5.845513343811035,-8.928330421447754,-40.53141784667969,-37.287864685058594,-15.374013900756836,7.23684549331665,3.1800222396850586,7.434886455535889,-4.7447662353515625,1.957709789276123,-24.178998947143555,51.88267135620117,-7.043764591217041,-11.704718589782715,-5.53237771987915,-25.29902458190918,-8.179882049560547,-38.38852310180664,-64.56304931640625,-42.5881233215332,-34.958866119384766,-46.9372673034668,-43.782135009765625,-44.18206024169922,-47.742305755615234,-7.630133152008057,7.727141380310059,-3.1421165466308594,-11.34572696685791,-10.006330490112305,-25.890209197998047,-1.5509024858474731,-10.48029613494873,8.157938003540039,-3.0508077144622803,-21.959901809692383,-43.919715881347656,-56.78573226928711,-40.181053161621094,-39.57258605957031,-31.022037506103516,-10.997406005859375,-24.855514526367188,9.02241325378418,-8.852483749389648,9.165997505187988,-2.654040575027466,2.485377788543701,-2.756120443344116,-3.173175811767578,-5.949856281280518,-3.8750522136688232,-3.5219366550445557,-13.618459701538086,-80.34237670898438,-34.468299865722656,-80.52436828613281,-77.06696319580078,-68.73509216308594,-80.75951385498047,-87.84486389160156,59.873104095458984,63.705013275146484,-77.99872589111328,-61.700313568115234,-75.98822784423828,-82.91687774658203,-81.0398941040039,-23.897798538208008,61.457275390625,-72.16098022460938,-55.958702087402344,-12.008055686950684,-32.65411376953125,-87.37545013427734,-80.70399475097656,-75.63627624511719,-87.20297241210938,-79.19159698486328,-34.98714065551758,-69.45172119140625,15.883831024169922,14.491079330444336,15.44385814666748,1.096474528312683,-0.4239323139190674,21.771026611328125,16.473791122436523,-1.806338906288147,-40.486358642578125,-13.236357688903809,-32.619537353515625,-8.372725486755371,50.40748596191406,-78.34387969970703,-0.5838420987129211,-0.9352332949638367,-0.3480137884616852,8.817120552062988,0.3891355097293854,-32.37154769897461,-12.710193634033203,11.764819145202637,1.9053595066070557,-24.23468017578125,1.179315209388733,0.9340614676475525,9.716706275939941,-29.001689910888672,-38.72952651977539,-12.415165901184082,-45.329505920410156,-39.95841979980469,-5.4300971031188965,-38.21918487548828,3.4924497604370117,-33.28710174560547,-16.58821678161621,-82.5627670288086,-87.14106750488281,-92.03778839111328,-79.00530242919922,-23.165721893310547,-81.4384536743164,-68.0977554321289,-60.2158088684082,-53.71198272705078,-55.95457077026367,-60.37493133544922,-24.059106826782227,-40.75049591064453,-77.0340805053711,-56.40317916870117,-76.58094787597656,-75.90107727050781,-75.56336975097656,-72.94994354248047,-58.734130859375,-76.0685043334961,-96.11030578613281,-91.5038833618164,-96.68119049072266,-96.1629867553711,-33.73639678955078,-38.39424514770508,-16.300281524658203,-42.549095153808594,-33.60983657836914,-42.389381408691406,-77.54913330078125,-31.95992660522461,-42.64476776123047,-28.149333953857422,-93.24172973632812,-59.255828857421875,-36.74372863769531,-22.36288833618164,64.27477264404297,-9.094097137451172,-61.47725296020508,-70.01978302001953,-77.41204071044922,10.157373428344727,-77.03175354003906,16.937393188476562,-7.664857387542725,-29.7001895904541,1.4640772342681885,57.52296829223633,-6.271913528442383,1.1767563819885254,-7.871184349060059,25.343814849853516,11.048531532287598,-0.3183235228061676,5.980024814605713,-9.849433898925781,-87.39004516601562,-57.49088668823242,-25.195682525634766,-58.430118560791016,-67.44619750976562,-22.44788932800293,-88.01866149902344,-83.1783676147461,-74.69133758544922,-72.5512924194336,-73.70873260498047,-41.22171401977539,-10.163647651672363,-62.904178619384766,41.5208740234375,6.39088249206543,-15.515250205993652,-9.3284273147583,-8.094953536987305,-9.53271770477295,-27.208059310913086,-15.127677917480469,0.03901037946343422,-31.024080276489258,-8.364327430725098,-31.064905166625977,-31.347301483154297,-66.70298767089844,-31.07328987121582,-63.320350646972656,-18.495763778686523,-62.99789810180664,-63.95621871948242,-71.49234771728516,-71.98001861572266,-60.7048225402832,-38.293418884277344,-45.45835494995117,7.559596538543701,1.4432193040847778,2.3354320526123047,1.6865595579147339,36.41791534423828,1.7644329071044922,15.095085144042969,-54.44089126586914,-74.73199462890625,-59.84018325805664,-45.7170524597168,-58.6474494934082,-74.28316497802734,-53.78425979614258,-0.9830242991447449,-82.40569305419922,-82.54759979248047,27.891700744628906,-83.0976791381836,-25.908369064331055,-72.4829330444336,-54.58901596069336,-87.95113372802734,-66.09284973144531,-82.05377960205078,-60.21845626831055,19.40966796875,-59.581302642822266,-57.376068115234375,-69.74742889404297,-18.431320190429688,-34.034149169921875,-70.73196411132812,-68.53893280029297,-70.34628295898438,-24.100587844848633,-63.445030212402344,-60.709476470947266,-73.7491226196289,-17.713165283203125,-82.27996063232422,-64.90465545654297,-64.57025909423828,-6.4781904220581055,-11.799314498901367,-10.645702362060547,-12.32481861114502,-12.584123611450195,-11.375679016113281,5.367762088775635,-57.7967643737793,-59.895965576171875,-61.247581481933594,-28.459300994873047,-61.64435958862305,-57.952232360839844,-57.824310302734375,-7.463016033172607,14.202927589416504,13.215164184570312,12.796798706054688,7.524844169616699,13.817598342895508,14.789793014526367,11.298486709594727,10.195328712463379,11.99465560913086,-28.461427688598633,-27.481056213378906,-62.15486145019531,-51.74520492553711,-51.15299606323242,-68.30924987792969,-55.7584228515625,-61.1450080871582,12.201897621154785,0.33305221796035767,11.335594177246094,11.726029396057129,13.675315856933594,14.328394889831543,13.49326229095459,50.81608581542969,12.131769180297852,-87.95183563232422,-90.1559066772461,-55.92966079711914,-86.91133117675781,-87.68106842041016,33.929176330566406,-87.28463745117188,-83.67515563964844,-0.16557802259922028,-15.70930004119873,-29.99711036682129,4.975274085998535,-0.512607753276825,0.9416747093200684,-29.989028930664062,-33.79914855957031,-40.83830261230469,65.42652130126953,-34.62833786010742,-5.78658390045166,-4.3616838455200195,-58.72391891479492,-6.089561939239502,7.092780590057373,-4.910849094390869,43.2905387878418,-16.24353790283203,-13.207381248474121,-13.593037605285645,14.104443550109863,49.77701187133789,11.227285385131836,10.9771728515625,12.528829574584961,12.724041938781738,10.91318416595459,-1.10250985622406,-61.792877197265625,-5.349559783935547,-27.209491729736328,-6.147935390472412,-33.033447265625,-10.180737495422363,-58.83588409423828,-57.21622085571289,-12.358675956726074,-19.663057327270508,-35.188106536865234,-2.215423822402954,-26.638280868530273,-35.08390808105469,-43.97288513183594,-72.90850067138672,-12.993834495544434,-24.59181785583496,-85.75208282470703,-81.1664810180664,-53.19717788696289,-80.5542984008789,-90.08267974853516,-82.7312240600586,-65.4256820678711,-78.83792877197266,-78.01626586914062,-82.58053588867188,-21.969219207763672,-81.1290512084961,-81.99415588378906,17.814790725708008,-77.50215911865234,-46.05775451660156,-44.069522857666016,-28.272083282470703,-70.01936340332031,-64.96554565429688,-24.548017501831055,-61.55207443237305,-75.54358673095703,-75.33133697509766,-77.43656158447266,8.083748817443848,2.4972307682037354,-9.605131149291992,5.832427024841309,-8.458930969238281,12.072943687438965,-9.349526405334473,-16.83833885192871,56.27296447753906,-3.287858247756958,7.9219651222229,-26.835981369018555,-90.23487854003906,-0.6708096265792847,-90.14158630371094,-90.02168273925781,-90.32460021972656,-15.550898551940918,-62.38687515258789,-64.131103515625,-67.37173461914062,-65.65487670898438,-67.19845581054688,-81.27955627441406,-64.21485137939453,-72.97206115722656,-62.52464294433594,-29.559982299804688,-9.006787300109863,-8.175719261169434,12.771060943603516,1.8282438516616821,0.7118363380432129,-60.8535270690918,-60.97461700439453,-31.05167007446289,-10.401145935058594,-17.56766700744629,5.304688930511475,60.92414855957031,-13.405684471130371,-58.43999099731445,-57.57982635498047,-38.03733444213867,-76.1796875,-43.05186080932617,-62.7462158203125,-42.26886749267578,-69.89412689208984,-47.438594818115234,-43.9724006652832,-24.052770614624023],\"y\":[40.6086311340332,13.077054023742676,30.515689849853516,-56.86232376098633,28.910213470458984,-14.022208213806152,29.62897300720215,19.999853134155273,21.38405990600586,-0.2102537602186203,20.45248794555664,-1.3539069890975952,-14.488058090209961,-36.92950439453125,36.64192199707031,28.065876007080078,36.0203857421875,-27.572301864624023,33.65408706665039,30.053728103637695,10.463006973266602,11.910185813903809,-22.047950744628906,-64.40416717529297,3.8513081073760986,2.420875310897827,0.966035008430481,1.755635142326355,3.773717164993286,2.833561897277832,2.7141222953796387,-15.579854965209961,-12.635787010192871,-11.62708568572998,-18.558584213256836,-9.715529441833496,-8.337753295898438,0.7304508090019226,16.120553970336914,16.093547821044922,-22.394023895263672,15.826850891113281,21.108295440673828,14.453241348266602,-57.31861877441406,25.829830169677734,20.409576416015625,-40.40216064453125,-3.2138595581054688,0.871027410030365,7.908655166625977,21.2959041595459,-3.4715347290039062,20.183990478515625,7.81665563583374,11.120099067687988,16.383684158325195,12.532425880432129,11.658804893493652,11.872949600219727,17.401472091674805,3.3371706008911133,-8.821317672729492,7.391503810882568,-27.60301399230957,4.033371448516846,19.43882942199707,1.161482572555542,3.1877682209014893,-14.045260429382324,-55.39692306518555,1.8534133434295654,20.205331802368164,21.183290481567383,25.664262771606445,26.002737045288086,19.145105361938477,-23.047229766845703,15.125702857971191,-3.894843816757202,-53.22153091430664,-6.3587727546691895,8.385144233703613,12.714517593383789,10.085598945617676,8.419764518737793,8.752704620361328,-55.76570510864258,-46.88666915893555,31.190093994140625,20.964229583740234,32.70087814331055,22.072418212890625,31.825761795043945,29.92085838317871,19.004499435424805,3.4551942348480225,-31.881793975830078,41.94341278076172,30.73937225341797,38.17465591430664,35.038082122802734,24.224931716918945,23.846940994262695,37.29071807861328,53.085365295410156,14.177681922912598,9.019413948059082,-22.03438949584961,25.56770133972168,15.105990409851074,25.197450637817383,35.96440124511719,15.374402046203613,19.359779357910156,30.840232849121094,29.735654830932617,-17.501604080200195,-21.65282440185547,-21.568878173828125,-0.17956581711769104,11.351860046386719,-55.864410400390625,-59.779815673828125,3.743849754333496,19.236623764038086,1.0627061128616333,23.722536087036133,3.091477155685425,-40.76033401489258,37.12979507446289,2.5286831855773926,1.2541910409927368,3.5183606147766113,-5.0343804359436035,2.2746739387512207,22.05116081237793,-28.939950942993164,-6.827083110809326,6.871072769165039,22.778356552124023,6.934474945068359,6.406546115875244,-6.00156831741333,24.490943908691406,13.707618713378906,-16.28537940979004,12.044657707214355,13.719529151916504,-2.196683883666992,14.197075843811035,-5.591110706329346,16.865394592285156,-1.1557624340057373,25.471229553222656,7.7170891761779785,1.2291510105133057,31.826379776000977,-18.209753036499023,27.643598556518555,13.332757949829102,6.400578498840332,4.8725056648254395,6.784236907958984,6.226895332336426,21.30623435974121,22.759302139282227,1.5525707006454468,2.1488046646118164,15.866521835327148,2.7390706539154053,3.2209627628326416,3.7910377979278564,18.131837844848633,1.7617626190185547,-3.576988458633423,0.7115143537521362,-4.753027439117432,-4.0826592445373535,24.543859481811523,19.886016845703125,-3.292795181274414,18.964725494384766,24.728805541992188,21.42388343811035,18.111003875732422,18.016305923461914,19.803131103515625,18.974096298217773,-3.6259331703186035,3.8316500186920166,23.65053939819336,2.2496466636657715,5.616294860839844,-31.93208122253418,10.03081226348877,27.905384063720703,36.338890075683594,-63.90522766113281,34.97323226928711,-61.04526901245117,-13.632502555847168,24.44972038269043,4.28669548034668,-33.20684051513672,-9.525862693786621,4.879795551300049,-4.152571678161621,-68.3520736694336,-7.970821380615234,6.608758449554443,-18.06007957458496,1.1289016008377075,0.16495060920715332,20.078855514526367,-21.18378448486328,18.66130256652832,4.903729438781738,-22.227109909057617,-0.01651104912161827,4.613241672515869,16.693119049072266,32.9932861328125,15.457308769226074,11.597002029418945,-22.19771385192871,14.635600090026855,-56.1295166015625,-5.99535608291626,-1.3074661493301392,3.0909454822540283,4.679518699645996,5.274974822998047,20.88942527770996,-23.222827911376953,1.2203972339630127,23.655216217041016,3.7057840824127197,35.267372131347656,36.485233306884766,31.276874542236328,35.545345306396484,38.167659759521484,-0.6685696244239807,9.938202857971191,8.663249015808105,4.468197822570801,3.734884262084961,10.221120834350586,24.90026092529297,18.081748962402344,-27.468475341796875,32.186424255371094,32.40996170043945,32.626529693603516,-52.84286880493164,31.6563777923584,3.1352760791778564,24.85283660888672,15.832983016967773,9.629142761230469,16.278810501098633,9.029448509216309,17.5134220123291,25.628692626953125,-55.46207809448242,28.125642776489258,27.126201629638672,-52.84521484375,27.754459381103516,-21.25611114501953,34.280887603759766,26.370492935180664,13.335718154907227,15.93313980102539,6.188450336456299,17.727914810180664,-54.61812210083008,18.05951499938965,35.25368881225586,30.7836971282959,-21.05812644958496,33.92756271362305,31.832387924194336,27.84073257446289,30.876964569091797,36.99201583862305,36.74291229248047,37.35043716430664,36.86189651489258,-21.423992156982422,23.55683135986328,36.844383239746094,34.766658782958984,-56.3232536315918,27.58094596862793,0.36967897415161133,-0.3152262270450592,29.256649017333984,-15.505736351013184,-12.462982177734375,5.757382392883301,4.733295440673828,5.0243940353393555,12.272894859313965,11.63277530670166,8.115467071533203,4.774190902709961,-32.03458023071289,-13.424567222595215,-15.480805397033691,-0.5598301291465759,-27.173446655273438,-15.01801872253418,-19.539081573486328,-22.361114501953125,-24.109663009643555,-17.07069206237793,9.906956672668457,9.102105140686035,6.43960428237915,24.52206039428711,26.193437576293945,12.58918285369873,9.532770156860352,16.94184684753418,3.6354916095733643,21.66190528869629,5.070073127746582,4.03110408782959,1.517006278038025,0.8149296641349792,0.7758726477622986,-51.374263763427734,4.329101085662842,1.055569052696228,0.7887112498283386,20.308027267456055,1.4280388355255127,1.8255517482757568,-59.01457214355469,2.127349853515625,17.494983673095703,13.136438369750977,-23.216127395629883,27.047420501708984,-18.105321884155273,0.3165530562400818,10.852866172790527,26.240314483642578,28.446996688842773,22.824047088623047,-10.97382640838623,27.04841423034668,29.603803634643555,28.156553268432617,41.26041793823242,28.752403259277344,13.811002731323242,27.8227596282959,-57.91305160522461,-23.728261947631836,31.911746978759766,-29.212587356567383,-2.640894651412964,-45.87272644042969,16.336463928222656,16.199796676635742,15.870988845825195,15.184004783630371,-18.075897216796875,11.411859512329102,35.161678314208984,-2.5103976726531982,22.552146911621094,10.110495567321777,28.734954833984375,-18.171724319458008,35.56318283081055,36.137882232666016,4.929707050323486,-21.019737243652344,23.505205154418945,12.819392204284668,16.095579147338867,23.345510482788086,19.039283752441406,5.158421993255615,4.177633762359619,-21.352378845214844,10.421647071838379,4.510213375091553,4.9124555587768555,4.708600997924805,-0.6421677470207214,5.347238063812256,3.8430683612823486,30.2370548248291,22.329927444458008,18.620323181152344,-22.8757381439209,19.85860252380371,19.303565979003906,-56.59182357788086,31.98270606994629,15.205912590026855,16.172313690185547,12.945853233337402,5.328841209411621,6.4745941162109375,4.943564414978027,13.162237167358398,28.775392532348633,26.57886505126953,24.840085983276367,13.382002830505371,22.021690368652344,-13.012139320373535,18.510217666625977,-11.478691101074219,15.460714340209961,29.164609909057617,36.84438705444336,-30.322620391845703,-44.543521881103516,-57.73247528076172,39.607627868652344,15.452885627746582,-57.96953201293945,16.42662239074707,15.474809646606445,17.38951301574707,29.38175392150879,37.30118179321289,36.76948547363281,30.560161590576172,27.062217712402344,29.524507522583008,5.422863006591797,16.154666900634766,15.628740310668945,15.343281745910645,37.0173454284668,32.248634338378906,31.112640380859375,1.237475037574768,23.50710678100586,25.49349594116211,36.04241943359375,35.532470703125,28.596717834472656,-28.200754165649414,-20.56236457824707,-6.398098945617676,41.728580474853516,28.21501350402832,36.66053009033203,36.801002502441406,25.34663200378418,18.092426300048828,13.129778861999512,10.5642671585083,17.598007202148438,27.580013275146484,17.036380767822266,8.789946556091309,5.610232830047607],\"type\":\"scatter\"},{\"mode\":\"markers\",\"name\":\"True label 0, Subgroup 1\",\"x\":[46.7831916809082,-6.228385925292969,52.53517532348633,3.112884759902954,60.876670837402344,59.60879898071289,53.68425750732422,4.378255844116211,3.8315701484680176,61.54386901855469,42.255531311035156,73.54434204101562,70.66725158691406,63.61271286010742,-52.9705810546875,62.254146575927734,-75.87891387939453,55.48512649536133,68.58012390136719,65.95704650878906,3.228976249694824,67.78545379638672,11.001022338867188,29.233482360839844,5.936796188354492,60.0227165222168,58.7970085144043,5.977294445037842,74.1169662475586,71.12879180908203,63.97951126098633,6.459845066070557,38.571109771728516,59.068687438964844,54.85160446166992,36.177982330322266,-6.914772987365723,-8.407605171203613,59.677738189697266,10.725884437561035,0.9937898516654968,8.999773025512695,60.684505462646484,-47.2105827331543,65.26493835449219,60.6020622253418,47.52033996582031,67.03162384033203,63.47150421142578,22.99608612060547,-21.59781837463379,62.135292053222656,71.80670166015625,7.563148498535156,60.73799133300781,5.847078800201416,-1.8892579078674316,55.844970703125,29.881441116333008,-21.25730323791504,64.95082092285156,5.949506759643555,61.11882400512695,62.05002975463867,53.87227249145508,62.95318603515625,59.9670524597168,56.09610366821289,60.55116653442383,-3.014376163482666,66.23931884765625,42.482086181640625,67.53538513183594,62.880741119384766,63.057857513427734,-9.92333984375,-68.73455810546875,57.31481170654297,-12.962263107299805,-59.334747314453125,28.847808837890625,-52.687381744384766,25.785728454589844,-86.97261047363281,-4.065037727355957,-20.2887020111084,65.72988891601562,23.970155715942383,63.93610763549805,-1.8080906867980957,29.148845672607422,59.433162689208984,-55.6620979309082,-8.193768501281738,66.31783294677734,48.69070816040039,71.65565490722656,-1.4217709302902222,-9.34131908416748,-75.53626251220703,59.46453094482422,-6.221312522888184,11.252467155456543,47.72909164428711,-23.89406394958496,-79.08851623535156,64.22651672363281,0.5372624397277832,36.965023040771484,25.658344268798828,46.1729621887207,10.950642585754395,62.03601837158203,6.443779468536377,-13.816141128540039,-15.703733444213867,67.5610122680664,58.55328369140625,62.111820220947266,56.177364349365234,5.495516300201416,3.331315040588379,5.988300800323486,8.51603889465332,-7.045451641082764,59.91389846801758,58.695579528808594,57.80360794067383,9.900152206420898,20.23528289794922,10.85826301574707,23.164091110229492,-8.535452842712402,61.37684631347656,65.75067138671875,57.81944274902344,24.635133743286133,73.38097381591797,23.794889450073242,62.66705322265625,61.1280517578125,-0.4505656361579895,65.01876831054688,-10.350555419921875,67.49681854248047,45.349422454833984,27.157886505126953,1.5526041984558105,-9.12581729888916,-10.259354591369629,63.20111083984375,39.8767204284668,-79.92693328857422,66.53947448730469,70.22990417480469,-14.218094825744629,-5.202609062194824,-7.496800899505615,-3.7750275135040283,-1.277145266532898,-68.50650024414062,53.43894958496094,44.72355270385742,58.18209457397461,67.97944641113281,66.9876937866211,63.831520080566406,4.504419326782227,70.36908721923828,-21.317245483398438,-5.514982223510742,62.30189895629883,-5.407733917236328,-95.53783416748047,-16.553163528442383,66.21359252929688,38.15391159057617,41.219078063964844,64.34040069580078,58.45090866088867,67.78731536865234,61.239158630371094,47.70940399169922,45.18807601928711,72.74142456054688,55.292213439941406,48.775604248046875,0.143119677901268,71.92353057861328,63.7688102722168,58.74375915527344,-23.67386245727539,-24.741436004638672,37.79018020629883,1.0717108249664307,61.883087158203125,45.504249572753906,-5.40043306350708,60.116241455078125,60.55067443847656,-5.7493157386779785,73.50249481201172,66.2584457397461,56.70494079589844,66.41899871826172,22.553064346313477,-16.965681076049805,63.48525619506836,-6.2238335609436035,70.593505859375,-72.74491119384766,2.387939453125,60.183937072753906,-22.384746551513672,61.37776565551758,-81.23941040039062,57.49809265136719,65.53620147705078,59.41107177734375,58.534873962402344,61.672332763671875,1.6068787574768066,51.49789047241211,3.4131128787994385,35.46622848510742,-1.484566330909729,-31.638795852661133,-9.843083381652832,0.13707681000232697,57.5899543762207,53.0294189453125,65.58454895019531,65.32808685302734,26.030534744262695,61.54875946044922,43.8454475402832,63.738365173339844,-1.3569377660751343,-59.958702087402344,58.13140869140625,68.44679260253906,-22.482839584350586,36.15785598754883,12.917465209960938,9.114885330200195,57.56893539428711,23.60347557067871,42.221275329589844,10.485527992248535,48.688804626464844,2.4609665870666504,55.34384536743164,65.15433502197266,-25.81182861328125,58.868412017822266,-73.49588012695312,21.131839752197266,62.42217254638672,26.702516555786133,19.027996063232422,35.57157516479492,64.5797348022461,59.98093795776367,44.551673889160156,63.99211883544922,-80.96398162841797,17.641738891601562,61.31895446777344,-60.358299255371094,70.00660705566406,-18.545156478881836,-25.837495803833008,-8.064535140991211,57.05882263183594,63.226951599121094,43.57256317138672,-68.5562515258789,-27.947181701660156,-9.995548248291016,-8.237698554992676,62.40904998779297,56.88597106933594,17.434083938598633,-8.923882484436035,48.90333938598633,69.42908477783203,67.5770492553711,55.4443359375,52.234291076660156,7.126059532165527,60.75324249267578,4.3735857009887695,58.90922927856445,63.01934814453125,6.230057239532471,10.180485725402832,28.16590690612793,58.0770378112793,10.168615341186523,-1.477366328239441,62.059814453125,-25.22918128967285,62.65275955200195,64.57390594482422,-19.423742294311523,6.89747953414917,74.1583251953125,13.343527793884277,57.041683197021484,15.560338973999023,70.44468688964844,-3.7978851795196533,64.74956512451172,59.20893478393555,66.8709716796875,-9.130952835083008,70.3627700805664,66.02388000488281,-27.709455490112305,-6.7177324295043945,64.78667449951172,9.493192672729492,25.77158546447754,15.770263671875,30.051631927490234,57.680633544921875,7.6774773597717285,57.96084976196289,65.39737701416016,-1.8592239618301392,67.13927459716797,18.20489501953125,-80.86709594726562,65.75677490234375,51.892066955566406,30.02923583984375,50.81675720214844,2.67798113822937,59.967647552490234,61.652252197265625,59.063682556152344,70.71560668945312,8.38034725189209,10.469551086425781,2.6776559352874756,4.928307056427002,-2.415200710296631,66.79737854003906,-3.712143898010254,5.2572503089904785,68.21690368652344,4.7142229080200195,57.268184661865234,19.81687355041504,38.10740280151367,-8.52133560180664,64.09425354003906,39.58345413208008,71.13941192626953,64.90737915039062,-2.8512489795684814,60.1085090637207,65.83168029785156,0.891092836856842,15.158988952636719,62.334224700927734,-23.17879295349121,63.847267150878906,70.51683807373047,63.87350845336914,65.0709228515625,45.276309967041016,73.23937225341797,4.07878303527832,69.1602783203125,-56.269805908203125,55.637977600097656,64.77711486816406,74.0030746459961,65.8554458618164,-73.40213012695312,-0.5737613439559937,-1.1657756567001343,63.68486785888672,44.072265625,-24.423847198486328,20.380889892578125,56.75531768798828,60.2685432434082,-20.63604736328125,-20.206663131713867,70.55081939697266,63.84873962402344,62.5753059387207,-61.342037200927734,11.047664642333984,-64.01026916503906,61.485557556152344,-6.64453649520874,70.36080169677734,-77.39071655273438,-11.068962097167969,16.58395004272461,50.138668060302734,23.79781723022461,63.64849090576172,-75.3460922241211,5.875697135925293,9.89205551147461,59.70442581176758,60.428707122802734,22.92764663696289,-4.928929805755615,7.06074857711792,24.994325637817383,58.4283332824707,58.32027053833008,25.2144775390625,71.69303894042969,38.17427062988281,-12.71270751953125,38.86177444458008,64.58895111083984,-60.76753616333008,52.38039779663086,58.7302131652832,2.3645572662353516,-25.37571907043457,24.878395080566406,38.256290435791016,-28.697734832763672,60.897769927978516,18.286434173583984,-18.01576042175293,-53.657283782958984,-22.810998916625977,48.69101333618164,-11.059219360351562,-51.544273376464844,66.34062194824219,67.81986236572266,60.311824798583984,66.96932220458984,-23.419946670532227,42.001346588134766,52.983978271484375,57.920867919921875,38.535892486572266,8.05132007598877,8.846790313720703,3.6932015419006348,31.448345184326172,-8.546202659606934,58.96149444580078,67.97579193115234,-2.697640895843506,60.639652252197266,8.159080505371094,67.08195495605469,24.875110626220703,12.60404109954834,61.8943977355957,54.43220520019531,52.6271858215332,63.810176849365234,64.281005859375],\"y\":[-49.35808181762695,11.33260440826416,-47.01535415649414,-56.82633590698242,37.747867584228516,57.64949417114258,-40.18911361694336,-6.3758225440979,-6.247539043426514,63.08237838745117,-56.092281341552734,-16.0477352142334,3.3157148361206055,-14.017868041992188,23.590749740600586,26.035057067871094,3.897479772567749,-38.29411697387695,2.4172275066375732,27.97975730895996,-55.82209396362305,-19.037744522094727,-11.571529388427734,-55.03115463256836,-28.113107681274414,31.13221549987793,64.54088592529297,-57.33969497680664,-13.746328353881836,-4.308659553527832,36.62723159790039,-54.8551025390625,-61.352725982666016,60.755069732666016,-51.20521545410156,-59.98807907104492,-13.159348487854004,-0.2989095449447632,51.01124954223633,-8.541135787963867,-35.21596908569336,-10.4330415725708,53.78713607788086,12.09453010559082,13.394499778747559,48.294837951660156,-54.41102600097656,5.996777534484863,-38.940185546875,-70.0572738647461,10.06942081451416,21.325965881347656,-5.977794647216797,-9.30055046081543,61.63554000854492,-17.007192611694336,-55.27882385253906,-37.67506790161133,-58.758277893066406,34.97395706176758,22.481067657470703,-2.32110595703125,39.77296447753906,23.993694305419922,-48.76130294799805,-41.3310546875,58.58701705932617,-48.28316116333008,38.06708908081055,10.070192337036133,12.88034439086914,-64.03824615478516,-22.988222122192383,-39.550384521484375,58.06914520263672,-31.32701873779297,29.109539031982422,-41.37622833251953,-30.88614845275879,24.017595291137695,-57.66474151611328,4.967689514160156,-70.55258178710938,11.523039817810059,-49.91031265258789,35.86875915527344,22.138395309448242,-63.16568374633789,14.410216331481934,-46.864280700683594,-58.40365982055664,34.3190803527832,4.697218418121338,-52.44784927368164,-12.007427215576172,-41.4144287109375,-5.040582180023193,-34.683197021484375,-17.171911239624023,37.165035247802734,68.35121154785156,-29.461170196533203,-62.48309326171875,-42.638893127441406,39.07452392578125,20.19545555114746,-14.814676284790039,-37.34374237060547,-59.759857177734375,-62.727848052978516,-49.73366928100586,-24.875865936279297,-40.805084228515625,-4.978766918182373,25.267452239990234,-2.0560944080352783,-0.6490014791488647,68.73912048339844,20.1993408203125,-40.682586669921875,-11.989906311035156,-59.086341857910156,-10.899269104003906,-15.618271827697754,-17.27028465270996,32.08570861816406,62.16828918457031,-34.5187873840332,-4.702936172485352,-56.11627197265625,-10.59495735168457,-63.163909912109375,-13.951560974121094,24.268009185791016,-21.039691925048828,66.37947082519531,-69.0872573852539,-17.288230895996094,-69.83846282958984,21.827491760253906,50.408565521240234,-34.99728775024414,4.807528018951416,5.077086448669434,12.86120891571045,-50.88800811767578,-60.13528823852539,-38.248695373535156,-55.922664642333984,-21.206384658813477,20.706392288208008,-64.59981536865234,31.758852005004883,24.834428787231445,-12.174145698547363,28.98335838317871,10.723095893859863,-15.33346176147461,-49.37577438354492,11.864710807800293,4.550634384155273,-50.668880462646484,-62.20841598510742,-33.64207458496094,5.282466411590576,12.501461029052734,40.803375244140625,-57.56764602661133,-16.104942321777344,-25.188838958740234,-49.236812591552734,-15.089423179626465,-32.24284744262695,-3.0945885181427,11.38385009765625,33.872711181640625,-57.853084564208984,-64.74185943603516,12.4075927734375,-26.46010971069336,6.1881585121154785,64.27820587158203,-53.13440704345703,-49.889225006103516,-14.211296081542969,-52.062374114990234,-54.25975799560547,-38.1591796875,-16.2497615814209,28.951780319213867,34.3273811340332,5.696147441864014,38.585182189941406,-56.50617218017578,13.101724624633789,41.945987701416016,-53.79247283935547,-29.475433349609375,52.552066802978516,51.38385009765625,-33.57139587402344,-11.278730392456055,13.657857894897461,-31.428321838378906,-1.9925780296325684,-70.66997528076172,14.79338264465332,40.26643753051758,-55.293914794921875,-16.997255325317383,32.05046844482422,-39.175575256347656,-36.119232177734375,-19.211027145385742,51.85557174682617,29.38106918334961,-35.22142028808594,26.187084197998047,-36.379459381103516,63.37263488769531,25.319351196289062,-36.66191864013672,-44.07326889038086,-34.8570671081543,-57.984222412109375,-47.64677810668945,36.792518615722656,-28.77180290222168,-34.59644317626953,67.58183288574219,-44.78022384643555,-0.8203651309013367,-3.7439491748809814,-68.753173828125,49.02290344238281,-54.73656463623047,15.049352645874023,-37.05830383300781,3.3572802543640137,-27.292631149291992,3.012946128845215,11.55599594116211,-54.898826599121094,-20.741687774658203,-63.742698669433594,73.51691436767578,-61.409358978271484,-59.550025939941406,-24.323368072509766,-43.16307830810547,31.7437801361084,-39.480648040771484,-1.816265344619751,12.747178077697754,36.797298431396484,16.70566749572754,-55.30968475341797,37.999149322509766,-67.71961975097656,-64.44401550292969,-53.64673614501953,20.811880111694336,63.29874801635742,-53.93157958984375,-40.70969772338867,35.86028289794922,-62.1353645324707,40.890106201171875,18.494014739990234,4.019748210906982,13.950559616088867,10.63614273071289,-54.073646545410156,-30.38961410522461,23.919086456298828,-63.358848571777344,13.815248489379883,10.455452919006348,13.027413368225098,14.254837036132812,58.28544998168945,-49.13764190673828,-58.516815185546875,-31.204395294189453,-53.38344192504883,3.0643391609191895,7.141595363616943,-50.73176574707031,-51.5590934753418,-57.9150390625,63.170989990234375,-18.900300979614258,-30.98685073852539,18.701858520507812,-17.648897171020508,-62.53119659423828,-58.107566833496094,58.50190353393555,-11.27640151977539,-37.90264892578125,40.74482727050781,9.200016021728516,17.937602996826172,4.253053665161133,11.832188606262207,-55.16279220581055,-12.778148651123047,-15.891718864440918,71.02436828613281,-20.05088996887207,2.7118191719055176,-57.53270721435547,32.08694839477539,35.30723190307617,-18.801210403442383,-52.64915084838867,-17.996553421020508,-18.134225845336914,8.561745643615723,-32.252784729003906,14.114032745361328,-21.665544509887695,-66.99946594238281,-15.257730484008789,-55.01178741455078,71.06333923339844,-59.87189483642578,-50.231937408447266,35.86355972290039,-54.47986602783203,-10.803351402282715,-63.36833953857422,35.77104568481445,35.06233596801758,-45.96596145629883,-59.56694793701172,-45.013328552246094,-56.18758010864258,61.78437805175781,22.422157287597656,65.84534454345703,-1.3076621294021606,-60.6418571472168,-14.149731636047363,-33.69322204589844,19.743927001953125,-57.83460998535156,7.391062259674072,-56.77712631225586,-31.73593521118164,-0.6304397583007812,-31.81800079345703,72.1620864868164,-57.21906661987305,-53.67938232421875,-17.722705841064453,-11.983756065368652,-61.64437484741211,-3.134826421737671,-16.589183807373047,-47.856754302978516,65.0918197631836,6.124126434326172,-55.815208435058594,-62.27542495727539,24.6223201751709,7.282367706298828,34.70711898803711,-2.8791258335113525,35.69132614135742,26.67378044128418,-52.561153411865234,-13.370936393737793,-54.487403869628906,-13.576425552368164,6.145392894744873,-34.050140380859375,35.52326202392578,-15.120807647705078,-5.290364742279053,35.84413528442383,-36.51099395751953,-35.791419982910156,34.13418197631836,-59.2463264465332,9.496013641357422,-58.60978317260742,-38.845951080322266,-41.08736801147461,12.093109130859375,11.781196594238281,-13.957027435302734,19.945119857788086,57.509185791015625,40.98518371582031,-63.343299865722656,39.26659393310547,47.510986328125,-28.894390106201172,-0.39507046341896057,24.795753479003906,-16.87722396850586,-58.45204162597656,-52.72502136230469,-67.9085693359375,31.06488609313965,28.324499130249023,-28.639816284179688,-18.999969482421875,52.16147232055664,56.355262756347656,-57.10033416748047,-56.65504837036133,17.285606384277344,-66.5423355102539,-50.6193962097168,71.4159164428711,-67.39276885986328,-14.404281616210938,-52.949466705322266,-29.476343154907227,-50.947166442871094,-15.964167594909668,38.143150329589844,-50.82167053222656,37.517578125,-58.45747756958008,22.550582885742188,-62.23922348022461,-62.42681884765625,22.352188110351562,47.307987213134766,-57.33573532104492,14.029939651489258,25.10904884338379,-19.508047103881836,-52.598602294921875,-21.874244689941406,26.48520278930664,-8.686357498168945,1.002968192100525,49.05659866333008,5.146342754364014,3.046182870864868,-57.04901885986328,-39.24140548706055,72.7267074584961,-50.65251541137695,15.812779426574707,-61.425872802734375,22.205734252929688,-59.01860427856445,-10.890981674194336,-48.928043365478516,-23.077392578125,-48.97856140136719,40.339332580566406,-3.4185588359832764,-14.906664848327637,-69.90940856933594,-62.24711227416992,49.728031158447266,-40.0883903503418,-48.30517578125,-39.9735107421875,29.435007095336914],\"type\":\"scatter\"},{\"mode\":\"markers\",\"name\":\"True label 1, Subgroup 0\",\"x\":[-18.508020401000977,28.471588134765625,-67.47759246826172,-82.3566665649414,37.04262161254883,3.705493450164795,-77.1613540649414,-74.18265533447266,-79.76964569091797,-59.57056427001953,-7.102354526519775,-13.42033576965332,-11.286194801330566,1.212674856185913,0.14978903532028198,-12.177850723266602,-2.3362486362457275,5.185981273651123,4.631486892700195,3.036900281906128,-23.383991241455078,-29.48861312866211,-5.460925102233887,1.6358768939971924,5.317073345184326,-13.53093147277832,-38.441104888916016,2.7910516262054443,3.642656087875366,-30.611770629882812,-36.564979553222656,-2.893625497817993,-3.639843702316284,0.6670551300048828,49.62175369262695,-86.97369384765625,72.45932006835938,-87.22530364990234,-92.26264190673828,-23.766124725341797,-94.2708740234375,-23.920082092285156,57.17314529418945,-68.24224090576172,-16.12668800354004,-64.7845458984375,-42.48909378051758,-66.23397064208984,-59.78034591674805,-66.50544738769531,-48.339508056640625,-33.30557632446289,-44.38170623779297,-80.24972534179688,-23.47615623474121,-81.5382308959961,-18.899229049682617,-78.74723052978516,52.62165832519531,65.60417175292969,-26.47401237487793,-44.6553840637207,-61.1528434753418,-23.329463958740234,-43.39018249511719,-26.10694122314453,-42.298946380615234,62.80561828613281,-85.41038513183594,67.01464080810547,-21.450368881225586,-56.523624420166016,-25.60794448852539,-85.14813995361328,-18.965953826904297,15.442709922790527,11.567102432250977,13.590816497802734,34.44971466064453,12.089217185974121,15.128297805786133,67.01730346679688,-2.1328015327453613,5.468790054321289,-26.804622650146484,35.320396423339844,-25.447219848632812,-23.803659439086914,-86.88026428222656,-28.909940719604492,-52.08194351196289,-71.82630157470703,-55.546424865722656,1.7976107597351074,-2.9179680347442627,13.073994636535645,-1.583272099494934,6.795048713684082,6.258340835571289,1.4050023555755615,-2.693881034851074,1.8467117547988892,21.402751922607422,8.06531810760498,-26.054264068603516,-30.945999145507812,-95.09651947021484,-94.02387237548828,-72.79452514648438,39.53648376464844,-92.49676513671875,56.918907165527344,-93.82391357421875,-91.68174743652344,-65.42012023925781,26.206802368164062,-76.6689224243164,56.534523010253906,-30.164905548095703,-90.52259063720703,-75.65890502929688,-87.1791763305664,-85.48956298828125,-75.88705444335938,-83.86448669433594,-59.35249328613281,-89.36132049560547,-9.23430061340332,-16.369943618774414,-86.3234634399414,-55.32664489746094,-82.5181884765625,68.23059844970703],\"y\":[0.3562470078468323,-59.302127838134766,31.78708267211914,19.954118728637695,-56.52749252319336,-59.172176361083984,22.57291030883789,36.27416229248047,22.227190017700195,40.90028381347656,31.1291561126709,-28.680805206298828,29.53671646118164,19.033573150634766,19.493806838989258,30.892391204833984,-45.45607376098633,13.132735252380371,13.540891647338867,4.895905494689941,21.2753963470459,21.232500076293945,-9.11812686920166,-3.468395233154297,-4.589620590209961,-16.244873046875,16.44538688659668,-3.495945930480957,-7.428848743438721,18.99273109436035,16.12137222290039,-57.106502532958984,27.546049118041992,25.915407180786133,-42.52838134765625,5.761014461517334,-6.858351230621338,5.51943826675415,0.11394046992063522,-23.387474060058594,-2.7522037029266357,-23.90374183654785,-28.179197311401367,14.33553695678711,13.042293548583984,16.615137100219727,14.95777416229248,27.321989059448242,37.544647216796875,27.79264259338379,18.1784725189209,29.377817153930664,10.174249649047852,17.680356979370117,-17.576738357543945,18.252017974853516,-21.89550018310547,19.938859939575195,-43.77146911621094,-15.165182113647461,15.291955947875977,17.350688934326172,12.725433349609375,5.081075668334961,16.881874084472656,15.067621231079102,16.406938552856445,-38.977046966552734,6.267434120178223,24.30215072631836,34.49169921875,20.912132263183594,14.3746919631958,6.546933174133301,-20.210006713867188,-14.527703285217285,-23.91409683227539,-21.217941284179688,-55.51353073120117,-19.343021392822266,-20.970285415649414,-13.917306900024414,-56.195167541503906,-32.59836196899414,38.95283889770508,-56.25480270385742,39.01942825317383,-16.52842140197754,16.278928756713867,10.689053535461426,24.103967666625977,5.8964972496032715,3.468425989151001,21.273714065551758,27.339860916137695,3.9177627563476562,-45.7869873046875,-56.26133346557617,18.076702117919922,21.550853729248047,26.472230911254883,22.672178268432617,-56.840850830078125,14.045144081115723,21.217039108276367,25.680017471313477,-4.587714195251465,-4.166350364685059,7.535140037536621,-50.41761779785156,-2.6016886234283447,-26.393077850341797,-3.62602162361145,-2.3870527744293213,6.592132568359375,-53.11451721191406,35.27561569213867,-29.528907775878906,24.141904830932617,-0.0459909550845623,15.88856029510498,3.936870574951172,9.485833168029785,15.290560722351074,4.209190368652344,23.97144317626953,-1.4911280870437622,-55.97511291503906,11.832939147949219,11.03725528717041,2.2889158725738525,6.901862144470215,-20.758739471435547],\"type\":\"scatter\"},{\"mode\":\"markers\",\"name\":\"True label 1, Subgroup 1\",\"x\":[60.119625091552734,72.76596069335938,65.41763305664062,51.16753005981445,-12.771706581115723,-14.430757522583008,5.743415355682373,58.68793869018555,64.96626281738281,66.27427673339844,4.028689861297607,17.40854263305664,36.64650344848633,22.64585304260254,44.245967864990234,18.026304244995117,58.635562896728516,67.1572036743164,-11.49729061126709,-6.401806354522705,65.08956146240234,11.087355613708496,62.694149017333984,67.91959381103516,13.688916206359863,1.8887499570846558,-9.028246879577637,13.86229419708252,58.39934539794922,63.98902893066406,61.87671661376953,-12.963529586791992,29.45376205444336,32.691532135009766,23.060344696044922,-23.941295623779297,63.588111877441406,-17.215394973754883,62.60354995727539,62.9613151550293,39.17923355102539,71.75273895263672,37.24119186401367,-43.388431549072266,67.80880737304688,-0.16902683675289154,62.96954345703125,74.69427490234375,-21.938671112060547,61.895206451416016,2.3111722469329834,73.1217269897461,-22.946468353271484,-21.785232543945312,27.565187454223633,45.84085464477539,69.72563934326172,60.66602325439453,47.22248458862305,59.79197692871094,-4.918708324432373,-23.108762741088867,57.994144439697266,66.1174087524414,-20.86102294921875,-72.23175811767578,-2.994127035140991,56.93630599975586,15.60731315612793,15.034385681152344,56.45123291015625,34.78577423095703,10.147618293762207,59.77317428588867,-91.59451293945312,-16.95440673828125,26.81899642944336,62.49071502685547,-64.48802947998047,62.40943145751953,64.4064712524414,47.907108306884766,56.853965759277344,57.77768325805664,66.41549682617188,9.088391304016113,59.66862869262695,38.95237350463867,4.6026787757873535,65.84632873535156,66.9847640991211,-11.268009185791016,59.34495544433594,19.39667320251465,66.10211944580078,70.00007629394531,53.150543212890625,-2.881274461746216,-6.831573486328125,67.34889221191406,56.86613464355469,61.83229064941406,-36.83085632324219,-45.18645477294922,34.209842681884766,-38.13438415527344,-18.243148803710938,58.222145080566406,-13.061346054077148,25.115266799926758,-5.114340305328369,58.90546417236328,23.947628021240234,-13.001413345336914,-85.45528411865234,11.34841251373291,58.0536003112793,62.09475326538086,65.92327880859375,61.409080505371094,55.99002456665039,68.88784790039062,-24.599145889282227,59.03816223144531,44.89030456542969,-67.40662384033203,-57.84308624267578,-24.6641788482666,63.68180465698242,46.235416412353516,56.585777282714844,67.50209045410156,58.20254135131836],\"y\":[67.97793579101562,-9.997331619262695,-2.5391106605529785,-42.65161895751953,3.1156983375549316,26.969806671142578,-3.168048620223999,67.60132598876953,14.655118942260742,-14.47071647644043,20.457347869873047,-60.84205627441406,-59.06672286987305,-62.78145217895508,-62.65576934814453,-59.351741790771484,58.493282318115234,-8.70988941192627,30.010852813720703,-16.518932342529297,30.973196029663086,-12.347021102905273,31.14417266845703,-1.319214940071106,-62.37825012207031,-34.62682342529297,31.457361221313477,-2.4651448726654053,40.60868835449219,4.040769577026367,-14.075800895690918,2.4032211303710938,-56.498477935791016,-59.733978271484375,-64.204833984375,11.768263816833496,25.641860961914062,13.578241348266602,17.115854263305664,59.2939338684082,-56.448734283447266,-17.098648071289062,-61.20457458496094,9.654443740844727,-22.043394088745117,-35.79438781738281,16.016977310180664,-11.91201114654541,35.75108337402344,64.38212585449219,-2.4115684032440186,-16.598657608032227,9.09040641784668,10.826099395751953,-53.343345642089844,-53.08358383178711,-2.244297981262207,66.81156158447266,-43.32424545288086,-50.25578308105469,-49.38070297241211,8.240621566772461,36.00077819824219,22.628158569335938,34.30364227294922,33.76203536987305,-54.053802490234375,73.43181610107422,-19.132532119750977,-22.651859283447266,-51.3524055480957,-57.05594253540039,-63.19289016723633,67.34258270263672,2.079240322113037,36.83621597290039,-59.05293273925781,49.10592269897461,4.408202648162842,48.01367950439453,-39.5718994140625,-43.96851348876953,-50.59112548828125,70.34750366210938,10.160052299499512,-19.91297149658203,-35.64451217651367,-62.15850830078125,-33.31413650512695,-12.612462997436523,-7.45115852355957,1.2904199361801147,66.54812622070312,-58.67836380004883,-9.49916934967041,-15.39205551147461,-47.72469711303711,-38.04413604736328,-52.59965515136719,-20.648176193237305,36.74942398071289,-14.662327766418457,24.2276611328125,19.697185516357422,-57.62063980102539,12.356657981872559,37.15839385986328,59.375675201416016,-0.8576037883758545,-58.73659896850586,-10.388532638549805,40.0186653137207,-63.92673873901367,-21.468463897705078,9.641379356384277,-61.41261291503906,-31.82130241394043,46.181304931640625,20.43805694580078,-41.52083969116211,-49.82084655761719,-20.383872985839844,-23.759613037109375,36.00348663330078,-58.64533233642578,16.507936477661133,25.23263168334961,-20.371063232421875,39.52896499633789,-48.11240768432617,-35.09745407104492,-19.700624465942383,-36.617919921875],\"type\":\"scatter\"}],                        {\"template\":{\"data\":{\"barpolar\":[{\"marker\":{\"line\":{\"color\":\"#E5ECF6\",\"width\":0.5},\"pattern\":{\"fillmode\":\"overlay\",\"size\":10,\"solidity\":0.2}},\"type\":\"barpolar\"}],\"bar\":[{\"error_x\":{\"color\":\"#2a3f5f\"},\"error_y\":{\"color\":\"#2a3f5f\"},\"marker\":{\"line\":{\"color\":\"#E5ECF6\",\"width\":0.5},\"pattern\":{\"fillmode\":\"overlay\",\"size\":10,\"solidity\":0.2}},\"type\":\"bar\"}],\"carpet\":[{\"aaxis\":{\"endlinecolor\":\"#2a3f5f\",\"gridcolor\":\"white\",\"linecolor\":\"white\",\"minorgridcolor\":\"white\",\"startlinecolor\":\"#2a3f5f\"},\"baxis\":{\"endlinecolor\":\"#2a3f5f\",\"gridcolor\":\"white\",\"linecolor\":\"white\",\"minorgridcolor\":\"white\",\"startlinecolor\":\"#2a3f5f\"},\"type\":\"carpet\"}],\"choropleth\":[{\"colorbar\":{\"outlinewidth\":0,\"ticks\":\"\"},\"type\":\"choropleth\"}],\"contourcarpet\":[{\"colorbar\":{\"outlinewidth\":0,\"ticks\":\"\"},\"type\":\"contourcarpet\"}],\"contour\":[{\"colorbar\":{\"outlinewidth\":0,\"ticks\":\"\"},\"colorscale\":[[0.0,\"#0d0887\"],[0.1111111111111111,\"#46039f\"],[0.2222222222222222,\"#7201a8\"],[0.3333333333333333,\"#9c179e\"],[0.4444444444444444,\"#bd3786\"],[0.5555555555555556,\"#d8576b\"],[0.6666666666666666,\"#ed7953\"],[0.7777777777777778,\"#fb9f3a\"],[0.8888888888888888,\"#fdca26\"],[1.0,\"#f0f921\"]],\"type\":\"contour\"}],\"heatmapgl\":[{\"colorbar\":{\"outlinewidth\":0,\"ticks\":\"\"},\"colorscale\":[[0.0,\"#0d0887\"],[0.1111111111111111,\"#46039f\"],[0.2222222222222222,\"#7201a8\"],[0.3333333333333333,\"#9c179e\"],[0.4444444444444444,\"#bd3786\"],[0.5555555555555556,\"#d8576b\"],[0.6666666666666666,\"#ed7953\"],[0.7777777777777778,\"#fb9f3a\"],[0.8888888888888888,\"#fdca26\"],[1.0,\"#f0f921\"]],\"type\":\"heatmapgl\"}],\"heatmap\":[{\"colorbar\":{\"outlinewidth\":0,\"ticks\":\"\"},\"colorscale\":[[0.0,\"#0d0887\"],[0.1111111111111111,\"#46039f\"],[0.2222222222222222,\"#7201a8\"],[0.3333333333333333,\"#9c179e\"],[0.4444444444444444,\"#bd3786\"],[0.5555555555555556,\"#d8576b\"],[0.6666666666666666,\"#ed7953\"],[0.7777777777777778,\"#fb9f3a\"],[0.8888888888888888,\"#fdca26\"],[1.0,\"#f0f921\"]],\"type\":\"heatmap\"}],\"histogram2dcontour\":[{\"colorbar\":{\"outlinewidth\":0,\"ticks\":\"\"},\"colorscale\":[[0.0,\"#0d0887\"],[0.1111111111111111,\"#46039f\"],[0.2222222222222222,\"#7201a8\"],[0.3333333333333333,\"#9c179e\"],[0.4444444444444444,\"#bd3786\"],[0.5555555555555556,\"#d8576b\"],[0.6666666666666666,\"#ed7953\"],[0.7777777777777778,\"#fb9f3a\"],[0.8888888888888888,\"#fdca26\"],[1.0,\"#f0f921\"]],\"type\":\"histogram2dcontour\"}],\"histogram2d\":[{\"colorbar\":{\"outlinewidth\":0,\"ticks\":\"\"},\"colorscale\":[[0.0,\"#0d0887\"],[0.1111111111111111,\"#46039f\"],[0.2222222222222222,\"#7201a8\"],[0.3333333333333333,\"#9c179e\"],[0.4444444444444444,\"#bd3786\"],[0.5555555555555556,\"#d8576b\"],[0.6666666666666666,\"#ed7953\"],[0.7777777777777778,\"#fb9f3a\"],[0.8888888888888888,\"#fdca26\"],[1.0,\"#f0f921\"]],\"type\":\"histogram2d\"}],\"histogram\":[{\"marker\":{\"pattern\":{\"fillmode\":\"overlay\",\"size\":10,\"solidity\":0.2}},\"type\":\"histogram\"}],\"mesh3d\":[{\"colorbar\":{\"outlinewidth\":0,\"ticks\":\"\"},\"type\":\"mesh3d\"}],\"parcoords\":[{\"line\":{\"colorbar\":{\"outlinewidth\":0,\"ticks\":\"\"}},\"type\":\"parcoords\"}],\"pie\":[{\"automargin\":true,\"type\":\"pie\"}],\"scatter3d\":[{\"line\":{\"colorbar\":{\"outlinewidth\":0,\"ticks\":\"\"}},\"marker\":{\"colorbar\":{\"outlinewidth\":0,\"ticks\":\"\"}},\"type\":\"scatter3d\"}],\"scattercarpet\":[{\"marker\":{\"colorbar\":{\"outlinewidth\":0,\"ticks\":\"\"}},\"type\":\"scattercarpet\"}],\"scattergeo\":[{\"marker\":{\"colorbar\":{\"outlinewidth\":0,\"ticks\":\"\"}},\"type\":\"scattergeo\"}],\"scattergl\":[{\"marker\":{\"colorbar\":{\"outlinewidth\":0,\"ticks\":\"\"}},\"type\":\"scattergl\"}],\"scattermapbox\":[{\"marker\":{\"colorbar\":{\"outlinewidth\":0,\"ticks\":\"\"}},\"type\":\"scattermapbox\"}],\"scatterpolargl\":[{\"marker\":{\"colorbar\":{\"outlinewidth\":0,\"ticks\":\"\"}},\"type\":\"scatterpolargl\"}],\"scatterpolar\":[{\"marker\":{\"colorbar\":{\"outlinewidth\":0,\"ticks\":\"\"}},\"type\":\"scatterpolar\"}],\"scatter\":[{\"fillpattern\":{\"fillmode\":\"overlay\",\"size\":10,\"solidity\":0.2},\"type\":\"scatter\"}],\"scatterternary\":[{\"marker\":{\"colorbar\":{\"outlinewidth\":0,\"ticks\":\"\"}},\"type\":\"scatterternary\"}],\"surface\":[{\"colorbar\":{\"outlinewidth\":0,\"ticks\":\"\"},\"colorscale\":[[0.0,\"#0d0887\"],[0.1111111111111111,\"#46039f\"],[0.2222222222222222,\"#7201a8\"],[0.3333333333333333,\"#9c179e\"],[0.4444444444444444,\"#bd3786\"],[0.5555555555555556,\"#d8576b\"],[0.6666666666666666,\"#ed7953\"],[0.7777777777777778,\"#fb9f3a\"],[0.8888888888888888,\"#fdca26\"],[1.0,\"#f0f921\"]],\"type\":\"surface\"}],\"table\":[{\"cells\":{\"fill\":{\"color\":\"#EBF0F8\"},\"line\":{\"color\":\"white\"}},\"header\":{\"fill\":{\"color\":\"#C8D4E3\"},\"line\":{\"color\":\"white\"}},\"type\":\"table\"}]},\"layout\":{\"annotationdefaults\":{\"arrowcolor\":\"#2a3f5f\",\"arrowhead\":0,\"arrowwidth\":1},\"autotypenumbers\":\"strict\",\"coloraxis\":{\"colorbar\":{\"outlinewidth\":0,\"ticks\":\"\"}},\"colorscale\":{\"diverging\":[[0,\"#8e0152\"],[0.1,\"#c51b7d\"],[0.2,\"#de77ae\"],[0.3,\"#f1b6da\"],[0.4,\"#fde0ef\"],[0.5,\"#f7f7f7\"],[0.6,\"#e6f5d0\"],[0.7,\"#b8e186\"],[0.8,\"#7fbc41\"],[0.9,\"#4d9221\"],[1,\"#276419\"]],\"sequential\":[[0.0,\"#0d0887\"],[0.1111111111111111,\"#46039f\"],[0.2222222222222222,\"#7201a8\"],[0.3333333333333333,\"#9c179e\"],[0.4444444444444444,\"#bd3786\"],[0.5555555555555556,\"#d8576b\"],[0.6666666666666666,\"#ed7953\"],[0.7777777777777778,\"#fb9f3a\"],[0.8888888888888888,\"#fdca26\"],[1.0,\"#f0f921\"]],\"sequentialminus\":[[0.0,\"#0d0887\"],[0.1111111111111111,\"#46039f\"],[0.2222222222222222,\"#7201a8\"],[0.3333333333333333,\"#9c179e\"],[0.4444444444444444,\"#bd3786\"],[0.5555555555555556,\"#d8576b\"],[0.6666666666666666,\"#ed7953\"],[0.7777777777777778,\"#fb9f3a\"],[0.8888888888888888,\"#fdca26\"],[1.0,\"#f0f921\"]]},\"colorway\":[\"#636efa\",\"#EF553B\",\"#00cc96\",\"#ab63fa\",\"#FFA15A\",\"#19d3f3\",\"#FF6692\",\"#B6E880\",\"#FF97FF\",\"#FECB52\"],\"font\":{\"color\":\"#2a3f5f\"},\"geo\":{\"bgcolor\":\"white\",\"lakecolor\":\"white\",\"landcolor\":\"#E5ECF6\",\"showlakes\":true,\"showland\":true,\"subunitcolor\":\"white\"},\"hoverlabel\":{\"align\":\"left\"},\"hovermode\":\"closest\",\"mapbox\":{\"style\":\"light\"},\"paper_bgcolor\":\"white\",\"plot_bgcolor\":\"#E5ECF6\",\"polar\":{\"angularaxis\":{\"gridcolor\":\"white\",\"linecolor\":\"white\",\"ticks\":\"\"},\"bgcolor\":\"#E5ECF6\",\"radialaxis\":{\"gridcolor\":\"white\",\"linecolor\":\"white\",\"ticks\":\"\"}},\"scene\":{\"xaxis\":{\"backgroundcolor\":\"#E5ECF6\",\"gridcolor\":\"white\",\"gridwidth\":2,\"linecolor\":\"white\",\"showbackground\":true,\"ticks\":\"\",\"zerolinecolor\":\"white\"},\"yaxis\":{\"backgroundcolor\":\"#E5ECF6\",\"gridcolor\":\"white\",\"gridwidth\":2,\"linecolor\":\"white\",\"showbackground\":true,\"ticks\":\"\",\"zerolinecolor\":\"white\"},\"zaxis\":{\"backgroundcolor\":\"#E5ECF6\",\"gridcolor\":\"white\",\"gridwidth\":2,\"linecolor\":\"white\",\"showbackground\":true,\"ticks\":\"\",\"zerolinecolor\":\"white\"}},\"shapedefaults\":{\"line\":{\"color\":\"#2a3f5f\"}},\"ternary\":{\"aaxis\":{\"gridcolor\":\"white\",\"linecolor\":\"white\",\"ticks\":\"\"},\"baxis\":{\"gridcolor\":\"white\",\"linecolor\":\"white\",\"ticks\":\"\"},\"bgcolor\":\"#E5ECF6\",\"caxis\":{\"gridcolor\":\"white\",\"linecolor\":\"white\",\"ticks\":\"\"}},\"title\":{\"x\":0.05},\"xaxis\":{\"automargin\":true,\"gridcolor\":\"white\",\"linecolor\":\"white\",\"ticks\":\"\",\"title\":{\"standoff\":15},\"zerolinecolor\":\"white\",\"zerolinewidth\":2},\"yaxis\":{\"automargin\":true,\"gridcolor\":\"white\",\"linecolor\":\"white\",\"ticks\":\"\",\"title\":{\"standoff\":15},\"zerolinecolor\":\"white\",\"zerolinewidth\":2}}},\"title\":{\"text\":\"Visualizing Clusters in Two Dimensions Using t-SNE\"},\"xaxis\":{\"ticklen\":5,\"title\":{\"text\":\"TC1\"},\"zeroline\":false},\"yaxis\":{\"ticklen\":5,\"title\":{\"text\":\"TC2\"},\"zeroline\":false}},                        {\"responsive\": true}                    ).then(function(){\n",
              "                            \n",
              "var gd = document.getElementById('311d2271-540d-4218-84fa-5eca8dafea3a');\n",
              "var x = new MutationObserver(function (mutations, observer) {{\n",
              "        var display = window.getComputedStyle(gd).display;\n",
              "        if (!display || display === 'none') {{\n",
              "            console.log([gd, 'removed!']);\n",
              "            Plotly.purge(gd);\n",
              "            observer.disconnect();\n",
              "        }}\n",
              "}});\n",
              "\n",
              "// Listen for the removal of the full notebook cells\n",
              "var notebookContainer = gd.closest('#notebook-container');\n",
              "if (notebookContainer) {{\n",
              "    x.observe(notebookContainer, {childList: true});\n",
              "}}\n",
              "\n",
              "// Listen for the clearing of the current output cell\n",
              "var outputEl = gd.closest('.output');\n",
              "if (outputEl) {{\n",
              "    x.observe(outputEl, {childList: true});\n",
              "}}\n",
              "\n",
              "                        })                };                            </script>        </div>\n",
              "</body>\n",
              "</html>"
            ]
          },
          "metadata": {}
        }
      ]
    },
    {
      "cell_type": "code",
      "source": [
        "go.Figure.write_html(fig,\"/content/drive/MyDrive/CS260D_final_project/plots/waterbirds_tSNE_plot.html\") # write as html or image"
      ],
      "metadata": {
        "id": "QRSldc2h0jkK"
      },
      "execution_count": null,
      "outputs": []
    },
    {
      "cell_type": "code",
      "source": [
        "#T-SNE with two dimensions\n",
        "tsne = TSNE(n_components=2, perplexity=perplexity, n_iter = 3000)\n",
        "\n",
        "TCs = pd.DataFrame(tsne.fit_transform(embeddings))\n",
        "TCs.columns = [\"TC1\",\"TC2\"]\n",
        "TCs['true_label'] = embs['true_label']\n",
        "TCs['spurious_label'] = embs['spurious_label']\n",
        "# Find best perplexity value\n",
        "traces = []\n",
        "for true_label, df in TCs.groupby(['true_label']):\n",
        "  traces.append(go.Scatter(x = df['TC1'], y = df['TC2'], mode = \"markers\", name = f\"True label {true_label}\", text = None))\n",
        "\n",
        "title = f\"t-SNE Cluster Visualization of Embedded Data Grouped by True Label, Perplexity = {perplexity}\"\n",
        "layout = dict(title = title,\n",
        "              xaxis= dict(title= 'TC1',ticklen= 5,zeroline= False),\n",
        "              yaxis= dict(title= 'TC2',ticklen= 5,zeroline= False),\n",
        "              width = 1000,\n",
        "              height = 1000\n",
        "              #zaxis= dict(title= 'TC3',ticklen= 5,zeroline= False)\n",
        "            )\n",
        "\n",
        "fig = dict(\n",
        "    data = traces,\n",
        "    layout = layout\n",
        ")\n",
        "iplot(fig)\n",
        "go.Figure.write_html(fig,\"/content/drive/MyDrive/CS260D_final_project/plots/waterbirds_tSNE_true_plot.html\") # write as html or image"
      ],
      "metadata": {
        "colab": {
          "base_uri": "https://localhost:8080/",
          "height": 1000
        },
        "id": "HdKgTNhtj6Sp",
        "outputId": "fa107d16-ea81-4271-a8a4-43fc42db4233"
      },
      "execution_count": null,
      "outputs": [
        {
          "output_type": "stream",
          "name": "stderr",
          "text": [
            "<ipython-input-65-58c2be87bbcc>:10: FutureWarning:\n",
            "\n",
            "In a future version of pandas, a length 1 tuple will be returned when iterating over a groupby with a grouper equal to a list of length 1. Don't supply a list with a single grouper to avoid this warning.\n",
            "\n"
          ]
        },
        {
          "output_type": "display_data",
          "data": {
            "text/html": [
              "<html>\n",
              "<head><meta charset=\"utf-8\" /></head>\n",
              "<body>\n",
              "    <div>            <script src=\"https://cdnjs.cloudflare.com/ajax/libs/mathjax/2.7.5/MathJax.js?config=TeX-AMS-MML_SVG\"></script><script type=\"text/javascript\">if (window.MathJax && window.MathJax.Hub && window.MathJax.Hub.Config) {window.MathJax.Hub.Config({SVG: {font: \"STIX-Web\"}});}</script>                <script type=\"text/javascript\">window.PlotlyConfig = {MathJaxConfig: 'local'};</script>\n",
              "        <script charset=\"utf-8\" src=\"https://cdn.plot.ly/plotly-2.24.1.min.js\"></script>                <div id=\"e7181aa4-67ef-4c77-b0d0-38630e7d95b4\" class=\"plotly-graph-div\" style=\"height:1000px; width:1000px;\"></div>            <script type=\"text/javascript\">                                    window.PLOTLYENV=window.PLOTLYENV || {};                                    if (document.getElementById(\"e7181aa4-67ef-4c77-b0d0-38630e7d95b4\")) {                    Plotly.newPlot(                        \"e7181aa4-67ef-4c77-b0d0-38630e7d95b4\",                        [{\"mode\":\"markers\",\"name\":\"True label 0\",\"x\":[-41.68313980102539,-2.7874972820281982,-15.944539070129395,18.47542381286621,-14.265654563903809,-4.43072509765625,-16.018388748168945,44.124717712402344,-11.394152641296387,47.29219436645508,-34.627925872802734,17.599842071533203,50.35104751586914,-27.552494049072266,-12.985742568969727,44.86061096191406,-26.685012817382812,48.39211654663086,0.7963190674781799,-3.4673445224761963,0.6206306219100952,-2.6089582443237305,11.938017845153809,-26.087705612182617,-20.353694915771484,-39.32170104980469,44.614036560058594,-3.222971200942993,-30.994543075561523,40.04753875732422,60.069908142089844,-48.65145492553711,-11.312685012817383,58.997528076171875,-10.921085357666016,-4.864389419555664,54.94101333618164,38.524200439453125,-37.13542556762695,52.99063491821289,-58.14326477050781,49.866878509521484,-48.33604049682617,57.750640869140625,55.20878601074219,-57.77940368652344,-60.09612274169922,-58.092193603515625,-54.539100646972656,17.716758728027344,-57.03402328491211,-55.85048294067383,56.93682098388672,5.966884136199951,4.888267993927002,5.149374485015869,32.64935302734375,9.067851066589355,5.8470563888549805,51.660400390625,42.747100830078125,7.1374711990356445,-0.20370978116989136,18.645999908447266,60.85185241699219,-5.1041436195373535,-9.219139099121094,-34.40239715576172,-31.845605850219727,59.30329895019531,51.91632843017578,-3.8029592037200928,-3.565297842025757,-7.778865337371826,16.66644859313965,37.01710891723633,-2.9367709159851074,43.62384033203125,13.331531524658203,-9.381746292114258,-22.729154586791992,47.33082962036133,48.28046798706055,35.77212905883789,-2.7821335792541504,-8.54430866241455,-6.912448406219482,-11.018975257873535,46.986698150634766,-9.462420463562012,2.7069647312164307,-23.616600036621094,-8.251689910888672,10.690450668334961,4.091329574584961,46.31334686279297,-32.399314880371094,-49.149417877197266,-39.85509490966797,56.093196868896484,-36.33506393432617,48.60366439819336,-30.12350082397461,43.39543151855469,56.72316360473633,-39.467926025390625,54.719322204589844,-37.23866271972656,29.230867385864258,-21.002737045288086,-37.50629425048828,-38.4139404296875,53.66923522949219,-8.847070693969727,59.852882385253906,3.1634151935577393,-8.583772659301758,0.08026440441608429,-10.824338912963867,-23.60920524597168,3.6055030822753906,-6.257562637329102,44.53069305419922,5.152829647064209,-10.005899429321289,3.4300763607025146,14.061309814453125,50.02552795410156,13.43359088897705,32.848140716552734,-24.553285598754883,-20.708873748779297,55.041316986083984,-35.73179626464844,0.03103805147111416,-40.75575637817383,-33.54082489013672,49.95201873779297,-32.56429672241211,-26.910709381103516,53.299400329589844,48.118621826171875,-1.299094796180725,-23.500062942504883,54.66853713989258,3.6609714031219482,9.417263984680176,2.925196886062622,-7.774843215942383,-6.120432376861572,-8.039613723754883,44.696067810058594,49.36582946777344,-8.21520709991455,-10.163642883300781,12.954569816589355,11.35798168182373,-20.82080841064453,50.07452392578125,-8.227310180664062,56.6037483215332,-56.93479537963867,-31.34957504272461,38.968894958496094,55.86849594116211,54.43728256225586,-56.84130859375,-50.840179443359375,46.50433349609375,-49.49272537231445,-57.537330627441406,2.8495497703552246,-50.30138397216797,50.56753158569336,1.0912717580795288,-64.07817840576172,-43.6951789855957,32.23338317871094,-41.871185302734375,32.21589660644531,-63.22771453857422,53.22101593017578,50.79643630981445,-52.28542709350586,-42.46257400512695,11.953007698059082,-49.629058837890625,-58.571285247802734,-56.947425842285156,-23.32663345336914,55.660953521728516,29.564403533935547,55.01279830932617,12.015486717224121,-26.864961624145508,47.07341003417969,32.40972137451172,50.43912124633789,-53.94336700439453,-43.506317138671875,-2.4390697479248047,-43.616920471191406,-28.42618179321289,9.759263038635254,56.86177062988281,44.901615142822266,59.77377700805664,8.921913146972656,-2.50032639503479,-61.684940338134766,-48.33625793457031,42.379547119140625,-56.27503967285156,-48.966041564941406,5.8154096603393555,22.577299118041992,-61.351070404052734,44.140625,-26.367826461791992,-56.17044448852539,-56.598655700683594,55.22566604614258,10.980315208435059,36.46550369262695,-31.342470169067383,-49.29141616821289,30.815732955932617,9.747771263122559,43.477725982666016,10.259166717529297,10.7461519241333,11.134821891784668,-3.6302413940429688,-9.86262035369873,53.97734832763672,27.37546730041504,1.1599045991897583,24.096805572509766,-4.37106990814209,-20.02903175354004,-33.726112365722656,-11.585053443908691,57.300540924072266,-11.721603393554688,-28.57269859313965,-9.360776901245117,41.73958206176758,46.2413215637207,53.484981536865234,-51.79013442993164,49.805416107177734,-6.154352188110352,3.701451301574707,-5.736055374145508,20.532094955444336,-6.523394584655762,4.608617782592773,2.7511677742004395,5.651450157165527,-5.331307411193848,-28.36753273010254,-0.9072601199150085,0.5385998487472534,51.02899932861328,42.98414611816406,51.35396194458008,2.9762935638427734,26.133224487304688,4.433329105377197,28.50571060180664,0.6233886480331421,-6.336988925933838,-22.465057373046875,-6.239267826080322,-5.746608257293701,-3.4368019104003906,52.896732330322266,3.662792444229126,55.17108917236328,41.74769973754883,-25.95635223388672,30.656808853149414,-33.175636291503906,-4.946002960205078,-38.291648864746094,-34.20805740356445,-7.731471061706543,-32.63791275024414,-0.00018235319294035435,59.54702377319336,30.053058624267578,-28.734201431274414,53.997962951660156,47.65782928466797,-12.753886222839355,9.771270751953125,55.663841247558594,-11.464414596557617,57.3581428527832,-57.75196838378906,-63.152652740478516,42.56339645385742,31.032855987548828,-66.90753936767578,11.956665992736816,10.274652481079102,-1.5683506727218628,54.33633041381836,36.17033767700195,-51.651275634765625,-52.316253662109375,-10.109393119812012,-56.23017120361328,56.076908111572266,-50.92812728881836,59.019901275634766,-46.73553466796875,-42.087974548339844,-43.59589385986328,-46.99047088623047,-20.77345848083496,-10.333189964294434,-2.212402820587158,-22.721742630004883,12.06863784790039,-9.492596626281738,-33.38727951049805,-52.732322692871094,-59.735435485839844,47.554813385009766,41.3643684387207,-44.86082458496094,51.67917251586914,-56.22846221923828,-58.538604736328125,-58.34791946411133,-56.4372444152832,-43.79108428955078,57.35700225830078,-58.99370574951172,57.092044830322266,51.317874908447266,19.469669342041016,58.067039489746094,-70.39550018310547,-6.389104843139648,10.789007186889648,53.8222770690918,5.933650493621826,-69.85955810546875,-66.50739288330078,-18.074878692626953,53.97493362426758,-71.15916442871094,-70.61509704589844,37.35259246826172,37.600563049316406,55.79597473144531,52.250606536865234,57.24913024902344,-29.4321346282959,-32.450504302978516,44.084190368652344,43.826210021972656,-11.572334289550781,42.43642044067383,-35.32057571411133,-29.323049545288086,-34.64063262939453,59.90980911254883,-56.14712905883789,48.2875862121582,-27.544219970703125,-35.200408935546875,-25.021060943603516,-68.95892333984375,44.57882308959961,11.00901985168457,-46.25245666503906,-30.545934677124023,-21.10715675354004,55.015445709228516,59.17018127441406,53.57155227661133,3.7943272590637207,49.89826965332031,-46.93143081665039,-22.273950576782227,-49.3743896484375,-27.127365112304688,37.399410247802734,-50.252281188964844,-7.578579425811768,22.989574432373047,-50.32579040527344,50.01522445678711,25.118789672851562,-3.0923471450805664,-26.611080169677734,-5.2853102684021,42.411277770996094,51.12971115112305,-4.500862121582031,-5.648890495300293,-7.295644760131836,31.190279006958008,2.454313278198242,6.682774066925049,-6.228451728820801,46.12413024902344,46.95729064941406,5.738807201385498,-10.424753189086914,6.916749000549316,60.737361907958984,56.28422164916992,-64.4366226196289,50.516136169433594,56.63736343383789,29.050945281982422,-40.52817916870117,-10.43377685546875,-43.49037170410156,-51.77861404418945,-8.428590774536133,-17.16045379638672,51.10761260986328,-65.03791046142578,-61.56605529785156,11.807648658752441,-55.214256286621094,58.181339263916016,-48.71424865722656,-54.49726486206055,-49.700836181640625,-35.26353454589844,12.978589057922363,53.160396575927734,-9.175512313842773,46.9796257019043,-1.0561491250991821,-55.324493408203125,-47.4104118347168,51.0901985168457,55.271095275878906,52.525482177734375,39.488121032714844,1.7261886596679688,-11.790261268615723,-10.1748046875,42.52231979370117,-9.951242446899414,-11.084823608398438,-24.890886306762695,-3.3370566368103027,-5.062526226043701,53.2947883605957,-27.315885543823242,11.350931167602539,-9.5678129196167,46.85310363769531,11.451918601989746,-30.457250595092773,35.743526458740234,12.97743034362793,-31.52297019958496,-31.051406860351562,2.1447017192840576,-47.36966323852539,9.968717575073242,41.30414581298828,-30.516511917114258,-43.45081329345703,48.049102783203125,56.033287048339844,55.92829513549805,-14.44009780883789,31.502351760864258,48.36895751953125,41.095672607421875,-47.91886901855469,54.71382522583008,-48.797794342041016,-55.22117614746094,9.633584022521973,-55.835365295410156,-46.99561309814453,-46.28070068359375,-31.877771377563477,51.65287780761719,57.53908920288086,-37.241214752197266,-21.328994750976562,9.353290557861328,36.84015655517578,-11.841463088989258,-11.448610305786133,-11.869930267333984,9.561467170715332,22.36370849609375,40.163536071777344,28.70787239074707,37.40686798095703,39.42131042480469,9.84448528289795,-11.574787139892578,44.9370231628418,-11.183778762817383,1.920516848564148,49.59173583984375,55.7340202331543,-24.560754776000977,-37.43928527832031,-55.2541389465332,49.30573272705078,-54.010986328125,-45.761714935302734,26.794281005859375,-37.913307189941406,-44.84817886352539,-54.850467681884766,51.024776458740234,32.05485153198242,-36.505062103271484,27.980998992919922,14.736196517944336,-56.72911071777344,-57.24154281616211,31.742570877075195,-57.34281539916992,36.265281677246094,-10.909112930297852,-48.075401306152344,55.227317810058594,43.511898040771484,41.65298843383789,55.32352828979492,-36.60462951660156,-63.039833068847656,-48.50336456298828,26.09641456604004,-49.61986541748047,49.614498138427734,-60.63334274291992,-44.7509765625,-44.855613708496094,58.44635772705078,-18.51991844177246,-24.051902770996094,10.371678352355957,25.158266067504883,50.824806213378906,54.27235794067383,40.02404022216797,-44.339969635009766,-51.4491081237793,-25.439603805541992,-40.1397819519043,-19.756786346435547,-49.03245544433594,-17.414615631103516,45.880741119384766,-6.206737995147705,49.938446044921875,24.66889190673828,3.636204242706299,44.637760162353516,-31.544769287109375,58.1929931640625,57.11807632446289,-48.80674743652344,-49.86518478393555,-49.19501495361328,-27.10593032836914,48.67425537109375,-43.98252487182617,-41.98944854736328,46.724735260009766,-46.91450881958008,-5.686575412750244,-58.11824035644531,19.14585304260254,-45.319366455078125,44.05486297607422,5.368956089019775,52.24848937988281,-45.142677307128906,54.43219757080078,12.021160125732422,-18.149133682250977,-11.407279968261719,5.56094217300415,22.1025390625,-12.583616256713867,31.72056770324707,43.66350555419922,-19.54922866821289,-4.480025768280029,3.874842643737793,5.1019978523254395,-45.06330108642578,9.832825660705566,-46.670021057128906,-47.878753662109375,50.163272857666016,-26.138084411621094,-46.65569305419922,-44.81730651855469,-23.26409912109375,53.798011779785156,55.36884307861328,-45.21149444580078,4.551043510437012,-19.489810943603516,7.078648567199707,7.673244953155518,17.081018447875977,0.8795068860054016,61.04304122924805,7.822812080383301,8.955737113952637,7.671291828155518,9.728331565856934,41.05818176269531,10.591507911682129,9.650792121887207,58.869110107421875,13.822897911071777,9.626297950744629,7.663549900054932,53.34059143066406,-25.68756675720215,-24.818767547607422,50.06687927246094,56.398582458496094,-48.41865539550781,-35.832977294921875,-34.756160736083984,9.077400207519531,-51.29446029663086,-43.445579528808594,58.05706024169922,55.76542282104492,-45.61008071899414,-24.89811134338379,5.159513473510742,-0.6896003484725952,-10.016101837158203,-1.9436864852905273,55.58280944824219,-1.0926002264022827,8.351444244384766,31.420381546020508,8.69382095336914,0.6795939207077026,1.554550051689148,33.764747619628906,1.1110312938690186,45.709678649902344,40.495792388916016,-1.0554519891738892,20.235916137695312,50.41877365112305,-64.78289031982422,-66.82968139648438,52.81079864501953,-40.135719299316406,-63.90592575073242,13.63825511932373,-64.40460968017578,57.616355895996094,26.578475952148438,34.67811584472656,-48.66562271118164,53.32611083984375,46.85259246826172,-64.22252655029297,-60.05123519897461,32.555667877197266,-9.247354507446289,46.18223571777344,17.001205444335938,-3.6485671997070312,-26.162052154541016,5.187424182891846,43.97356414794922,-5.093058109283447,53.108116149902344,-2.4154255390167236,-26.318416595458984,-29.688087463378906,-33.3631591796875,56.362606048583984,-30.08063507080078,42.50697708129883,59.12126541137695,-15.285673141479492,-14.043603897094727,20.99520492553711,5.690721035003662,10.659921646118164,-39.17765426635742,-6.409976959228516,-15.287822723388672,14.856184959411621,-3.0232808589935303,-14.293983459472656,40.76219940185547,-4.121119022369385,56.512203216552734,13.628401756286621,-20.539743423461914,0.035111453384160995,3.1617157459259033,11.588577270507812,57.714473724365234,11.277449607849121,45.2979621887207,40.15784454345703,-1.6945452690124512,26.066810607910156,-1.796812891960144,-0.6033198237419128,38.53187942504883,-0.24191950261592865,7.540523529052734,-1.728568196296692,55.32709503173828,-9.629493713378906,37.67894744873047,-43.261138916015625,59.386295318603516,-6.770214080810547,-24.821081161499023,-10.760170936584473,-29.025390625,-2.632228374481201,-41.0734748840332,-39.82077407836914,55.19464874267578,12.112918853759766,43.36091232299805,55.952999114990234,15.838329315185547,-12.534528732299805,-7.114748477935791,24.643997192382812,53.6211051940918,-23.216411590576172,-29.23410415649414,-10.930739402770996,-24.94573211669922,-28.987869262695312,-36.212093353271484,-56.37955856323242,52.202415466308594,-10.288179397583008,58.93049240112305,-10.049339294433594,51.8751335144043,-62.25030517578125,-60.389095306396484,-42.12622833251953,54.858184814453125,-59.758934020996094,-66.50064849853516,42.43337631225586,60.2745361328125,18.820356369018555,-61.30970001220703,58.044677734375,-44.083099365234375,49.692848205566406,-51.07396697998047,-53.19700241088867,-55.14772415161133,-58.798309326171875,-7.742185592651367,52.6099967956543,60.61262512207031,56.66248321533203,-57.51913833618164,-47.57014846801758,-58.240726470947266,10.152194023132324,9.47475528717041,24.384613037109375,-50.98176956176758,52.06599426269531,41.02264404296875,-22.767576217651367,27.115251541137695,-38.91095733642578,50.76879119873047,-36.686275482177734,-26.051761627197266,52.50646209716797,-53.54524230957031,-20.039653778076172,-20.027435302734375,-50.027130126953125,58.78507995605469,54.822452545166016,-22.77269172668457,-46.22953796386719,46.43456268310547,-41.58891677856445,-52.27558135986328,-52.61090850830078,-55.01313400268555,23.142221450805664,-43.86241912841797,49.179359436035156,5.14012336730957,58.814212799072266,-55.072139739990234,-3.695613145828247,23.823217391967773,45.597015380859375,29.843942642211914,52.960018157958984,-52.23762130737305,9.785979270935059,7.610863208770752,-2.118831157684326,46.21094512939453,45.69521713256836,28.51698112487793,12.911357879638672,-8.396101951599121,-4.382805824279785,-5.39020299911499,-4.058766841888428,-3.912599802017212,-0.7791992425918579,-17.00905990600586,30.552030563354492,50.687442779541016,41.38610076904297,30.99784278869629,59.33964920043945,39.011898040771484,-20.961523056030273,0.7167579531669617,50.22663497924805,7.493003845214844,39.81663513183594,18.932146072387695,-28.58466339111328,-63.329490661621094,15.343042373657227,-62.88446807861328,-63.24095916748047,-62.54240798950195,55.25934600830078,-22.27720832824707,-41.833885192871094,-43.13856506347656,46.8294792175293,48.99432373046875,16.709186553955078,-44.56914520263672,-23.50851821899414,30.115131378173828,36.251827239990234,-25.857450485229492,49.3215217590332,-47.95227813720703,-47.416709899902344,-48.341556549072266,25.03398323059082,-18.097105026245117,-36.7081413269043,-60.147613525390625,-9.37285327911377,44.62470626831055,-1.8089903593063354,-34.80900955200195,57.2291145324707,-47.91785430908203,57.167335510253906,-53.86734390258789,-46.72633361816406,48.13780975341797,56.70587158203125,-21.9398250579834,39.57698440551758,-29.853437423706055,48.40817642211914,40.66267395019531,-18.07404899597168,-17.129024505615234,39.78813552856445,-2.989670991897583,0.4670334458351135,-9.460240364074707,21.15138053894043,-10.515870094299316,-7.8656229972839355,33.48539733886719,-3.3801586627960205,51.359130859375,-42.41679000854492,-42.541839599609375,-27.171424865722656,1.2958508729934692,-5.959240913391113,56.253936767578125,12.903826713562012,49.524959564208984,1.9159168004989624,1.2898180484771729,49.16926956176758,56.99132537841797,31.015295028686523,-19.926198959350586,-40.83790969848633,-40.00572967529297,23.0666561126709,-31.608510971069336,47.99716567993164,48.818504333496094,-54.06253433227539,-36.41947937011719,47.06370544433594,-47.63029479980469,-35.23680877685547,-49.54724884033203,-38.48532485961914,-38.219398498535156,55.26018142700195,53.84601974487305,-22.358396530151367],\"y\":[19.773948669433594,7.718969345092773,15.031291961669922,-29.90900230407715,14.298905372619629,-9.591322898864746,14.457058906555176,-24.620912551879883,4.413804531097412,-23.42329978942871,6.759592533111572,-28.400646209716797,22.637182235717773,7.260499477386475,-3.560368299484253,31.081844329833984,6.713040828704834,-19.479995727539062,-2.084616184234619,-0.49420037865638733,-2.326674461364746,-8.777263641357422,-18.477476119995117,17.50226593017578,12.078572273254395,16.34554100036621,34.43103790283203,-18.124509811401367,15.538023948669434,-28.11684226989746,-9.475166320800781,15.402304649353027,3.550452709197998,4.430255889892578,5.282037258148193,-15.375446319580078,-6.600809574127197,-33.34681701660156,11.982061386108398,16.209501266479492,4.2148051261901855,-18.4133243560791,1.0694445371627808,3.6518893241882324,17.788469314575195,2.918098211288452,2.834679126739502,2.535356044769287,2.449646472930908,-27.829927444458008,2.7592499256134033,2.1282782554626465,-10.029467582702637,-5.408613681793213,-3.4780220985412598,-2.7977988719940186,-25.585359573364258,-14.5411958694458,-2.217590570449829,17.57906723022461,34.27559280395508,-6.896021842956543,2.757951259613037,-29.18863296508789,-8.245183944702148,-3.83489727973938,-0.5171647071838379,4.194065570831299,3.969217538833618,-1.0274200439453125,22.90819549560547,-15.249913215637207,9.543943405151367,11.263962745666504,-26.458215713500977,-30.79669189453125,8.760358810424805,32.67449951171875,-29.7958927154541,13.977367401123047,6.893372535705566,-19.327564239501953,-26.05773162841797,-29.619876861572266,-7.7021026611328125,-0.789108157157898,-2.6580348014831543,-1.4579905271530151,26.940847396850586,2.9683985710144043,-2.561154365539551,7.61049222946167,-3.335547685623169,-18.061765670776367,-2.181586742401123,29.565488815307617,6.366110324859619,3.4991347789764404,2.979278802871704,9.381135940551758,1.4703516960144043,28.7466983795166,3.7611167430877686,-27.85552215576172,5.532402038574219,3.2892167568206787,-17.968732833862305,2.146070718765259,-34.12629318237305,3.1431937217712402,2.420215368270874,6.153730392456055,13.206306457519531,0.7928277254104614,-2.4403629302978516,-1.6078513860702515,3.9885919094085693,-16.615455627441406,0.31449395418167114,6.168009281158447,-1.2748266458511353,0.15936093032360077,33.446449279785156,-7.585211753845215,-0.8071702718734741,-4.172497272491455,-27.66874122619629,-18.041370391845703,-28.304054260253906,-28.042831420898438,16.727516174316406,-3.5961191654205322,14.064228057861328,7.341156959533691,0.5481467247009277,12.777017593383789,9.738860130310059,23.961040496826172,9.956193923950195,5.753578186035156,14.81135368347168,-24.49515724182129,-14.649704933166504,3.7717607021331787,-19.84173011779785,1.1182968616485596,-28.871135711669922,-0.2924780249595642,4.920132160186768,7.356627941131592,6.222789287567139,32.04467010498047,-23.847814559936523,4.7530131340026855,3.2754108905792236,-28.560745239257812,-24.307435989379883,14.25522518157959,22.91293716430664,6.011538028717041,10.005379676818848,12.635150909423828,14.546890258789062,-33.12791442871094,-13.11636734008789,-18.42237663269043,13.470893859863281,17.692855834960938,32.21680450439453,14.675643920898438,11.492177963256836,-18.337995529174805,14.580958366394043,-20.985986709594727,-19.21977424621582,6.2212371826171875,10.9439058303833,-27.114547729492188,-0.16218021512031555,-34.26680374145508,10.72566032409668,-14.405916213989258,25.983861923217773,18.130197525024414,18.52922821044922,-26.433984756469727,19.541616439819336,14.979390144348145,14.405741691589355,16.71936798095703,13.666584014892578,-30.461326599121094,9.243480682373047,-23.222076416015625,17.979141235351562,29.500797271728516,-27.6746826171875,20.49333381652832,6.9044294357299805,3.8736798763275146,-14.400518417358398,0.5178713202476501,9.79134750366211,-28.032617568969727,-5.955228805541992,-19.93586540222168,-1.5486230850219727,-18.03976821899414,-11.121987342834473,12.73616886138916,20.654951095581055,36.383262634277344,15.350220680236816,20.02540397644043,-16.40888214111328,-31.948881149291992,12.85104751586914,-20.875802993774414,19.275270462036133,11.759576797485352,11.324772834777832,-7.239072799682617,-19.36848258972168,-29.605243682861328,12.3566255569458,14.685062408447266,-30.12708282470703,-3.7125232219696045,-24.782798767089844,-9.858206748962402,-6.637961387634277,-6.195064067840576,0.4309116303920746,6.216227054595947,-19.57478141784668,-26.066486358642578,-0.3040581941604614,-29.35560417175293,1.4069150686264038,9.488031387329102,5.834810256958008,-4.620355129241943,1.8055925369262695,-2.3728420734405518,8.816299438476562,0.44571006298065186,36.206817626953125,-19.385282516479492,12.440014839172363,21.166610717773438,-20.326738357543945,1.2958472967147827,-6.323148727416992,0.2937498092651367,-28.992494583129883,2.1068830490112305,-0.16040828824043274,0.656085193157196,-6.167860507965088,1.4875156879425049,6.554887294769287,-10.010318756103516,-17.936100006103516,18.974498748779297,33.189579010009766,-16.403549194335938,1.6987401247024536,-26.43446159362793,-2.6195836067199707,-30.399629592895508,3.0136866569519043,3.787278413772583,8.769186019897461,4.377040386199951,4.567294597625732,-8.852170944213867,14.87403392791748,0.19205093383789062,-11.404173851013184,34.5543327331543,9.241279602050781,-33.603599548339844,2.5495107173919678,-11.878807067871094,2.7429890632629395,2.8574423789978027,-2.1712090969085693,2.904594659805298,-2.123943328857422,-10.45163345336914,-34.09804153442383,4.020395278930664,13.56008243560791,28.095312118530273,-4.407473087310791,-18.054243087768555,4.58709716796875,0.8510873317718506,10.045713424682617,15.253613471984863,8.469971656799316,-25.352441787719727,-28.810117721557617,6.287467002868652,-19.57292366027832,-30.645715713500977,-13.253216743469238,12.780610084533691,-33.26156234741211,18.757925033569336,19.403717041015625,-15.173025131225586,16.633756637573242,15.39162826538086,5.884194850921631,-6.196193218231201,2.358259916305542,0.3575287163257599,1.8698533773422241,2.2167727947235107,12.606301307678223,4.5596160888671875,-9.353629112243652,7.558334827423096,-26.017532348632812,6.025440692901611,8.206437110900879,2.4586195945739746,3.093846559524536,-25.53766441345215,-32.07992172241211,-1.1960827112197876,-15.742607116699219,9.06986141204834,3.4540467262268066,3.754528284072876,3.201150417327881,8.235221862792969,5.263318061828613,2.948697328567505,9.449593544006348,25.022796630859375,-28.7739315032959,-8.863106727600098,4.954509258270264,-18.681089401245117,-25.900991439819336,-7.54418420791626,-18.66714859008789,5.073705673217773,5.8520917892456055,0.019738757982850075,21.255083084106445,4.719532489776611,4.832439422607422,-28.72987937927246,-33.564109802246094,8.303115844726562,-10.069991111755371,5.864905834197998,8.76069164276123,5.99616813659668,35.049346923828125,-26.72766876220703,-5.750123023986816,-24.61286735534668,6.010712146759033,8.929953575134277,7.9568681716918945,-8.229918479919434,10.29632568359375,-26.76378631591797,4.983047962188721,6.681984901428223,5.91990327835083,3.7565553188323975,-27.6863956451416,-20.006547927856445,0.8058345317840576,7.57837438583374,-3.3028178215026855,5.361640453338623,-9.151308059692383,17.56471061706543,-18.511674880981445,20.376602172851562,4.188892841339111,-1.189774990081787,13.110452651977539,19.058914184570312,-27.862579345703125,20.815120697021484,7.332849979400635,-33.187007904052734,19.867197036743164,25.4550724029541,-29.9265079498291,-8.264373779296875,9.077505111694336,2.7891082763671875,-27.203699111938477,-15.528790473937988,-4.99850606918335,3.1191623210906982,-3.7425572872161865,-33.04189682006836,-2.2398645877838135,-16.31753921508789,5.130374431610107,28.545207977294922,27.896276473999023,-8.339642524719238,-0.49801626801490784,-18.705564498901367,-6.328305721282959,10.327919960021973,4.07687520980835,-14.588929176330566,0.8726367950439453,-34.76132583618164,11.768017768859863,-17.47191047668457,8.470843315124512,2.393906593322754,-17.201475143432617,2.3554043769836426,24.507015228271484,4.27362585067749,5.907618999481201,-29.27655792236328,9.610557556152344,-9.250332832336426,17.566734313964844,8.50293254852295,16.864952087402344,1.3853031396865845,-19.643342971801758,-16.976682662963867,-15.51113510131836,28.506784439086914,-13.842950820922852,17.627626419067383,7.0661211013793945,-16.85912322998047,16.15854263305664,-17.452898025512695,-28.121082305908203,-0.8808958530426025,-3.930816173553467,0.2518973648548126,33.70524597167969,1.577030897140503,1.2445437908172607,7.395562648773193,-15.702475547790527,0.69293612241745,15.825356483459473,8.410425186157227,-18.67337989807129,0.8273372054100037,-21.589096069335938,-16.845918655395508,17.08804702758789,-28.321651458740234,-24.050352096557617,17.880931854248047,17.69190216064453,-16.95662498474121,15.127782821655273,-17.60189437866211,35.201271057128906,17.221942901611328,18.86090660095215,-22.115636825561523,2.1299285888671875,-0.5545949935913086,-4.488969326019287,-33.240234375,27.877395629882812,-27.55885887145996,4.7232747077941895,9.625362396240234,4.034292221069336,3.129035234451294,-19.521501541137695,2.822930335998535,0.41933107376098633,4.254846572875977,8.92772388458252,-11.423673629760742,3.9633967876434326,6.284088134765625,1.8747406005859375,-12.98485279083252,-26.596847534179688,17.56941795349121,17.725914001464844,17.657201766967773,-6.813292503356934,-33.578697204589844,38.38712692260742,-29.15660858154297,-25.272539138793945,-30.55614471435547,-9.600451469421387,17.240863800048828,-21.201589584350586,17.42658233642578,6.921665191650391,-19.295055389404297,1.2396389245986938,2.0222513675689697,13.272963523864746,9.137972831726074,22.114133834838867,9.353860855102539,3.6456732749938965,-25.817975997924805,4.932221412658691,3.2471907138824463,10.207952499389648,23.210752487182617,-32.159175872802734,13.474661827087402,-32.603763580322266,-27.627708435058594,17.164508819580078,16.40299415588379,-23.879777908325195,17.01185417175293,-25.724273681640625,-17.767578125,18.20003318786621,12.755928039550781,34.07444381713867,-27.08368492126465,-19.20587921142578,14.318964004516602,12.35671329498291,22.49307632446289,-30.541847229003906,7.987396717071533,24.733135223388672,6.565624713897705,9.017354965209961,8.40182113647461,5.1559319496154785,2.2241411209106445,0.6782687902450562,-29.266630172729492,-25.526531219482422,-13.719681739807129,14.651411056518555,-32.85017395019531,8.389643669128418,6.529367446899414,0.281571626663208,15.748527526855469,4.5257368087768555,15.434222221374512,7.094063758850098,32.391754150390625,-15.348921775817871,-24.64263343811035,-28.302350997924805,-17.859725952148438,-26.99790382385254,15.609950065612793,4.217751502990723,6.612792015075684,16.65062713623047,13.594985008239746,15.760129928588867,17.784772872924805,-25.67647361755371,17.943756103515625,17.78533935546875,-26.185827255249023,19.64066505432129,-15.285097122192383,14.127899169921875,-30.13226318359375,18.54345703125,34.23606491088867,-9.900261878967285,-13.641931533813477,16.89856719970703,11.376121520996094,-30.159835815429688,12.40374755859375,-0.6131290793418884,-7.980007648468018,-32.50640106201172,-1.5442478656768799,-27.352724075317383,31.226844787597656,13.233633041381836,-11.28584098815918,-6.641176700592041,-2.290381908416748,1.6405212879180908,-20.057857513427734,1.2887605428695679,1.6885671615600586,24.917238235473633,1.5047725439071655,5.178028583526611,2.8303942680358887,0.2147824764251709,11.217350959777832,4.075737476348877,0.8657352924346924,-17.968833923339844,1.2138142585754395,-2.087515115737915,-3.8202431201934814,-26.404375076293945,4.182357311248779,-7.549951553344727,-3.9842476844787598,-13.082320213317871,-3.250912666320801,-5.43371057510376,37.112342834472656,-5.319767951965332,-8.189665794372559,3.954737424850464,-29.413860321044922,-9.5425443649292,-5.188888072967529,20.232444763183594,-0.08308283984661102,-0.46528589725494385,21.220991134643555,-9.705456733703613,2.4395570755004883,12.211771965026855,13.212687492370605,-28.58348846435547,5.601785182952881,4.595853328704834,-10.072319030761719,-9.472100257873535,8.023528099060059,-0.8466281890869141,-18.26258087158203,5.810325622558594,11.22720718383789,5.511199474334717,9.490462303161621,6.010800361633301,-8.830872535705566,-32.021629333496094,-2.466202735900879,5.538314342498779,5.15393590927124,-25.708585739135742,5.594379425048828,-25.504215240478516,36.75864791870117,5.659189224243164,-30.522539138793945,-25.55103302001953,4.716763019561768,5.008081912994385,22.78607940673828,12.832061767578125,4.736489295959473,-27.287519454956055,5.143632411956787,-5.258588790893555,-31.452754974365234,-28.944364547729492,22.307708740234375,22.15854263305664,-22.89788055419922,5.250563621520996,10.863218307495117,-28.808120727539062,7.111661434173584,-22.213397979736328,-27.928421020507812,-15.985055923461914,10.823062896728516,-8.899020195007324,33.32066345214844,-0.1250125616788864,13.736871719360352,2.0022881031036377,10.109724998474121,11.315643310546875,8.196904182434082,-5.000219821929932,10.20845890045166,34.89883804321289,1.5451711416244507,14.477587699890137,13.740320205688477,-31.054853439331055,-4.307187080383301,-16.36014747619629,19.64680290222168,11.227679252624512,13.897558212280273,-28.499755859375,8.198803901672363,13.492568016052246,-29.28340721130371,-16.214086532592773,6.670229434967041,-29.01603126525879,14.957036972045898,-18.162363052368164,4.142734050750732,-14.178803443908691,1.8953227996826172,-14.634688377380371,-23.03275489807129,37.41974639892578,10.96715259552002,-27.282575607299805,10.967549324035645,10.989729881286621,-26.405479431152344,10.606371879577637,-6.173275947570801,-11.041473388671875,-5.375283241271973,5.7030792236328125,-31.24296760559082,16.700157165527344,-0.020541280508041382,-1.9113434553146362,8.741171836853027,3.781715154647827,11.782089233398438,-12.16856861114502,16.30221176147461,16.546154022216797,-8.581939697265625,-24.584918975830078,34.97468948364258,5.810158729553223,-27.82877540588379,0.35945162177085876,-15.717422485351562,-31.093929290771484,15.069235801696777,5.053160667419434,7.892408847808838,6.28260612487793,4.652895450592041,7.7851457595825195,6.3538384437561035,4.0386834144592285,21.43352699279785,-2.85097599029541,0.10230640321969986,-17.45943832397461,22.20073699951172,10.01737117767334,5.078688144683838,0.03467530012130737,16.605390548706055,5.0549139976501465,4.37286376953125,-26.292795181274414,-7.549422740936279,-27.283557891845703,6.312655925750732,-7.074862957000732,1.3947361707687378,-16.199783325195312,1.2881202697753906,18.090572357177734,13.056872367858887,11.694114685058594,-17.556583404541016,22.233932495117188,-9.00765323638916,-1.4557342529296875,12.17739486694336,19.05910301208496,12.11262035369873,-19.174264907836914,-18.763607025146484,-26.91517448425293,18.29970359802246,21.023788452148438,-30.531118392944336,1.0391740798950195,-28.068986892700195,4.233138561248779,-18.990764617919922,4.647323131561279,2.171825647354126,-19.945417404174805,3.211428165435791,1.8611141443252563,1.5589344501495361,3.0868587493896484,-7.5576982498168945,12.11823844909668,-1.708014726638794,6.246751308441162,31.642574310302734,20.304479598999023,16.703092575073242,14.827505111694336,14.329245567321777,-32.39491271972656,19.916629791259766,27.82015609741211,-15.86069393157959,2.374401807785034,14.193803787231445,-11.7013521194458,-28.36504554748535,-26.666410446166992,-32.943424224853516,19.352407455444336,16.106433868408203,-14.040102005004883,-6.987205982208252,8.052261352539062,28.012849807739258,30.63683319091797,-26.86663246154785,-29.501075744628906,11.65422248840332,-8.433002471923828,10.558929443359375,10.441981315612793,-6.7905049324035645,10.724287986755371,13.766962051391602,-31.88994789123535,-25.843006134033203,37.55370330810547,-32.408050537109375,-8.048820495605469,-25.606367111206055,17.90683364868164,-18.084909439086914,-13.82192611694336,-17.344745635986328,-24.283090591430664,-30.80780792236328,20.136947631835938,13.940413475036621,-29.45880126953125,14.494241714477539,13.904300689697266,15.264544486999512,-8.192815780639648,12.350723266601562,18.3233585357666,18.08154296875,-25.564977645874023,22.587812423706055,-29.066890716552734,18.211618423461914,8.518867492675781,-29.570470809936523,-31.657596588134766,8.16340446472168,28.308408737182617,14.736040115356445,12.253706932067871,14.082196235656738,-27.399370193481445,2.2146761417388916,13.146924018859863,5.832494735717773,-15.81297779083252,-26.35748863220215,-13.941788673400879,13.468464851379395,-3.5945897102355957,8.348583221435547,2.9238860607147217,8.40900993347168,7.509077072143555,29.068017959594727,4.932882785797119,-3.072467565536499,-28.80533218383789,18.41571617126465,-18.45391273498535,38.08249282836914,15.840178489685059,15.118715286254883,-24.03547477722168,9.762636184692383,6.397644996643066,12.611101150512695,-31.918352127075195,13.669368743896484,12.25992488861084,-28.470333099365234,-6.452865123748779,-24.365060806274414,17.08458709716797,16.781396865844727,11.8628511428833,-16.657421112060547,-14.676325798034668,-13.19306755065918,-25.653457641601562,24.138172149658203,1.1166801452636719,-1.6044790744781494,25.43067169189453,-8.152503967285156,-34.1433219909668,12.338582992553711,17.10137939453125,17.143600463867188,-31.3032169342041,9.25350570678711,27.369382858276367,-19.73714256286621,10.224980354309082,3.284083843231201,-24.33536720275879,5.21090841293335,5.19206428527832,12.768858909606934,5.78129768371582,0.30226558446884155,-18.713254928588867,18.141239166259766,-1.164520263671875],\"type\":\"scatter\"},{\"mode\":\"markers\",\"name\":\"True label 1\",\"x\":[42.90187454223633,-15.136354446411133,60.15021896362305,55.928401947021484,31.832534790039062,46.74568176269531,-47.315673828125,-58.26222610473633,-10.111836433410645,36.8652458190918,-19.923751831054688,20.72939109802246,-53.578125,-47.6848258972168,-0.04648887366056442,-56.4100341796875,-40.40496063232422,41.913963317871094,55.4189567565918,56.504539489746094,-7.153438091278076,-16.52838706970215,25.25599479675293,36.31151580810547,28.615243911743164,40.71015548706055,25.32063102722168,-0.016099775210022926,43.99522399902344,-18.63689613342285,57.86012649536133,-8.136651992797852,-9.217270851135254,-18.9103946685791,-19.729116439819336,-1.1369645595550537,11.460261344909668,-4.059545993804932,-4.762373447418213,53.99700927734375,-3.354551315307617,-22.262422561645508,-26.2730770111084,5.566965103149414,-4.334701061248779,-2.015423059463501,52.29258728027344,0.31529074907302856,-5.880800247192383,-32.8331413269043,57.54523849487305,23.860204696655273,-1.2389034032821655,0.8974287509918213,-26.64835548400879,-31.19512176513672,11.305011749267578,-17.94053840637207,2.8799633979797363,14.330809593200684,47.878055572509766,-13.412007331848145,-10.727278709411621,45.6487922668457,-64.00880432128906,60.477386474609375,55.0472297668457,-64.3057632446289,-67.34947967529297,-8.864951133728027,-69.0638198852539,53.7208251953125,-8.865900993347168,-10.76627254486084,33.08428192138672,33.646636962890625,50.89640426635742,29.040576934814453,-51.14513397216797,-21.99118423461914,54.233062744140625,-17.009868621826172,-48.15843963623047,-17.668298721313477,-35.40201950073242,53.59109878540039,-47.890926361083984,-41.31919479370117,45.87751007080078,38.315216064453125,-47.98590850830078,58.82488250732422,-38.575313568115234,35.849422454833984,-28.903654098510742,-37.15841293334961,56.41981887817383,-37.86465835571289,-57.6683349609375,10.11843490600586,53.92430877685547,-10.612359046936035,61.5662956237793,-25.290809631347656,-58.181365966796875,-6.175665378570557,44.41425323486328,-56.15690231323242,47.7953987121582,56.01929473876953,-2.2518529891967773,59.762794494628906,-22.470924377441406,-21.062978744506836,-24.744977951049805,-36.908485412597656,31.381879806518555,-45.978633880615234,-21.87090301513672,-36.08658218383789,42.746002197265625,-24.553897857666016,58.45945358276367,43.51771926879883,-35.25505447387695,54.321556091308594,43.671993255615234,51.86067199707031,11.190638542175293,-62.78123474121094,56.60017395019531,-22.668867111206055,48.94544219970703,-24.499338150024414,-40.70885467529297,-24.450767517089844,55.92530822753906,-24.331581115722656,-48.32809066772461,-62.45439910888672,-6.882932186126709,12.704894065856934,8.26247501373291,39.73820495605469,10.252531051635742,11.3766508102417,10.417559623718262,10.137834548950195,49.3427619934082,35.277652740478516,8.691655158996582,10.827550888061523,57.06332778930664,14.072206497192383,35.24559020996094,11.956270217895508,-28.59823226928711,22.465394973754883,35.87874221801758,-27.5277042388916,42.85700988769531,-66.48273468017578,-11.218623161315918,-60.84310531616211,-21.096282958984375,30.779388427734375,48.327674865722656,-49.983612060546875,-26.139667510986328,49.11465835571289,55.58238220214844,-36.15034103393555,44.32040023803711,49.63503646850586,-55.043548583984375,-43.76484680175781,-8.924370765686035,40.7125358581543,-12.797833442687988,-0.6488966345787048,56.665653228759766,7.475215435028076,12.279959678649902,52.715484619140625,18.14113426208496,-4.921292781829834,-9.065607070922852,-12.229767799377441,-9.189312934875488,27.167516708374023,36.939056396484375,-2.3624460697174072,11.448892593383789,-24.26677703857422,56.3856086730957,57.77182388305664,-11.541522026062012,42.64410400390625,26.160524368286133,-27.422155380249023,56.872920989990234,58.322410583496094,-70.3206787109375,47.48265075683594,8.600008964538574,-69.56893920898438,-55.340694427490234,10.696247100830078,40.6751594543457,-68.1971206665039,51.0141716003418,-69.27532958984375,56.374977111816406,47.7392578125,53.7725944519043,-67.60400390625,-30.57573890686035,-50.120121002197266,-36.76960372924805,34.77215576171875,-32.88252258300781,-22.300010681152344,43.31217956542969,30.104829788208008,-13.175576210021973,-49.88716125488281,29.537647247314453,-3.145564317703247,48.529212951660156,29.648298263549805,50.328269958496094,-27.139690399169922,-66.25111389160156,-55.49554443359375,-64.55225372314453,-62.062416076660156,-3.9961323738098145,-61.95877456665039,22.038555145263672,-55.84482192993164,-62.369598388671875,51.57609176635742,50.111961364746094,56.06639099121094,53.51997756958008,49.14863204956055,57.63214111328125,-9.213590621948242,-43.707000732421875,49.70315170288086,41.94621276855469,-66.05804443359375,-51.197532653808594,10.220584869384766,-17.765432357788086,-62.86777114868164,-35.65304946899414,-10.441642761230469,-44.053131103515625,51.51174545288086,-60.89045715332031,43.51850128173828,50.43449401855469,57.08905792236328,56.640113830566406,51.586544036865234],\"y\":[36.48239517211914,-4.026934623718262,-4.908085346221924,0.5822706818580627,-28.2570858001709,-20.592409133911133,15.606842994689941,12.589700698852539,-2.100825786590576,-27.696138381958008,11.118252754211426,-29.364273071289062,13.378327369689941,19.694149017333984,0.06126322224736214,13.248498916625977,19.59320068359375,35.58873748779297,10.00357723236084,-7.524545192718506,11.166810035705566,15.376136779785156,-29.868885040283203,-29.10056495666504,-31.201311111450195,-32.418697357177734,-28.733915328979492,-18.01804542541504,31.33699607849121,13.706094741821289,-3.698945999145508,9.645442008972168,9.613777160644531,13.98287582397461,14.356797218322754,-9.238388061523438,-22.39097023010254,7.969660758972168,8.248169898986816,19.577512741088867,5.111260414123535,7.31700325012207,7.422743797302246,-3.1992347240448,-4.235265731811523,-1.7101668119430542,19.03462791442871,-0.8437153697013855,-12.457635879516602,4.34574031829834,1.3037657737731934,-31.352035522460938,-1.2014795541763306,-3.1876041889190674,5.712374210357666,3.904195785522461,-17.629419326782227,15.23006820678711,4.2678117752075195,-29.176483154296875,24.626178741455078,13.732328414916992,13.658637046813965,-20.631364822387695,7.7048492431640625,-3.137411594390869,3.724092721939087,7.575171947479248,5.7502217292785645,-18.437255859375,4.721706390380859,-6.573821067810059,-18.675506591796875,-2.2790427207946777,-26.677791595458984,-29.598947525024414,-12.132636070251465,-30.391128540039062,6.9029622077941895,1.4358575344085693,15.837346076965332,0.9358307719230652,8.770434379577637,1.6953649520874023,3.0744099617004395,10.62921142578125,12.472046852111816,17.63298797607422,33.398284912109375,-28.0126953125,13.023896217346191,-9.831429481506348,7.195210933685303,-30.659013748168945,11.555069923400879,0.6308586001396179,-12.236939430236816,1.2674720287322998,10.345974922180176,-18.57461929321289,9.74120807647705,-14.875089645385742,-7.076169967651367,17.011980056762695,11.104134559631348,-16.018224716186523,35.38961410522461,11.719817161560059,-21.236671447753906,-7.847477436065674,-0.8479939699172974,-9.866117477416992,2.984724521636963,2.7269976139068604,3.8991363048553467,5.563124656677246,-24.291423797607422,5.7339067459106445,-1.5873157978057861,5.038332939147949,-26.697532653808594,3.6813676357269287,0.6716657876968384,36.040130615234375,4.486503601074219,-18.408967971801758,-21.47464942932129,-25.469236373901367,-25.94915771484375,7.282674312591553,14.945658683776855,3.3276989459991455,21.301746368408203,16.69643783569336,13.151152610778809,3.2533152103424072,14.031144142150879,16.327367782592773,17.91463851928711,7.480144500732422,-14.969756126403809,-27.653522491455078,-2.1160240173339844,38.13985061645508,-4.901254653930664,-7.143671989440918,-8.884860038757324,-6.769011497497559,-26.253135681152344,-26.752643585205078,-6.368707180023193,-5.956379413604736,-7.264317989349365,-28.1693172454834,-27.68210792541504,-14.477349281311035,19.52058982849121,-32.780967712402344,-27.087005615234375,19.51226043701172,35.847232818603516,6.760340213775635,-14.302584648132324,13.243766784667969,17.851886749267578,-27.962032318115234,26.819547653198242,1.5990769863128662,0.3924577236175537,26.941463470458984,-18.222911834716797,12.037036895751953,-21.902328491210938,-25.767343521118164,3.951503038406372,-0.40189409255981445,11.266996383666992,36.29759216308594,13.59799575805664,4.968457221984863,7.919000148773193,-8.001059532165527,-22.637948989868164,-16.765281677246094,-29.569366455078125,10.536632537841797,11.18744945526123,12.993870735168457,12.132158279418945,-26.84457778930664,-31.498680114746094,8.510425567626953,-15.489213943481445,7.4552154541015625,-6.259115219116211,-2.2971529960632324,-1.0079970359802246,35.32483673095703,-28.300277709960938,9.970000267028809,-4.075721263885498,-8.362335205078125,4.059160232543945,-23.979507446289062,-20.48653793334961,3.8477296829223633,5.235487937927246,-27.999357223510742,-24.030473709106445,4.014202117919922,-10.326719284057617,3.9147427082061768,-11.151652336120605,21.686939239501953,-6.9961934089660645,3.701313018798828,8.033501625061035,2.772728443145752,7.4213738441467285,-27.95247459411621,1.4179776906967163,18.159732818603516,31.87257957458496,-24.101247787475586,-2.2027037143707275,19.9467716217041,-27.81618881225586,-5.044958591461182,23.902097702026367,-30.945404052734375,-13.1986665725708,9.00780963897705,5.067138195037842,8.805956840515137,6.341622829437256,9.322547912597656,-14.116765975952148,9.491877555847168,-31.19371795654297,8.484209060668945,5.608421802520752,-14.553467750549316,27.193115234375,12.022379875183105,-20.294965744018555,-25.080421447753906,-11.108080863952637,-18.881908416748047,10.885194778442383,21.59671974182129,-29.75876808166504,3.8241941928863525,8.489352226257324,-30.698060989379883,0.19812242686748505,10.295287132263184,15.255867958068848,-16.886960983276367,-1.2816779613494873,24.162607192993164,7.291390419006348,-23.41567039489746,-16.879194259643555,-11.379138946533203,-10.53836441040039,-17.76904296875],\"type\":\"scatter\"}],                        {\"height\":1000,\"template\":{\"data\":{\"barpolar\":[{\"marker\":{\"line\":{\"color\":\"#E5ECF6\",\"width\":0.5},\"pattern\":{\"fillmode\":\"overlay\",\"size\":10,\"solidity\":0.2}},\"type\":\"barpolar\"}],\"bar\":[{\"error_x\":{\"color\":\"#2a3f5f\"},\"error_y\":{\"color\":\"#2a3f5f\"},\"marker\":{\"line\":{\"color\":\"#E5ECF6\",\"width\":0.5},\"pattern\":{\"fillmode\":\"overlay\",\"size\":10,\"solidity\":0.2}},\"type\":\"bar\"}],\"carpet\":[{\"aaxis\":{\"endlinecolor\":\"#2a3f5f\",\"gridcolor\":\"white\",\"linecolor\":\"white\",\"minorgridcolor\":\"white\",\"startlinecolor\":\"#2a3f5f\"},\"baxis\":{\"endlinecolor\":\"#2a3f5f\",\"gridcolor\":\"white\",\"linecolor\":\"white\",\"minorgridcolor\":\"white\",\"startlinecolor\":\"#2a3f5f\"},\"type\":\"carpet\"}],\"choropleth\":[{\"colorbar\":{\"outlinewidth\":0,\"ticks\":\"\"},\"type\":\"choropleth\"}],\"contourcarpet\":[{\"colorbar\":{\"outlinewidth\":0,\"ticks\":\"\"},\"type\":\"contourcarpet\"}],\"contour\":[{\"colorbar\":{\"outlinewidth\":0,\"ticks\":\"\"},\"colorscale\":[[0.0,\"#0d0887\"],[0.1111111111111111,\"#46039f\"],[0.2222222222222222,\"#7201a8\"],[0.3333333333333333,\"#9c179e\"],[0.4444444444444444,\"#bd3786\"],[0.5555555555555556,\"#d8576b\"],[0.6666666666666666,\"#ed7953\"],[0.7777777777777778,\"#fb9f3a\"],[0.8888888888888888,\"#fdca26\"],[1.0,\"#f0f921\"]],\"type\":\"contour\"}],\"heatmapgl\":[{\"colorbar\":{\"outlinewidth\":0,\"ticks\":\"\"},\"colorscale\":[[0.0,\"#0d0887\"],[0.1111111111111111,\"#46039f\"],[0.2222222222222222,\"#7201a8\"],[0.3333333333333333,\"#9c179e\"],[0.4444444444444444,\"#bd3786\"],[0.5555555555555556,\"#d8576b\"],[0.6666666666666666,\"#ed7953\"],[0.7777777777777778,\"#fb9f3a\"],[0.8888888888888888,\"#fdca26\"],[1.0,\"#f0f921\"]],\"type\":\"heatmapgl\"}],\"heatmap\":[{\"colorbar\":{\"outlinewidth\":0,\"ticks\":\"\"},\"colorscale\":[[0.0,\"#0d0887\"],[0.1111111111111111,\"#46039f\"],[0.2222222222222222,\"#7201a8\"],[0.3333333333333333,\"#9c179e\"],[0.4444444444444444,\"#bd3786\"],[0.5555555555555556,\"#d8576b\"],[0.6666666666666666,\"#ed7953\"],[0.7777777777777778,\"#fb9f3a\"],[0.8888888888888888,\"#fdca26\"],[1.0,\"#f0f921\"]],\"type\":\"heatmap\"}],\"histogram2dcontour\":[{\"colorbar\":{\"outlinewidth\":0,\"ticks\":\"\"},\"colorscale\":[[0.0,\"#0d0887\"],[0.1111111111111111,\"#46039f\"],[0.2222222222222222,\"#7201a8\"],[0.3333333333333333,\"#9c179e\"],[0.4444444444444444,\"#bd3786\"],[0.5555555555555556,\"#d8576b\"],[0.6666666666666666,\"#ed7953\"],[0.7777777777777778,\"#fb9f3a\"],[0.8888888888888888,\"#fdca26\"],[1.0,\"#f0f921\"]],\"type\":\"histogram2dcontour\"}],\"histogram2d\":[{\"colorbar\":{\"outlinewidth\":0,\"ticks\":\"\"},\"colorscale\":[[0.0,\"#0d0887\"],[0.1111111111111111,\"#46039f\"],[0.2222222222222222,\"#7201a8\"],[0.3333333333333333,\"#9c179e\"],[0.4444444444444444,\"#bd3786\"],[0.5555555555555556,\"#d8576b\"],[0.6666666666666666,\"#ed7953\"],[0.7777777777777778,\"#fb9f3a\"],[0.8888888888888888,\"#fdca26\"],[1.0,\"#f0f921\"]],\"type\":\"histogram2d\"}],\"histogram\":[{\"marker\":{\"pattern\":{\"fillmode\":\"overlay\",\"size\":10,\"solidity\":0.2}},\"type\":\"histogram\"}],\"mesh3d\":[{\"colorbar\":{\"outlinewidth\":0,\"ticks\":\"\"},\"type\":\"mesh3d\"}],\"parcoords\":[{\"line\":{\"colorbar\":{\"outlinewidth\":0,\"ticks\":\"\"}},\"type\":\"parcoords\"}],\"pie\":[{\"automargin\":true,\"type\":\"pie\"}],\"scatter3d\":[{\"line\":{\"colorbar\":{\"outlinewidth\":0,\"ticks\":\"\"}},\"marker\":{\"colorbar\":{\"outlinewidth\":0,\"ticks\":\"\"}},\"type\":\"scatter3d\"}],\"scattercarpet\":[{\"marker\":{\"colorbar\":{\"outlinewidth\":0,\"ticks\":\"\"}},\"type\":\"scattercarpet\"}],\"scattergeo\":[{\"marker\":{\"colorbar\":{\"outlinewidth\":0,\"ticks\":\"\"}},\"type\":\"scattergeo\"}],\"scattergl\":[{\"marker\":{\"colorbar\":{\"outlinewidth\":0,\"ticks\":\"\"}},\"type\":\"scattergl\"}],\"scattermapbox\":[{\"marker\":{\"colorbar\":{\"outlinewidth\":0,\"ticks\":\"\"}},\"type\":\"scattermapbox\"}],\"scatterpolargl\":[{\"marker\":{\"colorbar\":{\"outlinewidth\":0,\"ticks\":\"\"}},\"type\":\"scatterpolargl\"}],\"scatterpolar\":[{\"marker\":{\"colorbar\":{\"outlinewidth\":0,\"ticks\":\"\"}},\"type\":\"scatterpolar\"}],\"scatter\":[{\"fillpattern\":{\"fillmode\":\"overlay\",\"size\":10,\"solidity\":0.2},\"type\":\"scatter\"}],\"scatterternary\":[{\"marker\":{\"colorbar\":{\"outlinewidth\":0,\"ticks\":\"\"}},\"type\":\"scatterternary\"}],\"surface\":[{\"colorbar\":{\"outlinewidth\":0,\"ticks\":\"\"},\"colorscale\":[[0.0,\"#0d0887\"],[0.1111111111111111,\"#46039f\"],[0.2222222222222222,\"#7201a8\"],[0.3333333333333333,\"#9c179e\"],[0.4444444444444444,\"#bd3786\"],[0.5555555555555556,\"#d8576b\"],[0.6666666666666666,\"#ed7953\"],[0.7777777777777778,\"#fb9f3a\"],[0.8888888888888888,\"#fdca26\"],[1.0,\"#f0f921\"]],\"type\":\"surface\"}],\"table\":[{\"cells\":{\"fill\":{\"color\":\"#EBF0F8\"},\"line\":{\"color\":\"white\"}},\"header\":{\"fill\":{\"color\":\"#C8D4E3\"},\"line\":{\"color\":\"white\"}},\"type\":\"table\"}]},\"layout\":{\"annotationdefaults\":{\"arrowcolor\":\"#2a3f5f\",\"arrowhead\":0,\"arrowwidth\":1},\"autotypenumbers\":\"strict\",\"coloraxis\":{\"colorbar\":{\"outlinewidth\":0,\"ticks\":\"\"}},\"colorscale\":{\"diverging\":[[0,\"#8e0152\"],[0.1,\"#c51b7d\"],[0.2,\"#de77ae\"],[0.3,\"#f1b6da\"],[0.4,\"#fde0ef\"],[0.5,\"#f7f7f7\"],[0.6,\"#e6f5d0\"],[0.7,\"#b8e186\"],[0.8,\"#7fbc41\"],[0.9,\"#4d9221\"],[1,\"#276419\"]],\"sequential\":[[0.0,\"#0d0887\"],[0.1111111111111111,\"#46039f\"],[0.2222222222222222,\"#7201a8\"],[0.3333333333333333,\"#9c179e\"],[0.4444444444444444,\"#bd3786\"],[0.5555555555555556,\"#d8576b\"],[0.6666666666666666,\"#ed7953\"],[0.7777777777777778,\"#fb9f3a\"],[0.8888888888888888,\"#fdca26\"],[1.0,\"#f0f921\"]],\"sequentialminus\":[[0.0,\"#0d0887\"],[0.1111111111111111,\"#46039f\"],[0.2222222222222222,\"#7201a8\"],[0.3333333333333333,\"#9c179e\"],[0.4444444444444444,\"#bd3786\"],[0.5555555555555556,\"#d8576b\"],[0.6666666666666666,\"#ed7953\"],[0.7777777777777778,\"#fb9f3a\"],[0.8888888888888888,\"#fdca26\"],[1.0,\"#f0f921\"]]},\"colorway\":[\"#636efa\",\"#EF553B\",\"#00cc96\",\"#ab63fa\",\"#FFA15A\",\"#19d3f3\",\"#FF6692\",\"#B6E880\",\"#FF97FF\",\"#FECB52\"],\"font\":{\"color\":\"#2a3f5f\"},\"geo\":{\"bgcolor\":\"white\",\"lakecolor\":\"white\",\"landcolor\":\"#E5ECF6\",\"showlakes\":true,\"showland\":true,\"subunitcolor\":\"white\"},\"hoverlabel\":{\"align\":\"left\"},\"hovermode\":\"closest\",\"mapbox\":{\"style\":\"light\"},\"paper_bgcolor\":\"white\",\"plot_bgcolor\":\"#E5ECF6\",\"polar\":{\"angularaxis\":{\"gridcolor\":\"white\",\"linecolor\":\"white\",\"ticks\":\"\"},\"bgcolor\":\"#E5ECF6\",\"radialaxis\":{\"gridcolor\":\"white\",\"linecolor\":\"white\",\"ticks\":\"\"}},\"scene\":{\"xaxis\":{\"backgroundcolor\":\"#E5ECF6\",\"gridcolor\":\"white\",\"gridwidth\":2,\"linecolor\":\"white\",\"showbackground\":true,\"ticks\":\"\",\"zerolinecolor\":\"white\"},\"yaxis\":{\"backgroundcolor\":\"#E5ECF6\",\"gridcolor\":\"white\",\"gridwidth\":2,\"linecolor\":\"white\",\"showbackground\":true,\"ticks\":\"\",\"zerolinecolor\":\"white\"},\"zaxis\":{\"backgroundcolor\":\"#E5ECF6\",\"gridcolor\":\"white\",\"gridwidth\":2,\"linecolor\":\"white\",\"showbackground\":true,\"ticks\":\"\",\"zerolinecolor\":\"white\"}},\"shapedefaults\":{\"line\":{\"color\":\"#2a3f5f\"}},\"ternary\":{\"aaxis\":{\"gridcolor\":\"white\",\"linecolor\":\"white\",\"ticks\":\"\"},\"baxis\":{\"gridcolor\":\"white\",\"linecolor\":\"white\",\"ticks\":\"\"},\"bgcolor\":\"#E5ECF6\",\"caxis\":{\"gridcolor\":\"white\",\"linecolor\":\"white\",\"ticks\":\"\"}},\"title\":{\"x\":0.05},\"xaxis\":{\"automargin\":true,\"gridcolor\":\"white\",\"linecolor\":\"white\",\"ticks\":\"\",\"title\":{\"standoff\":15},\"zerolinecolor\":\"white\",\"zerolinewidth\":2},\"yaxis\":{\"automargin\":true,\"gridcolor\":\"white\",\"linecolor\":\"white\",\"ticks\":\"\",\"title\":{\"standoff\":15},\"zerolinecolor\":\"white\",\"zerolinewidth\":2}}},\"title\":{\"text\":\"t-SNE Cluster Visualization of Embedded Data Grouped by True Label, Perplexity = 30\"},\"width\":1000,\"xaxis\":{\"ticklen\":5,\"title\":{\"text\":\"TC1\"},\"zeroline\":false},\"yaxis\":{\"ticklen\":5,\"title\":{\"text\":\"TC2\"},\"zeroline\":false}},                        {\"responsive\": true}                    ).then(function(){\n",
              "                            \n",
              "var gd = document.getElementById('e7181aa4-67ef-4c77-b0d0-38630e7d95b4');\n",
              "var x = new MutationObserver(function (mutations, observer) {{\n",
              "        var display = window.getComputedStyle(gd).display;\n",
              "        if (!display || display === 'none') {{\n",
              "            console.log([gd, 'removed!']);\n",
              "            Plotly.purge(gd);\n",
              "            observer.disconnect();\n",
              "        }}\n",
              "}});\n",
              "\n",
              "// Listen for the removal of the full notebook cells\n",
              "var notebookContainer = gd.closest('#notebook-container');\n",
              "if (notebookContainer) {{\n",
              "    x.observe(notebookContainer, {childList: true});\n",
              "}}\n",
              "\n",
              "// Listen for the clearing of the current output cell\n",
              "var outputEl = gd.closest('.output');\n",
              "if (outputEl) {{\n",
              "    x.observe(outputEl, {childList: true});\n",
              "}}\n",
              "\n",
              "                        })                };                            </script>        </div>\n",
              "</body>\n",
              "</html>"
            ]
          },
          "metadata": {}
        }
      ]
    },
    {
      "cell_type": "code",
      "source": [
        "#T-SNE with two dimensions\n",
        "tsne = TSNE(n_components=2, perplexity=perplexity, n_iter = 3000)\n",
        "\n",
        "TCs = pd.DataFrame(tsne.fit_transform(embeddings))\n",
        "TCs.columns = [\"TC1\",\"TC2\"]\n",
        "TCs['true_label'] = embs['true_label']\n",
        "TCs['spurious_label'] = embs['spurious_label']\n",
        "# Find best perplexity value\n",
        "traces = []\n",
        "for spurious_label, df in TCs.groupby(['spurious_label']):\n",
        "  traces.append(go.Scatter(x = df['TC1'], y = df['TC2'], mode = \"markers\", name = f\"Spurious label {spurious_label}\", text = None))\n",
        "\n",
        "title = f\"t-SNE Cluster Visualization of Embedded Data Grouped by Spurious Label, Perplexity = {perplexity}\"\n",
        "layout = dict(title = title,\n",
        "              xaxis= dict(title= 'TC1',ticklen= 5,zeroline= False),\n",
        "              yaxis= dict(title= 'TC2',ticklen= 5,zeroline= False),\n",
        "              width = 1000,\n",
        "              height = 1000\n",
        "              #zaxis= dict(title= 'TC3',ticklen= 5,zeroline= False)\n",
        "            )\n",
        "\n",
        "fig = dict(\n",
        "    data = traces,\n",
        "    layout = layout\n",
        ")\n",
        "iplot(fig)\n",
        "go.Figure.write_html(fig,\"/content/drive/MyDrive/CS260D_final_project/plots/waterbirds_tSNE_spurious_plot.html\") # write as html or image"
      ],
      "metadata": {
        "colab": {
          "base_uri": "https://localhost:8080/",
          "height": 1000
        },
        "id": "PIPsMUKSkYby",
        "outputId": "da039bbb-6cb0-4d3e-cf0e-b7e05a880eb7"
      },
      "execution_count": null,
      "outputs": [
        {
          "output_type": "stream",
          "name": "stderr",
          "text": [
            "<ipython-input-66-92f5e170e1f7>:10: FutureWarning:\n",
            "\n",
            "In a future version of pandas, a length 1 tuple will be returned when iterating over a groupby with a grouper equal to a list of length 1. Don't supply a list with a single grouper to avoid this warning.\n",
            "\n"
          ]
        },
        {
          "output_type": "display_data",
          "data": {
            "text/html": [
              "<html>\n",
              "<head><meta charset=\"utf-8\" /></head>\n",
              "<body>\n",
              "    <div>            <script src=\"https://cdnjs.cloudflare.com/ajax/libs/mathjax/2.7.5/MathJax.js?config=TeX-AMS-MML_SVG\"></script><script type=\"text/javascript\">if (window.MathJax && window.MathJax.Hub && window.MathJax.Hub.Config) {window.MathJax.Hub.Config({SVG: {font: \"STIX-Web\"}});}</script>                <script type=\"text/javascript\">window.PlotlyConfig = {MathJaxConfig: 'local'};</script>\n",
              "        <script charset=\"utf-8\" src=\"https://cdn.plot.ly/plotly-2.24.1.min.js\"></script>                <div id=\"e67dba42-bb45-462a-b3b4-23a24c3e4275\" class=\"plotly-graph-div\" style=\"height:1000px; width:1000px;\"></div>            <script type=\"text/javascript\">                                    window.PLOTLYENV=window.PLOTLYENV || {};                                    if (document.getElementById(\"e67dba42-bb45-462a-b3b4-23a24c3e4275\")) {                    Plotly.newPlot(                        \"e67dba42-bb45-462a-b3b4-23a24c3e4275\",                        [{\"mode\":\"markers\",\"name\":\"Spurious label 0\",\"x\":[-15.434532165527344,32.454002380371094,-47.925716400146484,-58.73816680908203,37.49351119995117,21.436559677124023,-54.17304992675781,-48.540035247802734,-56.94308853149414,-41.2619514465332,-42.53976821899414,-3.072575330734253,-16.563512802124023,19.397647857666016,-14.84982681274414,-4.679527282714844,-16.618234634399414,-17.157487869262695,-0.2521519064903259,-19.250701904296875,-8.47765827178955,-9.55754566192627,-20.354000091552734,11.454573631286621,-4.341442584991455,-5.0295820236206055,-3.6142966747283936,-22.634326934814453,-26.626901626586914,-34.946258544921875,-27.892852783203125,-13.191007614135742,-26.99736785888672,-3.656848192214966,-2.8573532104492188,11.712867736816406,-26.902759552001953,-20.91460418701172,-40.054298400878906,-3.405496835708618,-31.644407272338867,-49.25468063354492,-11.517863273620605,-11.150190353393555,-5.083324432373047,39.13836669921875,-48.32522964477539,-57.83723068237305,-60.13086700439453,-58.12875747680664,-54.57765197753906,-57.081539154052734,-55.86948776245117,5.8154168128967285,4.700859069824219,5.646249771118164,7.02574348449707,-0.4563692808151245,-5.318339824676514,-9.404584884643555,-4.552106857299805,-2.1628735065460205,0.11530785262584686,-6.132479667663574,-33.052799224853516,-34.61042785644531,-32.045814514160156,-4.032217025756836,-1.4161696434020996,0.7241278290748596,-26.923431396484375,-31.394651412963867,14.688371658325195,-13.972575187683105,-11.222027778625488,46.28020477294922,-3.882982015609741,-8.168259620666504,-3.241318702697754,13.698969841003418,-9.937214851379395,-23.08134651184082,47.96048355102539,-7.121492385864258,-11.20595932006836,-9.663191795349121,-23.996675491333008,-8.453783988952637,-32.713401794433594,-49.251773834228516,-36.44028091430664,-30.32099723815918,-39.63650131225586,-37.37126922607422,-37.6488037109375,-38.693115234375,-9.016101837158203,2.9586639404296875,-8.788830757141113,-0.18372245132923126,-10.997557640075684,-23.932537078857422,-6.457523822784424,-10.191842079162598,3.250681161880493,13.904190063476562,-20.60332489013672,-36.07169723510742,-41.35831069946289,-33.973060607910156,-33.011295318603516,-27.185014724731445,-1.5371216535568237,-23.706886291503906,3.454298734664917,9.833654403686523,2.7181179523468018,-8.005620956420898,-6.37449836730957,-8.292963027954102,-8.441812515258789,-10.3649263381958,13.379090309143066,11.544866561889648,-21.4522705078125,-57.424373626708984,-31.957258224487305,-57.391571044921875,-51.58899688720703,-50.08749771118164,-57.94861602783203,-64.2515640258789,53.86157989501953,51.4741096496582,-64.24871826171875,61.2826042175293,-64.54254150390625,-67.4795913696289,-9.04372501373291,-69.12800598144531,-9.044342041015625,-53.053184509277344,-43.281837463378906,-50.483734130859375,-59.179988861083984,-57.53298568725586,-27.710968017578125,47.671749114990234,-54.166236877441406,-43.62038803100586,-2.681932210922241,51.53691864013672,-51.43223190307617,-17.125944137573242,-48.49924087524414,-35.560237884521484,-48.39967727661133,-42.100093841552734,-48.506561279296875,-38.88920974731445,-29.42927360534668,-37.96668243408203,-57.98411560058594,-28.884580612182617,-62.14059066772461,-56.92061233520508,-49.8461799621582,-61.81281280517578,-56.99892044067383,-31.896400451660156,-49.87990951538086,-10.813104629516602,-58.5697135925293,-6.377579212188721,-56.594329833984375,48.4311408996582,56.71369552612305,-24.96976661682129,-37.167381286621094,-46.18606948852539,-21.879133224487305,-36.32775115966797,-24.76214599609375,-35.47665023803711,54.96855926513672,-62.994590759277344,54.24774169921875,-25.266368865966797,-41.32033920288086,-24.63020896911621,-62.67270278930664,-7.101845741271973,8.053749084472656,10.33368968963623,10.028702735900879,35.90575408935547,8.569769859313965,10.706191062927246,9.571175575256348,10.640021324157715,11.021368980407715,-3.8441057205200195,-10.121917724609375,27.93613052368164,24.68320083618164,-4.586160182952881,-34.00877380371094,-11.920280456542969,-28.988872528076172,-9.530391693115234,57.772132873535156,14.517518043518066,11.8017578125,-29.496421813964844,36.507911682128906,-28.426769256591797,-11.414368629455566,-61.31549072265625,46.87099838256836,-52.731502532958984,-6.360230445861816,-5.93709135055542,-6.727938175201416,2.5410172939300537,-5.54127836227417,-28.670618057250977,0.30372515320777893,0.3666161596775055,-6.538499355316162,-22.884267807006836,-6.446579456329346,-5.967030048370361,3.4486284255981445,-26.402368545532227,-33.308616638183594,-5.20226526260376,-38.44397735595703,-34.352664947509766,-7.939933776855469,-32.784610748291016,-0.1783636510372162,-28.9338321685791,-12.954960823059082,-58.38488006591797,-63.40096664428711,-67.0694580078125,-52.45112609863281,-10.310961723327637,-56.94301223754883,-26.216848373413086,-51.156185150146484,-46.77254867553711,-42.054317474365234,-43.620933532714844,-47.02077102661133,-36.7111930847168,-55.15111541748047,-43.70396041870117,-9.293292999267578,-13.353759765625,-0.9151841998100281,12.240135192871094,19.19754981994629,-5.263776779174805,-9.442058563232422,-12.753966331481934,-9.598295211791992,27.73238182067871,-2.6610779762268066,-24.636138916015625,-27.88906478881836,-23.102401733398438,-33.77237319946289,-59.783966064453125,-44.768943786621094,-56.54099655151367,-58.61471939086914,-58.43230438232422,-56.50474166870117,-44.09196472167969,-59.04270553588867,-70.46183776855469,-66.64938354492188,-71.22868347167969,-70.68128204345703,-29.85689353942871,-32.748252868652344,-11.753927230834961,-35.60002899169922,-29.75568962097168,-35.00812911987305,-56.3739128112793,-27.77064323425293,-35.51021957397461,-25.31850814819336,-68.9969253540039,-70.3742904663086,-69.61360168457031,-55.52378463745117,41.313568115234375,-68.2352523803711,51.66691970825195,-69.31942749023438,-67.62889862060547,-50.188358306884766,-46.22989273071289,-30.916540145874023,-21.019100189208984,56.04990005493164,3.5672078132629395,-47.06571578979492,-49.89250183105469,30.736135482788086,-50.762298583984375,-51.17387771606445,23.708932876586914,-51.19710159301758,25.716873168945312,-3.324761390686035,-27.04581069946289,-5.4936017990112305,51.758358001708984,-4.723659038543701,-5.857441425323486,-7.500962257385254,31.785743713378906,2.2727906703948975,-6.472829341888428,5.644468784332275,-10.603887557983398,-64.4737548828125,-41.13543701171875,-10.636570930480957,-43.799922943115234,-51.82393264770508,-8.611549377441406,-65.08792114257812,-61.731964111328125,-55.374107360839844,-49.475364685058594,-54.79457092285156,-35.36101150512695,-1.3012700080871582,-47.676753997802734,40.10218048095703,1.5240788459777832,-11.988448143005371,-10.351916313171387,-10.137908935546875,-11.269828796386719,-25.253206253051758,-3.5548670291900635,-5.271710395812988,-27.714948654174805,-9.737730979919434,-31.23172950744629,-31.849428176879883,-47.951255798339844,-31.2946834564209,-44.289306640625,-14.681988716125488,-48.08063507080078,-48.93732833862305,-55.28646469116211,-55.88372039794922,-46.41573715209961,-32.295589447021484,-37.53014373779297,9.242761611938477,-12.410877227783203,-12.017437934875488,-12.438345909118652,38.06755828857422,-12.136266708374023,1.6332894563674927,-38.023040771484375,-55.56512451171875,-45.862274169921875,-38.15034866333008,-44.92185592651367,-54.77134323120117,-37.102996826171875,15.275506019592285,-57.47821044921875,-57.94255447387695,32.379581451416016,-58.080360412597656,-11.110860824584961,-48.87105941772461,-37.227054595947266,-63.494144439697266,-49.939449310302734,-60.82120895385742,-45.17347717285156,25.6942138671875,-44.655174255371094,-40.854000091552734,-49.631954193115234,-6.420702934265137,-32.19968032836914,-49.50205612182617,-50.432769775390625,-49.825984954833984,-27.94468116760254,-44.76988220214844,-42.77931213378906,-47.76468276977539,-5.905034065246582,-58.68389129638672,-46.125755310058594,-45.843318939208984,12.433710098266602,-18.71149444580078,-11.582246780395508,-12.778787612915039,-20.146154403686523,-4.743988513946533,3.7516934871673584,50.96316909790039,-27.57183837890625,-66.35090637207031,-55.82404327392578,-64.72283935546875,-62.36891555786133,-56.17147445678711,-62.5200309753418,-44.267967224121094,-66.09235382080078,10.667126655578613,-17.861068725585938,-63.230918884277344,-43.95822525024414,-61.1053466796875,57.73238754272461,-45.080169677734375,-46.66470718383789,-47.88357925415039,-26.255023956298828,-46.83480453491211,-44.88679885864258,-45.193058013916016,4.316343784332275,6.86529016494751,7.5062665939331055,0.6089929342269897,8.844874382019043,7.490922927856445,9.59130573272705,9.56021785736084,9.54610538482666,7.518060684204102,-25.757959365844727,-24.88179588317871,-48.45378112792969,-36.397891998291016,-35.34832000732422,-51.505760192871094,-43.59574508666992,-45.91352462768555,-0.9603874087333679,-10.399023056030273,-2.220550060272217,-1.3604047298431396,0.4027808606624603,1.282932996749878,0.845329999923706,46.35824203491211,-1.322519302368164,-64.85708618164062,-66.91426086425781,-40.733646392822266,-64.00572204589844,-64.5230941772461,35.30644989013672,-64.34229278564453,-60.41905212402344,-9.510478973388672,-3.865706443786621,-26.658597946166992,5.092018127441406,-5.296220302581787,-2.6483702659606934,-26.788982391357422,-30.20566177368164,-33.748538970947266,57.1270866394043,-30.55489158630371,-15.879998207092285,-14.609903335571289,-40.02830123901367,-15.867173194885254,-3.3168580532073975,-14.86054515838623,41.37870788574219,-4.323946952819824,-21.189882278442383,-0.19640368223190308,2.8693721294403076,45.92657470703125,-2.043944835662842,-2.145756959915161,-0.9539326429367065,-0.58149254322052,7.4133076667785645,-9.873692512512207,-44.00347900390625,-6.980811595916748,-25.233736038208008,-10.967411994934082,-29.567096710205078,-2.8845558166503906,-41.80373001098633,-40.56093215942383,-12.728038787841797,-7.32016658782959,-29.614105224609375,-11.190402030944824,-25.200777053833008,-29.360183715820312,-36.50518035888672,-56.48284912109375,-10.513306617736816,-10.249079704284668,-62.594783782958984,-60.51950454711914,-42.0872917175293,-59.886165618896484,-66.56178283691406,-61.487815856933594,-51.08441925048828,-53.96258544921875,-55.67400360107422,-59.2198371887207,-7.92222261428833,-57.9731330871582,-58.69000244140625,24.93977928161621,-51.761451721191406,-39.11100769042969,-36.914878845214844,-26.18886947631836,-53.64535903930664,-50.116416931152344,-22.788349151611328,-46.45879364013672,-53.000057220458984,-53.26611328125,-55.6198844909668,-2.410322666168213,-8.802781105041504,-4.618597507476807,-5.736849308013916,-4.120769023895264,-1.1204122304916382,-17.609800338745117,-21.764284133911133,50.85862350463867,7.295455455780029,19.63277816772461,-29.509510040283203,-63.80486297607422,15.61741828918457,-63.37569808959961,-63.7133903503418,-63.06706237792969,-22.84957504272461,-43.93585205078125,-45.36798858642578,-48.523590087890625,-47.922996520996094,-48.89096450805664,-60.309776306152344,-48.24320602416992,-54.14860153198242,-47.01237487792969,-30.688209533691406,-18.72812271118164,-17.758167266845703,0.1966644674539566,-9.906414031982422,-11.006871223449707,-43.17799758911133,-43.28988265991211,-27.7180233001709,1.0212786197662354,-6.191455364227295,1.1016641855239868,49.859413146972656,-20.4901065826416,-41.60219192504883,-40.77515411376953,-32.0473747253418,-55.10118103027344,-36.58963394165039,-47.813167572021484,-35.48436737060547,-50.05287551879883,-38.75113296508789,-38.30223083496094,-22.390348434448242],\"y\":[-3.659756898880005,-27.66847038269043,14.898813247680664,11.259753227233887,-27.139192581176758,-28.939130783081055,12.298113822937012,18.949491500854492,12.035392761230469,19.116437911987305,19.25313949584961,8.326557159423828,15.389683723449707,-28.310260772705078,14.69968032836914,-9.06735610961914,14.802206993103027,15.723542213439941,-17.469135284423828,13.988045692443848,10.159181594848633,10.079812049865723,14.625414848327637,-21.563047409057617,8.539332389831543,8.814377784729004,5.657402992248535,7.543488502502441,7.485781192779541,6.46618127822876,7.265958786010742,-3.143892526626587,6.76356840133667,0.04803202301263809,-8.303092002868652,-17.75798988342285,17.5127010345459,12.327954292297363,15.894054412841797,-17.647790908813477,15.374185562133789,14.610702514648438,3.986294984817505,5.724786758422852,-14.906243324279785,-32.81028747558594,0.23528696596622467,1.6364136934280396,1.440072774887085,1.2307157516479492,1.3040788173675537,1.5007872581481934,0.9215410947799683,-4.792952060699463,-2.8597962856292725,-1.5774842500686646,-6.260532379150391,3.368276834487915,-3.32574725151062,-0.07027699053287506,-3.7214102745056152,-1.1683628559112549,-0.2534158229827881,-11.97100830078125,4.129209518432617,3.8980534076690674,3.789792537689209,-14.756490707397461,-0.6297547221183777,-2.595104932785034,5.763866901397705,3.7492799758911133,-28.267860412597656,14.125494956970215,14.076423645019531,-20.1281681060791,10.137974739074707,11.787881851196289,9.36555004119873,-28.841678619384766,14.424497604370117,7.096424102783203,-18.819650650024414,-2.179173469543457,-1.0034300088882446,3.4373438358306885,7.783585548400879,-2.873035192489624,6.178566932678223,2.6206257343292236,1.1000972986221313,3.647526979446411,2.82108736038208,1.7509196996688843,2.016233444213867,5.727175235748291,1.2502131462097168,-0.9856367111206055,4.462549686431885,-16.05897331237793,0.7593343257904053,6.344976902008057,0.6500691175460815,-0.36138051748275757,-3.560918092727661,-27.332117080688477,-3.41206955909729,6.997180461883545,12.236902236938477,9.5094633102417,9.7656888961792,5.791965007781982,-14.11807918548584,3.9502265453338623,1.7613781690597534,-28.03059959411621,0.3379709720611572,5.415183067321777,7.890953063964844,6.713467597961426,5.237598896026611,3.732210159301758,-27.585525512695312,-23.48808479309082,14.495134353637695,11.386295318603516,14.370392799377441,12.230937004089355,16.78203010559082,13.865365028381348,10.196760177612305,4.6741180419921875,-13.89491081237793,26.368722915649414,6.172491073608398,-2.7870442867279053,6.024456024169922,4.012433052062988,-18.035913467407227,2.915109872817993,-18.274002075195312,17.146608352661133,17.985233306884766,18.693140029907227,13.648341178894043,13.166501998901367,17.970638275146484,29.763763427734375,5.7735466957092285,3.2754437923431396,-13.886434555053711,-11.600726127624512,5.9340925216674805,1.420259952545166,7.987494945526123,2.695969820022583,11.71223258972168,17.135652542114258,12.265608787536621,6.765685558319092,11.510188102722168,0.8510181307792664,9.04432487487793,9.75482177734375,11.276754379272461,14.160371780395508,19.21076011657715,11.401223182678223,10.074081420898438,12.19758415222168,13.875772476196289,-14.477522850036621,9.769279479980469,-15.572001457214355,10.50953197479248,-20.735200881958008,-7.396320343017578,4.021849632263184,5.17907190322876,5.0312981605529785,-1.3984975814819336,4.680057525634766,3.815023899078369,4.155484676361084,-17.903568267822266,5.778080940246582,13.82870101928711,16.797449111938477,12.602578163146973,3.3941121101379395,5.99060583114624,-14.529191970825195,-1.448350191116333,-8.199291229248047,-6.063392639160156,-26.185401916503906,-5.701864719390869,-5.23240327835083,-3.0096118450164795,-5.918271064758301,-5.46865177154541,0.9710976481437683,6.681862831115723,-25.455720901489258,-28.79189109802246,1.9264775514602661,5.573002338409424,-1.9312019348144531,8.776320457458496,0.902485728263855,-6.83440637588501,-27.24788475036621,-13.802301406860352,19.459938049316406,-26.51521873474121,19.488475799560547,-13.902338981628418,11.814628601074219,-18.879545211791992,20.20368766784668,1.7989628314971924,0.7977609038352966,2.6101949214935303,1.2942904233932495,2.002594232559204,6.528249740600586,-17.377187728881836,3.6345677375793457,4.312725067138672,8.972933769226074,4.900973320007324,5.105348587036133,0.8234624862670898,9.312446594238281,2.3136470317840576,-11.386561393737793,2.3129303455352783,2.5887467861175537,-1.7078412771224976,2.6936779022216797,-1.5417566299438477,3.9690046310424805,-3.9945831298828125,13.975807189941406,6.936194896697998,4.571998596191406,17.80422019958496,-14.773587226867676,15.464118003845215,0.48018980026245117,4.9290666580200195,1.6034741401672363,-0.22442910075187683,1.2458603382110596,1.4494236707687378,11.740345001220703,2.787808418273926,-1.0410677194595337,11.746108055114746,14.019660949707031,5.589869976043701,-21.732666015625,-27.78245735168457,11.09477424621582,11.670452117919922,13.440917015075684,12.611154556274414,-26.233856201171875,9.126309394836426,7.599833965301514,9.982697486877441,7.761810302734375,7.970043182373047,1.7215880155563354,-1.870676040649414,7.961411952972412,2.1363532543182373,2.444019317626953,1.9680129289627075,7.680370807647705,1.6045862436294556,3.1258413791656494,4.153600215911865,2.8873350620269775,3.003182888031006,8.679351806640625,5.806171894073486,-5.33158540725708,5.682825088500977,8.855181694030762,7.663222789764404,9.153735160827637,4.990466594696045,6.359968185424805,6.034223556518555,1.9550585746765137,2.229442596435547,2.0328850746154785,4.061544418334961,-23.495023727416992,2.222522020339966,-9.79391098022461,2.102031707763672,1.9402776956558228,1.8527320623397827,0.06565091013908386,7.448133945465088,-3.1323487758636475,5.99054479598999,-17.870655059814453,3.4321796894073486,12.330475807189941,-23.489215850830078,19.085878372192383,19.93459701538086,-32.707435607910156,18.983118057250977,-29.34181022644043,-7.762059211730957,9.121323585510254,3.311692953109741,-15.004654884338379,-4.488170146942139,3.642749786376953,-3.2708959579467773,-32.460792541503906,-1.6571391820907593,5.657545566558838,-7.742034912109375,-0.04738689959049225,2.496992826461792,11.213598251342773,-17.087610244750977,7.941040515899658,1.394984245300293,-16.791942596435547,2.643819808959961,4.46305513381958,8.28799819946289,16.771835327148438,7.285871982574463,1.0477865934371948,-13.304347038269043,6.308398246765137,-27.586214065551758,-0.2765338718891144,-3.5085766315460205,0.7063670754432678,2.0305490493774414,1.6924227476119995,7.513843059539795,-15.201651573181152,1.205264687538147,8.422035217285156,1.2865508794784546,16.95509910583496,17.535472869873047,14.411330223083496,17.084779739379883,18.29287338256836,-4.088662624359131,3.915896415710449,3.181199789047241,1.9554333686828613,1.6172305345535278,3.5304181575775146,8.755918502807617,5.8859992027282715,-12.279682159423828,18.009899139404297,18.175962448120117,18.097145080566406,-24.704608917236328,17.684659957885742,7.597276210784912,12.9288330078125,7.916624546051025,2.9483137130737305,4.518420696258545,2.579725980758667,8.762701034545898,13.169279098510742,-26.80617904663086,15.960391998291016,15.163341522216797,-23.284896850585938,15.764765739440918,-17.38814353942871,17.438962936401367,14.0087251663208,10.842398643493652,7.113020420074463,5.154104709625244,7.776108264923096,-24.919979095458984,7.79451322555542,15.272697448730469,14.638406753540039,-14.901680946350098,15.416487693786621,15.862059593200684,12.765262603759766,14.949583053588867,17.764650344848633,17.33881378173828,17.256669998168945,18.923498153686523,-14.820364952087402,12.819838523864746,17.880733489990234,16.234983444213867,-29.22728157043457,12.712031364440918,-0.16126985847949982,-1.1102514266967773,13.50403881072998,-10.783954620361328,-6.083584308624268,-12.664938926696777,9.031373023986816,3.380704164505005,7.602004528045654,4.764647483825684,7.854241847991943,7.30146598815918,4.1142401695251465,10.31161880493164,2.1342413425445557,-29.842138290405273,0.6531841158866882,8.77446460723877,-1.94024658203125,5.869395732879639,-10.955679893493652,0.9565061926841736,0.5327392220497131,0.8724552989006042,1.5891954898834229,4.437654972076416,2.1521074771881104,0.17097745835781097,-17.30593490600586,-1.4354990720748901,-3.1623423099517822,4.817976474761963,-12.364020347595215,-2.5891335010528564,-4.7333598136901855,-7.508144378662109,-8.868210792541504,-4.538211345672607,0.01473824493587017,-0.3450867235660553,1.5998247861862183,11.927889823913574,12.975020408630371,4.625582218170166,4.007084846496582,7.356157302856445,6.439302921295166,11.679291725158691,6.133814334869385,6.63840389251709,6.170721530914307,5.799664497375488,6.241701602935791,-25.005290985107422,6.2827606201171875,3.1158268451690674,3.294954776763916,12.281315803527832,3.2004849910736084,3.575982093811035,-28.378602981567383,3.6934762001037598,9.488030433654785,7.58799934387207,-15.48715877532959,10.883637428283691,-8.30666446685791,0.38386857509613037,2.5555331707000732,10.165318489074707,11.23684310913086,7.960983753204346,-4.549941539764404,10.115222930908203,14.862476348876953,14.156083106994629,19.21855354309082,14.274679183959961,8.80240535736084,13.897265434265137,-28.757741928100586,-15.738320350646973,15.202546119689941,-17.61847496032715,4.824055194854736,-22.531902313232422,11.605412483215332,11.604325294494629,11.66632080078125,11.290348052978516,-5.526007175445557,6.172605991363525,16.11922836303711,-1.4320911169052124,8.86298656463623,4.228883266448975,11.727246284484863,-11.660746574401855,15.799361228942871,16.07989501953125,0.7892715930938721,-15.283687591552734,7.8195576667785645,6.728517055511475,4.769647121429443,7.725093364715576,5.992795467376709,2.807727575302124,-2.415315866470337,-17.069351196289062,8.535332679748535,3.6825056076049805,-0.5520147681236267,3.6861870288848877,2.673508405685425,4.873947620391846,0.3291654586791992,17.067495346069336,11.905232429504395,10.330241203308105,-17.13411521911621,10.886065483093262,10.776871681213379,-26.318288803100586,17.381359100341797,3.780153274536133,4.27217960357666,2.2598400115966797,2.120934247970581,2.173521041870117,-1.540998101234436,5.53379487991333,15.723767280578613,13.827147483825684,13.195743560791016,8.670637130737305,12.169381141662598,-7.910069465637207,11.106761932373047,-6.268276214599609,11.385296821594238,14.108511924743652,18.108402252197266,-13.2899808883667,-16.64141273498535,-30.356674194335938,20.07952308654785,12.440861701965332,-28.639184951782227,13.005568504333496,12.407750129699707,13.787442207336426,12.532591819763184,17.511260986328125,17.570581436157227,13.990043640136719,11.512192726135254,13.317256927490234,4.444077968597412,7.567768573760986,7.255259037017822,6.782570838928223,18.305734634399414,16.161449432373047,15.454283714294434,7.029494285583496,13.080038070678711,14.069225311279297,16.538904190063477,16.228126525878906,11.880760192871094,-16.0695858001709,-14.216970443725586,-1.0092257261276245,25.755844116210938,12.59914493560791,16.606294631958008,16.673954010009766,9.100927352905273,9.450240135192871,2.9301018714904785,4.420742988586426,4.865591526031494,11.97581958770752,5.350532531738281,-0.1287364363670349,-0.9892860651016235],\"type\":\"scatter\"},{\"mode\":\"markers\",\"name\":\"Spurious label 1\",\"x\":[43.495479583740234,60.907318115234375,56.843040466308594,47.37897872924805,-10.315299987792969,-20.453489303588867,-0.26310083270072937,42.474571228027344,57.92222595214844,57.20830535888672,-7.5434088706970215,25.858243942260742,36.93821334838867,29.240751266479492,41.328330993652344,25.902315139770508,44.57061767578125,58.65972900390625,-19.53046226501465,-1.3889161348342896,54.76605987548828,44.75300598144531,-11.610140800476074,47.93589401245117,17.909626007080078,51.137569427490234,45.45058822631836,49.02248001098633,0.6127870678901672,0.4517412483692169,45.189876556396484,40.662139892578125,60.74297332763672,60.15468215942383,55.666847229003906,-37.690818786621094,55.94712448120117,-58.259315490722656,50.496925354003906,58.831146240234375,53.91476058959961,17.747159957885742,57.595157623291016,4.9539103507995605,33.272422790527344,8.917459487915039,52.65928649902344,43.321197509765625,19.26581382751465,61.541587829589844,5.382180213928223,53.28155517578125,60.17548751831055,52.68877029418945,58.492759704589844,24.478199005126953,11.090932846069336,-18.582555770874023,2.6046011447906494,48.591941833496094,18.289827346801758,37.641597747802734,44.19526290893555,48.94317626953125,36.396663665771484,-3.0165843963623047,-8.738373756408691,47.63883972167969,2.5218942165374756,10.479474067687988,3.9108877182006836,46.914207458496094,-40.015411376953125,57.56318664550781,49.20977783203125,44.02458190917969,57.84383010864258,55.36212158203125,29.81527328491211,-21.2073917388916,57.62628173828125,60.67948913574219,3.405980348587036,45.10637283325195,5.05180025100708,14.618114471435547,50.65480422973633,33.47262191772461,-25.324169158935547,56.02104187011719,-0.17751866579055786,50.69010925292969,56.80539321899414,48.77324676513672,55.31119155883789,45.2718620300293,50.021629333496094,50.84777069091797,-8.476912498474121,56.78911590576172,39.58388137817383,56.493019104003906,55.071197509765625,47.072776794433594,2.6100540161132812,-50.893470764160156,51.20661163330078,0.8889465928077698,-44.259803771972656,32.857723236083984,-41.82609558105469,32.78861618041992,-63.61536407470703,56.04890060424805,54.44707489013672,-10.969773292541504,33.7096061706543,34.282470703125,12.330010414123535,-24.088871002197266,55.74122619628906,30.186845779418945,58.660552978515625,12.079845428466797,33.03535842895508,51.3463249206543,-43.58234786987305,29.66563606262207,-22.139272689819336,55.517147064208984,-17.81580352783203,59.17753601074219,46.42448806762695,38.938148498535156,59.491844177246094,36.47163772583008,-37.24397659301758,57.05074691772461,9.902359008789062,59.382137298583984,10.159923553466797,57.60153579711914,45.53184127807617,60.63308334350586,8.7156343460083,-2.7504708766937256,-49.24679183959961,42.97047805786133,5.603661060333252,23.248641967773438,44.7686653137207,-27.258365631103516,-56.61524200439453,55.934749603271484,10.760880470275879,37.089393615722656,62.273399353027344,-26.080215454101562,44.99706268310547,-2.4406495094299316,60.43073654174805,-22.656944274902344,-21.249771118164062,32.01569366455078,43.37800979614258,59.38364791870117,44.097877502441406,44.2978630065918,52.52650451660156,11.540406227111816,-22.870637893676758,49.8009033203125,55.3249626159668,-25.08765411376953,-49.10362243652344,13.210800170898438,40.85391616821289,10.096508979797363,11.273940086364746,50.008460998535156,31.445999145507812,44.099769592285156,10.18707275390625,54.618560791015625,0.9497426748275757,-20.514074325561523,-11.780219078063965,58.26531219482422,42.32347106933594,35.868892669677734,23.173368453979492,43.42449188232422,-66.6743392944336,-21.895465850830078,31.397037506103516,58.21763229370117,50.44103240966797,3.5713648796081543,21.20464515686035,4.4202070236206055,5.5265936851501465,-1.1569470167160034,52.01108932495117,43.563472747802734,51.985836029052734,2.7501003742218018,26.68987274169922,4.228322982788086,29.125961303710938,-3.676255226135254,57.07023239135742,55.80910110473633,42.310768127441406,31.247028350830078,60.2010383605957,30.63576316833496,57.14566421508789,48.28397750854492,9.56138801574707,56.70085906982422,-11.648823738098145,56.040992736816406,43.18796920776367,31.649290084838867,11.723365783691406,10.720922470092773,-1.8211551904678345,57.342681884765625,36.78831481933594,-53.1478385925293,48.988651275634766,-50.00468826293945,49.77015686035156,56.22602462768555,54.409542083740234,59.74455642700195,44.94729995727539,50.30034255981445,41.310218811035156,57.45456314086914,7.386645793914795,53.351051330566406,37.562744140625,11.27786922454834,57.11708068847656,58.609588623046875,-11.733675956726074,43.18809127807617,26.736637115478516,57.66322708129883,-21.349889755249023,-10.545819282531738,-2.459280014038086,12.415590286254883,-9.740489959716797,-52.786293029785156,48.2166862487793,41.98540496826172,52.31342315673828,58.50179672241211,56.54195022583008,52.02511978149414,20.084640502929688,58.74344253540039,-6.560500621795654,11.139546394348145,54.527557373046875,5.716917514801025,-69.92984771728516,-18.167057037353516,54.746646881103516,37.975067138671875,38.21440505981445,58.404842376708984,52.911441802978516,58.387596130371094,44.65071487426758,44.45880889892578,43.042015075683594,60.5988883972168,48.953224182128906,59.008487701416016,48.13614273071289,8.38734245300293,11.094557762145996,57.0184211730957,48.57532501220703,54.48902893066406,-30.96355628967285,-37.110572814941406,45.211021423339844,10.767549514770508,59.84982681274414,54.86794662475586,50.81879425048828,-22.30219078063965,-28.011693954467773,35.39070129394531,-32.93811798095703,-23.10356330871582,43.88474655151367,-13.3857421875,30.147005081176758,38.0294075012207,-7.831185817718506,50.709693908691406,43.04288101196289,6.48349142074585,46.738895416259766,47.586395263671875,6.71135139465332,61.455421447753906,56.9616813659668,51.1471061706543,57.56282424926758,29.593782424926758,-17.348207473754883,51.82978057861328,12.2261323928833,58.864810943603516,-50.431121826171875,12.754755973815918,53.79780960083008,-9.37487506866455,47.593658447265625,-56.08758544921875,51.72085952758789,54.58100891113281,53.16059112548828,43.0893669128418,56.28313446044922,11.133161544799805,47.48896789550781,11.274463653564453,36.374977111816406,13.034757614135742,-32.332279205322266,1.8596891164779663,9.758536338806152,41.8681640625,48.68797302246094,57.006736755371094,56.81024932861328,32.09920883178711,49.00174331665039,41.722110748291016,58.754703521728516,9.410858154296875,-46.953887939453125,52.303226470947266,58.63182830810547,-21.48902130126953,37.47911834716797,9.451523780822754,23.094358444213867,40.526939392089844,29.31684112548828,40.032623291015625,9.765718460083008,45.56658172607422,-11.747004508972168,50.22325134277344,56.672821044921875,-24.678241729736328,50.11985397338867,-54.30451202392578,27.34960174560547,51.785884857177734,32.66516876220703,28.584623336791992,36.909996032714844,56.62186050415039,44.090003967285156,42.28646469116211,55.966251373291016,-49.54131317138672,26.705453872680664,50.3263053894043,-45.10802459716797,59.64025115966797,-18.696168899536133,-24.148193359375,10.793084144592285,51.459190368652344,56.220428466796875,40.64033889770508,-51.71620178222656,-25.51826286315918,-20.064245223999023,-17.846328735351562,46.44629669189453,50.59972381591797,25.243637084960938,3.391904830932617,45.27146911621094,59.313968658447266,58.36148452758789,49.33861541748047,47.377899169921875,19.446685791015625,44.631900787353516,5.2736639976501465,52.88636779785156,58.067657470703125,5.462888240814209,22.789566040039062,32.34170913696289,44.23636245727539,4.907516956329346,-3.3662784099578857,49.268707275390625,30.27594566345215,-4.270309925079346,-62.27307891845703,22.664241790771484,52.20806884765625,50.75812911987305,56.269779205322266,54.16503143310547,49.80939483642578,58.28158187866211,-9.394407272338867,50.53789138793945,42.57002258300781,-51.557830810546875,-36.34428405761719,-10.648860931396484,52.25720977783203,44.136756896972656,51.06330108642578,57.297061920166016,52.21915817260742,9.5961275100708,50.8687858581543,-23.354516983032227,58.68404006958008,56.42852020263672,-19.61669921875,18.785900115966797,61.74208450317383,7.658156871795654,41.66939926147461,10.463353157043457,59.98216247558594,14.18327522277832,54.176788330078125,50.92610168457031,57.064849853515625,9.486593246459961,58.718223571777344,56.43412780761719,-24.950191497802734,4.932801246643066,58.005271911621094,8.253507614135742,32.03253936767578,8.496989250183105,34.38138198852539,41.09714126586914,20.98953628540039,51.0876579284668,53.587486267089844,14.15665340423584,58.3752326965332,27.19784164428711,-49.69184112548828,54.11901092529297,47.490726470947266,33.17943572998047,46.81520080566406,17.49007797241211,44.55911636352539,57.67405700683594,43.07727813720703,60.091922760009766,21.682968139648438,5.530923843383789,10.479874610900879,-6.807044506072998,15.266528129577637,57.6903076171875,14.009876251220703,11.437033653259277,58.688968658447266,11.120073318481445,40.78531265258789,26.632450103759766,39.16334533691406,-1.9771852493286133,56.07758712768555,38.31362533569336,60.296669006347656,55.87618637084961,12.31508731842041,43.92941665649414,57.03946304321289,16.323423385620117,25.254261016845703,56.385414123535156,-23.493993759155273,53.02296447753906,59.84038162231445,52.675743103027344,54.64927291870117,43.0672607421875,60.970924377441406,18.144161224365234,58.75666046142578,-44.09355545043945,50.31980895996094,53.40318298339844,61.29573059082031,57.51738357543945,-48.3968505859375,9.93566608428955,9.259187698364258,52.930564880371094,41.63690185546875,-22.881818771362305,27.68659782409668,51.4013557434082,53.14702224731445,-20.19451141357422,-20.169198989868164,59.48701858520508,57.3137321472168,47.01104736328125,-42.464996337890625,23.83361053466797,-44.74159240722656,49.815162658691406,4.9214887619018555,59.82328796386719,-55.67024612426758,-3.949035167694092,24.40227508544922,46.23695755004883,30.44185447692871,53.934730529785156,-52.93947982788086,9.631551742553711,7.507888317108154,46.837310791015625,46.285118103027344,29.094621658325195,13.301065444946289,-4.402191638946533,31.1627254486084,51.35225296020508,42.03092956542969,31.60540199279785,60.031211853027344,39.65494155883789,0.484601229429245,40.45712661743164,55.94660949707031,-42.643863677978516,47.485382080078125,49.78940963745117,16.81475257873535,-23.916894912719727,30.742477416992188,36.86729431152344,-26.249210357666016,49.94251251220703,25.59649658203125,-18.270395278930664,-37.2923698425293,-9.573678970336914,45.26148986816406,-2.055006980895996,-35.409828186035156,58.03060531616211,58.18144607543945,48.73787307739258,57.802791595458984,-21.856172561645508,40.189022064208984,49.03609848022461,41.34033966064453,40.424095153808594,-3.309178113937378,21.845081329345703,-8.276232719421387,34.111629486083984,-3.570176839828491,52.019989013671875,56.879737854003906,13.20218276977539,50.25552749633789,1.692087173461914,57.682350158691406,31.597572326660156,23.684722900390625,48.63997268676758,49.45085906982422,47.7137565612793,55.90104675292969,54.60921096801758],\"y\":[36.74849319458008,-4.552443981170654,1.0954407453536987,-20.0894718170166,-1.661084771156311,11.381210327148438,0.6565864086151123,35.865840911865234,10.569831848144531,-7.08407735824585,11.70078182220459,-29.28278160095215,-28.547256469726562,-30.60356903076172,-31.890464782714844,-28.14095115661621,31.590648651123047,-3.2864952087402344,14.26346206665039,-8.715898513793945,19.956342697143555,-24.11341094970703,4.850314617156982,-22.9242000579834,-28.260400772094727,23.019018173217773,31.354148864746094,-18.96855354309082,-1.4905900955200195,-1.7376668453216553,34.692604064941406,-27.58361053466797,-9.107989311218262,4.823279857635498,-6.122260570526123,11.648209571838379,16.9649600982666,2.9145843982696533,-17.89534568786621,4.087182521820068,16.938018798828125,-28.639423370361328,-9.603261947631836,-2.1738436222076416,-25.00111961364746,-13.833052635192871,18.540071487426758,34.54487609863281,-28.664180755615234,-7.886876583099365,-2.5732262134552,19.608810424804688,-0.6460553407669067,23.343456268310547,1.751656174659729,-30.80359649658203,-16.91827964782715,15.552204132080078,4.937922954559326,24.906999588012695,-26.714284896850586,-30.252185821533203,32.93740463256836,-25.566160202026367,-29.064109802246094,-7.204874038696289,-0.35934922099113464,27.20166778564453,-1.9565043449401855,-17.352827072143555,-1.5360896587371826,29.817167282104492,2.5019383430480957,9.737802505493164,29.05108070373535,-27.346261978149414,5.967048645019531,-17.44601058959961,-33.54703903198242,3.4027061462402344,14.26009750366211,-2.0702617168426514,-0.6441707015037537,33.70270538330078,-6.993170738220215,-26.729917526245117,-17.52110481262207,-27.463970184326172,16.821332931518555,14.108207702636719,1.1527624130249023,24.31885528564453,15.703272819519043,-23.999649047851562,-19.324668884277344,32.29868698120117,-23.346923828125,23.276472091674805,6.496929168701172,10.01481819152832,-32.5927734375,-12.683259963989258,-17.8843994140625,32.518585205078125,-17.714658737182617,13.735244750976562,-20.471046447753906,-18.645631790161133,10.372099876403809,-26.528343200683594,-0.7425114512443542,-33.70722198486328,9.185442924499512,4.3151679039001465,-6.067716121673584,-1.8283758163452148,-26.096128463745117,-29.032453536987305,-25.556594848632812,16.848411560058594,13.43539810180664,-29.867958068847656,10.08758544921875,-22.35750961303711,-27.08964729309082,20.905031204223633,-0.11577772349119186,-29.77971649169922,1.6635937690734863,15.997090339660645,2.1475138664245605,12.098623275756836,33.67096710205078,-27.47266387939453,-9.440574645996094,-30.109310150146484,0.23069234192371368,-11.80667495727539,-17.868715286254883,11.109315872192383,-27.185590744018555,-5.519497871398926,-19.429996490478516,-1.1767444610595703,-17.33135414123535,-10.616059303283691,19.874977111816406,36.657508850097656,-15.718137741088867,-31.486669540405273,-20.368539810180664,19.292646408081055,10.555004119873047,-6.770353317260742,-18.658069610595703,-29.05685043334961,-6.7328643798828125,17.063690185546875,35.64830780029297,-0.3087138235569,-9.49776840209961,3.1999528408050537,2.9904091358184814,-23.69329071044922,-26.178869247436523,1.0768259763717651,36.30311584472656,-20.965633392333984,-24.967363357543945,-25.11435890197754,3.5348572731018066,21.6114444732666,13.554295539855957,16.43340301513672,17.13792610168457,-26.681140899658203,38.87293243408203,-4.1902241706848145,-6.421841621398926,-25.75661277770996,-29.526975631713867,-24.265613555908203,-9.173750877380371,-19.055904388427734,0.2931191027164459,9.743535041809082,-4.197220325469971,2.27113938331604,36.493717193603516,-27.123533248901367,-32.31806564331055,36.10816192626953,5.066446781158447,18.049457550048828,-27.362428665161133,13.725852966308594,-19.812232971191406,-5.7663164138793945,-28.590734481811523,0.5096800923347473,-5.561352252960205,-9.501969337463379,19.591821670532227,33.461185455322266,-15.882024765014648,2.3341658115386963,-25.826305389404297,-2.0086913108825684,-29.801362991333008,-8.3359375,16.03533935546875,-10.952570915222168,34.819976806640625,-33.0220832824707,-10.081822395324707,-33.51858139038086,14.332432746887207,28.371767044067383,-17.348651885986328,5.142595291137695,1.290971279144287,9.668062210083008,-24.825546264648438,-28.208539962768555,-18.85336685180664,-29.788223266601562,-12.716696739196777,13.508667945861816,-32.715816497802734,18.41963768005371,27.108118057250977,0.6912134289741516,27.25904655456543,-17.701929092407227,14.520892143249512,-5.814391136169434,-21.39664649963379,-25.268123626708984,36.62915802001953,8.257439613342285,-7.373477935791016,-16.244518280029297,-30.96198081970215,-14.806384086608887,-5.81222677230835,-1.8760113716125488,-0.5588322877883911,35.59149169921875,-27.694055557250977,-3.639437437057495,12.843725204467773,5.013228893280029,-8.867151260375977,-25.139892578125,6.496983051300049,1.4083988666534424,-25.044958114624023,-31.556087493896484,-15.220373153686523,5.691263198852539,9.333059310913086,25.43247413635254,-29.30084991455078,-8.461688041687012,-18.234697341918945,-25.087987899780273,-7.043857574462891,-17.96577262878418,3.246093988418579,0.46372634172439575,21.73031234741211,-28.17985725402832,-33.02356719970703,8.857697486877441,-9.553393363952637,6.280165672302246,35.31563186645508,-26.218339920043945,-24.08376693725586,-7.857123374938965,-26.271638870239258,-7.961834907531738,-23.479778289794922,-19.803110122680664,-27.126026153564453,-10.716565132141113,21.937358856201172,-6.493878364562988,7.9017415046691895,7.037773609161377,-27.18439483642578,-19.2918643951416,-8.765656471252441,17.887025833129883,20.751039505004883,-1.011380672454834,19.045875549316406,-27.382553100585938,1.2054563760757446,18.316001892089844,32.13504409790039,-1.7653673887252808,-27.219289779663086,-27.315946578979492,7.8397064208984375,25.81203842163086,-26.6879940032959,-15.62427806854248,28.792938232421875,28.150604248046875,-18.028066635131836,-5.972035884857178,10.41510009765625,-14.059927940368652,1.36028254032135,-34.187416076660156,2.8416833877563477,24.90791130065918,-28.336746215820312,-8.844474792480469,15.992734909057617,-18.861112594604492,-16.46135711669922,-15.102058410644531,28.7634220123291,16.497739791870117,-16.338619232177734,15.606352806091309,-16.93407440185547,33.97232437133789,16.577119827270508,-17.962072372436523,-21.088533401489258,-16.15771484375,-27.760555267333984,-23.090919494628906,17.702566146850586,-16.359752655029297,-16.89402198791504,35.488059997558594,-21.61815071105957,2.6495063304901123,-0.047255802899599075,-32.6618537902832,28.16828155517578,-27.034772872924805,10.584872245788574,-18.816482543945312,-0.35583189129829407,-10.895447731018066,4.405211925506592,2.123781204223633,-26.03274154663086,-6.121760845184326,-33.12070083618164,38.49858093261719,-28.554088592529297,-30.02419090270996,-8.924586296081543,-20.69765281677246,17.88486671447754,-18.778989791870117,1.7653281688690186,2.159735679626465,22.444355010986328,8.193964958190918,-25.20785140991211,23.62125015258789,-31.58200454711914,-32.01053237915039,-25.156496047973633,12.969773292541504,34.33908462524414,-26.562671661376953,-18.68732261657715,21.707653045654297,-29.951061248779297,25.076618194580078,8.396344184875488,5.595722675323486,2.6312317848205566,0.8311378359794617,-28.39937973022461,-13.18963623046875,15.002286911010742,-32.32029342651367,5.5428900718688965,0.38878118991851807,4.827507019042969,7.434998989105225,32.66771697998047,-24.140457153320312,-27.71495819091797,-17.227460861206055,-26.494247436523438,4.638328552246094,7.0399956703186035,-25.17917823791504,-25.690059661865234,-29.737091064453125,34.499141693115234,-9.311812400817871,-13.122441291809082,12.288790702819824,-7.384055137634277,-32.065067291259766,-26.760488510131836,31.487102508544922,-1.664465308189392,-4.518258094787598,24.20392608642578,-30.3490047454834,-13.627732276916504,8.027868270874023,-30.78604507446289,-14.029088973999023,27.54616928100586,11.910511016845703,-19.779165267944336,-24.581329345703125,-10.69268798828125,-18.483930587768555,21.943729400634766,-29.2366943359375,7.521876335144043,14.996334075927734,-16.498281478881836,24.584789276123047,-22.906721115112305,-16.355838775634766,-10.105697631835938,-17.25057029724121,-19.358158111572266,25.2801456451416,0.37416550517082214,12.519906997680664,4.610889911651611,1.5502675771713257,-26.865835189819336,-7.198817729949951,-3.3262665271759033,37.42678451538086,-4.59268045425415,4.342946529388428,-28.484506607055664,20.68575668334961,21.59572982788086,-9.26720905303955,-27.754138946533203,-9.66720199584961,-9.017823219299316,-0.7305822372436523,-17.582101821899414,10.039127349853516,-8.183870315551758,-31.435026168823242,-1.7866456508636475,-25.132783889770508,37.09720993041992,-30.021738052368164,-25.045320510864258,23.24745750427246,-26.358734130859375,-4.84406042098999,-30.865686416625977,21.513164520263672,22.62856101989746,-22.398603439331055,-28.22768211364746,-21.712509155273438,-27.70980453491211,33.57936477661133,15.042608261108398,35.16615295410156,1.9140961170196533,-30.58245849609375,-3.696953296661377,-15.669806480407715,11.763120651245117,-27.70012092590332,7.096505641937256,-28.063020706176758,-13.498373985290527,2.3396687507629395,-13.951709747314453,37.7857666015625,-26.67693328857422,-25.85047721862793,-10.535272598266602,-4.9022064208984375,-30.702014923095703,0.35937124490737915,-8.118865966796875,-23.719858169555664,35.239540100097656,6.314716339111328,-27.10991096496582,-30.522884368896484,15.736490249633789,5.245407581329346,21.8810977935791,0.4913657009601593,22.636821746826172,16.230390548706055,-25.770708084106445,-7.18333625793457,-29.912805557250977,-6.666695594787598,0.7428285479545593,-15.673935890197754,22.69449234008789,-8.647796630859375,-0.9921072721481323,18.317707061767578,-18.46791648864746,-18.057968139648438,21.46732521057129,-30.010299682617188,1.2211148738861084,-27.459306716918945,-18.47309684753418,-19.430225372314453,2.1704161167144775,1.865775227546692,-7.164261341094971,12.675846099853516,31.920804977416992,19.786375045776367,-31.900495529174805,19.324134826660156,28.139835357666016,-15.183540344238281,2.752523422241211,13.055625915527344,-11.198453903198242,-27.791658401489258,-26.16859245300293,-32.35650634765625,19.741798400878906,15.129640579223633,-13.348132133483887,-6.340584754943848,28.255815505981445,30.90277671813965,-26.26285171508789,-28.519073486328125,11.022295951843262,-31.302440643310547,-25.345640182495117,37.854854583740234,-31.8226261138916,-7.666496753692627,-25.057449340820312,-17.5223388671875,-23.74163055419922,-7.726755142211914,17.802268981933594,-25.069612503051758,22.902101516723633,-28.38102149963379,8.694382667541504,-28.969022750854492,-31.114349365234375,8.249361038208008,28.63112449645996,-26.80276107788086,2.645024538040161,12.832759857177734,-15.408021926879883,-25.85042381286621,-13.41324234008789,13.235508918762207,-3.162371873855591,3.397156000137329,29.358627319335938,5.385086536407471,-2.8761651515960693,-28.273536682128906,-17.939605712890625,38.41926574707031,-23.493450164794922,10.368597030639648,-31.469043731689453,12.778173446655273,-27.896936416625977,-5.932712554931641,-23.8604679107666,-12.765915870666504,-24.747262954711914,24.47840690612793,1.7427748441696167,-7.723283767700195,-33.5669059753418,-30.801279067993164,27.6539363861084,-19.225086212158203,-23.837467193603516,-18.193307876586914,18.397104263305664],\"type\":\"scatter\"}],                        {\"height\":1000,\"template\":{\"data\":{\"barpolar\":[{\"marker\":{\"line\":{\"color\":\"#E5ECF6\",\"width\":0.5},\"pattern\":{\"fillmode\":\"overlay\",\"size\":10,\"solidity\":0.2}},\"type\":\"barpolar\"}],\"bar\":[{\"error_x\":{\"color\":\"#2a3f5f\"},\"error_y\":{\"color\":\"#2a3f5f\"},\"marker\":{\"line\":{\"color\":\"#E5ECF6\",\"width\":0.5},\"pattern\":{\"fillmode\":\"overlay\",\"size\":10,\"solidity\":0.2}},\"type\":\"bar\"}],\"carpet\":[{\"aaxis\":{\"endlinecolor\":\"#2a3f5f\",\"gridcolor\":\"white\",\"linecolor\":\"white\",\"minorgridcolor\":\"white\",\"startlinecolor\":\"#2a3f5f\"},\"baxis\":{\"endlinecolor\":\"#2a3f5f\",\"gridcolor\":\"white\",\"linecolor\":\"white\",\"minorgridcolor\":\"white\",\"startlinecolor\":\"#2a3f5f\"},\"type\":\"carpet\"}],\"choropleth\":[{\"colorbar\":{\"outlinewidth\":0,\"ticks\":\"\"},\"type\":\"choropleth\"}],\"contourcarpet\":[{\"colorbar\":{\"outlinewidth\":0,\"ticks\":\"\"},\"type\":\"contourcarpet\"}],\"contour\":[{\"colorbar\":{\"outlinewidth\":0,\"ticks\":\"\"},\"colorscale\":[[0.0,\"#0d0887\"],[0.1111111111111111,\"#46039f\"],[0.2222222222222222,\"#7201a8\"],[0.3333333333333333,\"#9c179e\"],[0.4444444444444444,\"#bd3786\"],[0.5555555555555556,\"#d8576b\"],[0.6666666666666666,\"#ed7953\"],[0.7777777777777778,\"#fb9f3a\"],[0.8888888888888888,\"#fdca26\"],[1.0,\"#f0f921\"]],\"type\":\"contour\"}],\"heatmapgl\":[{\"colorbar\":{\"outlinewidth\":0,\"ticks\":\"\"},\"colorscale\":[[0.0,\"#0d0887\"],[0.1111111111111111,\"#46039f\"],[0.2222222222222222,\"#7201a8\"],[0.3333333333333333,\"#9c179e\"],[0.4444444444444444,\"#bd3786\"],[0.5555555555555556,\"#d8576b\"],[0.6666666666666666,\"#ed7953\"],[0.7777777777777778,\"#fb9f3a\"],[0.8888888888888888,\"#fdca26\"],[1.0,\"#f0f921\"]],\"type\":\"heatmapgl\"}],\"heatmap\":[{\"colorbar\":{\"outlinewidth\":0,\"ticks\":\"\"},\"colorscale\":[[0.0,\"#0d0887\"],[0.1111111111111111,\"#46039f\"],[0.2222222222222222,\"#7201a8\"],[0.3333333333333333,\"#9c179e\"],[0.4444444444444444,\"#bd3786\"],[0.5555555555555556,\"#d8576b\"],[0.6666666666666666,\"#ed7953\"],[0.7777777777777778,\"#fb9f3a\"],[0.8888888888888888,\"#fdca26\"],[1.0,\"#f0f921\"]],\"type\":\"heatmap\"}],\"histogram2dcontour\":[{\"colorbar\":{\"outlinewidth\":0,\"ticks\":\"\"},\"colorscale\":[[0.0,\"#0d0887\"],[0.1111111111111111,\"#46039f\"],[0.2222222222222222,\"#7201a8\"],[0.3333333333333333,\"#9c179e\"],[0.4444444444444444,\"#bd3786\"],[0.5555555555555556,\"#d8576b\"],[0.6666666666666666,\"#ed7953\"],[0.7777777777777778,\"#fb9f3a\"],[0.8888888888888888,\"#fdca26\"],[1.0,\"#f0f921\"]],\"type\":\"histogram2dcontour\"}],\"histogram2d\":[{\"colorbar\":{\"outlinewidth\":0,\"ticks\":\"\"},\"colorscale\":[[0.0,\"#0d0887\"],[0.1111111111111111,\"#46039f\"],[0.2222222222222222,\"#7201a8\"],[0.3333333333333333,\"#9c179e\"],[0.4444444444444444,\"#bd3786\"],[0.5555555555555556,\"#d8576b\"],[0.6666666666666666,\"#ed7953\"],[0.7777777777777778,\"#fb9f3a\"],[0.8888888888888888,\"#fdca26\"],[1.0,\"#f0f921\"]],\"type\":\"histogram2d\"}],\"histogram\":[{\"marker\":{\"pattern\":{\"fillmode\":\"overlay\",\"size\":10,\"solidity\":0.2}},\"type\":\"histogram\"}],\"mesh3d\":[{\"colorbar\":{\"outlinewidth\":0,\"ticks\":\"\"},\"type\":\"mesh3d\"}],\"parcoords\":[{\"line\":{\"colorbar\":{\"outlinewidth\":0,\"ticks\":\"\"}},\"type\":\"parcoords\"}],\"pie\":[{\"automargin\":true,\"type\":\"pie\"}],\"scatter3d\":[{\"line\":{\"colorbar\":{\"outlinewidth\":0,\"ticks\":\"\"}},\"marker\":{\"colorbar\":{\"outlinewidth\":0,\"ticks\":\"\"}},\"type\":\"scatter3d\"}],\"scattercarpet\":[{\"marker\":{\"colorbar\":{\"outlinewidth\":0,\"ticks\":\"\"}},\"type\":\"scattercarpet\"}],\"scattergeo\":[{\"marker\":{\"colorbar\":{\"outlinewidth\":0,\"ticks\":\"\"}},\"type\":\"scattergeo\"}],\"scattergl\":[{\"marker\":{\"colorbar\":{\"outlinewidth\":0,\"ticks\":\"\"}},\"type\":\"scattergl\"}],\"scattermapbox\":[{\"marker\":{\"colorbar\":{\"outlinewidth\":0,\"ticks\":\"\"}},\"type\":\"scattermapbox\"}],\"scatterpolargl\":[{\"marker\":{\"colorbar\":{\"outlinewidth\":0,\"ticks\":\"\"}},\"type\":\"scatterpolargl\"}],\"scatterpolar\":[{\"marker\":{\"colorbar\":{\"outlinewidth\":0,\"ticks\":\"\"}},\"type\":\"scatterpolar\"}],\"scatter\":[{\"fillpattern\":{\"fillmode\":\"overlay\",\"size\":10,\"solidity\":0.2},\"type\":\"scatter\"}],\"scatterternary\":[{\"marker\":{\"colorbar\":{\"outlinewidth\":0,\"ticks\":\"\"}},\"type\":\"scatterternary\"}],\"surface\":[{\"colorbar\":{\"outlinewidth\":0,\"ticks\":\"\"},\"colorscale\":[[0.0,\"#0d0887\"],[0.1111111111111111,\"#46039f\"],[0.2222222222222222,\"#7201a8\"],[0.3333333333333333,\"#9c179e\"],[0.4444444444444444,\"#bd3786\"],[0.5555555555555556,\"#d8576b\"],[0.6666666666666666,\"#ed7953\"],[0.7777777777777778,\"#fb9f3a\"],[0.8888888888888888,\"#fdca26\"],[1.0,\"#f0f921\"]],\"type\":\"surface\"}],\"table\":[{\"cells\":{\"fill\":{\"color\":\"#EBF0F8\"},\"line\":{\"color\":\"white\"}},\"header\":{\"fill\":{\"color\":\"#C8D4E3\"},\"line\":{\"color\":\"white\"}},\"type\":\"table\"}]},\"layout\":{\"annotationdefaults\":{\"arrowcolor\":\"#2a3f5f\",\"arrowhead\":0,\"arrowwidth\":1},\"autotypenumbers\":\"strict\",\"coloraxis\":{\"colorbar\":{\"outlinewidth\":0,\"ticks\":\"\"}},\"colorscale\":{\"diverging\":[[0,\"#8e0152\"],[0.1,\"#c51b7d\"],[0.2,\"#de77ae\"],[0.3,\"#f1b6da\"],[0.4,\"#fde0ef\"],[0.5,\"#f7f7f7\"],[0.6,\"#e6f5d0\"],[0.7,\"#b8e186\"],[0.8,\"#7fbc41\"],[0.9,\"#4d9221\"],[1,\"#276419\"]],\"sequential\":[[0.0,\"#0d0887\"],[0.1111111111111111,\"#46039f\"],[0.2222222222222222,\"#7201a8\"],[0.3333333333333333,\"#9c179e\"],[0.4444444444444444,\"#bd3786\"],[0.5555555555555556,\"#d8576b\"],[0.6666666666666666,\"#ed7953\"],[0.7777777777777778,\"#fb9f3a\"],[0.8888888888888888,\"#fdca26\"],[1.0,\"#f0f921\"]],\"sequentialminus\":[[0.0,\"#0d0887\"],[0.1111111111111111,\"#46039f\"],[0.2222222222222222,\"#7201a8\"],[0.3333333333333333,\"#9c179e\"],[0.4444444444444444,\"#bd3786\"],[0.5555555555555556,\"#d8576b\"],[0.6666666666666666,\"#ed7953\"],[0.7777777777777778,\"#fb9f3a\"],[0.8888888888888888,\"#fdca26\"],[1.0,\"#f0f921\"]]},\"colorway\":[\"#636efa\",\"#EF553B\",\"#00cc96\",\"#ab63fa\",\"#FFA15A\",\"#19d3f3\",\"#FF6692\",\"#B6E880\",\"#FF97FF\",\"#FECB52\"],\"font\":{\"color\":\"#2a3f5f\"},\"geo\":{\"bgcolor\":\"white\",\"lakecolor\":\"white\",\"landcolor\":\"#E5ECF6\",\"showlakes\":true,\"showland\":true,\"subunitcolor\":\"white\"},\"hoverlabel\":{\"align\":\"left\"},\"hovermode\":\"closest\",\"mapbox\":{\"style\":\"light\"},\"paper_bgcolor\":\"white\",\"plot_bgcolor\":\"#E5ECF6\",\"polar\":{\"angularaxis\":{\"gridcolor\":\"white\",\"linecolor\":\"white\",\"ticks\":\"\"},\"bgcolor\":\"#E5ECF6\",\"radialaxis\":{\"gridcolor\":\"white\",\"linecolor\":\"white\",\"ticks\":\"\"}},\"scene\":{\"xaxis\":{\"backgroundcolor\":\"#E5ECF6\",\"gridcolor\":\"white\",\"gridwidth\":2,\"linecolor\":\"white\",\"showbackground\":true,\"ticks\":\"\",\"zerolinecolor\":\"white\"},\"yaxis\":{\"backgroundcolor\":\"#E5ECF6\",\"gridcolor\":\"white\",\"gridwidth\":2,\"linecolor\":\"white\",\"showbackground\":true,\"ticks\":\"\",\"zerolinecolor\":\"white\"},\"zaxis\":{\"backgroundcolor\":\"#E5ECF6\",\"gridcolor\":\"white\",\"gridwidth\":2,\"linecolor\":\"white\",\"showbackground\":true,\"ticks\":\"\",\"zerolinecolor\":\"white\"}},\"shapedefaults\":{\"line\":{\"color\":\"#2a3f5f\"}},\"ternary\":{\"aaxis\":{\"gridcolor\":\"white\",\"linecolor\":\"white\",\"ticks\":\"\"},\"baxis\":{\"gridcolor\":\"white\",\"linecolor\":\"white\",\"ticks\":\"\"},\"bgcolor\":\"#E5ECF6\",\"caxis\":{\"gridcolor\":\"white\",\"linecolor\":\"white\",\"ticks\":\"\"}},\"title\":{\"x\":0.05},\"xaxis\":{\"automargin\":true,\"gridcolor\":\"white\",\"linecolor\":\"white\",\"ticks\":\"\",\"title\":{\"standoff\":15},\"zerolinecolor\":\"white\",\"zerolinewidth\":2},\"yaxis\":{\"automargin\":true,\"gridcolor\":\"white\",\"linecolor\":\"white\",\"ticks\":\"\",\"title\":{\"standoff\":15},\"zerolinecolor\":\"white\",\"zerolinewidth\":2}}},\"title\":{\"text\":\"t-SNE Cluster Visualization of Embedded Data Grouped by Spurious Label, Perplexity = 30\"},\"width\":1000,\"xaxis\":{\"ticklen\":5,\"title\":{\"text\":\"TC1\"},\"zeroline\":false},\"yaxis\":{\"ticklen\":5,\"title\":{\"text\":\"TC2\"},\"zeroline\":false}},                        {\"responsive\": true}                    ).then(function(){\n",
              "                            \n",
              "var gd = document.getElementById('e67dba42-bb45-462a-b3b4-23a24c3e4275');\n",
              "var x = new MutationObserver(function (mutations, observer) {{\n",
              "        var display = window.getComputedStyle(gd).display;\n",
              "        if (!display || display === 'none') {{\n",
              "            console.log([gd, 'removed!']);\n",
              "            Plotly.purge(gd);\n",
              "            observer.disconnect();\n",
              "        }}\n",
              "}});\n",
              "\n",
              "// Listen for the removal of the full notebook cells\n",
              "var notebookContainer = gd.closest('#notebook-container');\n",
              "if (notebookContainer) {{\n",
              "    x.observe(notebookContainer, {childList: true});\n",
              "}}\n",
              "\n",
              "// Listen for the clearing of the current output cell\n",
              "var outputEl = gd.closest('.output');\n",
              "if (outputEl) {{\n",
              "    x.observe(outputEl, {childList: true});\n",
              "}}\n",
              "\n",
              "                        })                };                            </script>        </div>\n",
              "</body>\n",
              "</html>"
            ]
          },
          "metadata": {}
        }
      ]
    },
    {
      "cell_type": "markdown",
      "source": [
        "## PCA 3D plot"
      ],
      "metadata": {
        "id": "mwn-TcME7b1E"
      }
    },
    {
      "cell_type": "code",
      "source": [
        "import pandas as pd\n",
        "\n",
        "pca_3d = PCA(n_components=3)\n",
        "PCs_3d = pd.DataFrame(pca_3d.fit_transform(embeddings))\n",
        "PCs_3d.columns = [\"PC1_3d\", \"PC2_2d\", \"PC3_3D\"]\n",
        "pca_embs = pd.concat([pd.DataFrame(embeddings),PCs_3d], axis=1, join='inner')\n",
        "\n",
        "clusters = {k : np.stack([PCs_3d.loc[i].values for i in v]) for (k, v) in valset.group_partition.items()}\n",
        "\n",
        "traces = []\n",
        "\n",
        "for (k, v) in sorted(clusters.items()):\n",
        "  traces.append(go.Scatter3d(\n",
        "                    x = v[:, 0],\n",
        "                    y = v[:, 1],\n",
        "                    z = v[:, 2],\n",
        "                    mode = \"markers\",\n",
        "                    name = \"True label {}, Subgroup {}\".format(k[0], k[1]),\n",
        "                    text = None))\n",
        "\n",
        "data = traces\n",
        "\n",
        "title = \"Visualizing Clusters in Three Dimensions Using PCA\"\n",
        "\n",
        "layout = dict(title = title,\n",
        "              xaxis= dict(title= 'PC1',ticklen= 5,zeroline= False),\n",
        "              yaxis= dict(title= 'PC2',ticklen= 5,zeroline= False)\n",
        "             )\n",
        "\n",
        "fig = dict(data = data, layout = layout)\n",
        "\n",
        "iplot(fig)"
      ],
      "metadata": {
        "id": "FAx47jjW5g7p",
        "colab": {
          "base_uri": "https://localhost:8080/",
          "height": 542
        },
        "outputId": "ba6247d7-294b-4edb-93ac-5091d0f0b989"
      },
      "execution_count": null,
      "outputs": [
        {
          "output_type": "display_data",
          "data": {
            "text/html": [
              "<html>\n",
              "<head><meta charset=\"utf-8\" /></head>\n",
              "<body>\n",
              "    <div>            <script src=\"https://cdnjs.cloudflare.com/ajax/libs/mathjax/2.7.5/MathJax.js?config=TeX-AMS-MML_SVG\"></script><script type=\"text/javascript\">if (window.MathJax && window.MathJax.Hub && window.MathJax.Hub.Config) {window.MathJax.Hub.Config({SVG: {font: \"STIX-Web\"}});}</script>                <script type=\"text/javascript\">window.PlotlyConfig = {MathJaxConfig: 'local'};</script>\n",
              "        <script charset=\"utf-8\" src=\"https://cdn.plot.ly/plotly-2.24.1.min.js\"></script>                <div id=\"1df61c06-6c1f-4712-a500-9559fa1cff58\" class=\"plotly-graph-div\" style=\"height:525px; width:100%;\"></div>            <script type=\"text/javascript\">                                    window.PLOTLYENV=window.PLOTLYENV || {};                                    if (document.getElementById(\"1df61c06-6c1f-4712-a500-9559fa1cff58\")) {                    Plotly.newPlot(                        \"1df61c06-6c1f-4712-a500-9559fa1cff58\",                        [{\"mode\":\"markers\",\"name\":\"True label 0, Subgroup 0\",\"x\":[-6.768668174743652,-6.423200607299805,-6.544730186462402,-6.369083404541016,-6.482922554016113,-6.640878677368164,-6.43694543838501,-8.13078498840332,-8.209837913513184,-8.226553916931152,-5.101048469543457,-8.413081169128418,-7.307346820831299,-7.2638983726501465,-7.5027995109558105,-7.656087398529053,-7.510715007781982,5.007453918457031,-7.724884033203125,-7.577171802520752,-5.877199649810791,-7.261065483093262,-7.642969608306885,8.453028678894043,-7.886317729949951,-7.84311056137085,-7.678837776184082,-8.114646911621094,-7.902990818023682,-7.838504314422607,-7.906975269317627,-6.58242654800415,-6.763739585876465,-5.378731727600098,-6.491152286529541,-6.601733684539795,-6.561365604400635,-6.480876922607422,-7.412795066833496,-7.596982002258301,-7.220829963684082,-5.521373271942139,-5.718705177307129,-5.806094646453857,-5.571496486663818,-5.603122234344482,-7.892725944519043,-4.274541854858398,-8.182143211364746,-8.163511276245117,-8.084938049316406,-7.9409661293029785,-8.313986778259277,-7.948301315307617,-8.035289764404297,-8.128823280334473,-7.868823051452637,-7.788522720336914,-7.998324871063232,-8.044872283935547,-7.992001533508301,-7.954761505126953,-7.607776641845703,-6.8104095458984375,10.428502082824707,-7.83164644241333,-8.139809608459473,-7.986611366271973,-8.056632995605469,-7.817168712615967,-7.113131523132324,-7.18776273727417,-7.083860397338867,-7.196141242980957,-7.257375240325928,-6.90421199798584,-6.7876763343811035,-6.836575031280518,-7.197456359863281,-6.190733909606934,-6.2103705406188965,-6.173865795135498,-6.162040710449219,-6.270898818969727,-6.231781482696533,1.481212854385376,-6.336119174957275,-3.257398843765259,-5.789619445800781,-6.375113010406494,-6.772830963134766,-6.426877498626709,-6.661942481994629,-6.747413635253906,-6.634296894073486,-6.696128845214844,-6.834129810333252,19.984073638916016,-7.089435577392578,-5.865262985229492,-5.902247905731201,-5.947721481323242,-5.7908782958984375,-5.656655788421631,-5.455294132232666,-5.431888580322266,-6.107172012329102,-6.090559482574463,-6.109286785125732,-7.357146739959717,-7.989105701446533,-7.728423595428467,-8.11497688293457,-7.944025993347168,-7.952451705932617,-8.2635498046875,-8.285314559936523,-5.447961330413818,-5.212784767150879,-5.304129600524902,-5.86708927154541,-5.679182529449463,-2.5423972606658936,-5.818679332733154,-5.921380519866943,-5.894479751586914,-6.071146011352539,-6.007262706756592,-5.921079635620117,-9.748787879943848,-8.9368257522583,-4.825326919555664,-4.757587432861328,-4.5318169593811035,-4.126658916473389,-4.688321590423584,-4.668154239654541,-4.653637409210205,-6.963685989379883,-7.420218467712402,-7.2404656410217285,-6.982985019683838,-6.9955902099609375,-6.938326358795166,-7.357080936431885,-5.909047603607178,-5.831414699554443,-6.0369672775268555,-5.9667792320251465,-6.023623943328857,-5.909676551818848,-1.460227370262146,-6.083864212036133,-5.972707748413086,-7.700058937072754,-7.66855525970459,-7.816372394561768,-7.671538352966309,-7.944799900054932,-7.3864336013793945,-8.181114196777344,-8.570520401000977,-8.388776779174805,-8.062002182006836,-8.16519546508789,-8.601067543029785,-8.42156982421875,-6.630423069000244,-6.557581424713135,-5.531333923339844,-6.807456016540527,-6.782103061676025,-6.622860908508301,-6.535455703735352,-6.620645523071289,-7.469710350036621,-7.478887557983398,-7.379559516906738,-7.552193641662598,-7.519331932067871,-7.64819860458374,-7.6795196533203125,-7.66771125793457,-7.744501113891602,-7.807438850402832,-7.9223127365112305,-7.741056442260742,-7.555846691131592,-7.660796165466309,-7.741427421569824,-6.287927627563477,-6.312520980834961,-2.9705307483673096,-6.241291522979736,-3.4645450115203857,-6.496368408203125,-6.250025272369385,-7.273458480834961,-7.078544616699219,-7.424124240875244,25.49254608154297,-6.60661506652832,-6.728909492492676,-6.445978164672852,-0.7094573974609375,-6.452075004577637,-5.284539222717285,-6.441040992736816,15.865402221679688,-6.555706024169922,-6.470615386962891,-6.458913803100586,-6.769240379333496,-6.1103057861328125,-5.954683780670166,-5.919342994689941,-5.877954959869385,-6.0697832107543945,-6.064439296722412,-6.17567253112793,-6.148131847381592,-8.227106094360352,-8.028692245483398,-8.453245162963867,-8.28380298614502,-8.23092269897461,-8.110934257507324,10.960066795349121,-7.097653865814209,-7.254785060882568,-7.206820964813232,-0.9419586062431335,-7.211566925048828,-7.32519006729126,-7.340676307678223,-4.076146602630615,-7.482793807983398,-7.344976902008057,-7.169388294219971,-7.256824016571045,-7.435662269592285,-7.331340312957764,-7.4768805503845215,-7.537264347076416,-7.701932430267334,-7.51342248916626,-7.250300407409668,-7.430034637451172,-7.478970527648926,-7.391364097595215,-7.195133209228516,-6.363400459289551,-6.65482759475708,-6.4370293617248535,-6.574434757232666,1.6988139152526855,-6.557699203491211,-6.662540912628174,-7.4165143966674805,-7.288431644439697,-7.418710231781006,-7.335176944732666,-7.227733135223389,-7.327387809753418,-7.3207197189331055,-2.870986223220825,-6.535499095916748,-6.340572357177734,-6.2017316818237305,-6.261857032775879,-4.621600151062012,-6.577229976654053,-6.518266677856445,-6.629479885101318,-7.993566989898682,-7.909667491912842,-7.949584484100342,-7.886720180511475,-8.031729698181152,-6.630260467529297,-6.778314113616943,-6.758073329925537,7.101635932922363,-6.498837947845459,-6.557558536529541,-6.562862873077393,-6.870738506317139,-7.050010681152344,-6.959874629974365,-7.11543083190918,-6.64166784286499,-7.180480003356934,-6.900993824005127,-7.057046890258789,-6.950580596923828,-8.926267623901367,-8.876326560974121,-8.777108192443848,-8.043387413024902,-8.827751159667969,-8.112756729125977,-7.092817306518555,-7.022158145904541,-7.226595878601074,-7.127114295959473,-7.318545341491699,-7.409221172332764,-7.413812160491943,-7.004462242126465,-6.74974250793457,-6.735472202301025,-6.582355499267578,23.889318466186523,-6.677368640899658,-6.798844337463379,-6.699802875518799,-6.643187999725342,-6.575526714324951,-5.722610950469971,-5.880575180053711,-6.035314083099365,-5.8831024169921875,0.4288083016872406,-5.973214149475098,-5.762786388397217,-5.7175188064575195,-6.5333662033081055,-6.730695724487305,-6.657198905944824,-6.651838302612305,-6.615108489990234,-6.573287010192871,-6.549474716186523,-3.741553544998169,-6.590909004211426,-7.010718822479248,-7.112894535064697,-6.9306416511535645,-7.127924919128418,-6.9848551750183105,-7.026684761047363,-7.264947891235352,-7.026750564575195,-6.129257678985596,-6.299052715301514,-6.276782989501953,-5.223498821258545,-6.112323760986328,-1.5622351169586182,-6.099739074707031,-6.049439430236816,-6.399021148681641,13.031441688537598,-6.275572299957275,-7.102633476257324,-7.23416805267334,-7.448878765106201,-7.262783050537109,-7.403470993041992,-7.0755720138549805,26.71605682373047,-7.3837666511535645,-6.114112377166748,-4.3723602294921875,-6.086540699005127,-3.624903678894043,-5.959690570831299,-6.302971839904785,-3.5441293716430664,-6.024408340454102,-6.289346218109131,-8.002236366271973,-8.215860366821289,-8.2058687210083,-8.312849044799805,-8.078243255615234,-8.121781349182129,-6.143397808074951,-8.206597328186035,-8.46399211883545,-7.284301280975342,-7.092562198638916,-6.939123630523682,-7.2701802253723145,-7.124161243438721,-7.418294906616211,-7.613661289215088,-7.442623615264893,-7.099294662475586,1.0626322031021118,-3.465933322906494,-7.03040885925293,-6.999145030975342,-7.019455909729004,-7.148767471313477,-6.8057684898376465,-6.884498596191406,-6.978986740112305,-7.034413814544678,-7.363692283630371,-7.0187578201293945,-7.132592678070068,-7.4214019775390625,-6.984615802764893,-7.246824741363525,-6.832502365112305,-6.438560962677002,-6.500704288482666,-6.667516708374023,-6.396574020385742,-6.498733997344971,-6.357953071594238,-7.224790573120117,-7.162780284881592,-7.56693172454834,-6.350916385650635,-6.4682722091674805,-6.381300926208496,-6.421060085296631,-6.500410079956055,-6.334990501403809,-6.56647253036499,-5.68325662612915,-5.784390449523926,2.6024770736694336,-5.637805461883545,-5.780689716339111,-5.93829870223999,-3.81315279006958,-5.914304733276367,-5.723384380340576,-5.6983137130737305,-7.458929538726807,-7.470710754394531,-7.450263023376465,-7.737410068511963,-7.687763214111328,-7.8069586753845215,-6.2521867752075195,-6.444642066955566,-6.363089561462402,-6.329947471618652,-7.57639741897583,-7.595037460327148,-7.531182765960693,-8.092473030090332,-7.55849552154541,-4.693002223968506,-6.675615310668945,-6.727149486541748,-6.594639301300049,-6.865990161895752,-3.481022834777832,-6.1662139892578125,14.025445938110352,-6.655686855316162,-6.613941669464111,-6.7514190673828125,-6.977238178253174,-6.6661200523376465,-6.9090895652771,-7.122820854187012,-7.285036563873291,-6.939931869506836,-6.866670608520508,-7.4510393142700195,-6.882020950317383],\"y\":[-0.3431970477104187,-0.5693210363388062,-0.4119592607021332,-0.6586219668388367,-0.6042439341545105,-0.49188366532325745,-0.5938660502433777,-0.5034709572792053,-0.44724252820014954,-0.45451709628105164,1.7860451936721802,-0.5856855511665344,-0.5096073150634766,-0.11090773344039917,-0.3777353763580322,-0.6102951765060425,-0.35115599632263184,-0.6550753116607666,-0.2719366252422333,-0.3422123193740845,0.290331095457077,-0.5048044919967651,-0.17777013778686523,1.7581521272659302,-0.3620392382144928,-0.5138710141181946,-0.4906803369522095,-0.1925693154335022,-0.3247326910495758,-0.3726886808872223,-0.43429550528526306,-0.34815382957458496,-0.1566842794418335,0.18287231028079987,-0.3969098627567291,-0.25384023785591125,-0.20762203633785248,-0.25090187788009644,-0.9734929203987122,-0.7436093688011169,-0.7707124948501587,-0.2761697769165039,-0.33221471309661865,-0.13088539242744446,-0.1867525577545166,-0.31090500950813293,-0.7935059070587158,1.4311822652816772,-0.4147249162197113,-0.5685091018676758,-0.8098796010017395,-0.5879536867141724,-0.29885563254356384,-0.4461456537246704,-0.07718507200479507,-0.16276608407497406,-0.3902345597743988,-0.3202914595603943,0.003922539297491312,-0.16634540259838104,-0.3879123032093048,-0.7402787208557129,-0.584057629108429,0.12914347648620605,1.0425570011138916,-0.49303945899009705,-0.5559720993041992,-0.48155298829078674,-0.49033549427986145,-0.8775938749313354,-0.7638214826583862,-0.2672792077064514,-0.5136755704879761,-0.4252951741218567,-0.5575274229049683,-0.8012120127677917,-0.6123964786529541,-0.7469911575317383,-0.37227365374565125,-0.6895192265510559,-0.5463032126426697,-0.6563987135887146,-0.6025468111038208,-0.6649793386459351,-0.47298145294189453,1.8835939168930054,-0.35089483857154846,1.1776880025863647,-0.36278095841407776,-0.4284202754497528,-0.34253212809562683,-0.5799699425697327,-0.5133212208747864,-0.33462193608283997,-0.3722400367259979,-0.4152001142501831,-0.2874271273612976,-0.3143986761569977,-0.34362050890922546,-0.29875829815864563,-0.3596183955669403,-0.07589786499738693,-0.37120741605758667,-0.5521470308303833,-0.5162186622619629,-0.3338102102279663,-0.3405916690826416,-0.3392315208911896,-0.6279146075248718,-0.6529942750930786,-0.5835716128349304,-0.6916627883911133,-0.6011267900466919,-0.7619368433952332,-0.923149049282074,-1.2048336267471313,-0.69461989402771,-0.47340595722198486,-0.2113167941570282,-0.39808520674705505,-0.3735072612762451,-0.49213382601737976,0.7818968892097473,-0.47876793146133423,-0.6604476571083069,-0.3544993996620178,-0.37674427032470703,-0.3648862838745117,-0.48951295018196106,-0.423342764377594,-0.684135377407074,-0.21434013545513153,-0.19576415419578552,-0.2434379905462265,-0.006107105873525143,-0.18070077896118164,-0.3428567349910736,-0.34187301993370056,-0.4790065288543701,-0.4239857792854309,-0.36197954416275024,-0.3734535574913025,-0.35274842381477356,-0.36551252007484436,-0.21318373084068298,-0.36149296164512634,-0.5351729989051819,-0.15602250397205353,-0.29178526997566223,-0.5271091461181641,-0.31482791900634766,1.9257093667984009,-0.3369040787220001,-0.4142858684062958,-0.8199361562728882,-0.7519422769546509,-0.747445285320282,-0.6548903584480286,-0.836114764213562,-0.6593652367591858,-0.4795328974723816,-0.1809903234243393,-0.35450753569602966,-0.4495497941970825,-0.6379166841506958,0.09801265597343445,-0.012796890921890736,-0.6721847057342529,-0.669860303401947,0.27739325165748596,-0.7492263317108154,-0.4149942100048065,-0.6379261612892151,-0.31204697489738464,-0.7592288255691528,-0.12074729800224304,-0.08857032656669617,-0.09223313629627228,0.018211819231510162,-0.29579994082450867,-0.316409707069397,-0.235043004155159,-0.37253087759017944,-0.3762715756893158,-0.17743723094463348,-0.07441633194684982,-0.3480320870876312,-0.32327207922935486,-0.38185977935791016,-0.3341395854949951,-0.4496988356113434,-0.3644089102745056,1.698366403579712,-0.15448914468288422,0.3884614408016205,-0.3201853930950165,-0.4632405638694763,-0.5876149535179138,-0.6065859198570251,-0.5137051343917847,-0.5115913152694702,-0.4718206524848938,-0.32270243763923645,-0.6074360609054565,1.1021538972854614,-0.5049696564674377,0.18791532516479492,-0.29471710324287415,-0.10695362091064453,-0.5052517056465149,-0.7233079671859741,-0.3535645306110382,-0.2935445010662079,-0.1528485119342804,-0.00854295864701271,0.485744446516037,-0.21544861793518066,-0.09991525858640671,-0.22360818088054657,0.08349742740392685,-0.10001536458730698,-0.160319983959198,-0.3126009702682495,-0.012315421365201473,-0.19739429652690887,-0.33915069699287415,-0.19435229897499084,0.0915326252579689,-0.5644145607948303,-0.6253670454025269,-0.5256854891777039,2.229389190673828,-0.6407524347305298,-0.297640323638916,-0.3183248043060303,1.4308720827102661,-0.41284090280532837,-0.708956778049469,-0.5465370416641235,-0.7028504014015198,-0.4069693386554718,-0.6275569200515747,-0.40771034359931946,-0.3852443993091583,-0.14647439122200012,-0.26506856083869934,-0.5816802382469177,-0.3497481048107147,-0.3801618218421936,-0.584442675113678,-0.42697423696517944,-0.6247272491455078,-0.4451166093349457,-0.599209189414978,-0.6057203412055969,0.7723866701126099,-0.4790959656238556,-0.31070443987846375,-0.19963619112968445,-0.22265584766864777,-0.200591579079628,-0.28272560238838196,-0.2675647735595703,-0.2549668848514557,-0.2970924377441406,1.2802371978759766,-0.5867117047309875,-0.7846221327781677,-0.3601377308368683,-0.7270581722259521,0.7693174481391907,-0.4281628429889679,-0.5089144110679626,-0.8392459154129028,-0.2874661087989807,-0.3144368529319763,-0.44366365671157837,-0.10009905695915222,-0.22188618779182434,-0.3815350830554962,-0.24834123253822327,-0.2308669537305832,1.0207120180130005,-0.503504753112793,-0.5990476608276367,-0.3041258454322815,-0.5798832774162292,-0.2692624032497406,-0.5329064726829529,-0.3107539713382721,0.24913577735424042,-0.30647939443588257,-0.41330137848854065,-0.3085726797580719,-0.5565166473388672,-0.6323041915893555,-0.021204061806201935,-0.46038082242012024,-0.6550909280776978,-0.27200573682785034,-0.6565124988555908,-0.8179426193237305,-0.8299856781959534,-0.8755254745483398,-0.8733137249946594,-0.9341575503349304,-0.6110548973083496,-0.7006263136863708,-0.9085204601287842,-0.5055562853813171,-0.4227636456489563,-0.5253424644470215,-0.910801351070404,-0.4275319278240204,-0.5187566876411438,-0.36734580993652344,-0.5587179064750671,-0.13390590250492096,-0.5929590463638306,-0.5370779633522034,-0.35583245754241943,-0.6687719821929932,1.616683840751648,-0.41120657324790955,-0.5653566122055054,-0.6297726631164551,-0.6027273535728455,-0.4686916172504425,-0.4885222315788269,-0.6181267499923706,-0.7161814570426941,-0.6343241333961487,-0.6852537393569946,1.251452088356018,-0.7695584297180176,-0.3694448471069336,-0.13717544078826904,-0.35393792390823364,-0.24356785416603088,-0.16528405249118805,-0.39842087030410767,-0.17263619601726532,-0.40044111013412476,-0.6437241435050964,-0.22715415060520172,-0.6155452132225037,0.08834974467754364,-0.48918023705482483,1.7838389873504639,-0.46111899614334106,-0.30239439010620117,-0.19131334125995636,1.3416563272476196,-0.5626261830329895,-0.3081529140472412,-0.4905015230178833,-0.13310158252716064,-0.3865137994289398,-0.27475666999816895,-0.24191206693649292,-1.6491599082946777,-0.13649283349514008,-0.6494044065475464,0.8718140721321106,-0.4273846447467804,0.44837719202041626,-0.5344095826148987,-0.5295336842536926,1.2064244747161865,-0.6510412693023682,-0.40268847346305847,-0.7913346886634827,-0.5151278972625732,-0.7824426293373108,-0.5807298421859741,-0.744157075881958,-0.45061975717544556,0.7017579078674316,-0.3765711188316345,-0.503274142742157,-0.11137326061725616,-0.206041157245636,0.02284572273492813,-0.08385352790355682,-0.14997845888137817,0.10054342448711395,0.24823281168937683,0.15234600007534027,-0.2079547941684723,0.811632513999939,1.1800826787948608,-0.6885470747947693,-0.8644762635231018,-0.7047988772392273,-0.6818195581436157,-0.7717419266700745,-0.8783082962036133,-0.5841045379638672,-0.3738904595375061,-0.03156624361872673,-0.1259787231683731,-0.5343508124351501,0.11589109152555466,-0.2388828545808792,-0.45265278220176697,-0.24272167682647705,-0.620883584022522,-0.3763595521450043,-0.41955259442329407,-0.765116274356842,-0.5742151737213135,-0.789722204208374,-0.951370894908905,-0.7906379103660583,-0.7218247056007385,-0.3018909692764282,-0.17639793455600739,-0.35756465792655945,-0.3459736704826355,-0.3460860550403595,-0.48591747879981995,-0.1987101435661316,-0.6218844056129456,-0.22701676189899445,1.604294776916504,-0.8789536952972412,-0.618076741695404,-0.6365829110145569,0.5570951700210571,-0.5167708396911621,-0.6364618539810181,-0.7207180857658386,-0.624616801738739,-0.376968115568161,-0.4319325387477875,-0.19960910081863403,-0.3137950301170349,-0.3077060580253601,-0.3172740936279297,-0.022304698824882507,-0.14012683928012848,-0.10137360543012619,-0.80130934715271,-0.7406314611434937,-0.7829141616821289,-0.6958785653114319,-0.9658811092376709,1.12043035030365,-0.3021351397037506,-0.2992216944694519,-0.23811998963356018,-0.11095983535051346,1.71845281124115,-0.21250581741333008,1.8141940832138062,-0.19247500598430634,-0.006881786044687033,-0.09152034670114517,-0.544375479221344,-0.3277292251586914,-0.5214932560920715,-0.5176428556442261,-0.29343292117118835,-0.5483125448226929,-0.5366984605789185,-0.5024654865264893,-0.5644577741622925],\"z\":[0.028591865673661232,-0.04718244448304176,0.02960233762860298,-0.035098083317279816,0.008609452284872532,0.0022668074816465378,0.006747388746589422,-0.023906640708446503,-0.04936879873275757,-0.04289120435714722,0.2693845331668854,-0.14515869319438934,-0.09415760636329651,0.3411170542240143,0.033743053674697876,-0.18082082271575928,-0.05204247683286667,0.7085443139076233,0.061784952878952026,-0.04814716801047325,-0.3730563223361969,-0.007128425408154726,0.0477798655629158,-0.12152371555566788,-0.007259359583258629,-0.0705113559961319,-0.037431471049785614,0.07756766676902771,0.0437927171587944,0.05997974053025246,0.0059189037419855595,0.036179449409246445,0.041989054530858994,-0.23156364262104034,0.007966211065649986,-0.004496264271438122,0.03881826624274254,0.03343706950545311,-0.05288580432534218,-0.017115674912929535,0.1346869021654129,-0.0359291136264801,-0.014778127893805504,-0.00011878355871886015,0.025479285046458244,0.011539620347321033,-0.25666162371635437,0.5366862416267395,-0.12653176486492157,-0.18439491093158722,-0.3277170956134796,-0.18652434647083282,-0.0731780156493187,-0.10202527791261673,0.0910796970129013,0.039396967738866806,-0.06605462729930878,0.08251848816871643,0.1488836109638214,0.030852342024445534,-0.05509622022509575,-0.14159396290779114,0.13715732097625732,0.16776929795742035,-0.03564707562327385,0.10674531012773514,-0.05479377880692482,-0.00016192920156754553,-0.0211949422955513,-0.12308894097805023,-0.1401696801185608,0.26710179448127747,-0.03965218737721443,-0.02602674625813961,-0.09688597917556763,-0.11015739291906357,-0.05957214534282684,-0.057689931243658066,-0.0012816755333915353,-0.021930336952209473,-0.011028377339243889,-0.03487654775381088,-0.05800594389438629,-0.06517156958580017,0.010726073756814003,-0.023657353594899178,0.049326784908771515,0.33084356784820557,0.039210982620716095,0.01628716289997101,-0.016092441976070404,-0.038344837725162506,-0.07882185280323029,-0.006919976323843002,0.08219596743583679,0.02573755569756031,0.04162854328751564,0.0018601842457428575,0.066008560359478,-0.03597307205200195,-0.05331584811210632,0.05854666978120804,-0.08921344578266144,-0.12485755980014801,-0.06389597803354263,0.05058205872774124,-0.016977623105049133,0.09454565495252609,-0.16558310389518738,-0.11943372339010239,-0.1181146577000618,-0.06722547858953476,-0.17424532771110535,-0.21997708082199097,-0.14457327127456665,-0.41193675994873047,-0.10064633935689926,-0.10615430772304535,0.0999070405960083,0.007578196004033089,0.13538828492164612,0.06417079269886017,0.4268258810043335,-0.03438713774085045,-0.13584502041339874,-0.0025540534406900406,0.012675363570451736,-0.014192362315952778,-0.054741568863391876,-0.02466578409075737,-0.07831418514251709,-0.0016068954719230533,0.07006201893091202,-0.012897864915430546,0.04729129374027252,0.009757631458342075,-0.027761224657297134,-0.027713892981410027,-0.02458477020263672,-0.029661549255251884,-0.03140328824520111,-0.007516826968640089,0.0299676526337862,0.15412408113479614,0.035838425159454346,0.15137064456939697,-0.0241977721452713,0.1366279572248459,0.05704633519053459,-0.01643347553908825,0.05837710574269295,-0.1031603291630745,0.05578174069523811,0.07441594451665878,-0.11858087033033371,-0.10089679807424545,-0.12078869342803955,-0.06019790470600128,-0.11327251046895981,0.1648968905210495,-0.046677231788635254,0.07702881097793579,-0.020453494042158127,-0.03389527648687363,-0.07293716818094254,0.041434790939092636,-0.0049405889585614204,-0.02451949380338192,0.08598049730062485,0.32946333289146423,-0.07891025394201279,0.08323995769023895,-0.035661157220602036,0.3128165602684021,-0.012309912592172623,-0.06818698346614838,-0.050380248576402664,0.03819788992404938,-0.007086357567459345,0.017485184594988823,0.007504246197640896,0.06565394252538681,-0.020807690918445587,-0.035449180752038956,0.05045532062649727,0.107611283659935,-0.011672461405396461,0.023946963250637054,-0.013539078645408154,-0.16489467024803162,-0.16508834064006805,-0.14529326558113098,0.08150827139616013,0.16993845999240875,0.660847544670105,-0.1612195074558258,-0.14605559408664703,-0.19100621342658997,-0.10753767192363739,-0.23425675928592682,-0.19929227232933044,0.06272180378437042,-0.009925915859639645,-0.10223579406738281,0.37395167350769043,-0.05721406266093254,-0.1234511137008667,0.23308753967285156,0.16796168684959412,-0.08453262597322464,-0.10658599436283112,0.11902175843715668,0.024881521239876747,-0.07766452431678772,0.1925126165151596,0.5752474069595337,0.036908142268657684,-0.02722346968948841,-0.0479918047785759,-0.005432437174022198,-0.08455493301153183,-0.10774604976177216,-0.15066073834896088,-0.044195808470249176,-0.08548084646463394,-0.13899610936641693,-0.04881816729903221,0.23366138339042664,-0.09979967027902603,-0.05653073638677597,-0.015132361091673374,-0.028410380706191063,-0.07149223238229752,0.1975363940000534,0.01375619973987341,-0.02541375160217285,-0.047537315636873245,-0.13351689279079437,-0.04593239352107048,-0.07076866924762726,0.020586075261235237,-0.06107822060585022,0.021664660423994064,0.09646330773830414,0.042007267475128174,0.03230521082878113,-0.1296989917755127,-0.024489378556609154,-0.04723078012466431,-0.1361948698759079,-0.03281981870532036,-0.044247083365917206,-0.05231982469558716,-0.07063301652669907,-0.1258441060781479,0.3352898359298706,-0.049030695110559464,0.044996216893196106,0.009028500877320766,0.017579732462763786,0.018120715394616127,-0.030268363654613495,0.050633423030376434,-0.003380920272320509,-0.028024647384881973,0.27175331115722656,-0.06633306294679642,-0.125486820936203,0.28490716218948364,-0.11751317977905273,0.2998758852481842,0.001240673242136836,0.0012950344244018197,-0.1938854455947876,-0.01966388151049614,-0.011779127642512321,-0.06030214950442314,0.27307119965553284,0.020210839807987213,-0.0201698187738657,0.05920883268117905,0.05561962351202965,0.13934597373008728,-0.011510711163282394,-0.055708516389131546,0.03295706957578659,-0.018136080354452133,0.07797607034444809,-0.001429639058187604,0.03687180206179619,0.6620360612869263,0.06748544424772263,0.027395233511924744,0.06778811663389206,-0.041169069707393646,-0.4738834500312805,-0.12352162599563599,-0.3683122992515564,-0.33161595463752747,-0.20038412511348724,-0.2987403869628906,-0.03193659707903862,-0.03123554401099682,-0.058865681290626526,-0.04157247021794319,-0.14679954946041107,0.025732172653079033,-0.014012861996889114,-0.010358836501836777,-0.046419933438301086,0.04139316454529762,0.025808434933423996,0.12252543121576309,-0.0050263786688447,-0.1002580001950264,0.008080657571554184,-0.058472782373428345,0.34885168075561523,-0.04542284086346626,-0.05433447286486626,-0.0008838015492074192,-0.049404118210077286,0.09795888513326645,-0.00553458696231246,0.047551922500133514,-0.05116565525531769,-0.015381461940705776,0.024941081181168556,0.029670841991901398,-0.016536740586161613,-0.08246588706970215,-0.010335590690374374,-0.04079899564385414,0.0007267994224093854,-0.06438278406858444,-0.07408157736063004,0.024538343772292137,-0.03279709815979004,-0.03935452178120613,0.019926292821764946,-0.09673984348773956,-0.03787005692720413,-0.09325472265481949,-0.15055176615715027,0.10001304000616074,-0.17378558218479156,0.015515469014644623,-0.0699058547616005,0.11335142701864243,-0.05663128197193146,-0.06721635907888412,0.020471546798944473,-0.1966194063425064,-0.1304299533367157,-0.01607302390038967,-0.12097729742527008,0.0548836924135685,-0.005079158581793308,0.007541275583207607,0.2020360231399536,0.12445832043886185,0.051523733884096146,-0.1881502866744995,0.25503212213516235,-0.07420612871646881,0.5837341547012329,-0.11805757135152817,-0.16529226303100586,0.13721314072608948,-0.15928098559379578,-0.0924374908208847,-0.13267605006694794,-0.00032500267843715847,-0.1648380309343338,-0.08025667816400528,-0.13633660972118378,-0.005068461410701275,-0.055792588740587234,0.032913144677877426,-0.05647401139140129,-0.03409608453512192,-0.07288537919521332,-0.016927625983953476,-0.09260591864585876,-0.08151981979608536,0.01922774314880371,0.04126380756497383,0.022823341190814972,-0.08099856972694397,0.3646325469017029,0.4003296494483948,-0.058320410549640656,-0.1043471172451973,-0.09348525106906891,-0.07143484055995941,-0.0887683555483818,-0.1425510197877884,-0.10623253136873245,-0.061571452766656876,0.07817978411912918,0.22407226264476776,-0.16666750609874725,0.14150270819664001,0.15910650789737701,-0.10003408044576645,0.09978611767292023,-0.05829969048500061,0.06932806968688965,0.03393526002764702,-0.0526513047516346,-0.047795042395591736,-0.07228594273328781,-0.047449272125959396,0.17226828634738922,0.08436983823776245,-0.029029810801148415,0.0004094533796887845,-0.08534181118011475,-0.10041861981153488,-0.08301934599876404,-0.14132694900035858,-0.019891617819666862,0.029309965670108795,0.3369661271572113,0.03584830462932587,-0.17573902010917664,-0.09600146859884262,-0.13098737597465515,-0.1010516807436943,-0.06627242267131805,-0.06182406097650528,-0.11878640204668045,-0.07613783329725266,-0.0010394892888143659,-0.03315404802560806,0.03666624054312706,-0.02382807247340679,-0.031783562153577805,-0.03459610044956207,0.04991703853011131,-0.0186157189309597,0.011658801697194576,-0.10211853682994843,-0.08345957100391388,-0.08102414757013321,-0.08990881592035294,-0.19118279218673706,0.45901432633399963,-0.0475291982293129,-0.08334265649318695,-0.06664587557315826,0.06150944530963898,-0.009624226950109005,-0.10252145677804947,-0.34563952684402466,0.08755962550640106,0.055480945855379105,0.07179127633571625,-0.013033980503678322,0.14024357497692108,0.08843924850225449,-0.05767584964632988,0.02969554252922535,-0.05337715893983841,0.10831160098314285,-0.0841258317232132,-0.03654714301228523],\"type\":\"scatter3d\"},{\"mode\":\"markers\",\"name\":\"True label 0, Subgroup 1\",\"x\":[14.050321578979492,-8.314788818359375,-7.698436737060547,1.4715439081192017,11.416946411132812,23.212385177612305,21.262836456298828,7.371199607849121,-8.277519226074219,25.120283126831055,-2.4271583557128906,23.554664611816406,12.842528343200684,9.226367950439453,-7.855927467346191,0.2996286153793335,-7.501453399658203,-6.572259426116943,19.879716873168945,25.227407455444336,15.943208694458008,7.298031806945801,-6.488040924072266,-0.5595267415046692,-6.457462787628174,9.763152122497559,31.61393928527832,17.624719619750977,12.275642395019531,18.39080238342285,3.4426231384277344,9.96306324005127,21.276687622070312,2.1666383743286133,0.8405748605728149,-7.7583088874816895,-2.959839344024658,-2.0970115661621094,19.968406677246094,-7.800953388214111,21.247793197631836,8.226137161254883,23.186016082763672,-7.5339274406433105,14.641963958740234,17.364656448364258,4.574461936950684,17.04680633544922,23.34723663330078,2.4284913539886475,-8.064729690551758,4.386212348937988,-3.9558985233306885,-7.7405900955200195,31.96067237854004,11.317948341369629,12.36141300201416,3.446561574935913,25.195396423339844,-1.6040242910385132,3.514073133468628,-5.030285358428955,10.233631134033203,27.641437530517578,3.6139442920684814,3.129687786102295,36.014625549316406,11.347495079040527,13.157397270202637,-6.132481575012207,20.20798683166504,-5.007363796234131,21.07413673400879,3.342663049697876,26.160871505737305,-6.558504104614258,-6.816615581512451,0.234678253531456,-5.864245891571045,-7.232903480529785,-4.673059940338135,15.590652465820312,-7.280436992645264,-7.154151916503906,-3.2335758209228516,-5.537567138671875,19.670738220214844,-2.9087884426116943,31.756528854370117,-5.419362545013428,3.879300832748413,28.295164108276367,-6.144724369049072,-3.1236064434051514,15.8419189453125,-8.106719970703125,31.613962173461914,13.177005767822266,7.025021553039551,-7.865726947784424,-7.694081783294678,-4.6389994621276855,1.899142861366272,0.3016835153102875,-6.653070449829102,-8.347477912902832,-3.1306169033050537,12.709760665893555,-4.4725518226623535,8.529563903808594,-1.2148805856704712,-5.483156204223633,13.375284194946289,18.564239501953125,-2.1500086784362793,-5.774751663208008,33.55060577392578,-2.0778536796569824,1.9011574983596802,-3.474440813064575,-2.9561715126037598,24.031579971313477,-4.235753536224365,-4.670192241668701,-3.205054759979248,-4.600776195526123,34.51303482055664,-3.150718927383423,-7.037434101104736,20.971508026123047,-6.915503025054932,-2.431440830230713,-7.014415740966797,29.382326126098633,9.95813274383545,4.036573886871338,8.948604583740234,25.870302200317383,-6.000794887542725,29.074100494384766,10.802779197692871,-4.517914772033691,-0.017783688381314278,-6.016381740570068,2.3547799587249756,-3.5592103004455566,6.829911231994629,2.3018734455108643,-7.762052536010742,5.71084451675415,31.6975154876709,-4.179435729980469,-7.405562877655029,8.066253662109375,9.040241241455078,-8.308673858642578,-8.261418342590332,-8.378335952758789,-8.065340995788574,4.24365758895874,-6.459126949310303,2.3435287475585938,-2.951542615890503,2.515338897705078,16.94690704345703,-6.031763553619385,33.63721466064453,12.08728313446045,20.99476432800293,8.619941711425781,-7.626380920410156,-7.269986629486084,-5.428364276885986,-7.306623935699463,-7.25008487701416,21.775875091552734,19.904863357543945,-7.06978178024292,7.772120475769043,-7.235994815826416,-3.043546199798584,23.626361846923828,13.672588348388672,12.65861701965332,20.207107543945312,9.825577735900879,-4.641186714172363,-5.6681647300720215,15.98622989654541,5.868916034698486,35.252254486083984,-6.105034828186035,-7.255682468414307,-7.162112236022949,0.43753480911254883,17.144289016723633,-2.9814019203186035,0.5004934668540955,23.712419509887695,27.8261775970459,18.539634704589844,-5.444529056549072,25.574119567871094,24.18326759338379,-5.9679274559021,-5.823309898376465,3.0083539485931396,-5.749291896820068,3.149449110031128,23.24986457824707,-8.367040634155273,-3.7565720081329346,16.55801010131836,-8.206539154052734,21.336212158203125,-8.399626731872559,4.603909015655518,9.167040824890137,-1.9165339469909668,26.644550323486328,23.93695068359375,-6.915771961212158,10.573311805725098,-7.142632961273193,-2.6401143074035645,2.9566867351531982,-7.275014877319336,-4.115165710449219,-7.198330402374268,13.045424461364746,6.163914203643799,22.699024200439453,27.71356773376465,18.962921142578125,24.586088180541992,-7.05472469329834,11.466102600097656,-4.719324111938477,-6.123537540435791,3.6128740310668945,18.70907974243164,-7.478336811065674,-6.311008453369141,1.9820023775100708,16.30721092224121,6.086942195892334,3.0026910305023193,35.57454299926758,-6.41361665725708,-6.172977447509766,-6.504666805267334,23.419513702392578,23.836034774780273,7.936699390411377,5.8750200271606445,-7.299960136413574,-7.105830192565918,-3.8986997604370117,15.869974136352539,-7.298090934753418,-6.335079669952393,16.07394790649414,31.697847366333008,18.17360496520996,1.8968582153320312,-6.44646692276001,-2.5034806728363037,23.11472511291504,-7.930549144744873,12.46390438079834,-0.4538765549659729,-7.8784637451171875,19.273773193359375,13.343317031860352,11.553707122802734,-7.942272663116455,-8.18848705291748,-7.584505081176758,-6.500922679901123,-6.275809288024902,11.331770896911621,23.763643264770508,-6.490665435791016,-6.343926906585693,-4.422599792480469,-0.958721399307251,28.581497192382812,-5.008608341217041,-0.8064849376678467,8.53424072265625,19.588966369628906,-5.5927252769470215,22.12289047241211,23.88852882385254,2.132896661758423,6.191988945007324,5.3818888664245605,5.829801559448242,-8.302007675170898,-3.8352084159851074,19.439512252807617,-3.3830039501190186,26.02788734436035,21.919950485229492,-2.8907573223114014,-1.3427218198776245,17.499347686767578,-6.682253837585449,-1.5764153003692627,-6.8296895027160645,25.919660568237305,2.585066318511963,38.267757415771484,3.9405415058135986,8.72175407409668,-5.8387227058410645,-3.119539260864258,-5.671929359436035,10.00541877746582,-5.758958339691162,19.609745025634766,6.81247615814209,-6.441777229309082,-1.0320535898208618,9.402966499328613,32.58852005004883,-4.296435356140137,22.1820011138916,25.155916213989258,-2.7249903678894043,18.599889755249023,7.195709228515625,-6.94931173324585,-0.8587448596954346,-6.115052223205566,-6.011765956878662,8.677892684936523,-0.12436193972826004,37.09638977050781,3.7573397159576416,-2.929835796356201,10.64479923248291,11.31424617767334,-7.083962917327881,-6.909595012664795,-7.008918285369873,3.398526430130005,22.76996612548828,-5.903139591217041,24.899028778076172,6.520577907562256,-5.884338855743408,31.36799430847168,2.027827024459839,-4.70947790145874,-1.3369731903076172,15.733549118041992,11.534476280212402,10.544146537780762,-4.150736331939697,11.268905639648438,28.157459259033203,19.689517974853516,21.644775390625,-7.408137321472168,5.7846550941467285,-7.3621625900268555,14.740192413330078,18.195363998413086,36.72267150878906,5.7254204750061035,13.111281394958496,-4.420229911804199,-6.642882347106934,5.922292232513428,-6.757968902587891,0.6307508945465088,20.895709991455078,-1.9288547039031982,20.405916213989258,-6.955917835235596,-3.7188327312469482,-6.997121810913086,19.108013153076172,16.372390747070312,-6.492095947265625,4.069339752197266,-3.39536452293396,14.199196815490723,-5.008218765258789,-6.283814907073975,16.39710807800293,33.215599060058594,-1.0091816186904907,12.564106941223145,8.859762191772461,-7.133613586425781,3.9725608825683594,36.12505340576172,-3.094604253768921,-7.491344928741455,-7.231489658355713,-2.3661258220672607,3.0170071125030518,-5.767775058746338,-2.1908092498779297,-7.308232307434082,-5.102013111114502,-6.267164707183838,23.816238403320312,29.82958221435547,-6.228714466094971,-6.218844413757324,6.342645168304443,9.134946823120117,-0.28325319290161133,37.22530746459961,1.9769376516342163,17.184423446655273,-0.5417237877845764,-3.51230525970459,-4.961528778076172,9.473566055297852,-7.563981533050537,12.406477928161621,6.0070905685424805,5.760776519775391,-7.460936546325684,9.966110229492188,-7.3451995849609375,-7.583096504211426,31.951223373413086,14.156253814697266,-3.544686794281006,13.783899307250977,-6.353115081787109,-6.133625030517578,-6.126435279846191,-6.063275337219238,31.958751678466797,-6.356594562530518,-6.316076755523682,-6.178503036499023,12.56328010559082,15.188901901245117,16.44721794128418,31.42524528503418,2.3894593715667725,-7.206040859222412,-3.033301591873169,-7.321681022644043,4.188766956329346,-7.400973320007324,-1.6310005187988281,21.598459243774414,-6.477999687194824,15.106340408325195,-6.485165119171143,-6.403011322021484,25.167593002319336,-3.2608482837677,7.188147068023682,33.63015365600586,11.256452560424805,10.072510719299316,4.213552951812744],\"y\":[-1.1323094367980957,-0.423416405916214,-0.2924019396305084,2.0374701023101807,0.6132411360740662,-0.5169828534126282,-1.0309865474700928,2.2690341472625732,-0.5347771644592285,-0.7958362102508545,2.4687681198120117,-1.1232200860977173,1.363932490348816,1.7075268030166626,-0.5909585952758789,2.1956608295440674,-0.20959019660949707,0.0979255810379982,-0.9444202780723572,-1.4150470495224,-0.05155584216117859,1.8507025241851807,-0.31955575942993164,1.7091362476348877,-0.485105961561203,1.3054046630859375,-1.7183477878570557,0.5044625997543335,1.1330361366271973,0.7787597179412842,1.1726034879684448,1.3398479223251343,0.5183855891227722,1.6385332345962524,2.0636160373687744,-0.6426043510437012,0.8027566075325012,1.2881083488464355,1.3865776062011719,-0.8555375337600708,-1.1649223566055298,0.874905526638031,-1.7106530666351318,-0.5074485540390015,0.06964175403118134,-1.1939548254013062,2.069226026535034,0.2712372839450836,-0.9078879952430725,2.394460439682007,-0.24831709265708923,0.9843758344650269,1.7623260021209717,-0.6618295311927795,-2.5502941608428955,1.4671601057052612,1.404077410697937,0.6453009247779846,-0.8327040672302246,1.627929449081421,1.6870098114013672,0.7554883360862732,1.5892350673675537,-1.2913095951080322,1.5248162746429443,2.37911319732666,-1.6214609146118164,1.2264213562011719,0.3653809428215027,-0.6359078884124756,0.5195571184158325,0.6095975637435913,0.41215336322784424,1.4822033643722534,-1.7439197301864624,-0.41053566336631775,-0.3444661498069763,2.2907602787017822,0.029956849291920662,-0.5205183625221252,1.5881856679916382,0.5386632680892944,-0.5491641163825989,-0.532010018825531,1.248910903930664,-0.37853333353996277,0.498989999294281,1.2865684032440186,-1.0779650211334229,-0.3242606520652771,1.6671448945999146,-0.4871823191642761,-0.3020239770412445,0.7107919454574585,0.26404625177383423,-0.5373639464378357,-2.3875536918640137,1.491661548614502,2.779294729232788,-0.896058201789856,-1.0176928043365479,1.1159451007843018,2.15417218208313,-1.4391311407089233,0.4001908004283905,-0.5877317190170288,2.1985092163085938,1.000150442123413,1.492672085762024,1.7090424299240112,1.9522563219070435,-0.3591362237930298,1.4420931339263916,0.4680912494659424,1.5968873500823975,-0.5539708137512207,-1.3878402709960938,1.7844942808151245,1.6231228113174438,0.5215221047401428,0.5028505325317383,0.553232729434967,-0.24559588730335236,-0.25611987709999084,0.7196806073188782,-0.37452927231788635,-0.5340716242790222,0.6381155252456665,-0.5826671123504639,-0.6838391423225403,-0.6335826516151428,2.1514153480529785,-0.5294125080108643,-1.367212176322937,1.4282519817352295,1.982150912284851,0.8047643303871155,-0.08819938451051712,-0.6245980262756348,-0.9989953637123108,0.9873088598251343,0.14749042689800262,2.0296554565429688,-0.44076937437057495,1.330237627029419,1.5638707876205444,0.259913831949234,1.5642238855361938,-0.5377275347709656,1.2566858530044556,-1.8436474800109863,1.4008368253707886,-0.963007390499115,0.6686019897460938,2.161259889602661,-0.27680835127830505,-0.3126263916492462,-0.06850934773683548,-0.2905696928501129,1.4063642024993896,-0.7552660703659058,2.4429450035095215,1.3752634525299072,1.8521417379379272,0.08607007563114166,-0.46686089038848877,-1.5982143878936768,1.0019831657409668,-0.2102380245923996,-0.05396484211087227,-0.3060217797756195,-0.08231685310602188,1.5149693489074707,-0.19076402485370636,-0.3462393879890442,-0.5286750197410583,0.04327739402651787,-0.3213551342487335,1.1142196655273438,-0.34955519437789917,2.407459259033203,-1.2968040704727173,0.6038537621498108,0.9380620121955872,-0.6677950024604797,0.9162877202033997,0.8621498942375183,-0.5810145735740662,0.20725488662719727,-0.016085630282759666,-0.9525664448738098,-0.28807494044303894,-0.6721255779266357,-0.6215802431106567,2.496365785598755,-0.6852061152458191,1.6023885011672974,2.0477256774902344,-0.23436161875724792,-0.5215601325035095,0.6330744028091431,-0.14495323598384857,-0.05494081601500511,-1.078642725944519,-0.37043431401252747,-0.3002268671989441,1.9743305444717407,-0.42706790566444397,0.9452541470527649,-1.2049016952514648,-0.28560298681259155,1.2180274724960327,1.2909342050552368,-0.3712262511253357,-0.9104684591293335,-0.3174373507499695,-0.29758453369140625,1.1491308212280273,1.4082269668579102,-0.9498177766799927,-0.4805717468261719,-0.7378338575363159,1.102184534072876,-0.7789185047149658,1.7970023155212402,1.3980555534362793,-0.6228618621826172,1.2600680589675903,-0.44742605090141296,1.75093412399292,1.0302858352661133,-0.9687252044677734,-1.3415539264678955,-0.9837939143180847,-1.3413476943969727,-0.5702857971191406,1.505804181098938,1.5319494009017944,0.7784761190414429,1.4613209962844849,0.7362474799156189,-0.3838200569152832,-0.3625430166721344,1.574936032295227,1.3521902561187744,0.6474538445472717,2.7377068996429443,-1.9928820133209229,-0.7728053331375122,-0.43413814902305603,-0.45772743225097656,-0.5472574830055237,-0.9177007675170898,0.8088064193725586,1.120293378829956,-0.3136679530143738,-0.3863363564014435,1.928757667541504,0.4768942892551422,-0.44455865025520325,-0.7344130873680115,1.076539158821106,-1.70584237575531,0.43784502148628235,2.14846134185791,-0.6540941596031189,1.6168047189712524,-0.9442541599273682,-0.19791445136070251,1.846541404724121,2.5867178440093994,-0.5143362283706665,-1.9097380638122559,-0.634543240070343,2.0321061611175537,-0.26148656010627747,-0.21793006360530853,-0.4176097512245178,-0.38172799348831177,-0.5528907179832458,1.317294716835022,-0.2733801603317261,-0.4608197808265686,-0.6391839385032654,1.0616357326507568,2.4556446075439453,-1.2798582315444946,0.45603081583976746,2.650345802307129,0.8900579214096069,0.39620596170425415,0.048152800649404526,-0.8122685551643372,-0.5999960899353027,1.2330185174942017,-2.236752510070801,1.489640474319458,1.3798011541366577,-0.15727317333221436,1.293124794960022,-0.024045666679739952,1.436943769454956,-0.3311222195625305,-1.28646719455719,0.6963279247283936,2.451808214187622,0.3563348650932312,-0.29251348972320557,1.9822388887405396,-0.5869642496109009,-0.35357770323753357,0.8133993744850159,-1.370269536972046,2.5282349586486816,0.1965150237083435,-0.6054332256317139,1.1910680532455444,-0.7134525775909424,1.2391448020935059,-0.3215094804763794,0.03451908007264137,1.2088592052459717,-0.5602119565010071,2.4719021320343018,0.9431989192962646,-1.3147978782653809,0.9484609961509705,-0.21213488280773163,-1.033143162727356,1.59322190284729,0.5097160935401917,0.8164709210395813,-0.5047653317451477,1.1346774101257324,-0.0631314367055893,-0.6909170746803284,-0.6226289868354797,1.868267297744751,-1.0112131834030151,0.7357012629508972,2.05837082862854,1.2841087579727173,0.834729015827179,-0.4875006079673767,-0.3644285798072815,-0.4679098129272461,0.7312508225440979,0.03197496756911278,-0.6579284071922302,-0.055087219923734665,0.9733539819717407,-0.8065587282180786,-0.8070496916770935,1.5632563829421997,0.45786651968955994,1.4997342824935913,0.028018204495310783,1.5269256830215454,0.4909130930900574,1.8856765031814575,0.5136439204216003,-1.90241539478302,0.48420771956443787,-0.36775875091552734,0.076028011739254,0.5472637414932251,0.011279989033937454,-0.6146550178527832,0.09886649996042252,-1.65447998046875,0.5122897624969482,1.184625267982483,0.9213600754737854,-0.8104255795478821,0.927901029586792,-0.8025631308555603,2.3192670345306396,0.6920627951622009,2.14581561088562,-0.027010027319192886,-0.3384115695953369,1.7176146507263184,-0.6353237628936768,-1.5390945672988892,0.2098870724439621,-0.5438122749328613,1.4038258790969849,1.363447666168213,0.7236625552177429,0.5229800939559937,-0.8167192935943604,0.3741380572319031,-1.3925893306732178,2.1536474227905273,2.135002374649048,1.0127613544464111,-0.38933584094047546,1.6838960647583008,-2.0804505348205566,1.2629450559616089,-1.1196045875549316,-1.3145325183868408,1.4365724325180054,-0.8998938202857971,-0.12017720937728882,1.9996862411499023,-1.1430425643920898,0.34677478671073914,-0.15010757744312286,0.2520049214363098,-1.1576106548309326,-0.40542927384376526,-0.11395550519227982,-0.07356183230876923,1.358557105064392,2.1558661460876465,-1.224039912223816,1.5538485050201416,0.8367403149604797,0.865356981754303,0.9204986095428467,-0.2573317289352417,0.9852416515350342,-0.5143042802810669,0.0898362472653389,2.3367795944213867,1.684615969657898,-0.11870987713336945,1.2131340503692627,-0.6408573389053345,-0.4250316917896271,-2.356083393096924,-0.010132367722690105,1.4372363090515137,0.8893443942070007,-0.26141276955604553,-0.4711313843727112,-0.031175687909126282,-0.3768744170665741,-1.3884382247924805,-0.10901309549808502,-0.4228684604167938,-0.31098631024360657,1.636526346206665,0.3795257806777954,0.05696788802742958,-1.6947277784347534,1.826781153678894,-0.8126682639122009,1.7682299613952637,-0.8877577185630798,1.4613021612167358,-0.9993137121200562,1.7678425312042236,-0.20337419211864471,-0.34034717082977295,0.12065782397985458,-0.17146186530590057,-0.22068963944911957,-1.2636183500289917,1.670910120010376,0.679783284664154,-1.8539925813674927,1.378873348236084,1.078354001045227,1.4026821851730347],\"z\":[0.390155166387558,-0.0364246666431427,0.022571416571736336,0.0957958921790123,0.041902489960193634,-0.22965966165065765,-0.014430871233344078,-0.2444702535867691,-0.013240349479019642,-0.10101968795061111,-0.04887906089425087,0.034361131489276886,-0.18500901758670807,-0.13707225024700165,-0.04241883382201195,0.05911260098218918,0.24659840762615204,-0.24874256551265717,0.10858087986707687,-0.016296831890940666,0.017413809895515442,-0.07478436827659607,-0.0033820068929344416,0.16861344873905182,-0.03354775905609131,-0.03875519335269928,0.09128155559301376,-0.08223410695791245,-0.0720367431640625,-0.2654576301574707,0.19336910545825958,-0.06056561693549156,-0.12172400206327438,0.09453803300857544,0.10725580900907516,-0.04885299876332283,0.6619822382926941,0.4809129536151886,-0.5885664224624634,-0.27866119146347046,0.07121225446462631,0.1089400053024292,0.10410191863775253,-0.1760113388299942,0.03791907802224159,0.2834429144859314,-0.04685300588607788,-0.13701540231704712,-0.1115320548415184,-0.04061552882194519,0.021109310910105705,0.28122302889823914,-0.31838059425354004,-0.08199883252382278,0.0055236429907381535,-0.17465561628341675,-0.18450288474559784,0.4376078248023987,-0.014342769980430603,0.2548183798789978,0.030163738876581192,0.04430830851197243,-0.15022632479667664,0.012945505790412426,0.08668328821659088,-0.22534316778182983,0.01692587323486805,-0.09989327937364578,0.11696893721818924,-0.04037840664386749,-0.18221315741539001,-0.08701755851507187,-0.19185508787631989,0.13813498616218567,0.2846301794052124,0.12638956308364868,-0.020235730335116386,-0.03410044312477112,-0.04309725761413574,-0.157875657081604,0.02687930129468441,-0.08268855512142181,-0.11412707716226578,-0.19522297382354736,-0.18777571618556976,0.05804206058382988,-0.026367150247097015,-0.22249312698841095,0.08205295354127884,0.02652389369904995,-0.01997026428580284,-0.07566171884536743,0.009412110783159733,0.6518933176994324,-0.023066995665431023,0.08904077112674713,0.0018900837749242783,-0.2892646789550781,-0.35329025983810425,-0.20306144654750824,-0.18508733808994293,-0.46964138746261597,0.05373645946383476,1.0459057092666626,0.26052331924438477,-0.05959586799144745,-0.7190987467765808,-0.09443405270576477,-0.4348752200603485,-0.12400870770215988,-0.20389437675476074,-0.06362637132406235,-0.17780490219593048,-0.03265751153230667,-0.08458620309829712,0.03581640124320984,0.10480791330337524,-0.2717873454093933,0.3023878037929535,-0.07260210067033768,-0.4340803921222687,-0.05140121281147003,-0.08790496736764908,0.03671615570783615,0.016259443014860153,0.03194822743535042,0.055702485144138336,0.44822070002555847,-0.04731378331780434,0.07570654898881912,-0.04920303449034691,0.003564245766028762,-0.03956529498100281,-0.05244477465748787,-0.09485652297735214,-0.03589559718966484,0.11322923749685287,-0.08891067653894424,-0.07298741489648819,0.10837773233652115,0.03613116219639778,-0.3483673632144928,-0.08795779198408127,0.06388162076473236,0.20488029718399048,-0.041175566613674164,0.36923253536224365,0.1593591868877411,0.09965185075998306,0.12478235363960266,-0.08690191060304642,-0.16553929448127747,-0.07878027111291885,0.15975652635097504,-0.3232605457305908,-0.07730679214000702,-0.10615641623735428,0.03025292605161667,-0.06765389442443848,0.22288423776626587,-0.055926114320755005,-0.21701233088970184,-0.46701139211654663,-0.011405018158257008,0.10045798867940903,-0.009476973675191402,0.0382852703332901,-0.03798357769846916,-0.11753453314304352,0.401873379945755,-0.18588554859161377,0.09598378837108612,0.3726620674133301,-0.07026106864213943,-0.11591526120901108,-0.05735590681433678,-0.11452320963144302,-0.07982033491134644,0.09866253286600113,-0.14043168723583221,-0.20206071436405182,0.06377661228179932,-0.04471290856599808,-0.09053408354520798,0.03631506487727165,0.04604006186127663,0.2428869903087616,-0.4677715599536896,0.07783946394920349,0.5427699685096741,-0.20010367035865784,0.04475618153810501,-0.2498554289340973,-0.20627561211585999,-0.04787363484501839,0.2249273806810379,-0.4146246314048767,0.0519435778260231,-0.038591865450143814,-0.09642885625362396,-0.09763026982545853,-0.30129769444465637,-0.13974568247795105,0.2274555116891861,-0.07322865724563599,-0.046204231679439545,0.0522940568625927,-0.1834564357995987,0.36727169156074524,-0.09622770547866821,-0.16795706748962402,0.6411622762680054,-0.4426318109035492,-0.14989078044891357,-0.05350388213992119,-0.19433808326721191,0.6820405721664429,-0.010022330097854137,0.33666056394577026,-0.060641270130872726,-0.0968555137515068,-0.1130610778927803,-0.03321855142712593,-0.06271038204431534,0.24868789315223694,0.16234134137630463,-0.01720024272799492,-0.44056087732315063,0.20902737975120544,-0.3088214099407196,0.15373238921165466,0.104233518242836,-0.009653759188950062,0.2115863859653473,0.07258657366037369,-0.07109415531158447,-0.15854774415493011,0.04785120487213135,0.3675333559513092,0.13579539954662323,-0.26232847571372986,-0.04725033789873123,0.22140561044216156,0.1333017796278,-0.298988938331604,0.2796379029750824,-0.38637688755989075,0.06481153517961502,-0.17591632902622223,0.07787205278873444,0.04602581262588501,-0.08290030807256699,0.015175893902778625,0.1460496187210083,0.15256854891777039,-0.02859356254339218,0.030295800417661667,-0.13840679824352264,-0.06004820764064789,-0.06781899929046631,-0.014312689192593098,-0.1822405755519867,0.13792738318443298,-0.06498837471008301,-0.0643186867237091,0.01446407102048397,-0.18239639699459076,-0.05730610340833664,0.025259729474782944,-0.36776003241539,-0.1177799329161644,-0.10660909861326218,0.40326935052871704,0.2700749337673187,-0.37260228395462036,0.11262181401252747,0.007446331903338432,0.001838589902035892,0.01870361715555191,-0.03095324896275997,-0.10666429251432419,-0.07347006350755692,0.05714516341686249,-0.0746019184589386,0.2017122209072113,-0.2905517518520355,0.09895022213459015,-0.4551180601119995,-0.22417090833187103,0.130746528506279,-0.12170284986495972,-0.3392825722694397,0.14144772291183472,-0.010722802020609379,0.37207669019699097,1.11677885055542,0.11759325861930847,0.12884511053562164,0.1420808583498001,0.3485461175441742,-0.050383079797029495,-0.22456538677215576,-0.18648619949817657,0.2860443592071533,0.5290880799293518,-0.5875729322433472,-0.032025840133428574,0.06560419499874115,0.026047538965940475,-0.05700022354722023,-0.10913508385419846,0.3575785458087921,-0.029339861124753952,-0.3416061997413635,0.31499528884887695,-0.09631087630987167,0.0473332405090332,-0.05766114965081215,-0.04723198711872101,0.2710367441177368,-0.006356860511004925,0.035726215690374374,0.15255413949489594,-0.3798923194408417,0.06223267689347267,-0.0008189707878045738,0.31111612915992737,-0.09128428995609283,0.015310999937355518,0.34492650628089905,-0.1731702834367752,0.22609849274158478,-0.12607164680957794,0.4241250157356262,-0.29031267762184143,-0.15252621471881866,0.5752325057983398,0.08637528121471405,-0.19721807539463043,0.28390318155288696,-0.4608481526374817,-0.05624198541045189,0.04075387492775917,-0.01187075674533844,0.05556869879364967,-0.043744757771492004,0.3772110939025879,-0.19914747774600983,-0.0827937126159668,-0.07828988134860992,0.1702352911233902,-0.22008255124092102,-0.06339158862829208,0.09169705957174301,0.004058804363012314,0.3847200274467468,0.006069546099752188,-0.2157771736383438,0.09966985136270523,0.33819499611854553,0.059454355388879776,-0.07347553223371506,-0.26449087262153625,-0.09342356026172638,0.03699538856744766,0.4205440878868103,-0.04335144907236099,0.30405279994010925,-0.06460974365472794,-0.10703875124454498,0.27274206280708313,-0.16066774725914001,-0.1639091670513153,0.019468454644083977,0.1546487957239151,-0.02398611418902874,-0.19731535017490387,-0.3266792893409729,0.11541028320789337,-0.08765026181936264,0.08452406525611877,-0.2810409367084503,-0.1292611062526703,0.4462842047214508,0.010026998817920685,0.06832346320152283,0.10696199536323547,-0.08133529871702194,0.003387901233509183,0.09328842908143997,-0.10084643959999084,0.014706136658787727,-0.02078755758702755,-0.05573179945349693,-0.3468989133834839,0.0662691593170166,0.5782296061515808,0.019882533699274063,0.008471856825053692,-0.6144933104515076,-0.17408683896064758,-0.16515378654003143,0.22940431535243988,0.7759327292442322,-0.09113961458206177,-0.34016865491867065,-0.15543465316295624,-0.2519417107105255,0.18167142570018768,-0.20172685384750366,0.00791656132787466,0.009684397839009762,0.24268408119678497,0.5165525674819946,-0.0062675923109054565,-0.03997347503900528,0.0007892815629020333,0.055390920490026474,-0.11182525753974915,0.3503069281578064,0.22348549962043762,-0.16959550976753235,0.03442077338695526,-0.016883956268429756,0.171418234705925,-0.24212728440761566,-0.003679117886349559,0.3404223620891571,-0.051524072885513306,-0.07914707064628601,-0.02567443437874317,0.0020622466690838337,0.21674305200576782,-0.27195197343826294,-0.022240130230784416,-0.01623205654323101,-0.08507133275270462,0.278730183839798,-0.03626733645796776,0.023238591849803925,0.1341462880373001,-0.072205550968647,0.04898114874958992,-0.20624423027038574,-0.016746122390031815,0.010284282267093658,-0.09975093603134155,0.044743843376636505,0.05247918888926506,0.11735101044178009,-0.1350613683462143,0.061184704303741455,-0.10669244825839996,0.1608654111623764,-0.02029278874397278,-0.08884910494089127,0.13788659870624542,0.10076931864023209,0.0932278111577034,0.15624594688415527,-0.38072192668914795,0.26702970266342163,-0.052766114473342896,-0.11184062063694,0.0078023565001785755,0.1485598236322403],\"type\":\"scatter3d\"},{\"mode\":\"markers\",\"name\":\"True label 1, Subgroup 0\",\"x\":[-8.67725658416748,-7.908683776855469,-8.039507865905762,-7.952886581420898,-8.170989990234375,-8.115434646606445,-8.32736873626709,-8.100959777832031,-8.209134101867676,-6.913483619689941,-6.593803405761719,-7.264926910400391,-7.329702854156494,-7.224233150482178,-7.417549133300781,-7.277653694152832,-7.5389251708984375,-7.258004665374756,-7.331597328186035,-3.6251440048217773,-8.492323875427246,-7.920871257781982,-6.587940216064453,-2.251230239868164,5.094783306121826,-7.6772871017456055,-6.231555461883545,-7.4800004959106445,-7.325699806213379,-7.509757041931152,-7.526638984680176,-5.632101058959961,-5.774834632873535,-5.627488136291504,-5.782016277313232,-7.357693672180176,15.297165870666504,-7.462976455688477,-7.47426176071167,0.10341312736272812,-5.385926246643066,-7.287745952606201,-1.943715214729309,-6.218595027923584,-6.0332136154174805,-5.857499599456787,-6.264455795288086,-7.6957688331604,-7.576980113983154,-7.671423435211182,-7.603841781616211,-7.502419948577881,-7.480969429016113,-7.549604415893555,-7.645076751708984,-8.626080513000488,20.257028579711914,-8.383691787719727,-7.554811000823975,2.989950656890869,-6.256991863250732,-6.815329551696777,-7.013782501220703,-6.874107837677002,-6.92785120010376,-6.802775859832764,-6.60746955871582,-6.758398532867432,-7.027027130126953,-6.903735637664795,-6.722838401794434,-6.734407901763916,4.2232465744018555,-7.0737433433532715,-6.633471965789795,-5.708765506744385,-5.573930263519287,-1.0551035404205322,-5.457842826843262,-5.681232929229736,-5.367695331573486,-5.764822959899902,3.1954238414764404,-9.098783493041992,-9.725790023803711,19.22589874267578,-8.993614196777344,-9.463764190673828,-9.411745071411133,4.934159278869629,-8.342903137207031,-8.40993881225586,-8.284724235534668,-7.334770679473877,-7.4531569480896,-7.267632484436035,0.8310627937316895,-7.210703372955322,-7.454811096191406,-7.638680458068848,-7.513861179351807,-7.548147678375244,-7.269801139831543,-0.18829147517681122,-8.604056358337402,-8.5025053024292,-8.169610023498535,-7.865189075469971,-7.884887218475342,-1.2258670330047607,-7.916010856628418,-7.694936752319336,-8.070175170898438,-7.687034606933594,-6.252570152282715,-7.000248432159424,-7.64901065826416,-7.552311420440674,-8.401043891906738,-8.639520645141602,-8.663485527038574,-8.781065940856934,-8.30704402923584,-8.395899772644043,-8.397802352905273,-6.371603488922119,-6.627749443054199,-6.53062629699707,-6.691851615905762,-6.2272562980651855,-1.82956063747406,-6.103652477264404,7.737741470336914],\"y\":[-0.27292001247406006,-0.5198855996131897,-0.44042259454727173,0.7318584322929382,-0.474670946598053,-0.48590266704559326,-0.13199350237846375,-0.4392184019088745,-0.3286794424057007,-0.30032843351364136,-0.5133016109466553,-0.47547757625579834,-0.2530153691768646,-0.3241932988166809,-0.34248849749565125,-0.317760169506073,-0.2478564828634262,-0.3196784555912018,-0.24971012771129608,1.7222824096679688,-0.30693498253822327,-0.4770668148994446,-0.2219408005475998,2.102449893951416,2.0725536346435547,-0.5929852724075317,-0.09891081601381302,-0.7767261266708374,-0.8676584362983704,-0.8621892333030701,-0.685131847858429,-0.3500217795372009,-0.192300483584404,-0.29312506318092346,-0.09089148044586182,-0.15437057614326477,1.3332985639572144,-0.39303722977638245,-0.22213959693908691,0.5580524206161499,1.2028836011886597,-0.4861062169075012,1.270359992980957,-0.3830031156539917,-0.6703082323074341,-0.14400063455104828,-0.4830319881439209,-0.3492808938026428,-0.6790725588798523,-0.46592333912849426,-0.5712469816207886,-0.5708655714988708,-0.2974904775619507,-0.4202963709831238,-0.22010090947151184,-0.6237608790397644,-1.5520622730255127,-0.718668520450592,0.1747504025697708,0.15415847301483154,0.16958941519260406,-0.43507489562034607,-0.652774453163147,-0.5577225089073181,-0.5963240265846252,-0.7390421628952026,-0.5547595620155334,-0.5848047137260437,-0.6308608651161194,-0.5166763067245483,-0.6999674439430237,-0.43204283714294434,0.3744397461414337,-0.5234916806221008,-0.7830212712287903,-0.31271597743034363,-0.28146180510520935,0.4862537384033203,-0.39181724190711975,-0.1801971197128296,-0.422222763299942,-0.541156530380249,0.5098656415939331,-0.7872784733772278,-0.17106673121452332,-0.35922735929489136,-0.7258617877960205,-0.8230761289596558,-0.2822936773300171,1.0649566650390625,-0.49754321575164795,-0.321523517370224,-0.49535706639289856,-0.5797236561775208,-0.531542956829071,-0.47590193152427673,1.2408372163772583,-0.39328962564468384,-0.4003371298313141,-0.24761609733104706,-0.24331091344356537,-0.5134959816932678,-0.4892512559890747,1.4589306116104126,0.22487355768680573,0.11276459693908691,-0.10936997085809708,-0.45165759325027466,-0.337140828371048,0.6347673535346985,-0.23999159038066864,0.692143976688385,-0.17914928495883942,-0.4070489704608917,-0.583466112613678,0.38756754994392395,-0.24349360167980194,1.059653639793396,-0.46035850048065186,-0.7448475360870361,-0.45634403824806213,-0.18640759587287903,-0.5542687177658081,-0.5397489070892334,-0.49895453453063965,-0.5601411461830139,-0.0921386107802391,-0.6544952988624573,-0.4178314805030823,-0.13833323121070862,0.5394126176834106,-0.25382480025291443,0.1636541336774826],\"z\":[-0.2355101853609085,-0.3023987114429474,-0.2055181860923767,0.7942652702331543,-0.25606250762939453,-0.304278701543808,-0.11343534290790558,-0.23218396306037903,-0.2316695749759674,0.03443428874015808,-0.012944281101226807,-0.08620145916938782,-0.03109598346054554,0.027750566601753235,-0.05283784121274948,0.026483608409762383,-0.037948429584503174,-0.04214957728981972,0.08187801390886307,0.21089516580104828,0.018551215529441833,-0.038809169083833694,0.0786963701248169,-0.26246440410614014,-0.11778756976127625,0.060838449746370316,0.04035991430282593,0.0240763071924448,-0.0539228729903698,-0.06095374748110771,0.02754618227481842,0.004510610830038786,-0.01248797494918108,0.013858034275472164,0.18040141463279724,-0.02870449237525463,-0.32633689045906067,-0.1938352882862091,-0.08592196553945541,0.551513135433197,0.4898383319377899,-0.15908648073673248,0.2784874141216278,-0.045296233147382736,-0.14415399730205536,0.3065927028656006,-0.10419050604104996,-0.0013399013550952077,-0.06880693137645721,-0.06851041316986084,-0.09259835630655289,0.014863012358546257,0.19645865261554718,-0.042007364332675934,0.27908146381378174,-0.1964600682258606,0.244737908244133,-0.20826473832130432,1.021996021270752,0.660476803779602,0.506209135055542,-0.03129326179623604,-0.128182053565979,-0.11713602393865585,-0.13290345668792725,-0.08057378977537155,-0.056772537529468536,0.03000565432012081,-0.1447354406118393,0.06381286680698395,-0.20201410353183746,0.14090831577777863,0.3923819363117218,-0.15259625017642975,-0.16261816024780273,-0.07343229651451111,0.024535147473216057,0.5114126205444336,-0.13177865743637085,0.07169635593891144,-0.09574244171380997,0.028875937685370445,0.5034937858581543,-0.19782288372516632,0.01395451370626688,-0.27625587582588196,-0.09263911098241806,-0.31235799193382263,-0.015625402331352234,0.20446228981018066,-0.07745493948459625,0.0016138162463903427,-0.05890919640660286,-0.1374337077140808,-0.13933469355106354,0.0036588208749890327,0.3139103055000305,-0.03840067982673645,-0.05766807869076729,-0.00462750531733036,-0.015952641144394875,-0.11650532484054565,0.0031104842200875282,0.27298489212989807,0.10242105275392532,0.046659864485263824,-0.10353007167577744,-0.2126254290342331,-0.1783754825592041,0.6746260523796082,-0.025203628465533257,0.735980212688446,-0.12188497930765152,-0.15524840354919434,-0.20408207178115845,0.7738952040672302,-0.12482884526252747,0.8978994488716125,-0.13407759368419647,-0.1332348883152008,-0.008491606451570988,0.14668844640254974,-0.010398916900157928,0.0770074799656868,-0.004644027445465326,-0.21061797440052032,0.11398261040449142,-0.2777893841266632,-0.2609122097492218,0.24479107558727264,0.5844870209693909,0.0790608674287796,0.3739396333694458],\"type\":\"scatter3d\"},{\"mode\":\"markers\",\"name\":\"True label 1, Subgroup 1\",\"x\":[-3.2097671031951904,23.166610717773438,-3.3352808952331543,13.799704551696777,9.800056457519531,19.21316146850586,14.067758560180664,20.383831024169922,31.245262145996094,13.392847061157227,-6.512947082519531,1.5373722314834595,-0.25826403498649597,-0.6143980026245117,23.87261390686035,5.435495853424072,24.334150314331055,9.992104530334473,-7.233708381652832,-7.252971649169922,13.1200590133667,-6.324455738067627,33.037784576416016,5.683026313781738,2.5837550163269043,-4.183469295501709,-5.675623416900635,-5.509239673614502,32.999176025390625,24.636362075805664,-7.213082790374756,-5.527027606964111,-4.805802822113037,16.054807662963867,-5.923367977142334,-3.9043188095092773,6.825525283813477,-5.942089557647705,27.53900718688965,28.439489364624023,-1.8344957828521729,6.714540004730225,-7.304259300231934,6.26216983795166,19.30467414855957,-5.2307305335998535,14.086761474609375,8.921493530273438,-0.060508809983730316,27.843891143798828,0.2531121075153351,5.319746971130371,-6.676483154296875,23.03541374206543,11.820231437683105,-5.222186088562012,-3.774130344390869,29.30101203918457,5.210460662841797,7.76616096496582,-4.306107997894287,10.863539695739746,36.722496032714844,0.6011492013931274,-6.531301975250244,-6.66607666015625,-6.788346767425537,36.09213638305664,-5.220154285430908,-5.423772811889648,17.529705047607422,23.870582580566406,8.741103172302246,3.010803699493408,-9.711504936218262,-0.8543334603309631,16.000185012817383,20.19908905029297,-8.167732238769531,21.402912139892578,-0.7102792263031006,4.734868049621582,27.104759216308594,27.601659774780273,7.53533411026001,-4.422415733337402,12.413124084472656,22.92108726501465,-7.969286918640137,16.038084030151367,17.11155128479004,-8.23847770690918,16.278148651123047,9.879430770874023,19.799854278564453,12.252371788024902,-7.7689056396484375,19.01673126220703,-6.708238124847412,14.786970138549805,24.87993621826172,7.796257019042969,-6.026696681976318,9.609463691711426,-6.259852409362793,-7.484652042388916,17.6569881439209,14.847299575805664,-7.161085605621338,-3.829897165298462,9.527474403381348,17.60735511779785,29.147554397583008,2.637869358062744,-8.243670463562012,5.938914775848389,-8.25493335723877,18.472713470458984,12.642020225524902,27.456727981567383,7.5796217918396,1.265085220336914,-8.30953598022461,33.02925109863281,20.342500686645508,-6.303140640258789,-2.259507656097412,-6.453922271728516,6.188984394073486,-6.344143867492676,-5.555474758148193,2.7426562309265137,-2.40630841255188],\"y\":[0.9696750640869141,-0.8161687850952148,1.5853692293167114,-1.012454628944397,0.6035106182098389,0.17568852007389069,0.8562365770339966,0.06635848432779312,-1.2613369226455688,0.21152637898921967,-0.6431084275245667,2.3039989471435547,1.8393642902374268,1.9699121713638306,-0.9140100479125977,2.1945548057556152,-0.6305339932441711,0.9350132942199707,-0.3096957206726074,-0.36548662185668945,-0.10194965451955795,-0.47584298253059387,-2.479158878326416,1.454082727432251,1.2701188325881958,0.4415736794471741,-0.12608739733695984,-0.3755037486553192,-1.2734825611114502,-1.4009240865707397,-0.30479487776756287,-0.2496701031923294,0.6028461456298828,0.900773286819458,-0.8327416181564331,1.0282962322235107,2.198160409927368,-0.48850879073143005,-1.0654313564300537,-2.1253974437713623,2.237877368927002,1.7294723987579346,-0.44315847754478455,0.19690872728824615,0.28773751854896545,0.8593341708183289,1.264396071434021,2.7290029525756836,-0.12041331827640533,-1.1039067506790161,2.4663896560668945,0.7851077318191528,-0.6360622644424438,-0.2603251338005066,0.3137897849082947,0.8767747282981873,1.2513909339904785,-0.8461546301841736,1.5267714262008667,1.624155879020691,1.2884373664855957,0.939190149307251,-1.7677218914031982,1.516933560371399,-0.4397906959056854,-0.5965327620506287,-0.87982577085495,-1.2583633661270142,0.027712300419807434,-0.648116946220398,0.7615707516670227,-1.3868414163589478,2.1130552291870117,1.3811792135238647,-0.4447723925113678,1.9866544008255005,-1.5259791612625122,0.43830105662345886,-0.7311866283416748,-0.5871530175209045,2.110623359680176,0.6729654669761658,-1.9431427717208862,-1.2131041288375854,0.3963812589645386,1.3588883876800537,0.746372640132904,-0.11384410411119461,-0.2582288682460785,-0.9021673798561096,0.03867631033062935,-0.13148033618927002,-0.6406260132789612,1.028748631477356,-0.015626847743988037,1.3837566375732422,-0.543877899646759,-1.0819393396377563,0.375184565782547,0.37460312247276306,-0.9449443817138672,1.1688002347946167,-0.6756638288497925,1.6926592588424683,0.22039765119552612,-0.2683328688144684,1.093737006187439,-0.8811848163604736,-0.4037237763404846,1.7970728874206543,2.5261900424957275,-1.351818323135376,-0.7846061587333679,2.1107146739959717,-0.5895456671714783,1.696877121925354,-0.7220374345779419,-0.6562324166297913,1.1000617742538452,-2.5116143226623535,1.0933408737182617,2.1962838172912598,-0.7372788786888123,-0.7374407052993774,-0.1787077635526657,-0.6400328874588013,2.1078476905822754,-0.7397828698158264,1.5488041639328003,-0.09070209413766861,0.14370663464069366,2.783867835998535,1.9825016260147095],\"z\":[0.6861919164657593,-0.15177147090435028,0.5320348739624023,0.39167702198028564,0.08501928299665451,-0.25375691056251526,-0.20259763300418854,-0.051666032522916794,-0.022561725229024887,0.13279159367084503,-0.06319230794906616,-0.15186890959739685,0.08824572712182999,0.053247079253196716,-0.00206904299557209,-0.1630665361881256,-0.09121178090572357,-0.00046080281026661396,-0.0113307423889637,-0.04236863926053047,0.21374739706516266,-0.030983535572886467,0.11908213794231415,0.028419164940714836,0.20221155881881714,-0.34255465865135193,0.15053987503051758,-0.005078496877104044,0.11236117035150528,0.13158081471920013,0.07613792270421982,0.18419447541236877,0.40634262561798096,-0.06238964572548866,-0.23220407962799072,0.17143939435482025,-0.22264808416366577,0.04370870441198349,0.12250904738903046,0.14861305058002472,0.005894344765692949,-0.062223006039857864,0.17720316350460052,0.4111018776893616,-0.20796340703964233,-0.07714775949716568,-0.2140912264585495,-0.4512525200843811,0.8452012538909912,-0.23035933077335358,-0.2799687087535858,0.28400328755378723,-0.05276806280016899,-0.05543280392885208,0.17301683127880096,0.3844449520111084,-0.36220136284828186,-0.08043576776981354,0.03315683826804161,-0.11488010734319687,0.17298395931720734,-0.023354314267635345,-0.09982635080814362,0.16157273948192596,0.15655550360679626,0.035170916467905045,-0.25651484727859497,0.05548921972513199,0.3055775761604309,-0.1907794028520584,-0.08676694333553314,-0.2991863489151001,-0.2991666793823242,0.3152288794517517,-0.13453231751918793,0.32821333408355713,0.2672851085662842,-0.2366732954978943,-0.1358962506055832,-0.14095789194107056,0.15907388925552368,0.3443843722343445,-0.0358818918466568,-0.07320632040500641,0.32763195037841797,-0.13357694447040558,0.002493139123544097,-0.20708416402339935,-0.08974191546440125,0.1804199516773224,-0.11259626597166061,-0.05358866974711418,0.1324949413537979,0.0067843664437532425,-0.2513693571090698,-0.19413907825946808,-0.20018258690834045,0.1853584200143814,-0.11134043335914612,-0.03065359964966774,-0.18387143313884735,0.08599575608968735,-0.195632666349411,-0.13528892397880554,0.035241346806287766,-0.07654774934053421,-0.32970312237739563,0.3601360619068146,0.016700927168130875,0.3562876582145691,-0.3979928195476532,0.1751503348350525,-0.6218864321708679,-0.012970116920769215,0.016114791855216026,-0.019866034388542175,0.008675600402057171,-0.019518958404660225,-0.18952202796936035,0.08060179650783539,0.08471400290727615,0.03869621083140373,-0.05385254696011543,-0.21992817521095276,0.03233915567398071,-0.30316105484962463,-0.028670717030763626,-0.3353068232536316,0.0009328019805252552,0.27572396397590637,-0.06885633617639542,-0.36425554752349854,-0.028954384848475456],\"type\":\"scatter3d\"}],                        {\"template\":{\"data\":{\"barpolar\":[{\"marker\":{\"line\":{\"color\":\"#E5ECF6\",\"width\":0.5},\"pattern\":{\"fillmode\":\"overlay\",\"size\":10,\"solidity\":0.2}},\"type\":\"barpolar\"}],\"bar\":[{\"error_x\":{\"color\":\"#2a3f5f\"},\"error_y\":{\"color\":\"#2a3f5f\"},\"marker\":{\"line\":{\"color\":\"#E5ECF6\",\"width\":0.5},\"pattern\":{\"fillmode\":\"overlay\",\"size\":10,\"solidity\":0.2}},\"type\":\"bar\"}],\"carpet\":[{\"aaxis\":{\"endlinecolor\":\"#2a3f5f\",\"gridcolor\":\"white\",\"linecolor\":\"white\",\"minorgridcolor\":\"white\",\"startlinecolor\":\"#2a3f5f\"},\"baxis\":{\"endlinecolor\":\"#2a3f5f\",\"gridcolor\":\"white\",\"linecolor\":\"white\",\"minorgridcolor\":\"white\",\"startlinecolor\":\"#2a3f5f\"},\"type\":\"carpet\"}],\"choropleth\":[{\"colorbar\":{\"outlinewidth\":0,\"ticks\":\"\"},\"type\":\"choropleth\"}],\"contourcarpet\":[{\"colorbar\":{\"outlinewidth\":0,\"ticks\":\"\"},\"type\":\"contourcarpet\"}],\"contour\":[{\"colorbar\":{\"outlinewidth\":0,\"ticks\":\"\"},\"colorscale\":[[0.0,\"#0d0887\"],[0.1111111111111111,\"#46039f\"],[0.2222222222222222,\"#7201a8\"],[0.3333333333333333,\"#9c179e\"],[0.4444444444444444,\"#bd3786\"],[0.5555555555555556,\"#d8576b\"],[0.6666666666666666,\"#ed7953\"],[0.7777777777777778,\"#fb9f3a\"],[0.8888888888888888,\"#fdca26\"],[1.0,\"#f0f921\"]],\"type\":\"contour\"}],\"heatmapgl\":[{\"colorbar\":{\"outlinewidth\":0,\"ticks\":\"\"},\"colorscale\":[[0.0,\"#0d0887\"],[0.1111111111111111,\"#46039f\"],[0.2222222222222222,\"#7201a8\"],[0.3333333333333333,\"#9c179e\"],[0.4444444444444444,\"#bd3786\"],[0.5555555555555556,\"#d8576b\"],[0.6666666666666666,\"#ed7953\"],[0.7777777777777778,\"#fb9f3a\"],[0.8888888888888888,\"#fdca26\"],[1.0,\"#f0f921\"]],\"type\":\"heatmapgl\"}],\"heatmap\":[{\"colorbar\":{\"outlinewidth\":0,\"ticks\":\"\"},\"colorscale\":[[0.0,\"#0d0887\"],[0.1111111111111111,\"#46039f\"],[0.2222222222222222,\"#7201a8\"],[0.3333333333333333,\"#9c179e\"],[0.4444444444444444,\"#bd3786\"],[0.5555555555555556,\"#d8576b\"],[0.6666666666666666,\"#ed7953\"],[0.7777777777777778,\"#fb9f3a\"],[0.8888888888888888,\"#fdca26\"],[1.0,\"#f0f921\"]],\"type\":\"heatmap\"}],\"histogram2dcontour\":[{\"colorbar\":{\"outlinewidth\":0,\"ticks\":\"\"},\"colorscale\":[[0.0,\"#0d0887\"],[0.1111111111111111,\"#46039f\"],[0.2222222222222222,\"#7201a8\"],[0.3333333333333333,\"#9c179e\"],[0.4444444444444444,\"#bd3786\"],[0.5555555555555556,\"#d8576b\"],[0.6666666666666666,\"#ed7953\"],[0.7777777777777778,\"#fb9f3a\"],[0.8888888888888888,\"#fdca26\"],[1.0,\"#f0f921\"]],\"type\":\"histogram2dcontour\"}],\"histogram2d\":[{\"colorbar\":{\"outlinewidth\":0,\"ticks\":\"\"},\"colorscale\":[[0.0,\"#0d0887\"],[0.1111111111111111,\"#46039f\"],[0.2222222222222222,\"#7201a8\"],[0.3333333333333333,\"#9c179e\"],[0.4444444444444444,\"#bd3786\"],[0.5555555555555556,\"#d8576b\"],[0.6666666666666666,\"#ed7953\"],[0.7777777777777778,\"#fb9f3a\"],[0.8888888888888888,\"#fdca26\"],[1.0,\"#f0f921\"]],\"type\":\"histogram2d\"}],\"histogram\":[{\"marker\":{\"pattern\":{\"fillmode\":\"overlay\",\"size\":10,\"solidity\":0.2}},\"type\":\"histogram\"}],\"mesh3d\":[{\"colorbar\":{\"outlinewidth\":0,\"ticks\":\"\"},\"type\":\"mesh3d\"}],\"parcoords\":[{\"line\":{\"colorbar\":{\"outlinewidth\":0,\"ticks\":\"\"}},\"type\":\"parcoords\"}],\"pie\":[{\"automargin\":true,\"type\":\"pie\"}],\"scatter3d\":[{\"line\":{\"colorbar\":{\"outlinewidth\":0,\"ticks\":\"\"}},\"marker\":{\"colorbar\":{\"outlinewidth\":0,\"ticks\":\"\"}},\"type\":\"scatter3d\"}],\"scattercarpet\":[{\"marker\":{\"colorbar\":{\"outlinewidth\":0,\"ticks\":\"\"}},\"type\":\"scattercarpet\"}],\"scattergeo\":[{\"marker\":{\"colorbar\":{\"outlinewidth\":0,\"ticks\":\"\"}},\"type\":\"scattergeo\"}],\"scattergl\":[{\"marker\":{\"colorbar\":{\"outlinewidth\":0,\"ticks\":\"\"}},\"type\":\"scattergl\"}],\"scattermapbox\":[{\"marker\":{\"colorbar\":{\"outlinewidth\":0,\"ticks\":\"\"}},\"type\":\"scattermapbox\"}],\"scatterpolargl\":[{\"marker\":{\"colorbar\":{\"outlinewidth\":0,\"ticks\":\"\"}},\"type\":\"scatterpolargl\"}],\"scatterpolar\":[{\"marker\":{\"colorbar\":{\"outlinewidth\":0,\"ticks\":\"\"}},\"type\":\"scatterpolar\"}],\"scatter\":[{\"fillpattern\":{\"fillmode\":\"overlay\",\"size\":10,\"solidity\":0.2},\"type\":\"scatter\"}],\"scatterternary\":[{\"marker\":{\"colorbar\":{\"outlinewidth\":0,\"ticks\":\"\"}},\"type\":\"scatterternary\"}],\"surface\":[{\"colorbar\":{\"outlinewidth\":0,\"ticks\":\"\"},\"colorscale\":[[0.0,\"#0d0887\"],[0.1111111111111111,\"#46039f\"],[0.2222222222222222,\"#7201a8\"],[0.3333333333333333,\"#9c179e\"],[0.4444444444444444,\"#bd3786\"],[0.5555555555555556,\"#d8576b\"],[0.6666666666666666,\"#ed7953\"],[0.7777777777777778,\"#fb9f3a\"],[0.8888888888888888,\"#fdca26\"],[1.0,\"#f0f921\"]],\"type\":\"surface\"}],\"table\":[{\"cells\":{\"fill\":{\"color\":\"#EBF0F8\"},\"line\":{\"color\":\"white\"}},\"header\":{\"fill\":{\"color\":\"#C8D4E3\"},\"line\":{\"color\":\"white\"}},\"type\":\"table\"}]},\"layout\":{\"annotationdefaults\":{\"arrowcolor\":\"#2a3f5f\",\"arrowhead\":0,\"arrowwidth\":1},\"autotypenumbers\":\"strict\",\"coloraxis\":{\"colorbar\":{\"outlinewidth\":0,\"ticks\":\"\"}},\"colorscale\":{\"diverging\":[[0,\"#8e0152\"],[0.1,\"#c51b7d\"],[0.2,\"#de77ae\"],[0.3,\"#f1b6da\"],[0.4,\"#fde0ef\"],[0.5,\"#f7f7f7\"],[0.6,\"#e6f5d0\"],[0.7,\"#b8e186\"],[0.8,\"#7fbc41\"],[0.9,\"#4d9221\"],[1,\"#276419\"]],\"sequential\":[[0.0,\"#0d0887\"],[0.1111111111111111,\"#46039f\"],[0.2222222222222222,\"#7201a8\"],[0.3333333333333333,\"#9c179e\"],[0.4444444444444444,\"#bd3786\"],[0.5555555555555556,\"#d8576b\"],[0.6666666666666666,\"#ed7953\"],[0.7777777777777778,\"#fb9f3a\"],[0.8888888888888888,\"#fdca26\"],[1.0,\"#f0f921\"]],\"sequentialminus\":[[0.0,\"#0d0887\"],[0.1111111111111111,\"#46039f\"],[0.2222222222222222,\"#7201a8\"],[0.3333333333333333,\"#9c179e\"],[0.4444444444444444,\"#bd3786\"],[0.5555555555555556,\"#d8576b\"],[0.6666666666666666,\"#ed7953\"],[0.7777777777777778,\"#fb9f3a\"],[0.8888888888888888,\"#fdca26\"],[1.0,\"#f0f921\"]]},\"colorway\":[\"#636efa\",\"#EF553B\",\"#00cc96\",\"#ab63fa\",\"#FFA15A\",\"#19d3f3\",\"#FF6692\",\"#B6E880\",\"#FF97FF\",\"#FECB52\"],\"font\":{\"color\":\"#2a3f5f\"},\"geo\":{\"bgcolor\":\"white\",\"lakecolor\":\"white\",\"landcolor\":\"#E5ECF6\",\"showlakes\":true,\"showland\":true,\"subunitcolor\":\"white\"},\"hoverlabel\":{\"align\":\"left\"},\"hovermode\":\"closest\",\"mapbox\":{\"style\":\"light\"},\"paper_bgcolor\":\"white\",\"plot_bgcolor\":\"#E5ECF6\",\"polar\":{\"angularaxis\":{\"gridcolor\":\"white\",\"linecolor\":\"white\",\"ticks\":\"\"},\"bgcolor\":\"#E5ECF6\",\"radialaxis\":{\"gridcolor\":\"white\",\"linecolor\":\"white\",\"ticks\":\"\"}},\"scene\":{\"xaxis\":{\"backgroundcolor\":\"#E5ECF6\",\"gridcolor\":\"white\",\"gridwidth\":2,\"linecolor\":\"white\",\"showbackground\":true,\"ticks\":\"\",\"zerolinecolor\":\"white\"},\"yaxis\":{\"backgroundcolor\":\"#E5ECF6\",\"gridcolor\":\"white\",\"gridwidth\":2,\"linecolor\":\"white\",\"showbackground\":true,\"ticks\":\"\",\"zerolinecolor\":\"white\"},\"zaxis\":{\"backgroundcolor\":\"#E5ECF6\",\"gridcolor\":\"white\",\"gridwidth\":2,\"linecolor\":\"white\",\"showbackground\":true,\"ticks\":\"\",\"zerolinecolor\":\"white\"}},\"shapedefaults\":{\"line\":{\"color\":\"#2a3f5f\"}},\"ternary\":{\"aaxis\":{\"gridcolor\":\"white\",\"linecolor\":\"white\",\"ticks\":\"\"},\"baxis\":{\"gridcolor\":\"white\",\"linecolor\":\"white\",\"ticks\":\"\"},\"bgcolor\":\"#E5ECF6\",\"caxis\":{\"gridcolor\":\"white\",\"linecolor\":\"white\",\"ticks\":\"\"}},\"title\":{\"x\":0.05},\"xaxis\":{\"automargin\":true,\"gridcolor\":\"white\",\"linecolor\":\"white\",\"ticks\":\"\",\"title\":{\"standoff\":15},\"zerolinecolor\":\"white\",\"zerolinewidth\":2},\"yaxis\":{\"automargin\":true,\"gridcolor\":\"white\",\"linecolor\":\"white\",\"ticks\":\"\",\"title\":{\"standoff\":15},\"zerolinecolor\":\"white\",\"zerolinewidth\":2}}},\"title\":{\"text\":\"Visualizing Clusters in Three Dimensions Using PCA\"},\"xaxis\":{\"ticklen\":5,\"title\":{\"text\":\"PC1\"},\"zeroline\":false},\"yaxis\":{\"ticklen\":5,\"title\":{\"text\":\"PC2\"},\"zeroline\":false}},                        {\"responsive\": true}                    ).then(function(){\n",
              "                            \n",
              "var gd = document.getElementById('1df61c06-6c1f-4712-a500-9559fa1cff58');\n",
              "var x = new MutationObserver(function (mutations, observer) {{\n",
              "        var display = window.getComputedStyle(gd).display;\n",
              "        if (!display || display === 'none') {{\n",
              "            console.log([gd, 'removed!']);\n",
              "            Plotly.purge(gd);\n",
              "            observer.disconnect();\n",
              "        }}\n",
              "}});\n",
              "\n",
              "// Listen for the removal of the full notebook cells\n",
              "var notebookContainer = gd.closest('#notebook-container');\n",
              "if (notebookContainer) {{\n",
              "    x.observe(notebookContainer, {childList: true});\n",
              "}}\n",
              "\n",
              "// Listen for the clearing of the current output cell\n",
              "var outputEl = gd.closest('.output');\n",
              "if (outputEl) {{\n",
              "    x.observe(outputEl, {childList: true});\n",
              "}}\n",
              "\n",
              "                        })                };                            </script>        </div>\n",
              "</body>\n",
              "</html>"
            ]
          },
          "metadata": {}
        }
      ]
    },
    {
      "cell_type": "code",
      "source": [
        "go.Figure.write_html(fig,\"/content/drive/MyDrive/CS260D_final_project/plots/waterbirds_PCA3D_plot.html\") # write as html or image"
      ],
      "metadata": {
        "id": "fPCEF2qQ5g-B"
      },
      "execution_count": null,
      "outputs": []
    },
    {
      "cell_type": "markdown",
      "source": [
        "## t-SNE 3D"
      ],
      "metadata": {
        "id": "KgWi43BQ9B57"
      }
    },
    {
      "cell_type": "code",
      "source": [
        "from sklearn.manifold import TSNE\n",
        "\n",
        "perplexity = 50\n",
        "\n",
        "#T-SNE with two dimensions\n",
        "tsne_3d = TSNE(n_components=3, perplexity=perplexity)\n",
        "\n",
        "TCs_3d = pd.DataFrame(tsne_3d.fit_transform(embeddings))\n",
        "TCs_3d.columns = [\"TC1_3d\",\"TC3_2d\",\"TC3_3d\"]\n",
        "tsne_embs = pd.concat([pd.DataFrame(embeddings),TCs_2d], axis=1, join='inner')\n",
        "\n",
        "tsne_clusters = {k : np.stack([TCs_3d.loc[i].values for i in v]) for (k, v) in valset.group_partition.items()}\n",
        "\n",
        "tsne_3d_traces = []\n",
        "\n",
        "for (k, v) in sorted(tsne_clusters.items()):\n",
        "  tsne_3d_traces.append(go.Scatter3d(\n",
        "                    x = v[:, 0],\n",
        "                    y = v[:, 1],\n",
        "                    z = v[:, 2],\n",
        "                    mode = \"markers\",\n",
        "                    name = \"True label {}, Subgroup {}\".format(k[0], k[1]),\n",
        "                    text = None))\n",
        "\n",
        "data = tsne_3d_traces\n",
        "\n",
        "title = \"Visualizing Clusters in Two Dimensions Using t-SNE\"\n",
        "\n",
        "layout = dict(title = title,\n",
        "              xaxis= dict(title= 'TC1',ticklen= 5,zeroline= False),\n",
        "              yaxis= dict(title= 'TC2',ticklen= 5,zeroline= False)\n",
        "             )\n",
        "\n",
        "fig = dict(data = data, layout = layout)\n",
        "\n",
        "iplot(fig)"
      ],
      "metadata": {
        "id": "wKWSytFx5hGi",
        "colab": {
          "base_uri": "https://localhost:8080/",
          "height": 542
        },
        "outputId": "6ace231d-6b15-48cc-e170-0485f4a074fb"
      },
      "execution_count": null,
      "outputs": [
        {
          "output_type": "display_data",
          "data": {
            "text/html": [
              "<html>\n",
              "<head><meta charset=\"utf-8\" /></head>\n",
              "<body>\n",
              "    <div>            <script src=\"https://cdnjs.cloudflare.com/ajax/libs/mathjax/2.7.5/MathJax.js?config=TeX-AMS-MML_SVG\"></script><script type=\"text/javascript\">if (window.MathJax && window.MathJax.Hub && window.MathJax.Hub.Config) {window.MathJax.Hub.Config({SVG: {font: \"STIX-Web\"}});}</script>                <script type=\"text/javascript\">window.PlotlyConfig = {MathJaxConfig: 'local'};</script>\n",
              "        <script charset=\"utf-8\" src=\"https://cdn.plot.ly/plotly-2.24.1.min.js\"></script>                <div id=\"93f7cffd-bd97-4adb-b4ef-f99d59c4a86e\" class=\"plotly-graph-div\" style=\"height:525px; width:100%;\"></div>            <script type=\"text/javascript\">                                    window.PLOTLYENV=window.PLOTLYENV || {};                                    if (document.getElementById(\"93f7cffd-bd97-4adb-b4ef-f99d59c4a86e\")) {                    Plotly.newPlot(                        \"93f7cffd-bd97-4adb-b4ef-f99d59c4a86e\",                        [{\"mode\":\"markers\",\"name\":\"True label 0, Subgroup 0\",\"x\":[-3.438688278198242,-5.368824005126953,-3.809176445007324,-5.74603271484375,-5.881713390350342,-4.977128028869629,-5.645547389984131,-10.838400840759277,-10.936158180236816,-11.05275821685791,5.473097324371338,-12.369202613830566,-6.887019157409668,-3.672262191772461,-6.137846946716309,-9.288527488708496,-6.022393226623535,6.61988639831543,-6.66298246383667,-6.311431407928467,1.8596503734588623,-6.33590030670166,-5.802558422088623,6.70064115524292,-8.340255737304688,-9.269000053405762,-8.000335693359375,-8.522787094116211,-8.082962036132812,-7.932478904724121,-8.823638916015625,-3.326687812805176,-2.079543113708496,2.6955723762512207,-3.672081232070923,-2.4391891956329346,-2.001838445663452,-2.0954465866088867,-10.22187328338623,-9.678382873535156,-9.079559326171875,1.107954502105713,0.23548480868339539,0.8037346005439758,1.2266368865966797,0.7766450643539429,-11.406868934631348,6.237005710601807,-10.715614318847656,-11.456925392150879,-11.944117546081543,-10.471171379089355,-10.546796798706055,-9.421003341674805,-7.925360202789307,-8.671175003051758,-8.645058631896973,-7.326215744018555,-7.533992767333984,-8.32226848602295,-9.189614295959473,-11.348456382751465,-8.414337158203125,-0.836670458316803,5.975787162780762,-8.533609390258789,-11.207830429077148,-9.635258674621582,-10.25570297241211,-11.241239547729492,-8.4866304397583,-3.7464511394500732,-6.09945011138916,-5.111931800842285,-7.169582843780518,-8.160013198852539,-6.609868049621582,-7.777647972106934,-4.55654239654541,-4.700751304626465,-3.727898120880127,-4.379554748535156,-3.989859104156494,-5.1368608474731445,-3.1033058166503906,9.675586700439453,-2.441479206085205,7.69637393951416,-0.19944612681865692,-3.285830020904541,-3.530874729156494,-5.486869812011719,-5.548201084136963,-3.4463675022125244,-3.586090564727783,-4.167484760284424,-3.0887882709503174,9.477523803710938,-4.028894901275635,-0.26059675216674805,-0.7823373079299927,0.5716778039932251,-0.38332632184028625,-0.8872392773628235,0.5261136889457703,1.223598599433899,-1.4606515169143677,-1.3065896034240723,-3.8520960807800293,-8.200881004333496,-10.577336311340332,-9.896782875061035,-11.392375946044922,-11.414920806884766,-11.630193710327148,-12.635970115661621,-12.355908393859863,0.6648268699645996,2.122603416442871,1.361089825630188,-0.455016553401947,-0.5211015939712524,8.131085395812988,-1.1991605758666992,-2.844747543334961,-0.6681126356124878,-1.5356168746948242,-1.23610258102417,-1.7532862424850464,-12.890222549438477,-12.943998336791992,3.160780191421509,3.2498950958251953,3.447990894317627,4.093174934387207,3.3403263092041016,3.280261516571045,3.293839454650879,-5.49062442779541,-6.364904403686523,-4.671993255615234,-4.234604835510254,-3.9892261028289795,-3.7222743034362793,-3.92598295211792,-0.5317999720573425,-1.5360935926437378,0.06445164978504181,-0.5717377662658691,-2.4168174266815186,-0.4569704830646515,9.95409870147705,-1.3047970533370972,-1.2750355005264282,-10.436456680297852,-10.039674758911133,-10.651573181152344,-9.605825424194336,-11.501869201660156,-8.50085735321045,-10.97079086303711,-10.823591232299805,-11.086186408996582,-10.044682502746582,-11.86295223236084,-10.362281799316406,-10.030511856079102,-6.759383201599121,-6.736324310302734,2.5030293464660645,-7.77719259262085,-4.02726936340332,-6.4934258460998535,-1.941957950592041,-7.311278343200684,-3.7552406787872314,-3.548856019973755,-3.2099642753601074,-3.009798526763916,-5.579972743988037,-6.572729110717773,-6.248527526855469,-7.073509216308594,-7.49713659286499,-6.870578289031982,-7.4296979904174805,-7.282970905303955,-5.987487316131592,-7.08734130859375,-7.701104640960693,-3.6283154487609863,-3.015321731567383,8.633857727050781,-0.6017217636108398,7.067211151123047,-2.889402389526367,-3.596844434738159,-7.586561679840088,-7.0485615730285645,-7.5047430992126465,14.186845779418945,-4.61695671081543,-3.308206081390381,-5.714767932891846,9.358433723449707,-4.903392791748047,2.877993583679199,-1.8421212434768677,7.044119834899902,-5.242044925689697,-6.560452938079834,-2.8839385509490967,-3.0669474601745605,-0.31760939955711365,0.7937245965003967,1.4069329500198364,0.18929342925548553,-0.044433869421482086,-0.6056193709373474,0.2508729100227356,-0.1881527453660965,-9.556525230407715,-9.316868782043457,-10.123577117919922,-9.928043365478516,-10.508662223815918,-8.954794883728027,6.513949871063232,-6.662117958068848,-7.810943126678467,-6.388791084289551,10.202630043029785,-7.834957122802734,-4.12644624710083,-4.52648401260376,6.876883506774902,-6.421679973602295,-8.55050277709961,-6.497109889984131,-8.345664024353027,-6.023957252502441,-8.023823738098145,-6.1991868019104,-6.14401912689209,-6.048357009887695,-5.249629974365234,-7.421467304229736,-5.646639823913574,-6.159868240356445,-7.872276306152344,-5.2851152420043945,-5.505458831787109,-4.63253116607666,-5.648313522338867,-6.2353081703186035,8.77978801727295,-4.856727600097656,-3.0259463787078857,-4.071039199829102,-3.7241220474243164,-4.084667205810547,-4.2968573570251465,-3.8439249992370605,-4.0633769035339355,-4.346268653869629,8.300521850585938,-5.872003078460693,-6.169705390930176,-1.357490062713623,-5.541849136352539,5.151560306549072,-4.1377363204956055,-4.939840316772461,-7.748863220214844,-8.506731986999512,-8.243654251098633,-9.292118072509766,-7.043282985687256,-8.378748893737793,-3.8095648288726807,-2.6630308628082275,-2.5438997745513916,6.755279541015625,-4.920315265655518,-6.164366245269775,-2.734729290008545,-6.295197486877441,-3.4454526901245117,-5.9593987464904785,-3.820952892303467,0.0907062441110611,-3.932539939880371,-4.399207592010498,-3.673978567123413,-6.262131690979004,-12.876923561096191,-11.308296203613281,-12.477872848510742,-11.480635643005371,-11.930981636047363,-11.67056941986084,-8.922597885131836,-8.796164512634277,-9.535138130187988,-9.171977043151855,-10.052772521972656,-8.47148323059082,-8.88653564453125,-8.977511405944824,-5.43910026550293,-4.2188191413879395,-5.2970356941223145,13.08263874053955,-4.321396827697754,-5.887367248535156,-3.6815316677093506,-5.902828216552734,-1.3955093622207642,-1.347022294998169,-1.8356295824050903,-1.26250159740448,-2.470656394958496,9.763762474060059,-1.358163595199585,-1.2386549711227417,-1.4669100046157837,-5.967654705047607,-4.574146747589111,-4.782647132873535,-6.396146297454834,-7.083630561828613,-6.387235164642334,-6.680027961730957,7.328593730926514,-7.3228654861450195,-4.506181716918945,-2.815993309020996,-4.185996055603027,-3.3577651977539062,-2.8013415336608887,-4.782546520233154,-3.293351173400879,-4.798486709594727,-3.99429988861084,-1.1596715450286865,-4.705439567565918,2.7467010021209717,-2.803717851638794,9.76180648803711,-2.485990285873413,-0.9891265034675598,-1.3929243087768555,5.660913944244385,-4.362829208374023,-3.815380573272705,-6.59600305557251,-3.7125093936920166,-5.018139839172363,-4.64222526550293,-3.3028690814971924,15.082611083984375,-3.532421588897705,-3.921412229537964,5.67275333404541,-2.1578245162963867,6.935580253601074,-2.381396532058716,-4.176543712615967,7.487060070037842,-3.4425337314605713,-3.0815162658691406,-11.622084617614746,-11.302369117736816,-12.28033447265625,-12.027898788452148,-11.804777145385742,-10.43515682220459,1.4064403772354126,-10.466883659362793,-12.009357452392578,-2.941967248916626,-3.0014278888702393,-1.3087565898895264,-2.812009811401367,-2.8098559379577637,-2.6970951557159424,-2.629671335220337,-2.6514978408813477,-2.9814231395721436,9.091605186462402,7.3589558601379395,-7.778275489807129,-8.732070922851562,-7.8617167472839355,-8.03089714050293,-7.8368449211120605,-8.353246688842773,-6.715355396270752,-4.458533763885498,-2.9554221630096436,-2.962742567062378,-6.8751397132873535,-2.6531715393066406,-3.2137560844421387,-6.182442665100098,-2.633869171142578,-5.765892505645752,-3.2716662883758545,-4.14021635055542,-6.3519487380981445,-5.638949394226074,-6.27672004699707,-9.824393272399902,-9.10573959350586,-9.327836036682129,-2.335663080215454,-1.590533971786499,-2.911789894104004,-2.9025564193725586,-3.043989419937134,-4.0001349449157715,-2.0149576663970947,-1.1998069286346436,0.8170477151870728,9.127245903015137,-2.084578514099121,-1.7870959043502808,-2.7951786518096924,6.73689079284668,-1.8960318565368652,-1.5376619100570679,-1.7777373790740967,-8.37431526184082,-6.000461101531982,-6.373498439788818,-6.3765482902526855,-6.727930545806885,-7.476685047149658,-2.177297353744507,-0.8130761981010437,-1.104365587234497,-0.8263034820556641,-10.01756763458252,-9.820391654968262,-9.841245651245117,-11.714495658874512,-10.559754371643066,5.401638031005859,-3.0760600566864014,-3.177628517150879,-2.357370376586914,-1.8621549606323242,7.979479789733887,-0.6897055506706238,5.506441593170166,-2.0221352577209473,-1.146203875541687,-1.6943228244781494,-6.067717552185059,-3.1141912937164307,-5.533413410186768,-6.276451110839844,-4.14063024520874,-6.1954169273376465,-5.563945770263672,-7.279858112335205,-6.239720821380615],\"y\":[2.512284278869629,6.783736705780029,4.994343280792236,7.570459365844727,6.338741302490234,4.196556568145752,6.692884922027588,-8.401921272277832,-9.0347900390625,-9.080085754394531,10.900811195373535,-9.507671356201172,-2.1857402324676514,-3.7075393199920654,-5.182959079742432,-5.115291118621826,-5.4283318519592285,0.6511524319648743,-7.332077503204346,-5.968050479888916,9.13189697265625,-1.9721479415893555,-7.096569061279297,-3.3142318725585938,-7.853189945220947,-6.874018669128418,-5.864707946777344,-9.903907775878906,-8.132590293884277,-7.541917324066162,-7.548220157623291,4.423418045043945,2.5032031536102295,10.548336029052734,5.524134159088135,4.094955921173096,4.384748935699463,5.134043216705322,-2.05952525138855,-3.9972174167633057,-0.6583001017570496,11.686052322387695,11.118988990783691,9.971303939819336,11.306197166442871,11.521958351135254,-5.891626834869385,10.134279251098633,-9.143131256103516,-8.205967903137207,-6.717801570892334,-7.043936729431152,-10.287510871887207,-7.686809062957764,-9.746833801269531,-10.016124725341797,-7.626511573791504,-7.499073028564453,-9.6783447265625,-9.645801544189453,-8.177655220031738,-6.279632568359375,-4.614265441894531,2.7372448444366455,-4.702512264251709,-6.649515628814697,-8.204885482788086,-7.738831043243408,-8.04798412322998,-5.292080879211426,0.20148876309394836,-2.50410795211792,-0.043512146919965744,-1.80404794216156,-1.72171950340271,2.229928970336914,2.901812791824341,2.72450852394104,-2.037212610244751,9.38081169128418,8.844710350036621,9.458171844482422,9.413132667541504,8.621088027954102,8.342935562133789,3.9025816917419434,6.740170001983643,8.922853469848633,10.885340690612793,6.710043430328369,2.527207374572754,6.867559432983398,4.140321254730225,2.7181131839752197,3.950288772583008,3.3861067295074463,1.908337116241455,-5.479324817657471,-0.9061827659606934,10.24136734008789,10.251479148864746,8.931625366210938,10.881062507629395,12.065690994262695,12.308218002319336,11.963482856750488,8.76029109954834,8.862776756286621,10.072705268859863,-2.3162996768951416,-7.265000343322754,-5.001526832580566,-7.771542072296143,-6.2060322761535645,-5.799080848693848,-6.565400123596191,-8.427543640136719,12.240765571594238,11.863883972167969,12.1726713180542,10.53316879272461,11.954063415527344,7.846758842468262,11.223161697387695,11.201786041259766,10.1897611618042,9.187256813049316,9.505699157714844,10.7168607711792,-11.99936580657959,-11.04397201538086,12.010003089904785,12.013123512268066,12.02573013305664,11.788887023925781,12.000527381896973,12.076127052307129,12.074820518493652,0.8930895924568176,-4.347671031951904,-2.446666955947876,0.3332698941230774,0.13619950413703918,0.4004165530204773,-4.366405487060547,10.319659233093262,11.436517715454102,8.562202453613281,9.521510124206543,10.165190696716309,9.97182559967041,7.031235694885254,8.924395561218262,10.052237510681152,-4.547918796539307,-4.476919174194336,-5.393360614776611,-4.742918968200684,-5.942034721374512,-2.738051414489746,-8.754919052124023,-11.378944396972656,-10.24731159210205,-8.257568359375,-8.007683753967285,-11.772441864013672,-11.420488357543945,4.936744689941406,5.698880672454834,10.619731903076172,2.9784140586853027,2.4763054847717285,4.927100658416748,5.145876407623291,5.055714130401611,-5.4964752197265625,-5.53793478012085,-4.868943214416504,-5.858081340789795,-5.678051948547363,-6.579530715942383,-7.142545700073242,-6.469307899475098,-6.9378275871276855,-8.092521667480469,-9.357887268066406,-7.041527271270752,-5.820107460021973,-6.376217842102051,-7.096293926239014,7.746944427490234,7.188476085662842,8.914268493652344,6.682125091552734,8.544702529907227,5.528101444244385,8.009542465209961,-1.724066972732544,0.428628146648407,-3.619908571243286,-4.443307876586914,4.591706275939941,2.8197438716888428,6.785691738128662,5.729213237762451,6.332759857177734,10.777639389038086,5.651513576507568,-6.315426826477051,5.205137729644775,7.02855920791626,5.521555423736572,2.4529612064361572,7.9317626953125,8.921016693115234,7.026995658874512,9.959511756896973,8.030290603637695,8.419384002685547,7.007173538208008,7.65420389175415,-10.489202499389648,-8.93908405303955,-11.462482452392578,-10.529842376708984,-9.848531723022461,-9.889657974243164,-4.939108848571777,-0.07188490033149719,-1.6108112335205078,-1.4594721794128418,6.472319602966309,-1.2099324464797974,-3.3246309757232666,-3.754798173904419,10.421250343322754,-4.903730869293213,-2.1059529781341553,-0.7867102026939392,-1.4296976327896118,-4.7042412757873535,-2.1959896087646484,-4.940637111663818,-5.279514789581299,-7.476181507110596,-5.651350021362305,-1.621140718460083,-4.769196033477783,-5.024538993835449,-2.795631170272827,-1.6977803707122803,7.516988277435303,3.8490936756134033,6.767089366912842,5.430908679962158,3.572652816772461,5.039571285247803,3.394977569580078,-4.8612189292907715,-3.6163864135742188,-4.8641486167907715,-3.714080810546875,-2.6592905521392822,-3.7750587463378906,-3.4859390258789062,8.49410629272461,5.647701740264893,8.075986862182617,7.1864824295043945,8.621390342712402,10.669709205627441,4.596114635467529,5.501468181610107,4.714493751525879,-8.846199989318848,-8.216535568237305,-7.694672107696533,-9.177206039428711,-9.41087818145752,3.9132792949676514,2.3195343017578125,2.4762024879455566,-1.664127230644226,5.792871952056885,5.587339401245117,4.51318883895874,1.9026950597763062,-0.6801877617835999,1.1508715152740479,-1.2465171813964844,3.4463372230529785,-2.0661284923553467,1.0892870426177979,-0.6632999777793884,1.2639471292495728,-11.089920043945312,-11.793048858642578,-11.075798034667969,-7.22445011138916,-11.411885261535645,-7.410833835601807,0.25091782212257385,0.7676470875740051,-0.8690469264984131,-0.023741375654935837,-1.6395174264907837,-3.1143057346343994,-2.9766712188720703,0.8410460948944092,3.143413543701172,3.0318782329559326,5.020511627197266,-4.672057151794434,3.5811831951141357,2.6365973949432373,3.181452751159668,4.5186638832092285,4.7987751960754395,11.98134994506836,11.131604194641113,9.291791915893555,11.489502906799316,4.8995771408081055,9.938395500183105,11.912700653076172,12.058314323425293,5.7328691482543945,3.153799057006836,3.9309580326080322,4.638951301574707,5.080514907836914,5.401318073272705,5.707067966461182,9.94791316986084,5.232864856719971,0.16620014607906342,-1.4480714797973633,0.6752738356590271,-1.4504585266113281,-0.4181845486164093,0.18725299835205078,-3.810518264770508,0.19283191859722137,9.957202911376953,6.4912214279174805,8.424477577209473,11.154014587402344,9.344881057739258,7.0462236404418945,9.314903259277344,8.8306303024292,5.686718463897705,-5.857865810394287,8.300458908081055,-0.984731912612915,-1.719651699066162,-5.208552837371826,-2.4954113960266113,-4.556976795196533,-1.0600781440734863,-4.841433525085449,-4.844682693481445,10.12132453918457,10.466886520385742,9.247987747192383,8.734452247619629,10.744361877441406,7.984984874725342,9.504135131835938,10.649944305419922,7.5106730461120605,-6.338558673858643,-8.746463775634766,-7.534897804260254,-9.004460334777832,-6.951637268066406,-8.54184627532959,6.903726577758789,-9.265653610229492,-9.942647933959961,-4.167073726654053,-1.2285596132278442,1.684496283531189,-4.187362194061279,-1.5172806978225708,-5.59800910949707,-6.009531497955322,-5.715245246887207,-1.2512874603271484,4.140930652618408,9.1176118850708,0.7832250595092773,1.1217925548553467,0.8887843489646912,-0.27906110882759094,3.038816213607788,2.396383762359619,1.1129646301269531,0.018589511513710022,-5.134871006011963,-0.7846081852912903,-0.48088178038597107,-5.667752742767334,-0.3787509799003601,-2.009046792984009,1.9041873216629028,6.790234088897705,5.25501012802124,3.596339464187622,7.730038166046143,6.023243427276611,7.989996433258057,-1.0377709865570068,-0.46834245324134827,-3.7971396446228027,6.533369541168213,5.1354851722717285,6.540045261383057,6.126721382141113,5.47580623626709,7.657670974731445,4.329789161682129,12.19294548034668,10.426481246948242,2.8368372917175293,12.351208686828613,11.792984962463379,11.089834213256836,9.752671241760254,10.872550010681152,12.036942481994629,12.179159164428711,-3.369422435760498,-5.040074348449707,-4.7356367111206055,-7.55429220199585,-6.9046783447265625,-7.631497383117676,7.504189968109131,5.184417247772217,5.821383953094482,5.9924397468566895,-3.7853667736053467,-4.069664478302002,-3.5817794799804688,-7.295813083648682,-2.8954994678497314,10.57834243774414,3.367659330368042,2.9502437114715576,4.234328746795654,1.9325549602508545,9.781973838806152,7.8033881187438965,-5.816692352294922,3.477363348007202,3.727051019668579,2.657274007797241,1.026745080947876,3.546870231628418,1.409536361694336,-0.391437828540802,-3.283979654312134,1.3408176898956299,1.5993396043777466,-4.165225028991699,1.8304482698440552],\"z\":[-0.7982576489448547,-0.18874222040176392,-1.0688468217849731,0.047442518174648285,-0.5782485008239746,-0.8149814605712891,-0.4972185492515564,-1.1725269556045532,-1.2075905799865723,-1.2559486627578735,-0.47603529691696167,-1.2647380828857422,2.0361433029174805,-0.8729878664016724,0.7628822922706604,1.024303913116455,1.1831283569335938,-4.778326988220215,-0.19256342947483063,0.8766188621520996,0.5826432108879089,1.5653012990951538,-0.023163698613643646,-4.718045234680176,-0.41876021027565,0.004056999925523996,0.5943222641944885,-1.211773157119751,-0.5762105584144592,-0.43248796463012695,-0.4645945131778717,-1.2372902631759644,-0.7863845825195312,0.824993371963501,-0.9911878705024719,-0.7965987920761108,-0.8944562077522278,-0.8683726787567139,0.9087275862693787,0.7095001339912415,0.6495512127876282,1.008028507232666,0.5795772671699524,0.12325433641672134,0.6232371926307678,0.7481352686882019,0.2312365621328354,0.08849900215864182,-0.7835880517959595,-0.42181283235549927,0.06554307043552399,0.1463635265827179,-1.3449947834014893,-0.2112615555524826,-1.146471381187439,-1.1983401775360107,-0.16110697388648987,-0.4022805988788605,-1.1646466255187988,-1.048691987991333,-0.5195682048797607,0.03356126695871353,0.1526636779308319,-0.8408138155937195,-3.0374104976654053,-0.48662546277046204,-1.0566115379333496,-0.750274658203125,-0.9766430258750916,0.31184008717536926,1.2661794424057007,-0.6339014768600464,1.4158235788345337,1.5854634046554565,1.9204624891281128,0.7789087295532227,0.2864833474159241,0.6274542808532715,1.4296793937683105,0.5410575866699219,0.1374479979276657,0.5595300793647766,0.5022064447402954,0.4146674573421478,-0.16880583763122559,-3.509857654571533,-0.7020449042320251,0.6297979354858398,0.20876777172088623,-0.6295878887176514,-0.6682975888252258,-0.2424248605966568,-0.49624529480934143,-0.7417411208152771,-1.4301273822784424,-1.0079922676086426,-0.5912365913391113,5.125125408172607,0.4864029884338379,0.2618013620376587,0.2939712405204773,-0.38364341855049133,0.710396945476532,1.4745924472808838,1.5290969610214233,1.0995603799819946,-0.24089062213897705,-0.7032742500305176,0.9034780859947205,1.7878503799438477,-0.321180522441864,0.5365063548088074,-0.43929991126060486,0.1191505640745163,0.13898813724517822,-0.09146952629089355,-0.9949402809143066,1.5190110206604004,1.220271110534668,1.4326690435409546,-0.4801175594329834,0.8382132649421692,0.7228876352310181,0.7104637026786804,1.1492105722427368,0.11412066221237183,-0.3464849591255188,-0.13012152910232544,0.5014194846153259,-2.1038401126861572,-1.7213304042816162,1.9009908437728882,1.9327422380447388,2.0455703735351562,2.0641448497772217,1.9620821475982666,2.040215015411377,2.0442898273468018,0.7338944673538208,1.446573257446289,1.5215455293655396,0.5601226091384888,0.41847509145736694,-0.27195727825164795,0.9893737435340881,-0.6123109459877014,0.8176982998847961,-0.7577869296073914,-0.30479782819747925,0.2633918821811676,-0.1811942309141159,-1.2752325534820557,-0.5193249583244324,-0.3435840606689453,0.5736376643180847,0.6444538831710815,0.36233434081077576,0.6076974868774414,0.05700879171490669,0.4081557095050812,-1.1746351718902588,-1.8714476823806763,-1.568250060081482,-0.916502833366394,-0.9113748669624329,-1.8846254348754883,-1.7158879041671753,-0.06875784695148468,-0.7282630205154419,-0.04530232772231102,0.5952928066253662,-0.934968113899231,-0.14023275673389435,-2.3553640842437744,0.15162722766399384,1.04193913936615,0.9627991914749146,0.8270517587661743,0.665134072303772,0.7699487805366516,0.31477534770965576,-0.11223144084215164,0.42646557092666626,0.18808001279830933,-0.4784510135650635,-1.0299888849258423,0.0890195444226265,0.6292405724525452,0.43439361453056335,0.8845314383506775,0.4860759377479553,0.24183809757232666,-0.11112549155950546,-1.4143614768981934,1.4571665525436401,0.10607339441776276,0.4434763789176941,2.270369529724121,1.4011037349700928,2.196791410446167,5.209496021270752,-1.3803492784500122,-0.7670540809631348,0.08084934949874878,-1.301241159439087,-0.31665438413619995,0.8034138679504395,-2.0982823371887207,2.2569077014923096,-0.34809577465057373,0.38871684670448303,-1.5967605113983154,-0.7645270228385925,-0.11690735071897507,-0.8381142020225525,-1.1871371269226074,-0.0760275200009346,-0.24119584262371063,-0.18601664900779724,-0.40074196457862854,-0.11601435393095016,-1.1421228647232056,-0.24799875915050507,-1.7238099575042725,-1.2124098539352417,-0.7507116198539734,-0.9640565514564514,-2.3720531463623047,1.6721891164779663,1.61618971824646,1.5770081281661987,-1.80262291431427,1.6098573207855225,-0.3225085735321045,1.3386961221694946,0.2654404640197754,1.3548411130905151,1.6871044635772705,1.6567736864089966,1.5266269445419312,1.1884762048721313,1.6356066465377808,1.0677986145019531,0.2743425965309143,-0.19438396394252777,0.681544303894043,2.047318935394287,1.2809338569641113,1.2805920839309692,1.9008691310882568,1.595181941986084,0.014894508756697178,-0.7561339139938354,-0.08824586123228073,0.1356789767742157,-3.3360249996185303,-0.6071082949638367,-1.0230101346969604,1.0099588632583618,1.1487468481063843,0.9745070338249207,1.386538028717041,0.9079627990722656,1.2409815788269043,1.4172654151916504,0.3856419622898102,-0.18736334145069122,0.603067934513092,-1.99480402469635,0.6174231171607971,0.649189829826355,-0.8350268602371216,-0.7556519508361816,0.7174031138420105,-0.731843113899231,-0.5060909390449524,-0.3850956857204437,-1.04639732837677,-0.963176965713501,-0.8435779213905334,-0.7826998233795166,-0.8182993531227112,-5.076025009155273,-0.7792961597442627,-0.26296719908714294,-0.9708877205848694,0.39794981479644775,0.31711363792419434,0.61879563331604,0.7239077091217041,-1.6502145528793335,0.7224818468093872,0.09202100336551666,0.39591097831726074,0.7577500939369202,-1.6322274208068848,-1.8924263715744019,-1.5762909650802612,0.41207289695739746,-1.7317694425582886,0.22611477971076965,0.9766526222229004,0.917417049407959,1.018924355506897,0.9752638339996338,0.9874428510665894,1.0024924278259277,1.0651556253433228,0.8639847636222839,-0.3552244305610657,-0.9662613868713379,-0.9636819958686829,5.834230422973633,-0.8600847125053406,0.04618983343243599,-0.877360463142395,-0.37228691577911377,-2.2126669883728027,1.2098983526229858,0.7485089898109436,-0.2423427402973175,1.128212571144104,-2.546976089477539,-0.019756341353058815,0.8485833406448364,1.2895512580871582,-0.3513980805873871,-0.7919327616691589,-0.8523941040039062,-0.2536492347717285,0.21666119992733002,-0.2776362895965576,-0.013213375583291054,0.540782630443573,0.29880985617637634,0.9345250129699707,0.7530577778816223,0.40100404620170593,1.0665391683578491,0.3816260099411011,1.0678508281707764,1.2369135618209839,1.0621294975280762,0.8817246556282043,-1.113381028175354,0.7774000763893127,0.8524596691131592,0.18899501860141754,-1.0545334815979004,0.0876648798584938,0.14657968282699585,-0.698089599609375,-0.47636815905570984,0.5936900973320007,0.9755990505218506,2.120073080062866,0.7820907235145569,1.4144583940505981,1.1063272953033447,-0.3816128969192505,5.0081467628479,0.8593304753303528,0.969802737236023,0.7232108116149902,0.06588153541088104,1.4588048458099365,0.7313935160636902,0.6703710556030273,0.6039548516273499,1.0319619178771973,0.12807077169418335,-0.0260078813880682,-1.382900595664978,-0.5519400835037231,-1.2362526655197144,-0.2758297026157379,-1.2033462524414062,-0.820641040802002,-1.50965416431427,-1.5334725379943848,1.0955899953842163,1.1926674842834473,-0.4861098527908325,1.2224583625793457,1.194391131401062,0.6120560169219971,0.4105360209941864,0.5543554425239563,1.2436797618865967,-2.7783219814300537,0.6259840726852417,1.1400327682495117,0.9163345694541931,1.135565161705017,1.4081350564956665,0.6169592142105103,0.781231164932251,1.0491299629211426,0.9523067474365234,0.6735111474990845,-0.4815382659435272,2.048906087875366,0.4563627243041992,-0.2911038398742676,2.0747427940368652,-0.6930840611457825,-0.06775302439928055,-1.2621231079101562,-0.9861865043640137,0.3473074436187744,-0.27537062764167786,0.46051785349845886,0.9692149758338928,0.5973597764968872,0.579595148563385,-0.3899936378002167,-0.717805027961731,-0.10346194356679916,-0.09994624555110931,-0.272642582654953,0.42707619071006775,-0.7305923104286194,1.1544491052627563,-0.962344765663147,-4.236034393310547,1.8659842014312744,1.2568283081054688,1.0528841018676758,1.5257377624511719,0.6302648186683655,1.31485116481781,1.5925846099853516,1.4442534446716309,1.1403536796569824,1.348037838935852,-0.20680804550647736,0.2831988036632538,-0.1456204205751419,-0.2885839641094208,-0.7487651705741882,-0.5703726410865784,-0.6175630688667297,0.7629358768463135,0.7435567378997803,0.8186200261116028,-0.7246769070625305,0.7920327186584473,0.2600255012512207,-0.6085909008979797,-0.44809865951538086,-0.5375714898109436,-0.6480883955955505,-0.08623683452606201,-0.039613984525203705,0.3282549977302551,-1.0791136026382446,-0.8156098127365112,-0.8151806592941284,0.7855684757232666,-1.6652805805206299,0.016681857407093048,1.5659458637237549,1.1793878078460693,0.7763921618461609,-0.16724061965942383,1.5520696640014648,0.5135445594787598],\"type\":\"scatter3d\"},{\"mode\":\"markers\",\"name\":\"True label 0, Subgroup 1\",\"x\":[7.028615474700928,-11.234986305236816,-6.6261887550354,9.74500846862793,6.226526260375977,12.36049747467041,10.712480545043945,7.426358699798584,-11.72474479675293,13.954628944396973,9.758767127990723,12.78968620300293,5.642848014831543,6.430728435516357,-9.626777648925781,10.108794212341309,-4.579155921936035,-0.6289752721786499,9.61597728729248,14.122942924499512,7.035091876983643,7.219626426696777,-2.794846296310425,9.864276885986328,-4.6844682693481445,6.13350772857666,17.060447692871094,7.603802680969238,5.854305267333984,7.977570533752441,8.457164764404297,6.106929779052734,10.194175720214844,9.280732154846191,9.928853034973145,-9.715201377868652,7.633110523223877,9.014585494995117,8.851983070373535,-11.324750900268555,10.73716926574707,6.300584316253662,12.565364837646484,-7.820513725280762,6.5749006271362305,8.085034370422363,8.645801544189453,7.349698066711426,12.561578750610352,9.833759307861328,-8.6001615524292,7.952945709228516,7.464522838592529,-9.848554611206055,17.373971939086914,5.647509574890137,5.614922046661377,7.958434104919434,14.015793800354004,9.587579727172852,8.926847457885742,4.491786956787109,6.042675018310547,15.506793022155762,8.737045288085938,9.644880294799805,18.06712532043457,5.806128978729248,6.341939449310303,-4.0247955322265625,9.32144546508789,4.225035667419434,10.055102348327637,8.781469345092773,14.792704582214355,-3.7700862884521484,-3.5763309001922607,10.174304962158203,1.2056902647018433,-6.962210655212402,6.067948818206787,6.637014865875244,-7.259942054748535,-6.959223747253418,8.30286979675293,0.8195706605911255,8.909263610839844,8.69327163696289,17.035593032836914,1.2608965635299683,8.76407241821289,15.763232231140137,-1.334175705909729,7.449909210205078,6.846174716949463,-10.929909706115723,17.23520278930664,5.541846752166748,7.769199371337891,-11.426762580871582,-11.219748497009277,5.989521026611328,9.771417617797852,8.533632278442383,-0.2556149363517761,-12.142407417297363,9.24105453491211,5.94276237487793,6.550077438354492,6.6482744216918945,10.066595077514648,0.9596964120864868,5.61331844329834,8.193138122558594,9.421548843383789,-1.2553534507751465,17.677438735961914,9.679369926452637,9.294269561767578,7.349336624145508,8.253795623779297,13.015209197998047,3.729339838027954,3.3137354850769043,7.75865364074707,3.322506904602051,17.63931655883789,7.481184482574463,-6.621501445770264,10.378959655761719,-6.879095077514648,9.570823669433594,-6.088129997253418,16.28362274169922,6.138697147369385,8.922554969787598,6.048706531524658,14.394795417785645,-3.0846712589263916,16.135234832763672,5.974830150604248,4.028486251831055,10.105731964111328,-1.6377995014190674,8.895892143249512,7.819738388061523,6.410775661468506,9.137002944946289,-8.5975923538208,7.540367126464844,17.101966857910156,6.776303291320801,-10.201892852783203,6.232295036315918,6.688171863555908,-10.41246223449707,-10.449231147766113,-9.90476131439209,-9.132925033569336,8.348613739013672,-6.596278190612793,9.916862487792969,8.892305374145508,9.395326614379883,7.3911848068237305,-2.018355131149292,17.75652503967285,5.955623626708984,10.2279052734375,5.737115859985352,-6.75300931930542,-2.8919732570648193,4.982903957366943,-3.4136507511138916,-4.919104099273682,11.03723430633545,9.259631156921387,-4.038103103637695,6.571750164031982,-4.950625419616699,9.290902137756348,12.892786026000977,6.154685020446777,5.994655132293701,9.778310775756836,5.988173007965088,5.230400085449219,-1.2728266716003418,6.935731887817383,6.567907333374023,17.891666412353516,-1.1395103931427002,-8.051356315612793,-7.494195461273193,10.222833633422852,7.795677661895752,8.92487907409668,10.000994682312012,12.791604995727539,15.53207778930664,8.123896598815918,1.9198336601257324,14.189104080200195,13.347447395324707,-1.2341301441192627,-0.09437642991542816,9.332367897033691,-0.5997026562690735,8.300413131713867,12.527995109558105,-10.705745697021484,6.812767505645752,6.755053997039795,-10.591512680053711,10.745790481567383,-10.981800079345703,6.921946048736572,6.168379783630371,9.260616302490234,14.951764106750488,13.001303672790527,-7.897247791290283,5.944913864135742,-8.839620590209961,9.026741981506348,8.80331039428711,-7.835522651672363,6.94320011138916,-4.6110920906066895,5.387868881225586,7.166043281555176,11.981411933898926,15.547738075256348,9.024842262268066,13.641803741455078,-6.585160255432129,5.6116228103637695,5.944150447845459,1.4502085447311401,8.66906452178955,8.196518898010254,-6.190104961395264,-1.6300979852676392,9.274045944213867,6.62463903427124,6.901620864868164,9.918998718261719,18.09719467163086,-6.448577880859375,-2.2718846797943115,-4.288792133331299,12.56322193145752,13.031458854675293,6.344642639160156,7.363348007202148,-4.411872386932373,-4.435952663421631,7.5262532234191895,6.7605671882629395,-6.113051414489746,-6.014960289001465,6.609564304351807,17.18558120727539,7.951324462890625,9.792725563049316,-6.143686771392822,9.234731674194336,12.349279403686523,-7.876404285430908,5.313150882720947,10.403900146484375,-9.499494552612305,9.453607559204102,6.832258224487305,5.280462741851807,-7.799530506134033,-9.174620628356934,-6.941918849945068,-3.4132046699523926,-4.244453430175781,5.748595237731934,12.842657089233398,-4.320832252502441,-5.496679782867432,5.821658134460449,10.370399475097656,15.946481704711914,3.7908220291137695,10.448601722717285,6.215071201324463,8.87955379486084,2.1422810554504395,11.43558406829834,12.969992637634277,8.858864784240723,5.92415189743042,7.8590989112854,7.577389717102051,-9.497424125671387,6.91182804107666,8.93184757232666,8.198369026184082,14.52072811126709,11.341755867004395,7.700584888458252,10.388258934020996,7.57957649230957,-2.9023778438568115,9.905106544494629,-6.4088592529296875,14.457039833068848,8.374814987182617,18.28540802001953,9.393458366394043,5.818759918212891,-2.029954671859741,8.146271705627441,-1.5858502388000488,6.06234073638916,0.6022454500198364,9.041872024536133,7.027168273925781,-5.157238483428955,10.396187782287598,6.015151023864746,17.356826782226562,5.8666090965271,11.373804092407227,14.015889167785645,8.695558547973633,8.198038101196289,6.579000473022461,-6.106922626495361,9.345808982849121,-0.008878055028617382,-3.4702584743499756,5.533628463745117,9.988844871520996,18.143779754638672,7.976353645324707,9.249452590942383,5.869360446929932,6.084696292877197,-5.713399410247803,-3.9541780948638916,-5.454379558563232,8.06039047241211,11.887407302856445,-2.635965347290039,13.713963508605957,6.959522247314453,-3.1017098426818848,16.897802352905273,9.256379127502441,4.440349102020264,9.530006408691406,6.921272277832031,5.586202144622803,6.209177017211914,6.817635536193848,6.283567428588867,15.803964614868164,8.916866302490234,10.875589370727539,-2.7184462547302246,6.923905372619629,-2.806000232696533,6.9385881423950195,8.084307670593262,18.1291561126709,6.974447250366211,5.777099609375,5.848700523376465,-7.560656547546387,7.197679042816162,-7.788224697113037,10.1312837600708,9.786887168884277,9.831778526306152,9.687548637390137,-3.7587077617645264,7.829735279083252,-7.151817321777344,9.291377067565918,7.085104465484619,-5.183945655822754,8.440802574157715,8.009598731994629,6.160538673400879,4.201292037963867,-6.107041835784912,7.027115821838379,17.60886001586914,10.16135025024414,5.16884183883667,6.180967330932617,-3.7733511924743652,8.726785659790039,18.142494201660156,8.821027755737305,-10.62345027923584,-10.738653182983398,9.002996444702148,7.250517845153809,1.2125613689422607,9.745980262756348,-10.535421371459961,3.561875581741333,-0.617745578289032,12.835306167602539,16.443843841552734,-2.599315643310547,-0.3714742362499237,6.402431011199951,6.269533634185791,10.189252853393555,18.178049087524414,9.276018142700195,7.235780715942383,9.22923469543457,7.313431262969971,2.879673480987549,6.024878025054932,-7.832324504852295,6.555605411529541,8.072813034057617,7.83401346206665,-4.228573799133301,6.063543319702148,-8.134005546569824,-6.9931159019470215,17.35568618774414,6.57130241394043,8.01196575164795,5.997241020202637,-1.9678802490234375,-2.886322259902954,0.01925016939640045,-1.7328342199325562,17.077484130859375,-0.7682694792747498,-3.3646788597106934,-1.577351689338684,5.455106735229492,6.584042549133301,7.184532642364502,17.062469482421875,9.395870208740234,-9.18569278717041,8.572948455810547,-9.896167755126953,8.450533866882324,-10.293208122253418,9.706265449523926,10.78317642211914,-2.9516661167144775,6.693091869354248,-1.5003186464309692,-1.5046555995941162,14.064399719238281,8.597978591918945,6.5053582191467285,17.56865692138672,5.715907096862793,6.020060062408447,8.377673149108887],\"y\":[-6.618674278259277,-9.651082992553711,-7.050005912780762,3.931647300720215,-5.292753219604492,-4.539020538330078,-5.322422027587891,-2.2930517196655273,-8.947321891784668,-4.573801517486572,8.468612670898438,-4.9934916496276855,-5.827644348144531,-3.995197296142578,-6.407301425933838,5.172928333282471,-5.100400447845459,3.843235492706299,-5.871162414550781,-4.893540859222412,-6.26953125,-2.1198816299438477,5.320402145385742,5.840251445770264,6.226501941680908,-4.28254508972168,-5.257327556610107,-5.683502197265625,-5.706252098083496,-5.359553337097168,2.0269663333892822,-4.478236675262451,-4.622242450714111,3.2607107162475586,4.588459491729736,-5.496733665466309,8.230321884155273,7.288172721862793,-4.561168193817139,-5.364277362823486,-5.394540309906006,-2.7045655250549316,-5.262460708618164,-4.549561500549316,-6.240917205810547,-6.554830551147461,0.6954602003097534,-5.909801959991455,-4.77296257019043,3.000831127166748,-9.465317726135254,1.095253586769104,10.613348007202148,-5.1961541175842285,-5.21332311630249,-5.30772590637207,-5.713046073913574,2.0733115673065186,-4.609681129455566,6.972854137420654,1.8999637365341187,10.822949409484863,-4.797767639160156,-4.776967525482178,1.8122648000717163,2.305696487426758,-5.6278228759765625,-5.296259880065918,-6.103682994842529,9.687353134155273,-4.869039058685303,10.860801696777344,-4.712893962860107,2.0998921394348145,-4.925750732421875,4.983710289001465,2.163282632827759,5.2697434425354,9.321685791015625,-1.5761909484863281,10.89001178741455,-6.020672798156738,-1.9684951305389404,-0.6646578311920166,9.485837936401367,11.902799606323242,-5.054963111877441,9.068553924560547,-5.044590950012207,11.952432632446289,1.5152742862701416,-4.678019046783447,8.402178764343262,8.329916000366211,-6.126433372497559,-7.992458820343018,-5.16599178314209,-5.844986438751221,-2.0627620220184326,-5.550471305847168,-4.302427291870117,11.234230041503906,3.51865553855896,4.7183098793029785,3.3098807334899902,-9.15073013305664,9.658953666687012,-5.863088607788086,11.09366226196289,-3.3658831119537354,6.7660603523254395,11.945965766906738,-5.872720241546631,-5.449944972991943,7.757272720336914,11.849133491516113,-5.109418869018555,7.852697849273682,3.4945948123931885,9.283914566040039,9.098539352416992,-3.9138498306274414,11.970242500305176,12.043581008911133,8.979013442993164,12.091979026794434,-5.410254001617432,8.486530303955078,0.6830778121948242,-5.297050476074219,1.722179889678955,8.351789474487305,0.7011095285415649,-4.930038928985596,-4.515829086303711,1.327585220336914,-3.3294970989227295,-4.324183940887451,10.712318420410156,-4.872403144836426,-4.94332218170166,11.56354808807373,5.4616007804870605,9.89061164855957,3.0662662982940674,9.845283508300781,-1.1372581720352173,3.1291284561157227,-5.8905415534973145,-0.3774019777774811,-5.298858642578125,10.663363456726074,-2.001793146133423,-2.4777393341064453,-4.000589847564697,-10.349189758300781,-10.066631317138672,-11.206523895263672,-9.221656799316406,1.1780894994735718,7.122015953063965,3.069149971008301,9.383382797241211,2.9198834896087646,-6.053511142730713,9.829707145690918,-5.169955253601074,-5.639350414276123,-5.0341644287109375,-2.667529821395874,-6.760105133056641,-4.28562593460083,10.882805824279785,-3.9226152896881104,-2.4730722904205322,-4.931003570556641,-5.258009910583496,-0.4387664794921875,-2.3614022731781006,-2.3710196018218994,9.284452438354492,-5.055887699127197,-6.0747857093811035,-5.857972621917725,-5.594783306121826,-4.117378234863281,10.669806480407715,11.968666076660156,-6.148277759552002,-0.16248010098934174,-5.359060764312744,8.553277969360352,-1.3486264944076538,-0.6564233303070068,5.103977203369141,-6.396621227264404,9.38125991821289,4.93828010559082,-4.288290500640869,-4.617162704467773,-5.384144306182861,10.767837524414062,-4.2661309242248535,-4.801755428314209,9.830995559692383,10.522466659545898,2.426238775253296,11.312777519226074,2.3372766971588135,-5.01458215713501,-10.489999771118164,9.297599792480469,-5.582993507385254,-9.602171897888184,-5.23545503616333,-10.505219459533691,0.9795225858688354,-3.693373918533325,7.182404041290283,-4.6549072265625,-4.4762420654296875,2.0620081424713135,-4.823009490966797,-0.06988031417131424,8.382418632507324,2.496976613998413,-1.7806495428085327,10.844365119934082,-2.2653536796569824,-5.799885272979736,-0.7674036026000977,-4.953288555145264,-4.794435024261475,-6.152770042419434,-4.944615364074707,0.5086342096328735,-5.385900020599365,10.87992000579834,6.912953853607178,1.8225865364074707,-5.26978063583374,-5.001229286193848,6.731298446655273,3.420442819595337,-5.610625743865967,-0.5635501742362976,2.435746192932129,-5.49936056137085,7.567383289337158,8.58560562133789,5.505636692047119,-4.494205951690674,-4.671657562255859,-2.4139676094055176,-0.5050766468048096,-3.1845703125,-0.9115476012229919,10.464273452758789,-6.017649173736572,-2.3328962326049805,8.049205780029297,-5.739439487457275,-4.9797444343566895,-5.572547435760498,3.5167951583862305,6.7596235275268555,8.38099193572998,-4.887996196746826,-8.969156265258789,-5.705986022949219,6.040873050689697,-7.044295787811279,-6.442784786224365,-6.439161777496338,-5.4725165367126465,-8.735818862915039,-10.15933609008789,-5.626830577850342,5.315548896789551,8.330353736877441,-5.2963151931762695,-4.308952808380127,5.645509243011475,7.816976547241211,10.511418342590332,6.591849327087402,-4.860523700714111,10.859437942504883,6.4482011795043945,-2.9941749572753906,-5.129702091217041,10.139182090759277,-4.975505828857422,-4.60075569152832,3.2519493103027344,0.045594532042741776,-0.10354454070329666,-0.5356333255767822,-10.869579315185547,9.724414825439453,-5.457949638366699,9.7427978515625,-4.43137264251709,-5.23532247543335,8.1972017288208,7.084796905517578,-5.779844284057617,3.2553460597991943,7.160523414611816,2.326809883117676,-4.434866428375244,2.8195714950561523,-5.729948043823242,1.454528570175171,-2.8421976566314697,11.529092788696289,9.028828620910645,12.284097671508789,-4.465673923492432,10.72508716583252,-5.37730598449707,-1.450417160987854,6.254629135131836,6.705374717712402,-3.7828097343444824,-5.037990570068359,10.303177833557129,-4.715865612030029,-4.729488372802734,8.336852073669434,-5.406677722930908,-1.6757224798202515,1.1877979040145874,5.865848064422607,7.6828107833862305,10.811285972595215,-2.532665729522705,5.494524955749512,-5.667038917541504,1.7672258615493774,9.268322944641113,-4.912291049957275,-5.239702224731445,-0.0018510837107896805,0.7985832691192627,0.5400280952453613,2.1078851222991943,-4.428310871124268,11.344801902770996,-4.194208145141602,-1.0785537958145142,11.551690101623535,-5.009273529052734,3.376067876815796,11.015872955322266,6.549263954162598,-6.248296737670898,-5.419654846191406,-4.621676445007324,10.309452056884766,-5.191407680511475,-4.943516731262207,-5.029637813568115,-4.894384860992432,-5.521693229675293,-0.22818516194820404,-5.189759254455566,-6.503115177154541,-5.722921371459961,-5.6686625480651855,-0.1867755949497223,-5.894636154174805,10.867143630981445,4.805057525634766,-0.4968164563179016,3.4502341747283936,4.8767619132995605,-4.625176429748535,7.636102676391602,-5.1301445960998535,0.35118216276168823,10.30548095703125,1.1014840602874756,-6.374993324279785,-6.0866379737854,5.953098297119141,1.3584541082382202,9.610027313232422,-6.045385837554932,10.874882698059082,8.381219863891602,-6.000460147857666,-5.067821979522705,6.542620658874512,-5.715376853942871,-3.3495826721191406,-2.3892688751220703,1.4203685522079468,-5.612148284912109,9.638842582702637,-2.2223541736602783,-1.4879050254821777,7.8261895179748535,2.318829298019409,9.809737205505371,8.113371849060059,-1.6680281162261963,10.85420036315918,6.574059009552002,-4.044897079467773,-4.9505391120910645,8.122952461242676,6.724888801574707,-0.5647041201591492,-3.758378505706787,5.753910064697266,-5.674020767211914,3.4203646183013916,-5.650516986846924,5.525954246520996,9.20043659210205,11.973312377929688,-3.864870309829712,-4.812236785888672,-5.91843318939209,-1.0124375820159912,-0.5590890645980835,-4.862924098968506,-4.419379234313965,-2.253981351852417,-5.567142486572266,-5.168484210968018,-6.28898286819458,10.034056663513184,-6.004731178283691,6.338176250457764,9.167263984680176,6.990385055541992,9.215948104858398,-5.271847724914551,6.061244964599609,7.48294734954834,8.139190673828125,-5.741244316101074,-6.119532108306885,-6.1544365882873535,-5.0414252281188965,3.047611951828003,-0.5638344883918762,9.000154495239258,-1.5804332494735718,1.2184398174285889,-1.9869818687438965,7.100625991821289,-4.84567928314209,5.653729438781738,-6.235696792602539,5.073394298553467,5.757792949676514,-4.844517707824707,9.723492622375488,-1.623903512954712,-5.562432765960693,-5.263882160186768,-4.425318241119385,1.2080767154693604],\"z\":[0.7509802579879761,-1.4125510454177856,-0.03602919727563858,-3.5239157676696777,-2.044959306716919,5.646373748779297,5.5038743019104,-5.3372368812561035,-1.4361275434494019,5.359541893005371,-0.9067909121513367,5.6284894943237305,-0.6630876064300537,-4.271106719970703,0.04877903312444687,-2.661038398742676,-0.7926342487335205,-0.3668479323387146,5.008756637573242,5.452882766723633,2.3419034481048584,-5.258261680603027,-0.7543675303459167,-1.7883249521255493,-0.6469494700431824,-3.740208387374878,3.8969480991363525,3.7168428897857666,-1.2355283498764038,4.275147914886475,-4.643910884857178,-3.593997001647949,5.5181989669799805,-3.937361717224121,-3.0403597354888916,0.4272044003009796,1.0314114093780518,-0.24785912036895752,5.18742561340332,0.3398300111293793,5.497828483581543,-4.578665733337402,5.894232273101807,1.7660552263259888,1.230308175086975,3.3210599422454834,-5.281312465667725,3.2573139667510986,5.822967529296875,-4.296714782714844,-0.9897451996803284,-4.993155479431152,-0.007824013009667397,0.5169487595558167,4.05620813369751,-2.209803342819214,-1.1613075733184814,-4.507079124450684,5.349018573760986,-0.8890401124954224,-4.801816463470459,0.46922048926353455,-3.475836992263794,4.708520889282227,-4.817838668823242,-4.7078776359558105,3.278143882751465,-2.168407440185547,-0.23583145439624786,0.5932509899139404,5.255003452301025,0.6485047936439514,5.483025550842285,-4.657165050506592,5.181704044342041,-1.873949646949768,-0.5383164882659912,-2.6513936519622803,0.14419443905353546,2.2291362285614014,-0.10355497151613235,2.1192171573638916,2.0504491329193115,2.225539207458496,0.5596030950546265,0.9250149726867676,5.0101141929626465,0.40951448678970337,3.650808334350586,1.1460397243499756,-4.970531940460205,4.429257869720459,-0.39477378129959106,1.1698622703552246,2.2987101078033447,-1.6983002424240112,4.087217330932617,-0.35566744208335876,-5.5176191329956055,0.24432633817195892,0.49651139974594116,0.5359354615211487,-3.88533616065979,-1.313398003578186,-1.0251507759094238,-1.3298051357269287,-0.5093564987182617,-0.7690588235855103,0.2172400802373886,-4.66197395324707,-1.5006334781646729,1.230481505393982,-0.1768021583557129,4.380498886108398,-0.5186940431594849,0.833087146282196,3.4738662242889404,-0.7512280344963074,-3.708648920059204,1.5821409225463867,1.5704450607299805,5.350915908813477,2.1158053874969482,2.006514072418213,1.2923545837402344,2.075868844985962,3.117039203643799,1.2339383363723755,1.1239581108093262,5.426131248474121,0.6995505690574646,-0.7179275155067444,1.0165245532989502,4.29631233215332,-3.6498584747314453,-5.0827317237854,-4.09481954574585,5.064911842346191,0.8825080990791321,4.3312578201293945,-2.7036967277526855,1.7201465368270874,-2.4019696712493896,-0.3384653329849243,-3.973454475402832,0.1025410145521164,-4.948419570922852,-4.004355430603027,-0.2208533138036728,-5.371029853820801,3.9125752449035645,0.3065793216228485,0.9227494597434998,-4.600249767303467,-4.558743953704834,-1.1542587280273438,-0.9529648423194885,-1.6587899923324585,-0.5783125162124634,-5.04339075088501,0.2683795392513275,-4.269608497619629,0.32783353328704834,-4.246169090270996,3.144469976425171,-0.042691919952631,3.586883783340454,-1.412367343902588,5.44890022277832,-4.147876262664795,1.356472134590149,0.5946210026741028,-0.5010651350021362,1.3969646692276,2.1592698097229004,5.5864481925964355,5.129049301147461,1.1745647192001343,-4.865054130554199,2.2736940383911133,-0.7053902745246887,5.75520658493042,0.21466177701950073,-0.815777599811554,5.175388336181641,-3.463923454284668,0.5780895948410034,2.4013447761535645,2.412259817123413,-4.990846157073975,3.1170833110809326,-0.5451439023017883,2.3880417346954346,2.180001974105835,-2.8491663932800293,3.1851279735565186,0.04004305228590965,-2.7652924060821533,5.516619682312012,4.55172872543335,4.367615699768066,1.226689100265503,5.1239848136901855,5.781674861907959,0.4235925078392029,0.4153165817260742,-4.564840793609619,1.3285577297210693,-4.410367965698242,5.812851428985596,-1.0615899562835693,0.49325114488601685,3.018432855606079,-0.6001676321029663,5.521193981170654,-1.0358963012695312,-4.753268718719482,-4.06355619430542,-0.49655234813690186,4.951085567474365,5.393718719482422,0.8121743202209473,-2.9376018047332764,1.1228963136672974,-0.30295708775520325,-4.403039932250977,1.484467625617981,0.49851348996162415,-0.45606452226638794,-0.507144033908844,-5.303674221038818,5.709133148193359,4.6964111328125,4.544363498687744,5.612783432006836,1.2711997032165527,-2.0366549491882324,-0.07864916324615479,-1.028412103652954,-4.800956726074219,4.484692096710205,1.2871052026748657,-2.018200635910034,-3.7757136821746826,2.8263742923736572,-5.186141014099121,-4.696461200714111,3.4119651317596436,0.7681387066841125,-0.5978481769561768,-1.1854161024093628,5.694502830505371,5.826442718505859,-4.7007527351379395,-5.34481954574585,1.4642432928085327,0.7730736136436462,-0.22110198438167572,2.353976249694824,1.9195284843444824,0.2561175525188446,2.6051061153411865,3.8931193351745605,4.107166290283203,-3.8939967155456543,-0.42186129093170166,-0.27782875299453735,5.704458236694336,-0.7938472628593445,-1.0682027339935303,-2.3132433891296387,0.021659977734088898,4.662961959838867,0.17675046622753143,-1.9197304248809814,-0.836597740650177,-1.2823524475097656,0.687964916229248,-0.9895246028900146,0.00623029051348567,-2.1912405490875244,5.491320610046387,-1.2842929363250732,0.19202855229377747,0.5348303914070129,-1.9371817111968994,4.476557731628418,0.8813908100128174,-2.1059491634368896,-4.402616500854492,4.965476036071777,0.8927435278892517,5.647601127624512,5.37170934677124,-3.77312970161438,-4.64459228515625,-5.3831562995910645,-5.404484748840332,-1.763390064239502,0.4126509130001068,4.883540630340576,0.2974073886871338,5.045120716094971,5.661839485168457,1.0815469026565552,-1.7397416830062866,3.6068806648254395,-1.0881558656692505,-1.1829397678375244,0.3151317238807678,5.086181163787842,-4.045516014099121,3.0169677734375,-5.112031936645508,-4.127688407897949,1.1078917980194092,0.5972415804862976,1.5062294006347656,-3.4994091987609863,-0.8307392001152039,4.973835468292236,-5.23052453994751,-1.6459205150604248,-1.9100701808929443,-3.8195579051971436,3.549595832824707,0.6874909400939941,5.6099772453308105,5.4044084548950195,-0.038976576179265976,4.4104204177856445,-4.985900402069092,1.0509459972381592,-1.1945064067840576,0.3224213123321533,1.1319416761398315,-4.054093837738037,-2.2259323596954346,3.0394771099090576,-4.686781406402588,-0.4613994359970093,-2.9202399253845215,-2.174872875213623,1.1449673175811768,-0.03370647504925728,0.9539943933486938,-4.509378910064697,5.5767669677734375,1.1309401988983154,5.283686637878418,-5.219468116760254,1.5587100982666016,3.7221457958221436,-3.8095667362213135,0.9950565099716187,-0.9999924302101135,2.170625925064087,-1.9588819742202759,-2.7476487159729004,-0.3545113503932953,-2.182398796081543,4.661972999572754,5.022516250610352,5.563508033752441,0.6242460608482361,-5.1510233879089355,0.8489893078804016,1.2819288969039917,4.10452938079834,3.1400210857391357,-5.162357330322266,-0.3872441053390503,0.7901302576065063,0.1821097582578659,-5.2928853034973145,0.500438928604126,-2.9575624465942383,5.458378791809082,-1.0026719570159912,5.304148197174072,-0.020101021975278854,0.006805585231631994,1.149734377861023,4.598115921020508,2.7398242950439453,-1.2022168636322021,-4.985977649688721,0.39367324113845825,0.7272166609764099,0.6412150263786316,0.5750556588172913,2.7813024520874023,3.5427663326263428,-1.7192718982696533,-0.982746422290802,-4.2196526527404785,-1.0421130657196045,-5.012214660644531,3.341766119003296,0.5193365216255188,0.8512151837348938,0.8843366503715515,-0.1663426011800766,-4.159693717956543,0.4349001348018646,-0.8178853988647461,0.9041163325309753,0.831425666809082,-1.463075041770935,5.423648357391357,4.175455570220947,-0.3743935227394104,-1.5904605388641357,-4.957022666931152,-4.169425964355469,-2.2641563415527344,3.055455446243286,-3.7739574909210205,3.4147887229919434,-1.3177179098129272,1.0056517124176025,1.81028413772583,-3.7880778312683105,0.9289085865020752,-0.9334993958473206,-5.58091402053833,-5.4685211181640625,-0.9012784957885742,-3.520414352416992,1.7295244932174683,0.8403725624084473,4.026978969573975,0.7722963094711304,0.3202405273914337,0.27227362990379333,-0.5167545080184937,0.18556249141693115,-1.5548386573791504,-0.0671628937125206,3.678407907485962,-1.2267063856124878,0.026455411687493324,-0.6610482931137085,-0.9659165143966675,1.7513539791107178,2.776836395263672,3.948706865310669,-4.149801731109619,0.8327730894088745,-0.18459248542785645,1.0290437936782837,-5.048147678375244,0.9146031737327576,-0.9758195877075195,5.556249141693115,-0.21289227902889252,1.65190851688385,-1.1376830339431763,-1.184546709060669,5.459074020385742,0.006632713600993156,-4.949712753295898,3.5839033126831055,-2.2814531326293945,-3.33575439453125,-5.036521911621094],\"type\":\"scatter3d\"},{\"mode\":\"markers\",\"name\":\"True label 1, Subgroup 0\",\"x\":[-11.789024353027344,-10.321781158447266,-10.307581901550293,-3.1218435764312744,-11.01649284362793,-10.94672679901123,-9.896976470947266,-10.654318809509277,-10.458377838134766,-3.210822105407715,-5.228334903717041,-6.38494348526001,-4.053204536437988,-4.227558612823486,-5.578756809234619,-4.290985584259033,-5.256884574890137,-4.395183563232422,-4.017950534820557,7.558741092681885,-11.127392768859863,-9.31021785736084,-2.0987002849578857,9.723020553588867,8.363798141479492,-8.840788841247559,-0.45913830399513245,-9.474902153015137,-9.752717971801758,-10.040614128112793,-9.19604206085205,0.5276362895965576,0.6403056979179382,0.7559888958930969,1.031804084777832,-3.5308315753936768,6.227855682373047,-6.8074164390563965,-4.643865585327148,9.045361518859863,4.7606353759765625,-6.824417591094971,9.16866683959961,-2.5097615718841553,-3.509779930114746,0.8558330535888672,-3.6393940448760986,-6.907517433166504,-9.297183990478516,-7.782003879547119,-8.589668273925781,-8.202898979187012,-4.846443176269531,-6.7170915603637695,-4.892084121704102,-12.680459976196289,10.043766975402832,-12.746177673339844,-3.2114028930664062,7.7221221923828125,0.5148950815200806,-4.444670677185059,-7.433256149291992,-6.394759178161621,-6.8229169845581055,-7.732848644256592,-5.784305572509766,-6.166100025177002,-7.371400356292725,-5.552820682525635,-7.546207904815674,-4.170951843261719,7.533901214599609,-6.566688060760498,-7.577043056488037,0.31564638018608093,0.9549112915992737,8.943610191345215,0.8942822813987732,1.0078792572021484,1.0455102920532227,-1.1754274368286133,7.92919921875,-13.038050651550293,-12.825551986694336,8.906866073608398,-12.993635177612305,-13.046131134033203,-12.781548500061035,7.778953552246094,-11.727618217468262,-10.97900104522705,-11.510053634643555,-7.663778781890869,-7.649928569793701,-6.051701068878174,9.414482116699219,-4.910156726837158,-6.2426533699035645,-6.068367958068848,-5.006509780883789,-7.832705020904541,-6.1848368644714355,9.670370101928711,-10.261881828308105,-10.169178009033203,-9.140417098999023,-9.47573471069336,-8.82174301147461,8.947543144226074,-8.071511268615723,-3.1216485500335693,-8.860856056213379,-7.741294860839844,-4.4857378005981445,0.1723385751247406,-6.170795440673828,-3.0935044288635254,-11.746052742004395,-12.873871803283691,-12.039382934570312,-11.207194328308105,-11.832974433898926,-12.001513481140137,-11.818561553955078,-4.726232528686523,-1.4902106523513794,-6.663107872009277,-5.598072528839111,-0.45402583479881287,8.689419746398926,-0.9241036772727966,6.068722248077393],\"y\":[-11.28892707824707,-7.328294277191162,-8.316575050354004,-6.2701096534729,-8.73950481414795,-8.405158996582031,-10.836723327636719,-8.62120532989502,-9.779762268066406,1.2149995565414429,4.801750183105469,-2.0322537422180176,-3.8581197261810303,-2.4327383041381836,-4.633119583129883,-2.9324517250061035,-6.001694202423096,-2.7880914211273193,-3.742025852203369,9.75887680053711,-10.753097534179688,-7.441003799438477,4.1134562492370605,8.175541877746582,0.0840417817234993,-5.015923976898193,6.82128381729126,-3.25791597366333,-1.540918231010437,-3.092555046081543,-3.717557668685913,11.545185089111328,10.341745376586914,11.384471893310547,10.15434455871582,-4.617611408233643,-5.762392997741699,-4.6327924728393555,-5.5716071128845215,4.9783453941345215,10.826290130615234,-2.078249454498291,7.169440746307373,8.0018949508667,10.620155334472656,10.037148475646973,8.027684211730957,-6.831516742706299,-4.2094807624816895,-5.950017929077148,-4.826368808746338,-4.083499908447266,-5.004703998565674,-5.400664329528809,-5.580056190490723,-10.407243728637695,-6.005217552185059,-8.938209533691406,-6.093634605407715,2.4276340007781982,6.402494430541992,2.280672073364258,0.9234628677368164,1.9815016984939575,1.5353717803955078,2.9492998123168945,4.8321733474731445,3.1548454761505127,0.7654954791069031,1.449103593826294,3.9117472171783447,2.957775592803955,1.346651554107666,0.07270966470241547,4.662981986999512,11.02568531036377,11.500678062438965,5.777336120605469,12.094654083251953,10.779260635375977,12.205588340759277,11.817873001098633,2.2936437129974365,-11.23000431060791,-12.060293197631836,-5.697825908660889,-11.108376502990723,-11.650843620300293,-11.954867362976074,0.46475639939308167,-9.480090141296387,-10.452587127685547,-9.200786590576172,-2.2909984588623047,-3.8587417602539062,-2.0908401012420654,4.418210983276367,-1.9565571546554565,-4.804803848266602,-6.873087406158447,-5.7687602043151855,-4.653909206390381,-2.0704569816589355,5.395768165588379,-11.867121696472168,-11.724345207214355,-10.424689292907715,-7.3048996925354,-7.950249671936035,5.949488162994385,-8.619678497314453,-6.237751483917236,-9.861075401306152,-6.583064556121826,8.44070816040039,3.2304444313049316,-6.977807521820068,-6.257516384124756,-9.937697410583496,-10.309144020080566,-10.763677597045898,-11.645697593688965,-9.055158615112305,-9.443120956420898,-9.661861419677734,7.690340995788574,3.5662615299224854,6.551517486572266,3.2662642002105713,6.712244987487793,6.524328708648682,8.41049861907959,-2.009439706802368],\"z\":[-1.6333281993865967,0.6338687539100647,0.12839378416538239,-1.6347967386245728,0.05030243098735809,0.3035041391849518,-1.3262672424316406,0.10238268971443176,-0.3700026869773865,-0.3028554916381836,-0.7141718864440918,1.9844821691513062,1.3692384958267212,1.0886695384979248,1.3970059156417847,1.120521068572998,0.8660186529159546,1.560359239578247,0.5709620118141174,-0.1576443761587143,-1.7504279613494873,-0.4150843024253845,-1.0814000368118286,-0.8214887380599976,-5.427534580230713,0.20854809880256653,-0.6692311763763428,0.8199784159660339,1.0023242235183716,0.8298340439796448,0.7490286827087402,0.7594207525253296,0.2744290232658386,0.6572437286376953,-0.5270387530326843,1.171905517578125,1.9124919176101685,2.074120044708252,1.1543563604354858,-1.6293740272521973,-0.35991257429122925,2.279602289199829,-0.4123111963272095,-0.10541138052940369,1.0320706367492676,-0.9846827983856201,0.3599720299243927,0.22400160133838654,0.926397442817688,0.6702466607093811,1.0311888456344604,0.9457497000694275,-0.5431500673294067,1.1062172651290894,-0.9471219182014465,-1.510667324066162,5.108667373657227,-0.9959407448768616,-1.605713129043579,-4.2130327224731445,-1.6195403337478638,-0.3850999176502228,1.21467924118042,0.6401399374008179,0.9342132806777954,0.5828819274902344,-0.31972771883010864,-0.14238840341567993,1.3480488061904907,0.04063134267926216,0.5851209759712219,-1.512664794921875,-4.775182723999023,1.9212007522583008,0.5805456638336182,0.6932404041290283,0.7210999727249146,-0.8485597968101501,1.4538248777389526,0.16970498859882355,1.5133494138717651,0.8414435386657715,-4.3566508293151855,-1.778199315071106,-2.126281499862671,4.759227275848389,-1.7421914339065552,-1.9557386636734009,-2.0784308910369873,-5.191498756408691,-1.3397884368896484,-1.6430717706680298,-1.3005399703979492,2.0065486431121826,1.7899547815322876,1.5450071096420288,-2.734221935272217,1.6605902910232544,1.4036771059036255,0.26829397678375244,0.9158938527107239,1.3810453414916992,1.5417402982711792,-1.924663782119751,-1.9137887954711914,-1.8526173830032349,-1.1401773691177368,0.45633426308631897,0.2820650637149811,-0.7466835379600525,-0.5773974061012268,-1.6130326986312866,-0.8338869214057922,0.9734277129173279,0.8783761858940125,-1.6926939487457275,0.8790299296379089,-1.6260188817977905,-1.1929326057434082,-1.5147136449813843,-1.7484756708145142,-1.9504390954971313,-1.4715385437011719,-1.7888697385787964,-1.6241419315338135,0.8709842562675476,-1.0129978656768799,1.2243603467941284,-1.6047139167785645,-1.6035609245300293,-0.22409333288669586,-0.7151807546615601,-4.6045379638671875],\"type\":\"scatter3d\"},{\"mode\":\"markers\",\"name\":\"True label 1, Subgroup 1\",\"x\":[7.432290554046631,12.36850357055664,7.586130142211914,6.979873180389404,5.90836763381958,8.684157371520996,6.031128406524658,9.633611679077148,16.916213989257812,6.4159836769104,-6.283276081085205,9.925423622131348,9.978198051452637,10.071527481079102,13.060495376586914,8.27271842956543,13.378414154052734,6.005961894989014,-4.227578163146973,-4.803860187530518,6.604811668395996,-3.7967565059661865,17.641897201538086,7.719409465789795,8.777620315551758,5.170110702514648,1.1634469032287598,0.8641359210014343,17.431684494018555,13.690073013305664,-4.007983207702637,1.2807120084762573,4.742037296295166,6.667599201202393,-3.293785333633423,6.7507853507995605,7.626733303070068,-1.642534852027893,15.433206558227539,15.949047088623047,9.945472717285156,7.420598030090332,-4.792422294616699,6.5684404373168945,8.704068183898926,4.3472771644592285,5.8153839111328125,6.90992546081543,8.756778717041016,15.591216087341309,10.2901029586792,7.342429161071777,-6.617067813873291,12.172009468078613,6.417988300323486,4.564629077911377,7.568327903747559,16.221426010131836,7.975980758666992,6.904827117919922,6.270862579345703,5.993415832519531,18.13677406311035,9.665603637695312,-3.7810676097869873,-6.231233596801758,-8.258793830871582,17.966354370117188,2.577078342437744,-0.033390652388334274,7.469810485839844,13.10302448272705,6.762050151824951,8.72429084777832,-12.898856163024902,9.995617866516113,7.609422206878662,9.339191436767578,-12.13858413696289,10.709668159484863,10.121098518371582,7.539389133453369,15.317546844482422,15.479043960571289,6.238912105560303,6.335833549499512,6.147748947143555,12.047698974609375,-8.662252426147461,7.4244208335876465,7.476572036743164,-9.462865829467773,7.416207790374756,6.01991081237793,9.189360618591309,5.639450550079346,-9.505755424499512,9.089184761047363,-0.4601198434829712,6.466606616973877,13.80024528503418,6.59836483001709,-3.5620181560516357,6.335394859313965,0.4460952877998352,-5.112032890319824,7.4429473876953125,7.060539245605469,-4.782211780548096,7.181252479553223,6.693361759185791,8.26877498626709,16.150720596313477,9.570969581604004,-11.781858444213867,7.761082649230957,-12.365840911865234,8.580198287963867,5.847866535186768,15.546038627624512,6.6259894371032715,9.881291389465332,-12.483922004699707,17.305444717407227,9.705635070800781,-5.058449745178223,9.664372444152832,-6.561354160308838,7.553244113922119,-0.48706817626953125,2.324964761734009,10.01470947265625,9.493650436401367],\"y\":[8.481651306152344,-4.77064847946167,9.025174140930176,-6.580401420593262,-3.9513437747955322,-5.365760803222656,-5.996803283691406,-5.081318378448486,-5.034649848937988,-6.18161678314209,6.134478569030762,3.8890883922576904,5.610892295837402,6.019135475158691,-4.671542644500732,-0.33362847566604614,-4.450512409210205,-4.274075984954834,-2.6060824394226074,-2.4834394454956055,-6.237321853637695,7.604516506195068,-5.366142749786377,-0.4178633391857147,2.8566229343414307,11.094522476196289,10.694733619689941,11.941113471984863,-5.1102166175842285,-4.970826625823975,-2.3555681705474854,11.635255813598633,10.774001121520996,-5.816163539886475,11.448209762573242,9.86750602722168,-1.7589197158813477,10.550467491149902,-4.717868804931641,-4.997561931610107,7.572134971618652,-1.5119529962539673,-2.477160930633545,-0.5884993672370911,-5.274537563323975,10.810507774353027,-5.908497333526611,-4.053333759307861,4.961847305297852,-4.746975898742676,5.31273889541626,0.13930504024028778,4.424116611480713,-4.4766411781311035,-5.5376787185668945,10.788676261901855,10.378416061401367,-4.869852066040039,0.06172824278473854,-2.563875675201416,10.479084014892578,-4.976901054382324,-5.677809238433838,4.705236911773682,5.246144771575928,4.341927528381348,3.311427593231201,-5.6554083824157715,11.446773529052734,12.470698356628418,-5.609955310821533,-5.0908708572387695,-3.7432236671447754,2.459421396255493,-11.974853515625,6.19766092300415,-6.800174236297607,-4.903943061828613,-7.552064418792725,-5.061739921569824,6.1368608474731445,0.7605324387550354,-4.917147159576416,-4.7538042068481445,-1.871179461479187,10.813117980957031,-5.798850059509277,-4.433368682861328,-8.888379096984863,-6.609931945800781,-6.017565727233887,-10.589645385742188,-6.497895240783691,-4.2264227867126465,-5.3137431144714355,-5.676869869232178,-6.337281227111816,-6.185636520385742,3.4008262157440186,-6.129443168640137,-4.662362098693848,-2.4082276821136475,10.727652549743652,-4.30578088760376,6.59106969833374,-5.546857833862305,-5.4550323486328125,-6.590574264526367,-1.4580810070037842,9.952674865722656,-4.419139862060547,-6.554751396179199,-4.834867000579834,2.7963266372680664,-8.624617576599121,-0.7527160048484802,-8.219878196716309,-6.072003364562988,-5.828639507293701,-5.07583475112915,-2.1676814556121826,4.167964935302734,-8.40195083618164,-5.297394752502441,-5.26361083984375,8.09433650970459,8.117403030395508,6.981468200683594,-0.9610866904258728,6.275234222412109,10.324054718017578,2.668881893157959,8.278414726257324],\"z\":[0.9274107217788696,5.716424942016602,-0.0007189901079982519,0.5722672343254089,-3.3563992977142334,4.769510746002197,0.5645143985748291,5.2995147705078125,3.8608651161193848,0.020771155133843422,-0.062492791563272476,-3.6539835929870605,-2.1133413314819336,-1.9165138006210327,5.813175678253174,-5.519021034240723,5.550682067871094,-3.3203554153442383,1.3625730276107788,1.6169835329055786,-0.15695780515670776,-0.1443144530057907,3.86767840385437,-5.419872283935547,-4.122464656829834,1.640773892402649,-0.14082372188568115,1.1024752855300903,3.435148239135742,5.619971752166748,0.641772449016571,0.4053732752799988,0.6242786049842834,2.5657594203948975,1.5464439392089844,0.7855783700942993,-5.463335990905762,0.06381916254758835,4.7096405029296875,4.627488136291504,-1.1387648582458496,-5.384753227233887,-0.4077831506729126,-5.038926601409912,4.8221435546875,0.30093473196029663,0.4979543387889862,-4.786721229553223,-1.318949818611145,4.623324394226074,-2.744762420654297,-5.190439224243164,-0.06696120649576187,5.599092483520508,-1.619916319847107,0.05525193363428116,0.5650619268417358,4.265600681304932,-5.360583305358887,-5.0209574699401855,0.3352249264717102,-2.638005018234253,3.1595818996429443,-2.6547086238861084,-1.917332410812378,-0.44699373841285706,0.7936473488807678,3.12487530708313,0.6812507510185242,1.8361564874649048,3.666743516921997,5.73405647277832,-4.689326763153076,-4.419196605682373,-2.0925748348236084,-1.651214361190796,2.2487387657165527,5.2503275871276855,-0.5718938708305359,5.5322723388671875,-1.8881579637527466,-5.026866912841797,4.942275524139404,4.707641124725342,-4.748970985412598,0.2858770191669464,-1.0538887977600098,5.574242115020752,-0.4252925515174866,2.3227460384368896,3.273732900619507,-1.2702385187149048,2.549236536026001,-3.476715087890625,5.084465980529785,-1.265501856803894,0.6838808655738831,4.571974277496338,-0.5690226554870605,1.3710678815841675,5.450028896331787,-4.870825290679932,1.1329500675201416,-4.035975456237793,-0.5972883105278015,1.1813474893569946,3.7898964881896973,1.3516560792922974,1.0544192790985107,-0.270368367433548,-4.462872505187988,3.521726608276367,4.269951820373535,-4.373359680175781,-1.4269269704818726,-5.475245952606201,-1.1517797708511353,4.257180213928223,-0.849329948425293,4.9401164054870605,-4.935888290405273,-3.396338701248169,-1.0804409980773926,3.332136631011963,5.27233362197876,1.3375543355941772,-0.7913471460342407,1.3461297750473022,-5.434030532836914,-1.6745784282684326,0.6221479177474976,-4.571892261505127,-0.6222299933433533],\"type\":\"scatter3d\"}],                        {\"template\":{\"data\":{\"barpolar\":[{\"marker\":{\"line\":{\"color\":\"#E5ECF6\",\"width\":0.5},\"pattern\":{\"fillmode\":\"overlay\",\"size\":10,\"solidity\":0.2}},\"type\":\"barpolar\"}],\"bar\":[{\"error_x\":{\"color\":\"#2a3f5f\"},\"error_y\":{\"color\":\"#2a3f5f\"},\"marker\":{\"line\":{\"color\":\"#E5ECF6\",\"width\":0.5},\"pattern\":{\"fillmode\":\"overlay\",\"size\":10,\"solidity\":0.2}},\"type\":\"bar\"}],\"carpet\":[{\"aaxis\":{\"endlinecolor\":\"#2a3f5f\",\"gridcolor\":\"white\",\"linecolor\":\"white\",\"minorgridcolor\":\"white\",\"startlinecolor\":\"#2a3f5f\"},\"baxis\":{\"endlinecolor\":\"#2a3f5f\",\"gridcolor\":\"white\",\"linecolor\":\"white\",\"minorgridcolor\":\"white\",\"startlinecolor\":\"#2a3f5f\"},\"type\":\"carpet\"}],\"choropleth\":[{\"colorbar\":{\"outlinewidth\":0,\"ticks\":\"\"},\"type\":\"choropleth\"}],\"contourcarpet\":[{\"colorbar\":{\"outlinewidth\":0,\"ticks\":\"\"},\"type\":\"contourcarpet\"}],\"contour\":[{\"colorbar\":{\"outlinewidth\":0,\"ticks\":\"\"},\"colorscale\":[[0.0,\"#0d0887\"],[0.1111111111111111,\"#46039f\"],[0.2222222222222222,\"#7201a8\"],[0.3333333333333333,\"#9c179e\"],[0.4444444444444444,\"#bd3786\"],[0.5555555555555556,\"#d8576b\"],[0.6666666666666666,\"#ed7953\"],[0.7777777777777778,\"#fb9f3a\"],[0.8888888888888888,\"#fdca26\"],[1.0,\"#f0f921\"]],\"type\":\"contour\"}],\"heatmapgl\":[{\"colorbar\":{\"outlinewidth\":0,\"ticks\":\"\"},\"colorscale\":[[0.0,\"#0d0887\"],[0.1111111111111111,\"#46039f\"],[0.2222222222222222,\"#7201a8\"],[0.3333333333333333,\"#9c179e\"],[0.4444444444444444,\"#bd3786\"],[0.5555555555555556,\"#d8576b\"],[0.6666666666666666,\"#ed7953\"],[0.7777777777777778,\"#fb9f3a\"],[0.8888888888888888,\"#fdca26\"],[1.0,\"#f0f921\"]],\"type\":\"heatmapgl\"}],\"heatmap\":[{\"colorbar\":{\"outlinewidth\":0,\"ticks\":\"\"},\"colorscale\":[[0.0,\"#0d0887\"],[0.1111111111111111,\"#46039f\"],[0.2222222222222222,\"#7201a8\"],[0.3333333333333333,\"#9c179e\"],[0.4444444444444444,\"#bd3786\"],[0.5555555555555556,\"#d8576b\"],[0.6666666666666666,\"#ed7953\"],[0.7777777777777778,\"#fb9f3a\"],[0.8888888888888888,\"#fdca26\"],[1.0,\"#f0f921\"]],\"type\":\"heatmap\"}],\"histogram2dcontour\":[{\"colorbar\":{\"outlinewidth\":0,\"ticks\":\"\"},\"colorscale\":[[0.0,\"#0d0887\"],[0.1111111111111111,\"#46039f\"],[0.2222222222222222,\"#7201a8\"],[0.3333333333333333,\"#9c179e\"],[0.4444444444444444,\"#bd3786\"],[0.5555555555555556,\"#d8576b\"],[0.6666666666666666,\"#ed7953\"],[0.7777777777777778,\"#fb9f3a\"],[0.8888888888888888,\"#fdca26\"],[1.0,\"#f0f921\"]],\"type\":\"histogram2dcontour\"}],\"histogram2d\":[{\"colorbar\":{\"outlinewidth\":0,\"ticks\":\"\"},\"colorscale\":[[0.0,\"#0d0887\"],[0.1111111111111111,\"#46039f\"],[0.2222222222222222,\"#7201a8\"],[0.3333333333333333,\"#9c179e\"],[0.4444444444444444,\"#bd3786\"],[0.5555555555555556,\"#d8576b\"],[0.6666666666666666,\"#ed7953\"],[0.7777777777777778,\"#fb9f3a\"],[0.8888888888888888,\"#fdca26\"],[1.0,\"#f0f921\"]],\"type\":\"histogram2d\"}],\"histogram\":[{\"marker\":{\"pattern\":{\"fillmode\":\"overlay\",\"size\":10,\"solidity\":0.2}},\"type\":\"histogram\"}],\"mesh3d\":[{\"colorbar\":{\"outlinewidth\":0,\"ticks\":\"\"},\"type\":\"mesh3d\"}],\"parcoords\":[{\"line\":{\"colorbar\":{\"outlinewidth\":0,\"ticks\":\"\"}},\"type\":\"parcoords\"}],\"pie\":[{\"automargin\":true,\"type\":\"pie\"}],\"scatter3d\":[{\"line\":{\"colorbar\":{\"outlinewidth\":0,\"ticks\":\"\"}},\"marker\":{\"colorbar\":{\"outlinewidth\":0,\"ticks\":\"\"}},\"type\":\"scatter3d\"}],\"scattercarpet\":[{\"marker\":{\"colorbar\":{\"outlinewidth\":0,\"ticks\":\"\"}},\"type\":\"scattercarpet\"}],\"scattergeo\":[{\"marker\":{\"colorbar\":{\"outlinewidth\":0,\"ticks\":\"\"}},\"type\":\"scattergeo\"}],\"scattergl\":[{\"marker\":{\"colorbar\":{\"outlinewidth\":0,\"ticks\":\"\"}},\"type\":\"scattergl\"}],\"scattermapbox\":[{\"marker\":{\"colorbar\":{\"outlinewidth\":0,\"ticks\":\"\"}},\"type\":\"scattermapbox\"}],\"scatterpolargl\":[{\"marker\":{\"colorbar\":{\"outlinewidth\":0,\"ticks\":\"\"}},\"type\":\"scatterpolargl\"}],\"scatterpolar\":[{\"marker\":{\"colorbar\":{\"outlinewidth\":0,\"ticks\":\"\"}},\"type\":\"scatterpolar\"}],\"scatter\":[{\"fillpattern\":{\"fillmode\":\"overlay\",\"size\":10,\"solidity\":0.2},\"type\":\"scatter\"}],\"scatterternary\":[{\"marker\":{\"colorbar\":{\"outlinewidth\":0,\"ticks\":\"\"}},\"type\":\"scatterternary\"}],\"surface\":[{\"colorbar\":{\"outlinewidth\":0,\"ticks\":\"\"},\"colorscale\":[[0.0,\"#0d0887\"],[0.1111111111111111,\"#46039f\"],[0.2222222222222222,\"#7201a8\"],[0.3333333333333333,\"#9c179e\"],[0.4444444444444444,\"#bd3786\"],[0.5555555555555556,\"#d8576b\"],[0.6666666666666666,\"#ed7953\"],[0.7777777777777778,\"#fb9f3a\"],[0.8888888888888888,\"#fdca26\"],[1.0,\"#f0f921\"]],\"type\":\"surface\"}],\"table\":[{\"cells\":{\"fill\":{\"color\":\"#EBF0F8\"},\"line\":{\"color\":\"white\"}},\"header\":{\"fill\":{\"color\":\"#C8D4E3\"},\"line\":{\"color\":\"white\"}},\"type\":\"table\"}]},\"layout\":{\"annotationdefaults\":{\"arrowcolor\":\"#2a3f5f\",\"arrowhead\":0,\"arrowwidth\":1},\"autotypenumbers\":\"strict\",\"coloraxis\":{\"colorbar\":{\"outlinewidth\":0,\"ticks\":\"\"}},\"colorscale\":{\"diverging\":[[0,\"#8e0152\"],[0.1,\"#c51b7d\"],[0.2,\"#de77ae\"],[0.3,\"#f1b6da\"],[0.4,\"#fde0ef\"],[0.5,\"#f7f7f7\"],[0.6,\"#e6f5d0\"],[0.7,\"#b8e186\"],[0.8,\"#7fbc41\"],[0.9,\"#4d9221\"],[1,\"#276419\"]],\"sequential\":[[0.0,\"#0d0887\"],[0.1111111111111111,\"#46039f\"],[0.2222222222222222,\"#7201a8\"],[0.3333333333333333,\"#9c179e\"],[0.4444444444444444,\"#bd3786\"],[0.5555555555555556,\"#d8576b\"],[0.6666666666666666,\"#ed7953\"],[0.7777777777777778,\"#fb9f3a\"],[0.8888888888888888,\"#fdca26\"],[1.0,\"#f0f921\"]],\"sequentialminus\":[[0.0,\"#0d0887\"],[0.1111111111111111,\"#46039f\"],[0.2222222222222222,\"#7201a8\"],[0.3333333333333333,\"#9c179e\"],[0.4444444444444444,\"#bd3786\"],[0.5555555555555556,\"#d8576b\"],[0.6666666666666666,\"#ed7953\"],[0.7777777777777778,\"#fb9f3a\"],[0.8888888888888888,\"#fdca26\"],[1.0,\"#f0f921\"]]},\"colorway\":[\"#636efa\",\"#EF553B\",\"#00cc96\",\"#ab63fa\",\"#FFA15A\",\"#19d3f3\",\"#FF6692\",\"#B6E880\",\"#FF97FF\",\"#FECB52\"],\"font\":{\"color\":\"#2a3f5f\"},\"geo\":{\"bgcolor\":\"white\",\"lakecolor\":\"white\",\"landcolor\":\"#E5ECF6\",\"showlakes\":true,\"showland\":true,\"subunitcolor\":\"white\"},\"hoverlabel\":{\"align\":\"left\"},\"hovermode\":\"closest\",\"mapbox\":{\"style\":\"light\"},\"paper_bgcolor\":\"white\",\"plot_bgcolor\":\"#E5ECF6\",\"polar\":{\"angularaxis\":{\"gridcolor\":\"white\",\"linecolor\":\"white\",\"ticks\":\"\"},\"bgcolor\":\"#E5ECF6\",\"radialaxis\":{\"gridcolor\":\"white\",\"linecolor\":\"white\",\"ticks\":\"\"}},\"scene\":{\"xaxis\":{\"backgroundcolor\":\"#E5ECF6\",\"gridcolor\":\"white\",\"gridwidth\":2,\"linecolor\":\"white\",\"showbackground\":true,\"ticks\":\"\",\"zerolinecolor\":\"white\"},\"yaxis\":{\"backgroundcolor\":\"#E5ECF6\",\"gridcolor\":\"white\",\"gridwidth\":2,\"linecolor\":\"white\",\"showbackground\":true,\"ticks\":\"\",\"zerolinecolor\":\"white\"},\"zaxis\":{\"backgroundcolor\":\"#E5ECF6\",\"gridcolor\":\"white\",\"gridwidth\":2,\"linecolor\":\"white\",\"showbackground\":true,\"ticks\":\"\",\"zerolinecolor\":\"white\"}},\"shapedefaults\":{\"line\":{\"color\":\"#2a3f5f\"}},\"ternary\":{\"aaxis\":{\"gridcolor\":\"white\",\"linecolor\":\"white\",\"ticks\":\"\"},\"baxis\":{\"gridcolor\":\"white\",\"linecolor\":\"white\",\"ticks\":\"\"},\"bgcolor\":\"#E5ECF6\",\"caxis\":{\"gridcolor\":\"white\",\"linecolor\":\"white\",\"ticks\":\"\"}},\"title\":{\"x\":0.05},\"xaxis\":{\"automargin\":true,\"gridcolor\":\"white\",\"linecolor\":\"white\",\"ticks\":\"\",\"title\":{\"standoff\":15},\"zerolinecolor\":\"white\",\"zerolinewidth\":2},\"yaxis\":{\"automargin\":true,\"gridcolor\":\"white\",\"linecolor\":\"white\",\"ticks\":\"\",\"title\":{\"standoff\":15},\"zerolinecolor\":\"white\",\"zerolinewidth\":2}}},\"title\":{\"text\":\"Visualizing Clusters in Two Dimensions Using t-SNE\"},\"xaxis\":{\"ticklen\":5,\"title\":{\"text\":\"TC1\"},\"zeroline\":false},\"yaxis\":{\"ticklen\":5,\"title\":{\"text\":\"TC2\"},\"zeroline\":false}},                        {\"responsive\": true}                    ).then(function(){\n",
              "                            \n",
              "var gd = document.getElementById('93f7cffd-bd97-4adb-b4ef-f99d59c4a86e');\n",
              "var x = new MutationObserver(function (mutations, observer) {{\n",
              "        var display = window.getComputedStyle(gd).display;\n",
              "        if (!display || display === 'none') {{\n",
              "            console.log([gd, 'removed!']);\n",
              "            Plotly.purge(gd);\n",
              "            observer.disconnect();\n",
              "        }}\n",
              "}});\n",
              "\n",
              "// Listen for the removal of the full notebook cells\n",
              "var notebookContainer = gd.closest('#notebook-container');\n",
              "if (notebookContainer) {{\n",
              "    x.observe(notebookContainer, {childList: true});\n",
              "}}\n",
              "\n",
              "// Listen for the clearing of the current output cell\n",
              "var outputEl = gd.closest('.output');\n",
              "if (outputEl) {{\n",
              "    x.observe(outputEl, {childList: true});\n",
              "}}\n",
              "\n",
              "                        })                };                            </script>        </div>\n",
              "</body>\n",
              "</html>"
            ]
          },
          "metadata": {}
        }
      ]
    },
    {
      "cell_type": "code",
      "source": [
        "go.Figure.write_html(fig,\"/content/drive/MyDrive/CS260D_final_project/plots/waterbirds_tSNE3D_plot.html\") # write as html or image"
      ],
      "metadata": {
        "id": "pe9Gw8Dd9gwJ"
      },
      "execution_count": null,
      "outputs": []
    },
    {
      "cell_type": "code",
      "source": [],
      "metadata": {
        "id": "DpCbUmWq9gya"
      },
      "execution_count": null,
      "outputs": []
    },
    {
      "cell_type": "code",
      "source": [],
      "metadata": {
        "id": "t06oHfH_9hA5"
      },
      "execution_count": null,
      "outputs": []
    },
    {
      "cell_type": "code",
      "source": [],
      "metadata": {
        "id": "jpT0721L9hC_"
      },
      "execution_count": null,
      "outputs": []
    },
    {
      "cell_type": "code",
      "source": [
        "T.ToPILImage()(train_dataset.__getitem__(0)[0][0])"
      ],
      "metadata": {
        "id": "rt_fYEzRAnXQ"
      },
      "execution_count": null,
      "outputs": []
    },
    {
      "cell_type": "code",
      "source": [
        "print(train_dataset.__getitem__(1)[1])"
      ],
      "metadata": {
        "id": "xUcHfX8dHXVe"
      },
      "execution_count": null,
      "outputs": []
    },
    {
      "cell_type": "code",
      "source": [
        "T.ToPILImage()(train_dataset.__getitem__(1)[0][1])"
      ],
      "metadata": {
        "id": "iwIiQceHHljD"
      },
      "execution_count": null,
      "outputs": []
    },
    {
      "cell_type": "code",
      "source": [
        "T.ToPILImage()(train_dataset.__getitem__(1)[0][0])"
      ],
      "metadata": {
        "id": "9wvhpXE3I5I-"
      },
      "execution_count": null,
      "outputs": []
    },
    {
      "cell_type": "code",
      "source": [
        "T.ToPILImage()(trainset[700][0]).resize((28,28))"
      ],
      "metadata": {
        "id": "MJ7Kch-oH1gw"
      },
      "execution_count": null,
      "outputs": []
    },
    {
      "cell_type": "code",
      "source": [
        "T.ToPILImage()(trainset[11990][0]).resize((28,28))"
      ],
      "metadata": {
        "id": "XzOEJOsZIKNO"
      },
      "execution_count": null,
      "outputs": []
    },
    {
      "cell_type": "code",
      "source": [
        "trainset.labels[11990]"
      ],
      "metadata": {
        "id": "j2DWIZVmILb0"
      },
      "execution_count": null,
      "outputs": []
    },
    {
      "cell_type": "code",
      "source": [
        "trainset.group_partition[(1,0)]"
      ],
      "metadata": {
        "id": "vV9pyv4mJVYQ"
      },
      "execution_count": null,
      "outputs": []
    },
    {
      "cell_type": "code",
      "source": [],
      "metadata": {
        "id": "WusX2fbBJkXL"
      },
      "execution_count": null,
      "outputs": []
    }
  ]
}